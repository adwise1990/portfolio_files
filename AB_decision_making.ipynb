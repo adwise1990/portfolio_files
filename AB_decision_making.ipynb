{
 "cells": [
  {
   "attachments": {},
   "cell_type": "markdown",
   "metadata": {
    "lang": "en"
   },
   "source": [
    "# A/B test analysis"
   ]
  },
  {
   "attachments": {},
   "cell_type": "markdown",
   "metadata": {
    "lang": "en"
   },
   "source": [
    "## Description of the project\n",
    "\n",
    "As part of the project, it is planned to analyze the results of the A / B test and decide to stop or continue the test."
   ]
  },
  {
   "attachments": {},
   "cell_type": "markdown",
   "metadata": {
    "lang": "en"
   },
   "source": [
    "## A/B test analysis"
   ]
  },
  {
   "attachments": {},
   "cell_type": "markdown",
   "metadata": {
    "lang": "en"
   },
   "source": [
    "### Data preprocessing"
   ]
  },
  {
   "cell_type": "code",
   "execution_count": 1,
   "metadata": {},
   "outputs": [
    {
     "name": "stderr",
     "output_type": "stream",
     "text": [
      "c:\\Users\\AD\\anaconda3\\envs\\practicum\\lib\\site-packages\\scipy\\__init__.py:146: UserWarning: A NumPy version >=1.17.3 and <1.25.0 is required for this version of SciPy (detected version 1.25.0\n",
      "  warnings.warn(f\"A NumPy version >={np_minversion} and <{np_maxversion}\"\n"
     ]
    }
   ],
   "source": [
    "#import libraries\n",
    "import pandas as pd\n",
    "import numpy as np\n",
    "import matplotlib.pyplot as plt\n",
    "import scipy.stats as stats\n",
    "import datetime as dt"
   ]
  },
  {
   "cell_type": "code",
   "execution_count": 2,
   "metadata": {},
   "outputs": [],
   "source": [
    "#load dataset\n",
    "orders = pd.read_csv('./datasets/orders.csv', sep=',')\n",
    "visitors = pd.read_csv('./datasets/visitors.csv', sep=',')"
   ]
  },
  {
   "cell_type": "code",
   "execution_count": 3,
   "metadata": {},
   "outputs": [
    {
     "name": "stdout",
     "output_type": "stream",
     "text": [
      "<class 'pandas.core.frame.DataFrame'>\n",
      "RangeIndex: 1197 entries, 0 to 1196\n",
      "Data columns (total 5 columns):\n",
      " #   Column         Non-Null Count  Dtype \n",
      "---  ------         --------------  ----- \n",
      " 0   transactionId  1197 non-null   int64 \n",
      " 1   visitorId      1197 non-null   int64 \n",
      " 2   date           1197 non-null   object\n",
      " 3   revenue        1197 non-null   int64 \n",
      " 4   group          1197 non-null   object\n",
      "dtypes: int64(3), object(2)\n",
      "memory usage: 46.9+ KB\n"
     ]
    }
   ],
   "source": [
    "#check data for missing values and data types\n",
    "orders.info()"
   ]
  },
  {
   "cell_type": "code",
   "execution_count": 4,
   "metadata": {
    "scrolled": true
   },
   "outputs": [
    {
     "name": "stdout",
     "output_type": "stream",
     "text": [
      "<class 'pandas.core.frame.DataFrame'>\n",
      "RangeIndex: 62 entries, 0 to 61\n",
      "Data columns (total 3 columns):\n",
      " #   Column    Non-Null Count  Dtype \n",
      "---  ------    --------------  ----- \n",
      " 0   date      62 non-null     object\n",
      " 1   group     62 non-null     object\n",
      " 2   visitors  62 non-null     int64 \n",
      "dtypes: int64(1), object(2)\n",
      "memory usage: 1.6+ KB\n"
     ]
    }
   ],
   "source": [
    "visitors.info()"
   ]
  },
  {
   "attachments": {},
   "cell_type": "markdown",
   "metadata": {
    "lang": "en"
   },
   "source": [
    "There are no gaps in the data. Columns with dates need to adjust the data type. It is also necessary to additionally check the data for complete duplicates."
   ]
  },
  {
   "cell_type": "code",
   "execution_count": 5,
   "metadata": {},
   "outputs": [],
   "source": [
    "#correct date columns data types\n",
    "orders['date'] = orders['date'].map(\n",
    "    lambda x: dt.datetime.strptime(x, '%Y-%m-%d')\n",
    ")\n",
    "\n",
    "visitors['date'] = visitors['date'].map(\n",
    "    lambda x: dt.datetime.strptime(x, '%Y-%m-%d')\n",
    ")"
   ]
  },
  {
   "cell_type": "code",
   "execution_count": 6,
   "metadata": {},
   "outputs": [
    {
     "name": "stdout",
     "output_type": "stream",
     "text": [
      "0\n",
      "0\n"
     ]
    }
   ],
   "source": [
    "#check data for duplicates\n",
    "print(orders.duplicated().sum())\n",
    "print(visitors.duplicated().sum())"
   ]
  },
  {
   "attachments": {},
   "cell_type": "markdown",
   "metadata": {
    "lang": "en"
   },
   "source": [
    "There are no duplicates in the data."
   ]
  },
  {
   "cell_type": "code",
   "execution_count": 7,
   "metadata": {
    "scrolled": false
   },
   "outputs": [
    {
     "data": {
      "text/html": [
       "<div>\n",
       "<style scoped>\n",
       "    .dataframe tbody tr th:only-of-type {\n",
       "        vertical-align: middle;\n",
       "    }\n",
       "\n",
       "    .dataframe tbody tr th {\n",
       "        vertical-align: top;\n",
       "    }\n",
       "\n",
       "    .dataframe thead th {\n",
       "        text-align: right;\n",
       "    }\n",
       "</style>\n",
       "<table border=\"1\" class=\"dataframe\">\n",
       "  <thead>\n",
       "    <tr style=\"text-align: right;\">\n",
       "      <th></th>\n",
       "      <th>transactionId</th>\n",
       "      <th>visitorId</th>\n",
       "    </tr>\n",
       "    <tr>\n",
       "      <th>group</th>\n",
       "      <th></th>\n",
       "      <th></th>\n",
       "    </tr>\n",
       "  </thead>\n",
       "  <tbody>\n",
       "    <tr>\n",
       "      <th>A</th>\n",
       "      <td>557</td>\n",
       "      <td>503</td>\n",
       "    </tr>\n",
       "    <tr>\n",
       "      <th>B</th>\n",
       "      <td>640</td>\n",
       "      <td>586</td>\n",
       "    </tr>\n",
       "  </tbody>\n",
       "</table>\n",
       "</div>"
      ],
      "text/plain": [
       "       transactionId  visitorId\n",
       "group                          \n",
       "A                557        503\n",
       "B                640        586"
      ]
     },
     "execution_count": 7,
     "metadata": {},
     "output_type": "execute_result"
    }
   ],
   "source": [
    "#check how many groups and unique users with unique transactions in them\n",
    "orders.groupby('group').agg({'transactionId': 'nunique', 'visitorId': 'nunique'})"
   ]
  },
  {
   "cell_type": "code",
   "execution_count": 8,
   "metadata": {
    "scrolled": true
   },
   "outputs": [
    {
     "data": {
      "text/html": [
       "<div>\n",
       "<style scoped>\n",
       "    .dataframe tbody tr th:only-of-type {\n",
       "        vertical-align: middle;\n",
       "    }\n",
       "\n",
       "    .dataframe tbody tr th {\n",
       "        vertical-align: top;\n",
       "    }\n",
       "\n",
       "    .dataframe thead th {\n",
       "        text-align: right;\n",
       "    }\n",
       "</style>\n",
       "<table border=\"1\" class=\"dataframe\">\n",
       "  <thead>\n",
       "    <tr style=\"text-align: right;\">\n",
       "      <th></th>\n",
       "      <th>visitors</th>\n",
       "    </tr>\n",
       "    <tr>\n",
       "      <th>group</th>\n",
       "      <th></th>\n",
       "    </tr>\n",
       "  </thead>\n",
       "  <tbody>\n",
       "    <tr>\n",
       "      <th>A</th>\n",
       "      <td>18736</td>\n",
       "    </tr>\n",
       "    <tr>\n",
       "      <th>B</th>\n",
       "      <td>18916</td>\n",
       "    </tr>\n",
       "  </tbody>\n",
       "</table>\n",
       "</div>"
      ],
      "text/plain": [
       "       visitors\n",
       "group          \n",
       "A         18736\n",
       "B         18916"
      ]
     },
     "execution_count": 8,
     "metadata": {},
     "output_type": "execute_result"
    }
   ],
   "source": [
    "#check how many users in each group\n",
    "visitors.groupby('group').agg({'visitors': 'sum'})"
   ]
  },
  {
   "attachments": {},
   "cell_type": "markdown",
   "metadata": {
    "lang": "en"
   },
   "source": [
    "In the AB test, two groups participate, with approximately the same number of total visits, in group B there are relatively more unique users with orders."
   ]
  },
  {
   "cell_type": "code",
   "execution_count": 9,
   "metadata": {},
   "outputs": [
    {
     "name": "stdout",
     "output_type": "stream",
     "text": [
      "Number of users that are present in both groups: 58\n"
     ]
    }
   ],
   "source": [
    "#check if any users are present in both groups\n",
    "double_visitors = orders.groupby('visitorId').agg({'group': 'nunique'}).query('group > 1')\n",
    "print('Number of users that are present in both groups:', len(double_visitors))"
   ]
  },
  {
   "cell_type": "code",
   "execution_count": 10,
   "metadata": {},
   "outputs": [],
   "source": [
    "#remove users that are in both groups\n",
    "double_visitors = double_visitors.reset_index()\n",
    "orders = orders.query('visitorId not in @double_visitors[\"visitorId\"]')"
   ]
  },
  {
   "cell_type": "code",
   "execution_count": 11,
   "metadata": {},
   "outputs": [
    {
     "name": "stdout",
     "output_type": "stream",
     "text": [
      "Start date in orders dataset: 2019-08-01 00:00:00\n",
      "End date in orders dataset: 2019-08-31 00:00:00\n",
      "Start date in users dataset: 2019-08-01 00:00:00\n",
      "End date in users dataset: 2019-08-31 00:00:00\n"
     ]
    }
   ],
   "source": [
    "#check if start and end dates match in users and orders datasets\n",
    "print('Start date in orders dataset:', orders['date'].min())\n",
    "print('End date in orders dataset:',orders['date'].max())\n",
    "print('Start date in users dataset:', visitors['date'].min())\n",
    "print('End date in users dataset:',visitors['date'].max())"
   ]
  },
  {
   "attachments": {},
   "cell_type": "markdown",
   "metadata": {
    "lang": "en"
   },
   "source": [
    "The test includes data from August 1 to August 31, 2019."
   ]
  },
  {
   "cell_type": "code",
   "execution_count": 12,
   "metadata": {},
   "outputs": [
    {
     "data": {
      "image/png": "[encoded data removed]",
      "text/plain": [
       "<Figure size 1200x500 with 1 Axes>"
      ]
     },
     "metadata": {},
     "output_type": "display_data"
    }
   ],
   "source": [
    "#build a graph with the dynamics of visitors by day by group.\n",
    "fig = plt.figure()\n",
    "fig.set_size_inches(12, 5)\n",
    "\n",
    "visitorsGroupA = visitors.query('group == \"A\"')\n",
    "visitorsGroupB = visitors.query('group == \"B\"')\n",
    "\n",
    "# build a graph of the revenue of group A\n",
    "plt.plot(visitorsGroupA['date'], visitorsGroupA['visitors'], label='A')\n",
    "\n",
    "# build a graph of the revenue of group B\n",
    "plt.plot(visitorsGroupB['date'], visitorsGroupB['visitors'], label='B')\n",
    "\n",
    "plt.title('Number of visitors by day by group')\n",
    "plt.legend()\n",
    "plt.xlabel(\"Date\")\n",
    "plt.ylabel(\"Number of visitors\")\n",
    "plt.show()"
   ]
  },
  {
   "attachments": {},
   "cell_type": "markdown",
   "metadata": {
    "lang": "en"
   },
   "source": [
    "The number of site visitors by groups is approximately the same with very similar trends."
   ]
  },
  {
   "cell_type": "code",
   "execution_count": 13,
   "metadata": {},
   "outputs": [],
   "source": [
    "# create an array of unique pairs of date values and test groups\n",
    "datesGroups = orders[['date','group']].drop_duplicates() "
   ]
  },
  {
   "cell_type": "code",
   "execution_count": 14,
   "metadata": {},
   "outputs": [
    {
     "name": "stdout",
     "output_type": "stream",
     "text": [
      "        date group  orders  buyers  revenue  visitors\n",
      "0 2019-08-01     A      23      19   142779       719\n",
      "1 2019-08-01     B      17      17    59758       713\n",
      "2 2019-08-02     A      42      36   234381      1338\n",
      "3 2019-08-02     B      40      39   221801      1294\n",
      "4 2019-08-03     A      66      60   346854      1845\n"
     ]
    }
   ],
   "source": [
    "# aggregate cumulative data on orders by day\n",
    "ordersAggregated = datesGroups.apply(lambda x: orders[np.logical_and(orders['date'] <= x['date'], orders['group'] == x['group'])].agg({'date' : 'max', 'group' : 'max', 'transactionId' : 'nunique', 'visitorId' : 'nunique', 'revenue' : 'sum'}), axis=1).sort_values(by=['date','group'])\n",
    "\n",
    "# aggregated cumulative data by day on online store visitors\n",
    "visitorsAggregated = datesGroups.apply(lambda x: visitors[np.logical_and(visitors['date'] <= x['date'], visitors['group'] == x['group'])].agg({'date' : 'max', 'group' : 'max', 'visitors' : 'sum'}), axis=1).sort_values(by=['date','group'])\n",
    "\n",
    "# combine cumulative data in one table and assign understandable names to its columns\n",
    "cumulativeData = ordersAggregated.merge(visitorsAggregated, left_on=['date', 'group'], right_on=['date', 'group'])\n",
    "cumulativeData.columns = ['date', 'group', 'orders', 'buyers', 'revenue', 'visitors']\n",
    "\n",
    "print(cumulativeData.head(5))"
   ]
  },
  {
   "cell_type": "code",
   "execution_count": 15,
   "metadata": {},
   "outputs": [
    {
     "name": "stdout",
     "output_type": "stream",
     "text": [
      "Дата начала теста в объединенной таблице: 2019-08-01 00:00:00\n",
      "Дата окончания теста в объединенной таблице: 2019-08-31 00:00:00\n"
     ]
    }
   ],
   "source": [
    "#check that we have the same test start and end dates in the cumulativeData dataframe\n",
    "print('Дата начала теста в объединенной таблице:', cumulativeData['date'].min())\n",
    "print('Дата окончания теста в объединенной таблице:',cumulativeData['date'].max())"
   ]
  },
  {
   "attachments": {},
   "cell_type": "markdown",
   "metadata": {
    "lang": "en"
   },
   "source": [
    "### Graph of cumulative revenue by groups."
   ]
  },
  {
   "cell_type": "code",
   "execution_count": 16,
   "metadata": {},
   "outputs": [
    {
     "data": {
      "image/png": "[encoded data removed]",
      "text/plain": [
       "<Figure size 1200x500 with 1 Axes>"
      ]
     },
     "metadata": {},
     "output_type": "display_data"
    }
   ],
   "source": [
    "# dataframe with cumulative number of orders and cumulative revenue by day in group A\n",
    "cumulativeRevenueA = cumulativeData[cumulativeData['group']=='A'][['date','revenue', 'orders']]\n",
    "\n",
    "# dataframe with cumulative number of orders and cumulative revenue by day in group B\n",
    "cumulativeRevenueB = cumulativeData[cumulativeData['group']=='B'][['date','revenue', 'orders']]\n",
    "\n",
    "fig = plt.figure()\n",
    "fig.set_size_inches(12, 5)\n",
    "\n",
    "# build a graph of the revenue of group A\n",
    "plt.plot(cumulativeRevenueA['date'], cumulativeRevenueA['revenue'], label='A')\n",
    "\n",
    "# build a graph of the revenue of group B\n",
    "plt.plot(cumulativeRevenueB['date'], cumulativeRevenueB['revenue'], label='B')\n",
    "\n",
    "plt.legend()\n",
    "plt.xlabel(\"Дата\")\n",
    "plt.ylabel(\"Выручка\")\n",
    "plt.title('Кумулятивная выручка по группам')\n",
    "plt.show()"
   ]
  },
  {
   "attachments": {},
   "cell_type": "markdown",
   "metadata": {
    "lang": "en"
   },
   "source": [
    "**Conclusions**\n",
    "\n",
    "At the beginning, group B and A did not differ much in terms of revenue, however, from a certain date, group B has consistently outperformed group A in terms of revenue and leads by a significant margin.\n",
    "However, Group B's revenue curve rises sharply at one point. This may signal spikes in the number of orders, or the appearance of very expensive orders in the sample."
   ]
  },
  {
   "attachments": {},
   "cell_type": "markdown",
   "metadata": {
    "lang": "en"
   },
   "source": [
    "### Graph of the cumulative average bill by groups."
   ]
  },
  {
   "cell_type": "code",
   "execution_count": 17,
   "metadata": {},
   "outputs": [
    {
     "data": {
      "image/png": "[encoded data removed]",
      "text/plain": [
       "<Figure size 1200x500 with 1 Axes>"
      ]
     },
     "metadata": {},
     "output_type": "display_data"
    }
   ],
   "source": [
    "### build graphs of the average check by groups - we will divide the cumulative revenue by the cumulative number of orders:\n",
    "fig = plt.figure()\n",
    "fig.set_size_inches(12, 5)\n",
    "plt.plot(cumulativeRevenueA['date'], cumulativeRevenueA['revenue']/cumulativeRevenueA['orders'], label='A')\n",
    "plt.plot(cumulativeRevenueB['date'], cumulativeRevenueB['revenue']/cumulativeRevenueB['orders'], label='B')\n",
    "plt.legend() \n",
    "plt.xlabel(\"Date\")\n",
    "plt.ylabel(\"Average bill\")\n",
    "plt.title('Cumulative average bill by groups')\n",
    "plt.show()"
   ]
  },
  {
   "attachments": {},
   "cell_type": "markdown",
   "metadata": {
    "lang": "en"
   },
   "source": [
    "**Conclusions**\n",
    "\n",
    "It can be seen how the average check of group B grows at one point, from 7 thousand to 10 thousand, the average check of group A also grows, but more smoothly.\n",
    "\n",
    "Perhaps, large orders fell into group B in the second half of the test, or this is the effect of the hypothesis being tested."
   ]
  },
  {
   "attachments": {},
   "cell_type": "markdown",
   "metadata": {
    "lang": "en"
   },
   "source": [
    "### Graph of the relative change in the cumulative average check of group B to group A."
   ]
  },
  {
   "cell_type": "code",
   "execution_count": 18,
   "metadata": {},
   "outputs": [
    {
     "data": {
      "image/png": "[encoded data removed]",
      "text/plain": [
       "<Figure size 1200x500 with 1 Axes>"
      ]
     },
     "metadata": {},
     "output_type": "display_data"
    }
   ],
   "source": [
    "#plot the relative difference for the average bill.\n",
    "# collect data in one dataframe\n",
    "mergedCumulativeRevenue = cumulativeRevenueA.merge(cumulativeRevenueB, left_on='date', right_on='date', how='left', suffixes=['A', 'B'])\n",
    "\n",
    "\n",
    "fig = plt.figure()\n",
    "fig.set_size_inches(12, 5)\n",
    "\n",
    "# build the ratio of average bills\n",
    "plt.plot(mergedCumulativeRevenue['date'], (mergedCumulativeRevenue['revenueB']/mergedCumulativeRevenue['ordersB'])/(mergedCumulativeRevenue['revenueA']/mergedCumulativeRevenue['ordersA'])-1)\n",
    "\n",
    "# add the X axis\n",
    "plt.axhline(y=0, color='black', linestyle='--') \n",
    "\n",
    "\n",
    "plt.xlabel(\"Date\")\n",
    "plt.ylabel(\"Change\")\n",
    "plt.title('Relative change in the cumulative average check of group B to group A')\n",
    "plt.show()"
   ]
  },
  {
   "attachments": {},
   "cell_type": "markdown",
   "metadata": {
    "lang": "en"
   },
   "source": [
    "Group B has a cumulative average check about half the test higher than the average check of group A, except for the test period from about August 10 to August 18. The graph jumps sharply during this period, probably due to some kind of emissions."
   ]
  },
  {
   "attachments": {},
   "cell_type": "markdown",
   "metadata": {
    "lang": "en"
   },
   "source": [
    "### Graph of the cumulative average orders per visitor by group."
   ]
  },
  {
   "cell_type": "code",
   "execution_count": 19,
   "metadata": {},
   "outputs": [
    {
     "data": {
      "image/png": "[encoded data removed]",
      "text/plain": [
       "<Figure size 1200x500 with 1 Axes>"
      ]
     },
     "metadata": {},
     "output_type": "display_data"
    }
   ],
   "source": [
    "# calculate the cumulative conversion\n",
    "cumulativeData['average_orders'] = cumulativeData['orders']/cumulativeData['visitors']\n",
    "\n",
    "fig = plt.figure()\n",
    "fig.set_size_inches(12, 5)\n",
    "\n",
    "# separate data by group A\n",
    "cumulativeDataA = cumulativeData[cumulativeData['group']=='A']\n",
    "\n",
    "# separate data by group B\n",
    "cumulativeDataB = cumulativeData[cumulativeData['group']=='B']\n",
    "\n",
    "# plot graphs\n",
    "plt.plot(cumulativeDataA['date'], cumulativeDataA['average_orders'], label='A')\n",
    "plt.plot(cumulativeDataB['date'], cumulativeDataB['average_orders'], label='B')\n",
    "plt.legend()\n",
    "plt.xlabel(\"Date\")\n",
    "plt.ylabel(\"Cumulative average orders per visitor\")\n",
    "plt.title('Cumulative average number of orders per visitor by group')\n",
    "plt.show()"
   ]
  },
  {
   "attachments": {},
   "cell_type": "markdown",
   "metadata": {
    "lang": "en"
   },
   "source": [
    "**Conclusions**\n",
    "\n",
    "Visitors in group B consistently make more orders than group A. This is probably the answer to the question of more revenue for group B."
   ]
  },
  {
   "attachments": {},
   "cell_type": "markdown",
   "metadata": {
    "lang": "en"
   },
   "source": [
    "### Graph of the relative change in the cumulative average number of orders per visitor of group B to group A."
   ]
  },
  {
   "cell_type": "code",
   "execution_count": 20,
   "metadata": {},
   "outputs": [
    {
     "data": {
      "image/png": "[encoded data removed]",
      "text/plain": [
       "<Figure size 1200x500 with 1 Axes>"
      ]
     },
     "metadata": {},
     "output_type": "display_data"
    }
   ],
   "source": [
    "fig = plt.figure()\n",
    "fig.set_size_inches(12, 5)\n",
    "\n",
    "#plot the relative difference of cumulative conversions:\n",
    "mergedCumulativeConversions = cumulativeDataA[['date','average_orders']].merge(cumulativeDataB[['date','average_orders']], left_on='date', right_on='date', how='left', suffixes=['A', 'B'])\n",
    "\n",
    "plt.plot(mergedCumulativeConversions['date'], mergedCumulativeConversions['average_ordersB']/mergedCumulativeConversions['average_ordersA']-1, label=\"Относительный прирост конверсии группы B относительно группы A\")\n",
    "plt.legend()\n",
    "\n",
    "plt.axhline(y=0, color='black', linestyle='--')\n",
    "plt.axhline(y=-0.1, color='grey', linestyle='--')\n",
    "plt.xlabel(\"Date\")\n",
    "plt.ylabel(\"Change\")\n",
    "plt.title('Change in the average number of orders per visitor of group B to group A')\n",
    "plt.show()\n"
   ]
  },
  {
   "attachments": {},
   "cell_type": "markdown",
   "metadata": {
    "lang": "en"
   },
   "source": [
    "This graph only emphasizes the previous one, in general, the ratio of the average number of orders is almost established."
   ]
  },
  {
   "attachments": {},
   "cell_type": "markdown",
   "metadata": {
    "lang": "en"
   },
   "source": [
    "### Scatter plot of the number of orders by user."
   ]
  },
  {
   "cell_type": "code",
   "execution_count": 21,
   "metadata": {},
   "outputs": [
    {
     "data": {
      "image/png": "[encoded data removed]",
      "text/plain": [
       "<Figure size 640x480 with 1 Axes>"
      ]
     },
     "metadata": {},
     "output_type": "display_data"
    }
   ],
   "source": [
    "ordersByUsers = (\n",
    "    orders.groupby('visitorId', as_index=False)\n",
    "    .agg({'transactionId': 'nunique', 'revenue': 'sum'})\n",
    ")\n",
    "\n",
    "ordersByUsers.columns = ['userId', 'orders', 'revenue']\n",
    "\n",
    "x_values = pd.Series(range(0,len(ordersByUsers['orders'])))\n",
    "plt.scatter(x_values, ordersByUsers['orders'])\n",
    "plt.xlabel(\"Visitor\")\n",
    "plt.ylabel(\"Number of orders\")\n",
    "plt.title('Number of orders per visitor')\n",
    "plt.show()"
   ]
  },
  {
   "attachments": {},
   "cell_type": "markdown",
   "metadata": {
    "lang": "en"
   },
   "source": [
    "It can be seen that there are several users with more than 2 orders, but there are few of them. Mostly visitors have 1 and 2 orders. Let's build a histogram of the distribution of the number of orders for clarity"
   ]
  },
  {
   "cell_type": "code",
   "execution_count": 22,
   "metadata": {
    "scrolled": true
   },
   "outputs": [
    {
     "data": {
      "image/png": "[encoded data removed]",
      "text/plain": [
       "<Figure size 640x480 with 1 Axes>"
      ]
     },
     "metadata": {},
     "output_type": "display_data"
    }
   ],
   "source": [
    "plt.hist(ordersByUsers['orders']) \n",
    "plt.xlabel(\"Number of orders\")\n",
    "plt.ylabel(\"Number of visitors\")\n",
    "plt.title('Number of orders per visitor')\n",
    "plt.show()"
   ]
  },
  {
   "attachments": {},
   "cell_type": "markdown",
   "metadata": {
    "lang": "en"
   },
   "source": [
    "The number of orders greater than 2 looks like abnormal outliers, check with the 95th and 99th percentiles."
   ]
  },
  {
   "attachments": {},
   "cell_type": "markdown",
   "metadata": {
    "lang": "en"
   },
   "source": [
    "### Selecting a border to identify anomalous users.\n",
    "\n",
    "Let's calculate the 95th and 99th percentiles of orders per user."
   ]
  },
  {
   "cell_type": "code",
   "execution_count": 23,
   "metadata": {},
   "outputs": [
    {
     "name": "stdout",
     "output_type": "stream",
     "text": [
      "[1. 2.]\n"
     ]
    }
   ],
   "source": [
    "print(np.percentile(ordersByUsers['orders'], [95, 99]))"
   ]
  },
  {
   "attachments": {},
   "cell_type": "markdown",
   "metadata": {
    "lang": "en"
   },
   "source": [
    "**Conclusion:**\n",
    "No more than 5% of visitors make more than 1 order and no more than 1% more than 2."
   ]
  },
  {
   "attachments": {},
   "cell_type": "markdown",
   "metadata": {
    "lang": "en"
   },
   "source": [
    "### Dot plot of order values."
   ]
  },
  {
   "attachments": {},
   "cell_type": "markdown",
   "metadata": {
    "lang": "en"
   },
   "source": [
    "To determine possible anomalous emissions by the cost of orders, we will build two graphs."
   ]
  },
  {
   "cell_type": "code",
   "execution_count": 24,
   "metadata": {},
   "outputs": [
    {
     "data": {
      "text/html": [
       "<div>\n",
       "<style scoped>\n",
       "    .dataframe tbody tr th:only-of-type {\n",
       "        vertical-align: middle;\n",
       "    }\n",
       "\n",
       "    .dataframe tbody tr th {\n",
       "        vertical-align: top;\n",
       "    }\n",
       "\n",
       "    .dataframe thead th {\n",
       "        text-align: right;\n",
       "    }\n",
       "</style>\n",
       "<table border=\"1\" class=\"dataframe\">\n",
       "  <thead>\n",
       "    <tr style=\"text-align: right;\">\n",
       "      <th></th>\n",
       "      <th>revenue</th>\n",
       "    </tr>\n",
       "    <tr>\n",
       "      <th>visitorId</th>\n",
       "      <th></th>\n",
       "    </tr>\n",
       "  </thead>\n",
       "  <tbody>\n",
       "    <tr>\n",
       "      <th>5114589</th>\n",
       "      <td>570</td>\n",
       "    </tr>\n",
       "    <tr>\n",
       "      <th>6958315</th>\n",
       "      <td>1490</td>\n",
       "    </tr>\n",
       "    <tr>\n",
       "      <th>11685486</th>\n",
       "      <td>6201</td>\n",
       "    </tr>\n",
       "    <tr>\n",
       "      <th>39475350</th>\n",
       "      <td>3990</td>\n",
       "    </tr>\n",
       "    <tr>\n",
       "      <th>47206413</th>\n",
       "      <td>730</td>\n",
       "    </tr>\n",
       "  </tbody>\n",
       "</table>\n",
       "</div>"
      ],
      "text/plain": [
       "           revenue\n",
       "visitorId         \n",
       "5114589        570\n",
       "6958315       1490\n",
       "11685486      6201\n",
       "39475350      3990\n",
       "47206413       730"
      ]
     },
     "execution_count": 24,
     "metadata": {},
     "output_type": "execute_result"
    }
   ],
   "source": [
    "#calculate the amount of orders per user\n",
    "avgOrderByUser = orders.groupby('visitorId').agg({'revenue': 'sum'})\n",
    "avgOrderByUser.head()"
   ]
  },
  {
   "cell_type": "code",
   "execution_count": 25,
   "metadata": {},
   "outputs": [
    {
     "data": {
      "image/png": "[encoded data removed]",
      "text/plain": [
       "<Figure size 640x480 with 1 Axes>"
      ]
     },
     "metadata": {},
     "output_type": "display_data"
    }
   ],
   "source": [
    "x_values = pd.Series(range(0,len(avgOrderByUser['revenue'])))\n",
    "plt.scatter(x_values, avgOrderByUser['revenue'])\n",
    "plt.xlabel(\"Visitor\")\n",
    "plt.ylabel(\"Order cost\")\n",
    "plt.title('Order cost per user')\n",
    "plt.show()"
   ]
  },
  {
   "cell_type": "code",
   "execution_count": 26,
   "metadata": {
    "scrolled": true
   },
   "outputs": [
    {
     "data": {
      "image/png": "[encoded data removed]",
      "text/plain": [
       "<Figure size 640x480 with 1 Axes>"
      ]
     },
     "metadata": {},
     "output_type": "display_data"
    }
   ],
   "source": [
    "plt.hist(avgOrderByUser['revenue']) \n",
    "plt.xlabel(\"Number of visitors\")\n",
    "plt.ylabel(\"Order cost\")\n",
    "plt.title('Order cost per user')\n",
    "plt.show()"
   ]
  },
  {
   "attachments": {},
   "cell_type": "markdown",
   "metadata": {
    "lang": "en"
   },
   "source": [
    "The data clearly contains abnormally expensive orders (more than 1.2 million rubles), which shift the average bill. To accurately determine which data to cut off and check for \"clean\" data, we calculate the 95th and 99th percentiles for the cost of orders."
   ]
  },
  {
   "attachments": {},
   "cell_type": "markdown",
   "metadata": {
    "lang": "en"
   },
   "source": [
    "### Selecting a border to detect anomalous orders.\n",
    "Let's calculate the 95th and 99th percentiles of order value."
   ]
  },
  {
   "cell_type": "code",
   "execution_count": 27,
   "metadata": {},
   "outputs": [
    {
     "name": "stdout",
     "output_type": "stream",
     "text": [
      "[28910. 59082.]\n"
     ]
    }
   ],
   "source": [
    "print(np.percentile(avgOrderByUser['revenue'], [95, 99]))"
   ]
  },
  {
   "attachments": {},
   "cell_type": "markdown",
   "metadata": {
    "lang": "en"
   },
   "source": [
    "No more than 5% of orders are more expensive than 29 thousand rubles and no more than 1% are more expensive than 59 thousand rubles."
   ]
  },
  {
   "attachments": {},
   "cell_type": "markdown",
   "metadata": {
    "lang": "en"
   },
   "source": [
    "### Statistical significance of differences in the average number of orders per visitor between groups on raw data."
   ]
  },
  {
   "cell_type": "code",
   "execution_count": 28,
   "metadata": {},
   "outputs": [
    {
     "name": "stdout",
     "output_type": "stream",
     "text": [
      "        date  ordersPerDateA  revenuePerDateA  ordersPerDateB  \\\n",
      "0 2019-08-01              23           142779              17   \n",
      "1 2019-08-02              19            91602              23   \n",
      "2 2019-08-03              24           112473              14   \n",
      "3 2019-08-04              11            41176              14   \n",
      "4 2019-08-05              22            86383              21   \n",
      "\n",
      "   revenuePerDateB  ordersCummulativeA  revenueCummulativeA  \\\n",
      "0            59758                  23               142779   \n",
      "1           162043                  42               234381   \n",
      "2            67049                  66               346854   \n",
      "3            96890                  77               388030   \n",
      "4            89908                  99               474413   \n",
      "\n",
      "   ordersCummulativeB  revenueCummulativeB  visitorsPerDateA  \\\n",
      "0                  17                59758               719   \n",
      "1                  40               221801               619   \n",
      "2                  54               288850               507   \n",
      "3                  68               385740               717   \n",
      "4                  89               475648               756   \n",
      "\n",
      "   visitorsPerDateB  visitorsCummulativeA  visitorsCummulativeB  \n",
      "0               713                   719                   713  \n",
      "1               581                  1338                  1294  \n",
      "2               509                  1845                  1803  \n",
      "3               770                  2562                  2573  \n",
      "4               707                  3318                  3280  \n"
     ]
    }
   ],
   "source": [
    "visitorsADaily = visitors[visitors['group'] == 'A'][['date', 'visitors']]\n",
    "visitorsADaily.columns = ['date', 'visitorsPerDateA']\n",
    "\n",
    "visitorsACummulative = visitorsADaily.apply(\n",
    "    lambda x: visitorsADaily[visitorsADaily['date'] <= x['date']].agg(\n",
    "        {'date': 'max', 'visitorsPerDateA': 'sum'}\n",
    "    ),\n",
    "    axis=1,\n",
    ")\n",
    "visitorsACummulative.columns = ['date', 'visitorsCummulativeA']\n",
    "\n",
    "visitorsBDaily = visitors[visitors['group'] == 'B'][['date', 'visitors']]\n",
    "visitorsBDaily.columns = ['date', 'visitorsPerDateB']\n",
    "\n",
    "visitorsBCummulative = visitorsBDaily.apply(\n",
    "    lambda x: visitorsBDaily[visitorsBDaily['date'] <= x['date']].agg(\n",
    "        {'date': 'max', 'visitorsPerDateB': 'sum'}\n",
    "    ),\n",
    "    axis=1,\n",
    ")\n",
    "visitorsBCummulative.columns = ['date', 'visitorsCummulativeB']\n",
    "\n",
    "ordersADaily = (\n",
    "    orders[orders['group'] == 'A'][['date', 'transactionId', 'visitorId', 'revenue']]\n",
    "    .groupby('date', as_index=False)\n",
    "    .agg({'transactionId': pd.Series.nunique, 'revenue': 'sum'})\n",
    ")\n",
    "ordersADaily.columns = ['date', 'ordersPerDateA', 'revenuePerDateA']\n",
    "\n",
    "ordersACummulative = ordersADaily.apply(\n",
    "    lambda x: ordersADaily[ordersADaily['date'] <= x['date']].agg(\n",
    "        {'date': 'max', 'ordersPerDateA': 'sum', 'revenuePerDateA': 'sum'}\n",
    "    ),\n",
    "    axis=1,\n",
    ").sort_values(by=['date'])\n",
    "ordersACummulative.columns = [\n",
    "    'date',\n",
    "    'ordersCummulativeA',\n",
    "    'revenueCummulativeA',\n",
    "]\n",
    "\n",
    "ordersBDaily = (\n",
    "    orders[orders['group'] == 'B'][['date', 'transactionId', 'visitorId', 'revenue']]\n",
    "    .groupby('date', as_index=False)\n",
    "    .agg({'transactionId': pd.Series.nunique, 'revenue': 'sum'})\n",
    ")\n",
    "ordersBDaily.columns = ['date', 'ordersPerDateB', 'revenuePerDateB']\n",
    "\n",
    "ordersBCummulative = ordersBDaily.apply(\n",
    "    lambda x: ordersBDaily[ordersBDaily['date'] <= x['date']].agg(\n",
    "        {'date': 'max', 'ordersPerDateB': 'sum', 'revenuePerDateB': 'sum'}\n",
    "    ),\n",
    "    axis=1,\n",
    ").sort_values(by=['date'])\n",
    "ordersBCummulative.columns = [\n",
    "    'date',\n",
    "    'ordersCummulativeB',\n",
    "    'revenueCummulativeB',\n",
    "]\n",
    "\n",
    "data = (\n",
    "    ordersADaily.merge(\n",
    "        ordersBDaily, left_on='date', right_on='date', how='left'\n",
    "    )\n",
    "    .merge(ordersACummulative, left_on='date', right_on='date', how='left')\n",
    "    .merge(ordersBCummulative, left_on='date', right_on='date', how='left')\n",
    "    .merge(visitorsADaily, left_on='date', right_on='date', how='left')\n",
    "    .merge(visitorsBDaily, left_on='date', right_on='date', how='left')\n",
    "    .merge(visitorsACummulative, left_on='date', right_on='date', how='left')\n",
    "    .merge(visitorsBCummulative, left_on='date', right_on='date', how='left')\n",
    ")\n",
    "\n",
    "print(data.head(5)) \n",
    "\n",
    "\n",
    "\n",
    "ordersByUsersA = (\n",
    "    orders[orders['group'] == 'A']\n",
    "    .groupby('visitorId', as_index=False)\n",
    "    .agg({'transactionId': pd.Series.nunique})\n",
    ")\n",
    "ordersByUsersA.columns = ['userId', 'orders']\n",
    "\n",
    "ordersByUsersB = (\n",
    "    orders[orders['group'] == 'B']\n",
    "    .groupby('visitorId', as_index=False)\n",
    "    .agg({'transactionId': pd.Series.nunique})\n",
    ")\n",
    "ordersByUsersB.columns = ['userId', 'orders'] \n",
    "\n",
    "\n",
    "\n",
    "pd.Series(0, index=np.arange(data['visitorsPerDateA'].sum() - len(ordersByUsersA['orders'])), name='orders')\n",
    "\n",
    "\n",
    "[ordersByUsersA['orders'],pd.Series(0, index=np.arange(data['visitorsPerDateA'].sum() - len(ordersByUsersA['orders'])), name='orders')]\n",
    "\n",
    "\n",
    "\n",
    "sampleA = pd.concat([ordersByUsersA['orders'],pd.Series(0, index=np.arange(data['visitorsPerDateA'].sum() - len(ordersByUsersA['orders'])), name='orders')],axis=0)\n",
    "\n",
    "sampleB = pd.concat([ordersByUsersB['orders'],pd.Series(0, index=np.arange(data['visitorsPerDateB'].sum() - len(ordersByUsersB['orders'])), name='orders')],axis=0)\n",
    "\n"
   ]
  },
  {
   "attachments": {},
   "cell_type": "markdown",
   "metadata": {
    "lang": "en"
   },
   "source": [
    "Now that we have collected the data, let's check if there is a statistical significance of differences in the average number of orders per visitor between groups according to the \"raw\" data.\n",
    "Thus, the null hypothesis: there is no difference in the average number of orders between groups. Alternative: there are differences in the average between groups.\n",
    "\n",
    "\n",
    "Let's apply the Mann-Whitney test and format the p-value by rounding it to three decimal places.\n",
    "The second value will display the relative increase in the average number of orders from group B to group A."
   ]
  },
  {
   "cell_type": "code",
   "execution_count": 29,
   "metadata": {},
   "outputs": [
    {
     "name": "stdout",
     "output_type": "stream",
     "text": [
      "P-value:  0.011\n",
      "Number of orders from group B / A :  0.160\n"
     ]
    }
   ],
   "source": [
    "print('P-value: ', \"{0:.3f}\".format(stats.mannwhitneyu(sampleA, sampleB)[1]))\n",
    "\n",
    "print('Number of orders from group B / A : ', \"{0:.3f}\".format(sampleB.mean() / sampleA.mean() - 1))"
   ]
  },
  {
   "attachments": {},
   "cell_type": "markdown",
   "metadata": {
    "lang": "en"
   },
   "source": [
    "**Conclusion:** According to the \"raw\" data, there are differences in the average number of orders for groups A and B. The first number - p-value = 0.017 is less than 0.05. Hence, we reject the null hypothesis that there are no statistically significant differences in the average number of orders between groups.\n",
    "The relative increase in the average number of orders in group B is 16% - the second number in the output.\n",
    "\n",
    "This conclusion must be checked on \"pure\" data, and then it will be possible to say that in group B the number of orders is statistically significantly higher on average."
   ]
  },
  {
   "attachments": {},
   "cell_type": "markdown",
   "metadata": {
    "lang": "en"
   },
   "source": [
    "### Statistical significance of differences in the average order receipt between groups according to \"raw\" data."
   ]
  },
  {
   "attachments": {},
   "cell_type": "markdown",
   "metadata": {
    "lang": "en"
   },
   "source": [
    "Now let's check the statistical significance of differences in the average check between segments.\n",
    "Null hypothesis: there are no differences in the average check between groups.\n",
    "Alternative hypothesis: there are differences in the average bill between groups."
   ]
  },
  {
   "cell_type": "code",
   "execution_count": 30,
   "metadata": {},
   "outputs": [
    {
     "name": "stdout",
     "output_type": "stream",
     "text": [
      "P-value:  0.829\n",
      "The ratio of the average bill in the group B / A :  0.287\n"
     ]
    }
   ],
   "source": [
    "print('P-value: ', '{0:.3f}'.format(stats.mannwhitneyu(orders[orders['group']=='A']['revenue'], orders[orders['group']=='B']['revenue'])[1]))\n",
    "print('The ratio of the average bill in the group B / A : ','{0:.3f}'.format(orders[orders['group']=='B']['revenue'].mean()/orders[orders['group']=='A']['revenue'].mean()-1)) "
   ]
  },
  {
   "attachments": {},
   "cell_type": "markdown",
   "metadata": {
    "lang": "en"
   },
   "source": [
    "P-value is significantly greater than 0.05. This means that there is no reason to reject the null hypothesis and believe that there are differences in the average bill.\n",
    "\n",
    "Although the average check in group B is on average ~29% higher than in group A. Since the differences are not statistically significant, it means that they were obtained by chance."
   ]
  },
  {
   "attachments": {},
   "cell_type": "markdown",
   "metadata": {
    "lang": "en"
   },
   "source": [
    "### Statistical significance of differences in the average number of orders per visitor between groups on \"cleaned\" data."
   ]
  },
  {
   "attachments": {},
   "cell_type": "markdown",
   "metadata": {
    "lang": "en"
   },
   "source": [
    "We will take as abnormal users, those that do not fit into the 99 percentiles of users in terms of the number of orders - usersWithManyOrders and in terms of order value - usersWithExpensiveOrders. Let's combine them in the abnormalUsers table."
   ]
  },
  {
   "cell_type": "code",
   "execution_count": 31,
   "metadata": {},
   "outputs": [],
   "source": [
    "abnormalNumOrders = np.percentile(ordersByUsers['orders'], [99])\n",
    "abnormalSumOrders = np.percentile(avgOrderByUser['revenue'], [99])"
   ]
  },
  {
   "cell_type": "code",
   "execution_count": 32,
   "metadata": {
    "scrolled": true
   },
   "outputs": [],
   "source": [
    "usersWithManyOrders = pd.concat(\n",
    "    [\n",
    "        ordersByUsersA[ordersByUsersA['orders'] > abnormalNumOrders[0]]['userId'],\n",
    "        ordersByUsersB[ordersByUsersB['orders'] > abnormalNumOrders[0]]['userId'],\n",
    "    ],\n",
    "    axis=0,\n",
    ")\n",
    "usersWithExpensiveOrders = orders[orders['revenue'] > abnormalSumOrders[0]]['visitorId']\n",
    "abnormalUsers = (\n",
    "    pd.concat([usersWithManyOrders, usersWithExpensiveOrders], axis=0)\n",
    "    .drop_duplicates()\n",
    "    .sort_values()\n",
    ")\n",
    "\n",
    "sampleAFiltered = pd.concat(\n",
    "    [\n",
    "        ordersByUsersA[\n",
    "            np.logical_not(ordersByUsersA['userId'].isin(abnormalUsers))\n",
    "        ]['orders'],\n",
    "        pd.Series(\n",
    "            0,\n",
    "            index=np.arange(\n",
    "                data['visitorsPerDateA'].sum() - len(ordersByUsersA['orders'])\n",
    "            ),\n",
    "            name='orders',\n",
    "        ),\n",
    "    ],\n",
    "    axis=0,\n",
    ")\n",
    "\n",
    "sampleBFiltered = pd.concat(\n",
    "    [\n",
    "        ordersByUsersB[\n",
    "            np.logical_not(ordersByUsersB['userId'].isin(abnormalUsers))\n",
    "        ]['orders'],\n",
    "        pd.Series(\n",
    "            0,\n",
    "            index=np.arange(\n",
    "                data['visitorsPerDateB'].sum() - len(ordersByUsersB['orders'])\n",
    "            ),\n",
    "            name='orders',\n",
    "        ),\n",
    "    ],\n",
    "    axis=0,\n",
    ") "
   ]
  },
  {
   "attachments": {},
   "cell_type": "markdown",
   "metadata": {
    "lang": "en"
   },
   "source": [
    "Let's calculate the statistical significance of the differences in the average number of orders between test groups according to the cleaned data. Let's apply the Mann-Whitney statistical test to the obtained samples:"
   ]
  },
  {
   "cell_type": "code",
   "execution_count": 33,
   "metadata": {
    "scrolled": true
   },
   "outputs": [
    {
     "name": "stdout",
     "output_type": "stream",
     "text": [
      "0.006\n",
      "0.191\n"
     ]
    }
   ],
   "source": [
    "print('{0:.3f}'.format(stats.mannwhitneyu(sampleAFiltered, sampleBFiltered)[1]))\n",
    "print('{0:.3f}'.format(sampleBFiltered.mean()/sampleAFiltered.mean()-1)) "
   ]
  },
  {
   "attachments": {},
   "cell_type": "markdown",
   "metadata": {
    "lang": "en"
   },
   "source": [
    "The results for the average number of orders remained virtually unchanged. We reject the null hypothesis that there are no statistically significant differences in the average number of orders between groups. We accept an alternative hypothesis - there are static significant differences in the data and in group B the average number of orders is higher.\n",
    "\n",
    "The relative increase in the average number of orders in group B is ~19% - the second number in the output."
   ]
  },
  {
   "attachments": {},
   "cell_type": "markdown",
   "metadata": {
    "lang": "en"
   },
   "source": [
    "### Statistical significance of differences in the average check of an order between groups according to \"cleaned\" data."
   ]
  },
  {
   "attachments": {},
   "cell_type": "markdown",
   "metadata": {
    "lang": "en"
   },
   "source": [
    "Checking if the test results for the average check have changed?"
   ]
  },
  {
   "cell_type": "code",
   "execution_count": 34,
   "metadata": {
    "scrolled": true
   },
   "outputs": [
    {
     "name": "stdout",
     "output_type": "stream",
     "text": [
      "0.827\n",
      "-0.017\n"
     ]
    }
   ],
   "source": [
    "print(\n",
    "    '{0:.3f}'.format(\n",
    "        stats.mannwhitneyu(\n",
    "            orders[\n",
    "                np.logical_and(\n",
    "                    orders['group'] == 'A',\n",
    "                    np.logical_not(orders['visitorId'].isin(abnormalUsers)),\n",
    "                )\n",
    "            ]['revenue'],\n",
    "            orders[\n",
    "                np.logical_and(\n",
    "                    orders['group'] == 'B',\n",
    "                    np.logical_not(orders['visitorId'].isin(abnormalUsers)),\n",
    "                )\n",
    "            ]['revenue'],\n",
    "        )[1]\n",
    "    )\n",
    ")\n",
    "\n",
    "print(\n",
    "    \"{0:.3f}\".format(\n",
    "        orders[\n",
    "            np.logical_and(\n",
    "                orders['group'] == 'B',\n",
    "                np.logical_not(orders['visitorId'].isin(abnormalUsers)),\n",
    "            )\n",
    "        ]['revenue'].mean()\n",
    "        / orders[\n",
    "            np.logical_and(\n",
    "                orders['group'] == 'A',\n",
    "                np.logical_not(orders['visitorId'].isin(abnormalUsers)),\n",
    "            )\n",
    "        ]['revenue'].mean()\n",
    "        - 1\n",
    "    )\n",
    ") "
   ]
  },
  {
   "attachments": {},
   "cell_type": "markdown",
   "metadata": {
    "lang": "en"
   },
   "source": [
    "P-value decreased, but the difference between segments decreased from 29% to 0%. All differences between segments in the average order receipt were based on outliers in Group B.\n",
    "\n",
    "Although the general conclusions of the test results have not changed."
   ]
  },
  {
   "attachments": {},
   "cell_type": "markdown",
   "metadata": {
    "lang": "en"
   },
   "source": [
    "### Making a decision based on test results"
   ]
  },
  {
   "attachments": {},
   "cell_type": "markdown",
   "metadata": {
    "lang": "en"
   },
   "source": [
    "Available facts:\n",
    "\n",
    "- There is a statistically significant difference in the average number of orders between groups, both in raw and after filtering out anomalies. In group B, the average number of orders per visitor is statistically significantly higher.\n",
    "- There is no statistically significant difference in the average check between groups, neither in the raw data nor in the data after filtering out the anomalies.\n",
    "- The graph of the difference in the average number of orders between groups in section 3.5 highlights that the results of group B are better than group A and the data has stabilized.\n",
    "- Average order difference plot shows that group B performs better than group A, however excluding abnormal visitors from both groups, the data shows that there is no difference in average order order between segments.\n",
    "\n",
    "Based on the facts found, the test should be stopped and considered a success.\n",
    "Group B brings in more orders on average than Group A.\n",
    "At the same time, there were no differences in the average check between the groups.\n",
    "Using the hypothesis in the application for group B, you can increase the revenue of the online store."
   ]
  }
 ],
 "metadata": {
  "ExecuteTimeLog": [
   {
    "duration": 107,
    "start_time": "2023-05-16T16:26:57.421Z"
   },
   {
    "duration": 512,
    "start_time": "2023-05-16T16:34:06.114Z"
   },
   {
    "duration": 124,
    "start_time": "2023-05-16T16:34:07.229Z"
   },
   {
    "duration": 40,
    "start_time": "2023-05-16T16:34:08.520Z"
   },
   {
    "duration": 36,
    "start_time": "2023-05-16T16:35:04.506Z"
   },
   {
    "duration": 25,
    "start_time": "2023-05-16T16:36:07.117Z"
   },
   {
    "duration": 283,
    "start_time": "2023-05-16T16:40:11.760Z"
   },
   {
    "duration": 10,
    "start_time": "2023-05-16T16:40:25.269Z"
   },
   {
    "duration": 11,
    "start_time": "2023-05-16T16:40:32.362Z"
   },
   {
    "duration": 23,
    "start_time": "2023-05-16T16:40:49.954Z"
   },
   {
    "duration": 12,
    "start_time": "2023-05-16T16:40:56.958Z"
   },
   {
    "duration": 32,
    "start_time": "2023-05-16T16:41:02.531Z"
   },
   {
    "duration": 8,
    "start_time": "2023-05-16T16:41:32.157Z"
   },
   {
    "duration": 13,
    "start_time": "2023-05-16T16:41:40.361Z"
   },
   {
    "duration": 102,
    "start_time": "2023-05-16T16:42:56.905Z"
   },
   {
    "duration": 9,
    "start_time": "2023-05-16T16:43:00.336Z"
   },
   {
    "duration": 32,
    "start_time": "2023-05-16T16:43:02.226Z"
   },
   {
    "duration": 12,
    "start_time": "2023-05-16T16:43:15.814Z"
   },
   {
    "duration": 48,
    "start_time": "2023-05-16T16:43:20.310Z"
   },
   {
    "duration": 345,
    "start_time": "2023-05-16T16:44:11.113Z"
   },
   {
    "duration": 24,
    "start_time": "2023-05-16T16:45:39.715Z"
   },
   {
    "duration": 528,
    "start_time": "2023-05-16T16:45:44.138Z"
   },
   {
    "duration": 389,
    "start_time": "2023-05-16T16:45:48.961Z"
   },
   {
    "duration": 321,
    "start_time": "2023-05-16T16:47:16.455Z"
   },
   {
    "duration": 463,
    "start_time": "2023-05-16T16:47:40.235Z"
   },
   {
    "duration": 427,
    "start_time": "2023-05-16T16:48:48.616Z"
   },
   {
    "duration": 453,
    "start_time": "2023-05-16T16:49:03.160Z"
   },
   {
    "duration": 1299,
    "start_time": "2023-05-16T16:51:26.736Z"
   },
   {
    "duration": 165,
    "start_time": "2023-05-16T16:52:39.662Z"
   },
   {
    "duration": 159,
    "start_time": "2023-05-16T16:52:58.314Z"
   },
   {
    "duration": 13,
    "start_time": "2023-05-16T16:55:26.519Z"
   },
   {
    "duration": 10,
    "start_time": "2023-05-16T16:55:40.159Z"
   },
   {
    "duration": 9,
    "start_time": "2023-05-16T16:55:51.765Z"
   },
   {
    "duration": 17,
    "start_time": "2023-05-16T16:56:36.831Z"
   },
   {
    "duration": 9,
    "start_time": "2023-05-16T16:56:52.962Z"
   },
   {
    "duration": 167,
    "start_time": "2023-05-16T16:57:04.360Z"
   },
   {
    "duration": 149,
    "start_time": "2023-05-16T16:58:16.416Z"
   },
   {
    "duration": 143,
    "start_time": "2023-05-16T16:58:45.838Z"
   },
   {
    "duration": 10,
    "start_time": "2023-05-16T16:59:38.825Z"
   },
   {
    "duration": 18,
    "start_time": "2023-05-16T17:00:43.314Z"
   },
   {
    "duration": 145,
    "start_time": "2023-05-16T17:01:08.533Z"
   },
   {
    "duration": 150,
    "start_time": "2023-05-16T17:01:11.827Z"
   },
   {
    "duration": 155,
    "start_time": "2023-05-16T17:01:28.907Z"
   },
   {
    "duration": 156,
    "start_time": "2023-05-16T17:01:49.397Z"
   },
   {
    "duration": 5,
    "start_time": "2023-05-16T17:02:08.765Z"
   },
   {
    "duration": 567,
    "start_time": "2023-05-16T17:03:04.274Z"
   },
   {
    "duration": 185,
    "start_time": "2023-05-16T17:05:26.063Z"
   },
   {
    "duration": 13,
    "start_time": "2023-05-16T17:06:03.635Z"
   },
   {
    "duration": 592,
    "start_time": "2023-05-16T17:08:05.074Z"
   },
   {
    "duration": 47,
    "start_time": "2023-05-16T17:09:06.912Z"
   },
   {
    "duration": 33,
    "start_time": "2023-05-16T17:09:17.922Z"
   },
   {
    "duration": 1677,
    "start_time": "2023-05-16T17:10:36.972Z"
   },
   {
    "duration": 1602,
    "start_time": "2023-05-16T17:10:57.418Z"
   },
   {
    "duration": 1429,
    "start_time": "2023-05-16T17:11:56.667Z"
   },
   {
    "duration": 7,
    "start_time": "2023-05-16T17:12:38.568Z"
   },
   {
    "duration": 41,
    "start_time": "2023-05-16T17:13:10.377Z"
   },
   {
    "duration": 67,
    "start_time": "2023-05-16T17:13:42.913Z"
   },
   {
    "duration": 1956,
    "start_time": "2023-05-16T17:14:02.520Z"
   },
   {
    "duration": 34,
    "start_time": "2023-05-16T17:14:30.875Z"
   },
   {
    "duration": 1493,
    "start_time": "2023-05-17T17:06:27.865Z"
   },
   {
    "duration": 70,
    "start_time": "2023-05-17T17:06:31.187Z"
   },
   {
    "duration": 14,
    "start_time": "2023-05-17T17:06:33.109Z"
   },
   {
    "duration": 11,
    "start_time": "2023-05-17T17:07:19.606Z"
   },
   {
    "duration": 9,
    "start_time": "2023-05-17T17:07:39.395Z"
   },
   {
    "duration": 4,
    "start_time": "2023-05-17T17:25:51.829Z"
   },
   {
    "duration": 77,
    "start_time": "2023-05-17T17:25:51.835Z"
   },
   {
    "duration": 10,
    "start_time": "2023-05-17T17:25:51.915Z"
   },
   {
    "duration": 68,
    "start_time": "2023-05-17T17:25:51.927Z"
   },
   {
    "duration": 16,
    "start_time": "2023-05-17T17:25:51.999Z"
   },
   {
    "duration": 20,
    "start_time": "2023-05-17T17:25:52.017Z"
   },
   {
    "duration": 0,
    "start_time": "2023-05-17T17:25:52.040Z"
   },
   {
    "duration": 0,
    "start_time": "2023-05-17T17:25:52.041Z"
   },
   {
    "duration": 0,
    "start_time": "2023-05-17T17:25:52.042Z"
   },
   {
    "duration": 0,
    "start_time": "2023-05-17T17:25:52.043Z"
   },
   {
    "duration": 0,
    "start_time": "2023-05-17T17:25:52.044Z"
   },
   {
    "duration": 0,
    "start_time": "2023-05-17T17:25:52.050Z"
   },
   {
    "duration": 0,
    "start_time": "2023-05-17T17:25:52.051Z"
   },
   {
    "duration": 0,
    "start_time": "2023-05-17T17:25:52.052Z"
   },
   {
    "duration": 0,
    "start_time": "2023-05-17T17:25:52.053Z"
   },
   {
    "duration": 0,
    "start_time": "2023-05-17T17:25:52.054Z"
   },
   {
    "duration": 0,
    "start_time": "2023-05-17T17:25:52.061Z"
   },
   {
    "duration": 0,
    "start_time": "2023-05-17T17:25:52.062Z"
   },
   {
    "duration": 0,
    "start_time": "2023-05-17T17:25:52.063Z"
   },
   {
    "duration": 0,
    "start_time": "2023-05-17T17:25:52.064Z"
   },
   {
    "duration": 0,
    "start_time": "2023-05-17T17:25:52.066Z"
   },
   {
    "duration": 0,
    "start_time": "2023-05-17T17:25:52.067Z"
   },
   {
    "duration": 0,
    "start_time": "2023-05-17T17:25:52.068Z"
   },
   {
    "duration": 0,
    "start_time": "2023-05-17T17:25:52.068Z"
   },
   {
    "duration": 0,
    "start_time": "2023-05-17T17:25:52.070Z"
   },
   {
    "duration": 0,
    "start_time": "2023-05-17T17:25:52.073Z"
   },
   {
    "duration": 3,
    "start_time": "2023-05-17T17:26:26.496Z"
   },
   {
    "duration": 31,
    "start_time": "2023-05-17T17:26:26.500Z"
   },
   {
    "duration": 9,
    "start_time": "2023-05-17T17:26:26.533Z"
   },
   {
    "duration": 44,
    "start_time": "2023-05-17T17:26:26.544Z"
   },
   {
    "duration": 9,
    "start_time": "2023-05-17T17:26:26.591Z"
   },
   {
    "duration": 173,
    "start_time": "2023-05-17T17:26:26.601Z"
   },
   {
    "duration": 11,
    "start_time": "2023-05-17T17:26:26.776Z"
   },
   {
    "duration": 396,
    "start_time": "2023-05-17T17:26:26.789Z"
   },
   {
    "duration": 330,
    "start_time": "2023-05-17T17:26:27.188Z"
   },
   {
    "duration": 351,
    "start_time": "2023-05-17T17:26:27.520Z"
   },
   {
    "duration": 499,
    "start_time": "2023-05-17T17:26:27.873Z"
   },
   {
    "duration": 347,
    "start_time": "2023-05-17T17:26:28.377Z"
   },
   {
    "duration": 461,
    "start_time": "2023-05-17T17:26:28.726Z"
   },
   {
    "duration": 141,
    "start_time": "2023-05-17T17:26:29.192Z"
   },
   {
    "duration": 142,
    "start_time": "2023-05-17T17:26:29.334Z"
   },
   {
    "duration": 4,
    "start_time": "2023-05-17T17:26:29.483Z"
   },
   {
    "duration": 218,
    "start_time": "2023-05-17T17:26:29.488Z"
   },
   {
    "duration": 185,
    "start_time": "2023-05-17T17:26:29.708Z"
   },
   {
    "duration": 5,
    "start_time": "2023-05-17T17:26:29.907Z"
   },
   {
    "duration": 528,
    "start_time": "2023-05-17T17:26:29.914Z"
   },
   {
    "duration": 49,
    "start_time": "2023-05-17T17:26:30.448Z"
   },
   {
    "duration": 38,
    "start_time": "2023-05-17T17:26:30.499Z"
   },
   {
    "duration": 55,
    "start_time": "2023-05-17T17:26:30.539Z"
   },
   {
    "duration": 81,
    "start_time": "2023-05-17T17:26:30.603Z"
   },
   {
    "duration": 35,
    "start_time": "2023-05-17T17:26:30.696Z"
   },
   {
    "duration": 330,
    "start_time": "2023-05-17T17:39:29.457Z"
   },
   {
    "duration": 9,
    "start_time": "2023-05-17T17:39:58.216Z"
   },
   {
    "duration": 19,
    "start_time": "2023-05-17T17:40:07.438Z"
   },
   {
    "duration": 420,
    "start_time": "2023-05-17T17:41:17.959Z"
   },
   {
    "duration": 353,
    "start_time": "2023-05-17T17:41:52.896Z"
   },
   {
    "duration": 396,
    "start_time": "2023-05-17T17:42:02.186Z"
   },
   {
    "duration": 354,
    "start_time": "2023-05-17T17:44:42.985Z"
   },
   {
    "duration": 293,
    "start_time": "2023-05-17T17:47:45.885Z"
   },
   {
    "duration": 338,
    "start_time": "2023-05-17T17:48:01.690Z"
   },
   {
    "duration": 75,
    "start_time": "2023-05-17T17:51:52.525Z"
   },
   {
    "duration": 360,
    "start_time": "2023-05-17T17:51:54.503Z"
   },
   {
    "duration": 3,
    "start_time": "2023-05-17T17:52:07.501Z"
   },
   {
    "duration": 61,
    "start_time": "2023-05-17T17:52:11.267Z"
   },
   {
    "duration": 364,
    "start_time": "2023-05-17T17:52:12.719Z"
   },
   {
    "duration": 9,
    "start_time": "2023-05-17T17:52:45.077Z"
   },
   {
    "duration": 10,
    "start_time": "2023-05-17T17:52:51.609Z"
   },
   {
    "duration": 322,
    "start_time": "2023-05-17T17:53:03.304Z"
   },
   {
    "duration": 12,
    "start_time": "2023-05-17T17:54:30.485Z"
   },
   {
    "duration": 15,
    "start_time": "2023-05-17T17:54:39.765Z"
   },
   {
    "duration": 25,
    "start_time": "2023-05-17T17:55:06.063Z"
   },
   {
    "duration": 279,
    "start_time": "2023-05-17T17:55:36.711Z"
   },
   {
    "duration": 7,
    "start_time": "2023-05-17T17:55:41.815Z"
   },
   {
    "duration": 189,
    "start_time": "2023-05-17T17:55:43.439Z"
   },
   {
    "duration": 935,
    "start_time": "2023-05-17T17:55:51.307Z"
   },
   {
    "duration": 122,
    "start_time": "2023-05-17T17:56:05.900Z"
   },
   {
    "duration": 14,
    "start_time": "2023-05-17T17:56:07.127Z"
   },
   {
    "duration": 7,
    "start_time": "2023-05-17T17:56:12.304Z"
   },
   {
    "duration": 460,
    "start_time": "2023-05-17T17:56:14.199Z"
   },
   {
    "duration": 418,
    "start_time": "2023-05-17T17:56:48.672Z"
   },
   {
    "duration": 9,
    "start_time": "2023-05-17T17:57:17.974Z"
   },
   {
    "duration": 405,
    "start_time": "2023-05-17T17:57:20.716Z"
   },
   {
    "duration": 553,
    "start_time": "2023-05-17T17:58:12.219Z"
   },
   {
    "duration": 240,
    "start_time": "2023-05-17T17:58:31.518Z"
   },
   {
    "duration": 251,
    "start_time": "2023-05-17T17:58:40.616Z"
   },
   {
    "duration": 225,
    "start_time": "2023-05-17T17:58:46.805Z"
   },
   {
    "duration": 213,
    "start_time": "2023-05-17T17:59:28.507Z"
   },
   {
    "duration": 259,
    "start_time": "2023-05-17T18:01:01.742Z"
   },
   {
    "duration": 203,
    "start_time": "2023-05-17T18:01:20.889Z"
   },
   {
    "duration": 272,
    "start_time": "2023-05-17T18:01:34.802Z"
   },
   {
    "duration": 216,
    "start_time": "2023-05-17T18:01:51.791Z"
   },
   {
    "duration": 318,
    "start_time": "2023-05-17T18:01:58.394Z"
   },
   {
    "duration": 328,
    "start_time": "2023-05-17T18:02:14.597Z"
   },
   {
    "duration": 360,
    "start_time": "2023-05-17T18:02:57.922Z"
   },
   {
    "duration": 435,
    "start_time": "2023-05-17T18:03:02.446Z"
   },
   {
    "duration": 365,
    "start_time": "2023-05-17T18:03:19.297Z"
   },
   {
    "duration": 489,
    "start_time": "2023-05-17T18:03:30.614Z"
   },
   {
    "duration": 323,
    "start_time": "2023-05-17T18:03:37.095Z"
   },
   {
    "duration": 139,
    "start_time": "2023-05-17T18:03:50.101Z"
   },
   {
    "duration": 122,
    "start_time": "2023-05-17T18:03:58.690Z"
   },
   {
    "duration": 126,
    "start_time": "2023-05-17T18:04:03.881Z"
   },
   {
    "duration": 152,
    "start_time": "2023-05-17T18:04:08.119Z"
   },
   {
    "duration": 61,
    "start_time": "2023-05-18T15:31:19.218Z"
   },
   {
    "duration": 1457,
    "start_time": "2023-05-18T15:31:22.810Z"
   },
   {
    "duration": 71,
    "start_time": "2023-05-18T15:31:24.269Z"
   },
   {
    "duration": 15,
    "start_time": "2023-05-18T15:31:24.342Z"
   },
   {
    "duration": 40,
    "start_time": "2023-05-18T15:31:24.359Z"
   },
   {
    "duration": 29,
    "start_time": "2023-05-18T15:31:24.402Z"
   },
   {
    "duration": 267,
    "start_time": "2023-05-18T15:31:24.433Z"
   },
   {
    "duration": 7,
    "start_time": "2023-05-18T15:31:24.703Z"
   },
   {
    "duration": 312,
    "start_time": "2023-05-18T15:31:24.712Z"
   },
   {
    "duration": 6,
    "start_time": "2023-05-18T15:31:25.026Z"
   },
   {
    "duration": 327,
    "start_time": "2023-05-18T15:31:27.287Z"
   },
   {
    "duration": 225,
    "start_time": "2023-05-18T15:39:47.182Z"
   },
   {
    "duration": 388,
    "start_time": "2023-05-18T15:42:23.242Z"
   },
   {
    "duration": 357,
    "start_time": "2023-05-18T15:42:37.588Z"
   },
   {
    "duration": 248,
    "start_time": "2023-05-18T15:45:54.300Z"
   },
   {
    "duration": 262,
    "start_time": "2023-05-18T15:46:38.548Z"
   },
   {
    "duration": 89,
    "start_time": "2023-05-18T15:49:07.197Z"
   },
   {
    "duration": 1363,
    "start_time": "2023-05-18T15:49:30.493Z"
   },
   {
    "duration": 444,
    "start_time": "2023-05-18T15:49:59.103Z"
   },
   {
    "duration": 148,
    "start_time": "2023-05-18T15:53:03.441Z"
   },
   {
    "duration": 145,
    "start_time": "2023-05-18T15:53:19.591Z"
   },
   {
    "duration": 150,
    "start_time": "2023-05-18T15:55:04.639Z"
   },
   {
    "duration": 5,
    "start_time": "2023-05-18T15:56:15.498Z"
   },
   {
    "duration": 157,
    "start_time": "2023-05-18T15:59:07.434Z"
   },
   {
    "duration": 181,
    "start_time": "2023-05-18T15:59:32.897Z"
   },
   {
    "duration": 4,
    "start_time": "2023-05-18T16:00:49.787Z"
   },
   {
    "duration": 395,
    "start_time": "2023-05-18T16:02:05.033Z"
   },
   {
    "duration": 3,
    "start_time": "2023-05-18T16:12:31.945Z"
   },
   {
    "duration": 74,
    "start_time": "2023-05-18T16:12:31.951Z"
   },
   {
    "duration": 9,
    "start_time": "2023-05-18T16:12:32.027Z"
   },
   {
    "duration": 26,
    "start_time": "2023-05-18T16:12:32.038Z"
   },
   {
    "duration": 98,
    "start_time": "2023-05-18T16:12:32.066Z"
   },
   {
    "duration": 158,
    "start_time": "2023-05-18T16:12:32.166Z"
   },
   {
    "duration": 22,
    "start_time": "2023-05-18T16:12:32.326Z"
   },
   {
    "duration": 391,
    "start_time": "2023-05-18T16:12:32.350Z"
   },
   {
    "duration": 6,
    "start_time": "2023-05-18T16:12:32.743Z"
   },
   {
    "duration": 261,
    "start_time": "2023-05-18T16:12:32.751Z"
   },
   {
    "duration": 233,
    "start_time": "2023-05-18T16:12:33.014Z"
   },
   {
    "duration": 379,
    "start_time": "2023-05-18T16:12:33.249Z"
   },
   {
    "duration": 272,
    "start_time": "2023-05-18T16:12:33.630Z"
   },
   {
    "duration": 468,
    "start_time": "2023-05-18T16:12:33.905Z"
   },
   {
    "duration": 147,
    "start_time": "2023-05-18T16:12:34.378Z"
   },
   {
    "duration": 152,
    "start_time": "2023-05-18T16:12:34.526Z"
   },
   {
    "duration": 4,
    "start_time": "2023-05-18T16:12:34.680Z"
   },
   {
    "duration": 174,
    "start_time": "2023-05-18T16:12:34.687Z"
   },
   {
    "duration": 166,
    "start_time": "2023-05-18T16:12:34.863Z"
   },
   {
    "duration": 6,
    "start_time": "2023-05-18T16:12:35.031Z"
   },
   {
    "duration": 410,
    "start_time": "2023-05-18T16:12:35.039Z"
   },
   {
    "duration": 42,
    "start_time": "2023-05-18T16:12:35.451Z"
   },
   {
    "duration": 13,
    "start_time": "2023-05-18T16:12:38.090Z"
   },
   {
    "duration": 16,
    "start_time": "2023-05-18T16:17:57.698Z"
   },
   {
    "duration": 18,
    "start_time": "2023-05-18T16:18:11.094Z"
   },
   {
    "duration": 26,
    "start_time": "2023-05-18T16:18:16.590Z"
   },
   {
    "duration": 17,
    "start_time": "2023-05-18T16:19:49.914Z"
   },
   {
    "duration": 117,
    "start_time": "2023-05-18T16:22:21.370Z"
   },
   {
    "duration": 1306,
    "start_time": "2023-05-18T16:31:45.124Z"
   },
   {
    "duration": 33,
    "start_time": "2023-05-18T16:31:46.433Z"
   },
   {
    "duration": 23,
    "start_time": "2023-05-18T16:31:46.468Z"
   },
   {
    "duration": 17,
    "start_time": "2023-05-18T16:31:46.493Z"
   },
   {
    "duration": 13,
    "start_time": "2023-05-18T16:31:46.513Z"
   },
   {
    "duration": 77,
    "start_time": "2023-05-18T16:31:46.528Z"
   },
   {
    "duration": 6,
    "start_time": "2023-05-18T16:31:46.608Z"
   },
   {
    "duration": 310,
    "start_time": "2023-05-18T16:31:46.616Z"
   },
   {
    "duration": 6,
    "start_time": "2023-05-18T16:31:46.928Z"
   },
   {
    "duration": 353,
    "start_time": "2023-05-18T16:31:46.936Z"
   },
   {
    "duration": 228,
    "start_time": "2023-05-18T16:31:47.291Z"
   },
   {
    "duration": 368,
    "start_time": "2023-05-18T16:31:47.520Z"
   },
   {
    "duration": 270,
    "start_time": "2023-05-18T16:31:47.891Z"
   },
   {
    "duration": 373,
    "start_time": "2023-05-18T16:31:48.172Z"
   },
   {
    "duration": 159,
    "start_time": "2023-05-18T16:31:48.547Z"
   },
   {
    "duration": 151,
    "start_time": "2023-05-18T16:31:48.708Z"
   },
   {
    "duration": 22,
    "start_time": "2023-05-18T16:31:48.861Z"
   },
   {
    "duration": 178,
    "start_time": "2023-05-18T16:31:48.890Z"
   },
   {
    "duration": 252,
    "start_time": "2023-05-18T16:31:49.072Z"
   },
   {
    "duration": 5,
    "start_time": "2023-05-18T16:31:49.325Z"
   },
   {
    "duration": 395,
    "start_time": "2023-05-18T16:31:49.333Z"
   },
   {
    "duration": 25,
    "start_time": "2023-05-18T16:31:49.730Z"
   },
   {
    "duration": 14,
    "start_time": "2023-05-18T16:31:49.781Z"
   },
   {
    "duration": 18,
    "start_time": "2023-05-18T16:31:49.797Z"
   },
   {
    "duration": 45,
    "start_time": "2023-05-18T16:31:49.817Z"
   },
   {
    "duration": 22,
    "start_time": "2023-05-18T16:31:49.864Z"
   },
   {
    "duration": 1445,
    "start_time": "2023-05-19T09:37:00.785Z"
   },
   {
    "duration": 41,
    "start_time": "2023-05-19T09:37:02.233Z"
   },
   {
    "duration": 51,
    "start_time": "2023-05-19T09:37:02.276Z"
   },
   {
    "duration": 48,
    "start_time": "2023-05-19T09:37:02.330Z"
   },
   {
    "duration": 24,
    "start_time": "2023-05-19T09:37:02.379Z"
   },
   {
    "duration": 98,
    "start_time": "2023-05-19T09:37:02.405Z"
   },
   {
    "duration": 7,
    "start_time": "2023-05-19T09:37:02.505Z"
   },
   {
    "duration": 379,
    "start_time": "2023-05-19T09:37:02.514Z"
   },
   {
    "duration": 6,
    "start_time": "2023-05-19T09:37:02.895Z"
   },
   {
    "duration": 393,
    "start_time": "2023-05-19T09:37:02.905Z"
   },
   {
    "duration": 213,
    "start_time": "2023-05-19T09:37:03.300Z"
   },
   {
    "duration": 364,
    "start_time": "2023-05-19T09:37:03.516Z"
   },
   {
    "duration": 311,
    "start_time": "2023-05-19T09:37:03.883Z"
   },
   {
    "duration": 473,
    "start_time": "2023-05-19T09:37:04.197Z"
   },
   {
    "duration": 194,
    "start_time": "2023-05-19T09:37:04.675Z"
   },
   {
    "duration": 181,
    "start_time": "2023-05-19T09:37:04.874Z"
   },
   {
    "duration": 8,
    "start_time": "2023-05-19T09:37:05.061Z"
   },
   {
    "duration": 215,
    "start_time": "2023-05-19T09:37:05.075Z"
   },
   {
    "duration": 246,
    "start_time": "2023-05-19T09:37:05.292Z"
   },
   {
    "duration": 5,
    "start_time": "2023-05-19T09:37:05.539Z"
   },
   {
    "duration": 502,
    "start_time": "2023-05-19T09:37:05.545Z"
   },
   {
    "duration": 38,
    "start_time": "2023-05-19T09:37:06.052Z"
   },
   {
    "duration": 34,
    "start_time": "2023-05-19T09:37:06.093Z"
   },
   {
    "duration": 17,
    "start_time": "2023-05-19T09:37:06.142Z"
   },
   {
    "duration": 62,
    "start_time": "2023-05-19T09:37:06.161Z"
   },
   {
    "duration": 18,
    "start_time": "2023-05-19T09:37:06.225Z"
   },
   {
    "duration": 121,
    "start_time": "2023-05-19T09:50:06.301Z"
   },
   {
    "duration": 1320,
    "start_time": "2023-05-20T11:34:07.393Z"
   },
   {
    "duration": 68,
    "start_time": "2023-05-20T11:34:10.340Z"
   },
   {
    "duration": 18,
    "start_time": "2023-05-20T11:34:11.423Z"
   },
   {
    "duration": 48,
    "start_time": "2023-05-20T11:34:28.649Z"
   },
   {
    "duration": 95,
    "start_time": "2023-05-20T11:35:52.019Z"
   },
   {
    "duration": 8,
    "start_time": "2023-05-20T11:38:24.719Z"
   },
   {
    "duration": 9,
    "start_time": "2023-05-20T11:38:42.629Z"
   },
   {
    "duration": 8,
    "start_time": "2023-05-20T11:38:49.193Z"
   },
   {
    "duration": 9,
    "start_time": "2023-05-20T11:39:27.281Z"
   },
   {
    "duration": 10,
    "start_time": "2023-05-20T11:39:41.531Z"
   },
   {
    "duration": 11,
    "start_time": "2023-05-20T11:40:11.293Z"
   },
   {
    "duration": 13,
    "start_time": "2023-05-20T11:40:42.699Z"
   },
   {
    "duration": 9,
    "start_time": "2023-05-20T11:40:49.799Z"
   },
   {
    "duration": 12,
    "start_time": "2023-05-20T11:41:17.260Z"
   },
   {
    "duration": 12,
    "start_time": "2023-05-20T11:41:25.046Z"
   },
   {
    "duration": 2,
    "start_time": "2023-05-20T11:41:41.869Z"
   },
   {
    "duration": 27,
    "start_time": "2023-05-20T11:41:41.873Z"
   },
   {
    "duration": 7,
    "start_time": "2023-05-20T11:41:41.902Z"
   },
   {
    "duration": 11,
    "start_time": "2023-05-20T11:41:45.029Z"
   },
   {
    "duration": 8,
    "start_time": "2023-05-20T11:42:01.595Z"
   },
   {
    "duration": 8,
    "start_time": "2023-05-20T11:42:37.997Z"
   },
   {
    "duration": 10,
    "start_time": "2023-05-20T11:42:57.273Z"
   },
   {
    "duration": 8,
    "start_time": "2023-05-20T11:43:00.295Z"
   },
   {
    "duration": 8,
    "start_time": "2023-05-20T11:43:16.100Z"
   },
   {
    "duration": 51,
    "start_time": "2023-05-20T11:44:04.148Z"
   },
   {
    "duration": 75,
    "start_time": "2023-05-20T11:51:10.078Z"
   },
   {
    "duration": 8,
    "start_time": "2023-05-20T12:03:57.836Z"
   },
   {
    "duration": 3,
    "start_time": "2023-05-20T12:04:03.049Z"
   },
   {
    "duration": 27,
    "start_time": "2023-05-20T12:04:03.054Z"
   },
   {
    "duration": 10,
    "start_time": "2023-05-20T12:04:03.082Z"
   },
   {
    "duration": 18,
    "start_time": "2023-05-20T12:04:03.093Z"
   },
   {
    "duration": 8,
    "start_time": "2023-05-20T12:04:03.112Z"
   },
   {
    "duration": 123,
    "start_time": "2023-05-20T12:04:03.121Z"
   },
   {
    "duration": 11,
    "start_time": "2023-05-20T12:04:05.315Z"
   },
   {
    "duration": 11,
    "start_time": "2023-05-20T12:04:15.362Z"
   },
   {
    "duration": 6,
    "start_time": "2023-05-20T12:10:34.825Z"
   },
   {
    "duration": 6,
    "start_time": "2023-05-20T12:10:54.093Z"
   },
   {
    "duration": 7,
    "start_time": "2023-05-20T12:12:07.517Z"
   },
   {
    "duration": 13,
    "start_time": "2023-05-20T12:13:10.757Z"
   },
   {
    "duration": 7,
    "start_time": "2023-05-20T12:13:13.499Z"
   },
   {
    "duration": 5,
    "start_time": "2023-05-20T12:13:21.127Z"
   },
   {
    "duration": 271,
    "start_time": "2023-05-20T12:13:23.252Z"
   },
   {
    "duration": 254,
    "start_time": "2023-05-20T12:13:27.957Z"
   },
   {
    "duration": 49,
    "start_time": "2023-05-20T12:15:11.099Z"
   },
   {
    "duration": 55,
    "start_time": "2023-05-20T12:17:14.971Z"
   },
   {
    "duration": 14,
    "start_time": "2023-05-20T12:17:20.802Z"
   },
   {
    "duration": 9,
    "start_time": "2023-05-20T12:17:35.916Z"
   },
   {
    "duration": 8,
    "start_time": "2023-05-20T12:18:24.968Z"
   },
   {
    "duration": 10,
    "start_time": "2023-05-20T12:23:51.165Z"
   },
   {
    "duration": 14,
    "start_time": "2023-05-20T12:24:31.133Z"
   },
   {
    "duration": 8,
    "start_time": "2023-05-20T12:25:41.041Z"
   },
   {
    "duration": 7,
    "start_time": "2023-05-20T12:26:13.141Z"
   },
   {
    "duration": 5,
    "start_time": "2023-05-20T12:27:21.294Z"
   },
   {
    "duration": 8,
    "start_time": "2023-05-20T12:27:40.436Z"
   },
   {
    "duration": 831,
    "start_time": "2023-05-20T12:28:26.932Z"
   },
   {
    "duration": 8,
    "start_time": "2023-05-20T12:28:41.924Z"
   },
   {
    "duration": 9,
    "start_time": "2023-05-20T12:29:12.556Z"
   },
   {
    "duration": 14,
    "start_time": "2023-05-20T12:29:20.996Z"
   },
   {
    "duration": 9,
    "start_time": "2023-05-20T12:29:24.504Z"
   },
   {
    "duration": 9,
    "start_time": "2023-05-20T12:30:20.560Z"
   },
   {
    "duration": 9,
    "start_time": "2023-05-20T12:30:23.311Z"
   },
   {
    "duration": 8,
    "start_time": "2023-05-20T12:31:35.855Z"
   },
   {
    "duration": 9,
    "start_time": "2023-05-20T12:32:07.286Z"
   },
   {
    "duration": 8,
    "start_time": "2023-05-20T12:33:32.263Z"
   },
   {
    "duration": 9,
    "start_time": "2023-05-20T12:34:28.555Z"
   },
   {
    "duration": 4,
    "start_time": "2023-05-20T12:38:34.510Z"
   },
   {
    "duration": 4,
    "start_time": "2023-05-20T12:38:51.537Z"
   },
   {
    "duration": 5,
    "start_time": "2023-05-20T12:39:02.827Z"
   },
   {
    "duration": 6,
    "start_time": "2023-05-20T12:40:22.129Z"
   },
   {
    "duration": 59,
    "start_time": "2023-05-20T12:45:30.525Z"
   },
   {
    "duration": 40,
    "start_time": "2023-05-20T12:45:54.540Z"
   },
   {
    "duration": 123,
    "start_time": "2023-05-20T12:46:03.311Z"
   },
   {
    "duration": 193,
    "start_time": "2023-05-20T12:47:43.967Z"
   },
   {
    "duration": 284,
    "start_time": "2023-05-20T12:48:00.650Z"
   },
   {
    "duration": 167,
    "start_time": "2023-05-20T12:48:19.258Z"
   },
   {
    "duration": 16,
    "start_time": "2023-05-20T12:48:47.767Z"
   },
   {
    "duration": 32,
    "start_time": "2023-05-20T12:53:32.898Z"
   },
   {
    "duration": 211,
    "start_time": "2023-05-20T12:54:05.039Z"
   },
   {
    "duration": 313,
    "start_time": "2023-05-20T12:54:19.155Z"
   },
   {
    "duration": 49,
    "start_time": "2023-05-20T12:56:19.786Z"
   },
   {
    "duration": 4,
    "start_time": "2023-05-20T12:57:20.320Z"
   },
   {
    "duration": 35,
    "start_time": "2023-05-20T12:57:20.326Z"
   },
   {
    "duration": 8,
    "start_time": "2023-05-20T12:57:20.363Z"
   },
   {
    "duration": 35,
    "start_time": "2023-05-20T12:57:20.373Z"
   },
   {
    "duration": 36,
    "start_time": "2023-05-20T12:57:20.410Z"
   },
   {
    "duration": 57,
    "start_time": "2023-05-20T12:57:20.448Z"
   },
   {
    "duration": 10,
    "start_time": "2023-05-20T12:57:20.507Z"
   },
   {
    "duration": 11,
    "start_time": "2023-05-20T12:57:20.519Z"
   },
   {
    "duration": 17,
    "start_time": "2023-05-20T12:57:20.531Z"
   },
   {
    "duration": 10,
    "start_time": "2023-05-20T12:57:20.549Z"
   },
   {
    "duration": 8,
    "start_time": "2023-05-20T12:57:20.562Z"
   },
   {
    "duration": 7,
    "start_time": "2023-05-20T12:57:20.572Z"
   },
   {
    "duration": 8,
    "start_time": "2023-05-20T12:57:20.581Z"
   },
   {
    "duration": 16,
    "start_time": "2023-05-20T12:57:20.590Z"
   },
   {
    "duration": 5,
    "start_time": "2023-05-20T12:57:20.608Z"
   },
   {
    "duration": 253,
    "start_time": "2023-05-20T12:57:20.615Z"
   },
   {
    "duration": 6,
    "start_time": "2023-05-20T12:57:20.870Z"
   },
   {
    "duration": 6,
    "start_time": "2023-05-20T12:57:30.732Z"
   },
   {
    "duration": 266,
    "start_time": "2023-05-20T12:57:33.087Z"
   },
   {
    "duration": 4,
    "start_time": "2023-05-20T12:58:40.566Z"
   },
   {
    "duration": 48,
    "start_time": "2023-05-20T12:59:16.640Z"
   },
   {
    "duration": 209,
    "start_time": "2023-05-20T13:00:11.036Z"
   },
   {
    "duration": 191,
    "start_time": "2023-05-20T13:01:04.685Z"
   },
   {
    "duration": 364,
    "start_time": "2023-05-20T13:01:46.119Z"
   },
   {
    "duration": 207,
    "start_time": "2023-05-20T13:02:15.066Z"
   },
   {
    "duration": 316,
    "start_time": "2023-05-20T13:02:40.863Z"
   },
   {
    "duration": 152,
    "start_time": "2023-05-20T13:03:16.475Z"
   },
   {
    "duration": 147,
    "start_time": "2023-05-20T13:03:30.994Z"
   },
   {
    "duration": 139,
    "start_time": "2023-05-20T13:04:40.935Z"
   },
   {
    "duration": 156,
    "start_time": "2023-05-20T13:04:48.834Z"
   },
   {
    "duration": 45,
    "start_time": "2023-05-20T13:05:40.863Z"
   },
   {
    "duration": 3,
    "start_time": "2023-05-20T13:06:38.367Z"
   },
   {
    "duration": 28,
    "start_time": "2023-05-20T13:06:38.372Z"
   },
   {
    "duration": 7,
    "start_time": "2023-05-20T13:06:38.403Z"
   },
   {
    "duration": 9,
    "start_time": "2023-05-20T13:06:38.412Z"
   },
   {
    "duration": 8,
    "start_time": "2023-05-20T13:06:38.423Z"
   },
   {
    "duration": 61,
    "start_time": "2023-05-20T13:06:38.433Z"
   },
   {
    "duration": 13,
    "start_time": "2023-05-20T13:06:38.496Z"
   },
   {
    "duration": 13,
    "start_time": "2023-05-20T13:06:38.510Z"
   },
   {
    "duration": 13,
    "start_time": "2023-05-20T13:06:38.525Z"
   },
   {
    "duration": 12,
    "start_time": "2023-05-20T13:06:38.540Z"
   },
   {
    "duration": 103,
    "start_time": "2023-05-20T13:06:38.555Z"
   },
   {
    "duration": 11,
    "start_time": "2023-05-20T13:06:38.659Z"
   },
   {
    "duration": 8,
    "start_time": "2023-05-20T13:06:38.671Z"
   },
   {
    "duration": 14,
    "start_time": "2023-05-20T13:06:38.681Z"
   },
   {
    "duration": 8,
    "start_time": "2023-05-20T13:06:38.697Z"
   },
   {
    "duration": 252,
    "start_time": "2023-05-20T13:06:38.706Z"
   },
   {
    "duration": 7,
    "start_time": "2023-05-20T13:06:38.960Z"
   },
   {
    "duration": 290,
    "start_time": "2023-05-20T13:06:38.968Z"
   },
   {
    "duration": 6,
    "start_time": "2023-05-20T13:06:39.260Z"
   },
   {
    "duration": 225,
    "start_time": "2023-05-20T13:06:39.267Z"
   },
   {
    "duration": 214,
    "start_time": "2023-05-20T13:06:39.494Z"
   },
   {
    "duration": 287,
    "start_time": "2023-05-20T13:06:39.710Z"
   },
   {
    "duration": 239,
    "start_time": "2023-05-20T13:06:39.999Z"
   },
   {
    "duration": 339,
    "start_time": "2023-05-20T13:06:40.240Z"
   },
   {
    "duration": 148,
    "start_time": "2023-05-20T13:06:43.894Z"
   },
   {
    "duration": 8,
    "start_time": "2023-05-20T13:06:55.063Z"
   },
   {
    "duration": 152,
    "start_time": "2023-05-20T13:08:27.476Z"
   },
   {
    "duration": 6,
    "start_time": "2023-05-20T13:10:55.123Z"
   },
   {
    "duration": 189,
    "start_time": "2023-05-20T13:11:24.096Z"
   },
   {
    "duration": 136,
    "start_time": "2023-05-20T13:11:57.688Z"
   },
   {
    "duration": 4,
    "start_time": "2023-05-20T13:12:06.671Z"
   },
   {
    "duration": 4,
    "start_time": "2023-05-20T13:12:10.475Z"
   },
   {
    "duration": 4,
    "start_time": "2023-05-20T13:12:17.588Z"
   },
   {
    "duration": 8,
    "start_time": "2023-05-20T13:12:44.013Z"
   },
   {
    "duration": 6,
    "start_time": "2023-05-20T13:13:33.428Z"
   },
   {
    "duration": 5,
    "start_time": "2023-05-20T13:13:42.928Z"
   },
   {
    "duration": 13,
    "start_time": "2023-05-20T13:16:15.154Z"
   },
   {
    "duration": 3,
    "start_time": "2023-05-20T13:16:19.576Z"
   },
   {
    "duration": 27,
    "start_time": "2023-05-20T13:16:19.581Z"
   },
   {
    "duration": 8,
    "start_time": "2023-05-20T13:16:19.609Z"
   },
   {
    "duration": 13,
    "start_time": "2023-05-20T13:16:19.619Z"
   },
   {
    "duration": 10,
    "start_time": "2023-05-20T13:16:19.634Z"
   },
   {
    "duration": 62,
    "start_time": "2023-05-20T13:16:19.645Z"
   },
   {
    "duration": 11,
    "start_time": "2023-05-20T13:16:19.708Z"
   },
   {
    "duration": 18,
    "start_time": "2023-05-20T13:16:19.720Z"
   },
   {
    "duration": 21,
    "start_time": "2023-05-20T13:16:19.742Z"
   },
   {
    "duration": 7,
    "start_time": "2023-05-20T13:16:19.765Z"
   },
   {
    "duration": 9,
    "start_time": "2023-05-20T13:16:19.773Z"
   },
   {
    "duration": 8,
    "start_time": "2023-05-20T13:16:19.784Z"
   },
   {
    "duration": 8,
    "start_time": "2023-05-20T13:16:19.793Z"
   },
   {
    "duration": 13,
    "start_time": "2023-05-20T13:16:19.803Z"
   },
   {
    "duration": 35,
    "start_time": "2023-05-20T13:16:19.818Z"
   },
   {
    "duration": 234,
    "start_time": "2023-05-20T13:16:19.854Z"
   },
   {
    "duration": 6,
    "start_time": "2023-05-20T13:16:20.090Z"
   },
   {
    "duration": 395,
    "start_time": "2023-05-20T13:16:20.097Z"
   },
   {
    "duration": 4,
    "start_time": "2023-05-20T13:16:20.494Z"
   },
   {
    "duration": 219,
    "start_time": "2023-05-20T13:16:20.500Z"
   },
   {
    "duration": 204,
    "start_time": "2023-05-20T13:16:20.720Z"
   },
   {
    "duration": 345,
    "start_time": "2023-05-20T13:16:20.926Z"
   },
   {
    "duration": 230,
    "start_time": "2023-05-20T13:16:21.273Z"
   },
   {
    "duration": 318,
    "start_time": "2023-05-20T13:16:21.505Z"
   },
   {
    "duration": 153,
    "start_time": "2023-05-20T13:16:21.825Z"
   },
   {
    "duration": 156,
    "start_time": "2023-05-20T13:16:21.980Z"
   },
   {
    "duration": 4,
    "start_time": "2023-05-20T13:16:22.137Z"
   },
   {
    "duration": 144,
    "start_time": "2023-05-20T13:16:22.151Z"
   },
   {
    "duration": 145,
    "start_time": "2023-05-20T13:16:22.297Z"
   },
   {
    "duration": 8,
    "start_time": "2023-05-20T13:16:22.444Z"
   },
   {
    "duration": 364,
    "start_time": "2023-05-20T13:16:22.454Z"
   },
   {
    "duration": 22,
    "start_time": "2023-05-20T13:16:25.462Z"
   },
   {
    "duration": 11,
    "start_time": "2023-05-20T13:17:14.722Z"
   },
   {
    "duration": 3,
    "start_time": "2023-05-20T13:21:53.262Z"
   },
   {
    "duration": 30,
    "start_time": "2023-05-20T13:21:53.267Z"
   },
   {
    "duration": 8,
    "start_time": "2023-05-20T13:21:53.299Z"
   },
   {
    "duration": 10,
    "start_time": "2023-05-20T13:21:53.309Z"
   },
   {
    "duration": 11,
    "start_time": "2023-05-20T13:21:53.320Z"
   },
   {
    "duration": 54,
    "start_time": "2023-05-20T13:21:53.332Z"
   },
   {
    "duration": 11,
    "start_time": "2023-05-20T13:21:53.388Z"
   },
   {
    "duration": 17,
    "start_time": "2023-05-20T13:21:53.400Z"
   },
   {
    "duration": 16,
    "start_time": "2023-05-20T13:21:53.420Z"
   },
   {
    "duration": 11,
    "start_time": "2023-05-20T13:21:53.437Z"
   },
   {
    "duration": 15,
    "start_time": "2023-05-20T13:21:53.451Z"
   },
   {
    "duration": 9,
    "start_time": "2023-05-20T13:21:53.468Z"
   },
   {
    "duration": 10,
    "start_time": "2023-05-20T13:21:53.478Z"
   },
   {
    "duration": 13,
    "start_time": "2023-05-20T13:21:53.489Z"
   },
   {
    "duration": 5,
    "start_time": "2023-05-20T13:21:53.504Z"
   },
   {
    "duration": 263,
    "start_time": "2023-05-20T13:21:53.511Z"
   },
   {
    "duration": 6,
    "start_time": "2023-05-20T13:21:53.775Z"
   },
   {
    "duration": 434,
    "start_time": "2023-05-20T13:21:53.783Z"
   },
   {
    "duration": 5,
    "start_time": "2023-05-20T13:21:54.219Z"
   },
   {
    "duration": 282,
    "start_time": "2023-05-20T13:21:54.226Z"
   },
   {
    "duration": 234,
    "start_time": "2023-05-20T13:21:54.510Z"
   },
   {
    "duration": 320,
    "start_time": "2023-05-20T13:21:54.745Z"
   },
   {
    "duration": 239,
    "start_time": "2023-05-20T13:21:55.067Z"
   },
   {
    "duration": 337,
    "start_time": "2023-05-20T13:21:55.309Z"
   },
   {
    "duration": 155,
    "start_time": "2023-05-20T13:21:55.651Z"
   },
   {
    "duration": 149,
    "start_time": "2023-05-20T13:21:55.808Z"
   },
   {
    "duration": 7,
    "start_time": "2023-05-20T13:21:55.959Z"
   },
   {
    "duration": 149,
    "start_time": "2023-05-20T13:21:55.968Z"
   },
   {
    "duration": 153,
    "start_time": "2023-05-20T13:21:56.118Z"
   },
   {
    "duration": 4,
    "start_time": "2023-05-20T13:21:56.273Z"
   },
   {
    "duration": 357,
    "start_time": "2023-05-20T13:21:56.279Z"
   },
   {
    "duration": 34,
    "start_time": "2023-05-20T13:21:56.637Z"
   },
   {
    "duration": 9,
    "start_time": "2023-05-20T13:21:56.673Z"
   },
   {
    "duration": 19,
    "start_time": "2023-05-20T13:21:59.330Z"
   },
   {
    "duration": 5,
    "start_time": "2023-05-20T13:22:45.570Z"
   },
   {
    "duration": 5,
    "start_time": "2023-05-20T13:24:20.850Z"
   },
   {
    "duration": 5,
    "start_time": "2023-05-20T13:25:50.359Z"
   },
   {
    "duration": 15,
    "start_time": "2023-05-20T13:25:52.841Z"
   },
   {
    "duration": 25,
    "start_time": "2023-05-20T13:25:57.329Z"
   },
   {
    "duration": 49,
    "start_time": "2023-05-20T13:28:50.353Z"
   },
   {
    "duration": 43,
    "start_time": "2023-05-20T13:29:25.854Z"
   },
   {
    "duration": 41,
    "start_time": "2023-05-20T13:29:44.939Z"
   },
   {
    "duration": 1024,
    "start_time": "2023-05-20T13:30:11.704Z"
   },
   {
    "duration": 28,
    "start_time": "2023-05-20T13:30:12.729Z"
   },
   {
    "duration": 14,
    "start_time": "2023-05-20T13:30:12.758Z"
   },
   {
    "duration": 10,
    "start_time": "2023-05-20T13:30:12.774Z"
   },
   {
    "duration": 8,
    "start_time": "2023-05-20T13:30:12.785Z"
   },
   {
    "duration": 51,
    "start_time": "2023-05-20T13:30:12.794Z"
   },
   {
    "duration": 11,
    "start_time": "2023-05-20T13:30:12.846Z"
   },
   {
    "duration": 10,
    "start_time": "2023-05-20T13:30:12.859Z"
   },
   {
    "duration": 12,
    "start_time": "2023-05-20T13:30:12.871Z"
   },
   {
    "duration": 7,
    "start_time": "2023-05-20T13:30:12.885Z"
   },
   {
    "duration": 9,
    "start_time": "2023-05-20T13:30:12.893Z"
   },
   {
    "duration": 8,
    "start_time": "2023-05-20T13:30:12.903Z"
   },
   {
    "duration": 39,
    "start_time": "2023-05-20T13:30:12.913Z"
   },
   {
    "duration": 111,
    "start_time": "2023-05-20T13:30:12.954Z"
   },
   {
    "duration": 7,
    "start_time": "2023-05-20T13:30:13.066Z"
   },
   {
    "duration": 348,
    "start_time": "2023-05-20T13:30:13.074Z"
   },
   {
    "duration": 6,
    "start_time": "2023-05-20T13:30:13.424Z"
   },
   {
    "duration": 280,
    "start_time": "2023-05-20T13:30:13.431Z"
   },
   {
    "duration": 4,
    "start_time": "2023-05-20T13:30:13.713Z"
   },
   {
    "duration": 216,
    "start_time": "2023-05-20T13:30:13.719Z"
   },
   {
    "duration": 249,
    "start_time": "2023-05-20T13:30:13.936Z"
   },
   {
    "duration": 290,
    "start_time": "2023-05-20T13:30:14.187Z"
   },
   {
    "duration": 231,
    "start_time": "2023-05-20T13:30:14.479Z"
   },
   {
    "duration": 362,
    "start_time": "2023-05-20T13:30:14.712Z"
   },
   {
    "duration": 161,
    "start_time": "2023-05-20T13:30:15.076Z"
   },
   {
    "duration": 230,
    "start_time": "2023-05-20T13:30:15.239Z"
   },
   {
    "duration": 5,
    "start_time": "2023-05-20T13:30:15.471Z"
   },
   {
    "duration": 154,
    "start_time": "2023-05-20T13:30:15.479Z"
   },
   {
    "duration": 161,
    "start_time": "2023-05-20T13:30:15.635Z"
   },
   {
    "duration": 5,
    "start_time": "2023-05-20T13:30:15.798Z"
   },
   {
    "duration": 355,
    "start_time": "2023-05-20T13:30:15.804Z"
   },
   {
    "duration": 24,
    "start_time": "2023-05-20T13:30:16.161Z"
   },
   {
    "duration": 11,
    "start_time": "2023-05-20T13:30:16.187Z"
   },
   {
    "duration": 4,
    "start_time": "2023-05-20T13:30:16.200Z"
   },
   {
    "duration": 46,
    "start_time": "2023-05-20T13:30:16.206Z"
   },
   {
    "duration": 20,
    "start_time": "2023-05-20T13:30:16.254Z"
   },
   {
    "duration": 13,
    "start_time": "2023-05-20T13:30:16.276Z"
   },
   {
    "duration": 2449,
    "start_time": "2023-05-20T17:54:58.097Z"
   },
   {
    "duration": 74,
    "start_time": "2023-05-20T17:55:00.548Z"
   },
   {
    "duration": 19,
    "start_time": "2023-05-20T17:55:00.624Z"
   },
   {
    "duration": 83,
    "start_time": "2023-05-20T17:55:00.645Z"
   },
   {
    "duration": 72,
    "start_time": "2023-05-20T17:55:00.730Z"
   },
   {
    "duration": 229,
    "start_time": "2023-05-20T17:55:00.804Z"
   },
   {
    "duration": 14,
    "start_time": "2023-05-20T17:55:01.035Z"
   },
   {
    "duration": 111,
    "start_time": "2023-05-20T17:55:01.051Z"
   },
   {
    "duration": 91,
    "start_time": "2023-05-20T17:55:01.164Z"
   },
   {
    "duration": 118,
    "start_time": "2023-05-20T17:55:01.259Z"
   },
   {
    "duration": 95,
    "start_time": "2023-05-20T17:55:01.382Z"
   },
   {
    "duration": 78,
    "start_time": "2023-05-20T17:55:01.479Z"
   },
   {
    "duration": 66,
    "start_time": "2023-05-20T17:55:01.559Z"
   },
   {
    "duration": 239,
    "start_time": "2023-05-20T17:55:01.627Z"
   },
   {
    "duration": 8,
    "start_time": "2023-05-20T17:55:01.869Z"
   },
   {
    "duration": 601,
    "start_time": "2023-05-20T17:55:01.880Z"
   },
   {
    "duration": 8,
    "start_time": "2023-05-20T17:55:02.483Z"
   },
   {
    "duration": 389,
    "start_time": "2023-05-20T17:55:02.493Z"
   },
   {
    "duration": 5,
    "start_time": "2023-05-20T17:55:02.885Z"
   },
   {
    "duration": 257,
    "start_time": "2023-05-20T17:55:02.893Z"
   },
   {
    "duration": 258,
    "start_time": "2023-05-20T17:55:03.153Z"
   },
   {
    "duration": 380,
    "start_time": "2023-05-20T17:55:03.413Z"
   },
   {
    "duration": 297,
    "start_time": "2023-05-20T17:55:03.795Z"
   },
   {
    "duration": 363,
    "start_time": "2023-05-20T17:55:04.094Z"
   },
   {
    "duration": 199,
    "start_time": "2023-05-20T17:55:04.460Z"
   },
   {
    "duration": 293,
    "start_time": "2023-05-20T17:55:04.661Z"
   },
   {
    "duration": 15,
    "start_time": "2023-05-20T17:55:04.956Z"
   },
   {
    "duration": 21,
    "start_time": "2023-05-20T17:55:14.477Z"
   },
   {
    "duration": 54,
    "start_time": "2023-05-20T17:57:25.814Z"
   },
   {
    "duration": 12,
    "start_time": "2023-05-20T17:57:51.999Z"
   },
   {
    "duration": 11,
    "start_time": "2023-05-20T17:58:34.620Z"
   },
   {
    "duration": 12,
    "start_time": "2023-05-20T17:58:41.921Z"
   },
   {
    "duration": 13,
    "start_time": "2023-05-20T17:58:52.009Z"
   },
   {
    "duration": 183,
    "start_time": "2023-05-20T17:59:38.416Z"
   },
   {
    "duration": 156,
    "start_time": "2023-05-20T18:00:02.801Z"
   },
   {
    "duration": 5,
    "start_time": "2023-05-20T18:00:50.705Z"
   },
   {
    "duration": 5,
    "start_time": "2023-05-20T18:03:26.442Z"
   },
   {
    "duration": 5,
    "start_time": "2023-05-20T18:03:37.824Z"
   },
   {
    "duration": 62,
    "start_time": "2023-05-20T18:03:37.832Z"
   },
   {
    "duration": 11,
    "start_time": "2023-05-20T18:03:37.897Z"
   },
   {
    "duration": 15,
    "start_time": "2023-05-20T18:03:37.911Z"
   },
   {
    "duration": 11,
    "start_time": "2023-05-20T18:03:37.928Z"
   },
   {
    "duration": 77,
    "start_time": "2023-05-20T18:03:37.942Z"
   },
   {
    "duration": 12,
    "start_time": "2023-05-20T18:03:38.021Z"
   },
   {
    "duration": 19,
    "start_time": "2023-05-20T18:03:38.036Z"
   },
   {
    "duration": 39,
    "start_time": "2023-05-20T18:03:38.057Z"
   },
   {
    "duration": 16,
    "start_time": "2023-05-20T18:03:38.098Z"
   },
   {
    "duration": 12,
    "start_time": "2023-05-20T18:03:38.117Z"
   },
   {
    "duration": 12,
    "start_time": "2023-05-20T18:03:38.130Z"
   },
   {
    "duration": 14,
    "start_time": "2023-05-20T18:03:38.146Z"
   },
   {
    "duration": 43,
    "start_time": "2023-05-20T18:03:38.162Z"
   },
   {
    "duration": 8,
    "start_time": "2023-05-20T18:03:38.207Z"
   },
   {
    "duration": 273,
    "start_time": "2023-05-20T18:03:38.217Z"
   },
   {
    "duration": 7,
    "start_time": "2023-05-20T18:03:38.494Z"
   },
   {
    "duration": 317,
    "start_time": "2023-05-20T18:03:38.504Z"
   },
   {
    "duration": 5,
    "start_time": "2023-05-20T18:03:38.823Z"
   },
   {
    "duration": 306,
    "start_time": "2023-05-20T18:03:38.830Z"
   },
   {
    "duration": 254,
    "start_time": "2023-05-20T18:03:39.138Z"
   },
   {
    "duration": 352,
    "start_time": "2023-05-20T18:03:39.394Z"
   },
   {
    "duration": 261,
    "start_time": "2023-05-20T18:03:39.748Z"
   },
   {
    "duration": 335,
    "start_time": "2023-05-20T18:03:40.011Z"
   },
   {
    "duration": 177,
    "start_time": "2023-05-20T18:03:40.347Z"
   },
   {
    "duration": 178,
    "start_time": "2023-05-20T18:03:40.525Z"
   },
   {
    "duration": 4,
    "start_time": "2023-05-20T18:03:40.705Z"
   },
   {
    "duration": 33,
    "start_time": "2023-05-20T18:03:40.711Z"
   },
   {
    "duration": 270,
    "start_time": "2023-05-20T18:03:40.746Z"
   },
   {
    "duration": 192,
    "start_time": "2023-05-20T18:03:41.018Z"
   },
   {
    "duration": 5,
    "start_time": "2023-05-20T18:03:41.212Z"
   },
   {
    "duration": 395,
    "start_time": "2023-05-20T18:03:41.218Z"
   },
   {
    "duration": 28,
    "start_time": "2023-05-20T18:03:41.615Z"
   },
   {
    "duration": 38,
    "start_time": "2023-05-20T18:03:41.645Z"
   },
   {
    "duration": 6,
    "start_time": "2023-05-20T18:03:41.686Z"
   },
   {
    "duration": 31,
    "start_time": "2023-05-20T18:03:41.693Z"
   },
   {
    "duration": 25,
    "start_time": "2023-05-20T18:03:41.729Z"
   },
   {
    "duration": 32,
    "start_time": "2023-05-20T18:03:41.756Z"
   },
   {
    "duration": 13,
    "start_time": "2023-05-20T18:05:38.425Z"
   },
   {
    "duration": 182,
    "start_time": "2023-05-20T18:05:44.468Z"
   },
   {
    "duration": 6,
    "start_time": "2023-05-20T18:06:07.857Z"
   },
   {
    "duration": 6,
    "start_time": "2023-05-20T18:06:28.529Z"
   },
   {
    "duration": 4,
    "start_time": "2023-05-20T18:06:33.216Z"
   },
   {
    "duration": 91,
    "start_time": "2023-05-20T18:07:33.586Z"
   },
   {
    "duration": 1346,
    "start_time": "2023-05-20T18:07:52.957Z"
   },
   {
    "duration": 30,
    "start_time": "2023-05-20T18:07:54.305Z"
   },
   {
    "duration": 16,
    "start_time": "2023-05-20T18:07:54.337Z"
   },
   {
    "duration": 22,
    "start_time": "2023-05-20T18:07:54.355Z"
   },
   {
    "duration": 14,
    "start_time": "2023-05-20T18:07:54.385Z"
   },
   {
    "duration": 62,
    "start_time": "2023-05-20T18:07:54.402Z"
   },
   {
    "duration": 18,
    "start_time": "2023-05-20T18:07:54.467Z"
   },
   {
    "duration": 31,
    "start_time": "2023-05-20T18:07:54.492Z"
   },
   {
    "duration": 24,
    "start_time": "2023-05-20T18:07:54.525Z"
   },
   {
    "duration": 28,
    "start_time": "2023-05-20T18:07:54.551Z"
   },
   {
    "duration": 27,
    "start_time": "2023-05-20T18:07:54.581Z"
   },
   {
    "duration": 14,
    "start_time": "2023-05-20T18:07:54.610Z"
   },
   {
    "duration": 18,
    "start_time": "2023-05-20T18:07:54.627Z"
   },
   {
    "duration": 164,
    "start_time": "2023-05-20T18:07:54.650Z"
   },
   {
    "duration": 9,
    "start_time": "2023-05-20T18:07:54.817Z"
   },
   {
    "duration": 432,
    "start_time": "2023-05-20T18:07:54.829Z"
   },
   {
    "duration": 14,
    "start_time": "2023-05-20T18:07:55.264Z"
   },
   {
    "duration": 355,
    "start_time": "2023-05-20T18:07:55.280Z"
   },
   {
    "duration": 6,
    "start_time": "2023-05-20T18:07:55.637Z"
   },
   {
    "duration": 252,
    "start_time": "2023-05-20T18:07:55.645Z"
   },
   {
    "duration": 312,
    "start_time": "2023-05-20T18:07:55.900Z"
   },
   {
    "duration": 341,
    "start_time": "2023-05-20T18:07:56.215Z"
   },
   {
    "duration": 267,
    "start_time": "2023-05-20T18:07:56.558Z"
   },
   {
    "duration": 404,
    "start_time": "2023-05-20T18:07:56.827Z"
   },
   {
    "duration": 186,
    "start_time": "2023-05-20T18:07:57.233Z"
   },
   {
    "duration": 277,
    "start_time": "2023-05-20T18:07:57.421Z"
   },
   {
    "duration": 6,
    "start_time": "2023-05-20T18:07:57.700Z"
   },
   {
    "duration": 28,
    "start_time": "2023-05-20T18:07:57.708Z"
   },
   {
    "duration": 180,
    "start_time": "2023-05-20T18:07:57.738Z"
   },
   {
    "duration": 191,
    "start_time": "2023-05-20T18:07:57.920Z"
   },
   {
    "duration": 4,
    "start_time": "2023-05-20T18:07:58.114Z"
   },
   {
    "duration": 431,
    "start_time": "2023-05-20T18:07:58.120Z"
   },
   {
    "duration": 39,
    "start_time": "2023-05-20T18:07:58.553Z"
   },
   {
    "duration": 13,
    "start_time": "2023-05-20T18:07:58.594Z"
   },
   {
    "duration": 16,
    "start_time": "2023-05-20T18:07:58.609Z"
   },
   {
    "duration": 31,
    "start_time": "2023-05-20T18:07:58.627Z"
   },
   {
    "duration": 42,
    "start_time": "2023-05-20T18:07:58.661Z"
   },
   {
    "duration": 40,
    "start_time": "2023-05-20T18:07:58.705Z"
   },
   {
    "duration": 1249,
    "start_time": "2023-05-21T06:21:43.350Z"
   },
   {
    "duration": 61,
    "start_time": "2023-05-21T06:21:44.601Z"
   },
   {
    "duration": 14,
    "start_time": "2023-05-21T06:21:44.664Z"
   },
   {
    "duration": 11,
    "start_time": "2023-05-21T06:21:44.680Z"
   },
   {
    "duration": 7,
    "start_time": "2023-05-21T06:21:44.694Z"
   },
   {
    "duration": 132,
    "start_time": "2023-05-21T06:21:44.702Z"
   },
   {
    "duration": 10,
    "start_time": "2023-05-21T06:21:44.835Z"
   },
   {
    "duration": 10,
    "start_time": "2023-05-21T06:21:44.846Z"
   },
   {
    "duration": 13,
    "start_time": "2023-05-21T06:21:44.858Z"
   },
   {
    "duration": 6,
    "start_time": "2023-05-21T06:21:44.873Z"
   },
   {
    "duration": 9,
    "start_time": "2023-05-21T06:21:44.881Z"
   },
   {
    "duration": 7,
    "start_time": "2023-05-21T06:21:44.891Z"
   },
   {
    "duration": 21,
    "start_time": "2023-05-21T06:21:44.900Z"
   },
   {
    "duration": 121,
    "start_time": "2023-05-21T06:21:44.923Z"
   },
   {
    "duration": 6,
    "start_time": "2023-05-21T06:21:45.046Z"
   },
   {
    "duration": 323,
    "start_time": "2023-05-21T06:21:45.054Z"
   },
   {
    "duration": 5,
    "start_time": "2023-05-21T06:21:45.379Z"
   },
   {
    "duration": 256,
    "start_time": "2023-05-21T06:21:45.386Z"
   },
   {
    "duration": 4,
    "start_time": "2023-05-21T06:21:45.643Z"
   },
   {
    "duration": 191,
    "start_time": "2023-05-21T06:21:45.649Z"
   },
   {
    "duration": 197,
    "start_time": "2023-05-21T06:21:45.842Z"
   },
   {
    "duration": 310,
    "start_time": "2023-05-21T06:21:46.040Z"
   },
   {
    "duration": 204,
    "start_time": "2023-05-21T06:21:46.352Z"
   },
   {
    "duration": 275,
    "start_time": "2023-05-21T06:21:46.557Z"
   },
   {
    "duration": 142,
    "start_time": "2023-05-21T06:21:46.834Z"
   },
   {
    "duration": 192,
    "start_time": "2023-05-21T06:21:46.977Z"
   },
   {
    "duration": 4,
    "start_time": "2023-05-21T06:21:47.171Z"
   },
   {
    "duration": 11,
    "start_time": "2023-05-21T06:21:47.176Z"
   },
   {
    "duration": 130,
    "start_time": "2023-05-21T06:21:47.189Z"
   },
   {
    "duration": 136,
    "start_time": "2023-05-21T06:21:47.320Z"
   },
   {
    "duration": 3,
    "start_time": "2023-05-21T06:21:47.458Z"
   },
   {
    "duration": 329,
    "start_time": "2023-05-21T06:21:47.463Z"
   },
   {
    "duration": 26,
    "start_time": "2023-05-21T06:21:47.793Z"
   },
   {
    "duration": 9,
    "start_time": "2023-05-21T06:21:47.821Z"
   },
   {
    "duration": 4,
    "start_time": "2023-05-21T06:21:47.831Z"
   },
   {
    "duration": 24,
    "start_time": "2023-05-21T06:21:47.837Z"
   },
   {
    "duration": 21,
    "start_time": "2023-05-21T06:21:47.863Z"
   },
   {
    "duration": 13,
    "start_time": "2023-05-21T06:21:47.885Z"
   }
  ],
  "kernelspec": {
   "display_name": "Python 3 (ipykernel)",
   "language": "python",
   "name": "python3"
  },
  "language_info": {
   "codemirror_mode": {
    "name": "ipython",
    "version": 3
   },
   "file_extension": ".py",
   "mimetype": "text/x-python",
   "name": "python",
   "nbconvert_exporter": "python",
   "pygments_lexer": "ipython3",
   "version": "3.9.15"
  },
  "nbTranslate": {
   "displayLangs": [],
   "hotkey": "alt-t",
   "langInMainMenu": true,
   "sourceLang": "ru",
   "targetLang": "en",
   "useGoogleTranslate": true
  },
  "toc": {
   "base_numbering": 1,
   "nav_menu": {},
   "number_sections": true,
   "sideBar": true,
   "skip_h1_title": true,
   "title_cell": "Table of Contents",
   "title_sidebar": "Contents",
   "toc_cell": false,
   "toc_position": {},
   "toc_section_display": true,
   "toc_window_display": false
  }
 },
 "nbformat": 4,
 "nbformat_minor": 2
}
