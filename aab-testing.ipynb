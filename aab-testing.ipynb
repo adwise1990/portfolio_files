{
 "cells": [
  {
   "attachments": {},
   "cell_type": "markdown",
   "metadata": {
    "lang": "en"
   },
   "source": [
    "# Analysis of sales funnel data and A/A/B test results"
   ]
  },
  {
   "attachments": {},
   "cell_type": "markdown",
   "metadata": {
    "lang": "en"
   },
   "source": [
    "# Description of the project\n",
    "\n",
    "As part of the project, it is planned to analyze the data of the online store for individual events for a certain period of time.\n",
    "\n",
    "Project goals:\n",
    "- analyze the sales funnel. Find out how users reach the purchase and how many users get stuck at each stage\n",
    "- analyze the results of the A/A/B test. Let's test the hypothesis that changing fonts does not affect the store's sales funnel."
   ]
  },
  {
   "attachments": {},
   "cell_type": "markdown",
   "metadata": {
    "lang": "en"
   },
   "source": [
    "# Description of data\n",
    "\n",
    "During the project, we will analyze data from the application log.\n",
    "Each entry in the log is a user action, or event.\n",
    "- EventName — event name;\n",
    "- DeviceIDHash — unique user identifier;\n",
    "- EventTimestamp — event time;\n",
    "- ExpId is the number of the experiment: 246 and 247 are the control groups, and 248 is the experimental group"
   ]
  },
  {
   "attachments": {},
   "cell_type": "markdown",
   "metadata": {
    "lang": "en"
   },
   "source": [
    "## Data preprocessing"
   ]
  },
  {
   "cell_type": "code",
   "execution_count": 1,
   "metadata": {
    "lang": "ru"
   },
   "outputs": [],
   "source": [
    "#import libraries\n",
    "import pandas as pd\n",
    "import datetime as dt\n",
    "import matplotlib.pyplot as plt \n",
    "import numpy as np\n",
    "import math as mth\n",
    "from datetime import datetime\n",
    "from plotly import graph_objects as go\n",
    "from scipy import stats as st"
   ]
  },
  {
   "cell_type": "code",
   "execution_count": 2,
   "metadata": {},
   "outputs": [],
   "source": [
    "#load dataset\n",
    "data = pd.read_csv('./datasets/logs_exp.csv', sep='\\t')"
   ]
  },
  {
   "cell_type": "code",
   "execution_count": 3,
   "metadata": {},
   "outputs": [
    {
     "data": {
      "text/html": [
       "<div>\n",
       "<style scoped>\n",
       "    .dataframe tbody tr th:only-of-type {\n",
       "        vertical-align: middle;\n",
       "    }\n",
       "\n",
       "    .dataframe tbody tr th {\n",
       "        vertical-align: top;\n",
       "    }\n",
       "\n",
       "    .dataframe thead th {\n",
       "        text-align: right;\n",
       "    }\n",
       "</style>\n",
       "<table border=\"1\" class=\"dataframe\">\n",
       "  <thead>\n",
       "    <tr style=\"text-align: right;\">\n",
       "      <th></th>\n",
       "      <th>EventName</th>\n",
       "      <th>DeviceIDHash</th>\n",
       "      <th>EventTimestamp</th>\n",
       "      <th>ExpId</th>\n",
       "    </tr>\n",
       "  </thead>\n",
       "  <tbody>\n",
       "    <tr>\n",
       "      <th>0</th>\n",
       "      <td>MainScreenAppear</td>\n",
       "      <td>4575588528974610257</td>\n",
       "      <td>1564029816</td>\n",
       "      <td>246</td>\n",
       "    </tr>\n",
       "    <tr>\n",
       "      <th>1</th>\n",
       "      <td>MainScreenAppear</td>\n",
       "      <td>7416695313311560658</td>\n",
       "      <td>1564053102</td>\n",
       "      <td>246</td>\n",
       "    </tr>\n",
       "    <tr>\n",
       "      <th>2</th>\n",
       "      <td>PaymentScreenSuccessful</td>\n",
       "      <td>3518123091307005509</td>\n",
       "      <td>1564054127</td>\n",
       "      <td>248</td>\n",
       "    </tr>\n",
       "    <tr>\n",
       "      <th>3</th>\n",
       "      <td>CartScreenAppear</td>\n",
       "      <td>3518123091307005509</td>\n",
       "      <td>1564054127</td>\n",
       "      <td>248</td>\n",
       "    </tr>\n",
       "    <tr>\n",
       "      <th>4</th>\n",
       "      <td>PaymentScreenSuccessful</td>\n",
       "      <td>6217807653094995999</td>\n",
       "      <td>1564055322</td>\n",
       "      <td>248</td>\n",
       "    </tr>\n",
       "  </tbody>\n",
       "</table>\n",
       "</div>"
      ],
      "text/plain": [
       "                 EventName         DeviceIDHash  EventTimestamp  ExpId\n",
       "0         MainScreenAppear  4575588528974610257      1564029816    246\n",
       "1         MainScreenAppear  7416695313311560658      1564053102    246\n",
       "2  PaymentScreenSuccessful  3518123091307005509      1564054127    248\n",
       "3         CartScreenAppear  3518123091307005509      1564054127    248\n",
       "4  PaymentScreenSuccessful  6217807653094995999      1564055322    248"
      ]
     },
     "execution_count": 3,
     "metadata": {},
     "output_type": "execute_result"
    }
   ],
   "source": [
    "#check dataset\n",
    "data.head()"
   ]
  },
  {
   "cell_type": "code",
   "execution_count": 4,
   "metadata": {},
   "outputs": [
    {
     "name": "stdout",
     "output_type": "stream",
     "text": [
      "<class 'pandas.core.frame.DataFrame'>\n",
      "RangeIndex: 244126 entries, 0 to 244125\n",
      "Data columns (total 4 columns):\n",
      " #   Column          Non-Null Count   Dtype \n",
      "---  ------          --------------   ----- \n",
      " 0   EventName       244126 non-null  object\n",
      " 1   DeviceIDHash    244126 non-null  int64 \n",
      " 2   EventTimestamp  244126 non-null  int64 \n",
      " 3   ExpId           244126 non-null  int64 \n",
      "dtypes: int64(3), object(1)\n",
      "memory usage: 7.5+ MB\n"
     ]
    }
   ],
   "source": [
    "#check data for missing values and data types\n",
    "data.info()"
   ]
  },
  {
   "attachments": {},
   "cell_type": "markdown",
   "metadata": {
    "lang": "en"
   },
   "source": [
    "There are no gaps in the data. Additionally, it is necessary to check the data for complete duplicates, as well as change the data type (and convert the data to a meaningful date) in the timestamp column."
   ]
  },
  {
   "cell_type": "code",
   "execution_count": 5,
   "metadata": {},
   "outputs": [
    {
     "name": "stdout",
     "output_type": "stream",
     "text": [
      "413\n"
     ]
    }
   ],
   "source": [
    "#checking for full duplicates\n",
    "print(data.duplicated().sum())"
   ]
  },
  {
   "cell_type": "code",
   "execution_count": 6,
   "metadata": {},
   "outputs": [],
   "source": [
    "#remove full duplicates\n",
    "data = data.drop_duplicates().reset_index(drop=True)"
   ]
  },
  {
   "cell_type": "code",
   "execution_count": 7,
   "metadata": {},
   "outputs": [],
   "source": [
    "#rename columns\n",
    "data.columns = ['event_name', 'device_id', 'event_ts', 'group_id']"
   ]
  },
  {
   "cell_type": "code",
   "execution_count": 8,
   "metadata": {},
   "outputs": [],
   "source": [
    "#adding data columns\n",
    "data['event_dt'] = data['event_ts'].map(\n",
    "    lambda x: datetime.fromtimestamp(x)\n",
    ")\n",
    "\n",
    "data['event_date'] = data['event_ts'].map(\n",
    "    lambda x: datetime.fromtimestamp(x).strftime('%Y-%m-%d')\n",
    ")"
   ]
  },
  {
   "cell_type": "code",
   "execution_count": 9,
   "metadata": {},
   "outputs": [
    {
     "data": {
      "text/html": [
       "<div>\n",
       "<style scoped>\n",
       "    .dataframe tbody tr th:only-of-type {\n",
       "        vertical-align: middle;\n",
       "    }\n",
       "\n",
       "    .dataframe tbody tr th {\n",
       "        vertical-align: top;\n",
       "    }\n",
       "\n",
       "    .dataframe thead th {\n",
       "        text-align: right;\n",
       "    }\n",
       "</style>\n",
       "<table border=\"1\" class=\"dataframe\">\n",
       "  <thead>\n",
       "    <tr style=\"text-align: right;\">\n",
       "      <th></th>\n",
       "      <th>event_name</th>\n",
       "      <th>device_id</th>\n",
       "      <th>event_ts</th>\n",
       "      <th>group_id</th>\n",
       "      <th>event_dt</th>\n",
       "      <th>event_date</th>\n",
       "    </tr>\n",
       "  </thead>\n",
       "  <tbody>\n",
       "    <tr>\n",
       "      <th>0</th>\n",
       "      <td>MainScreenAppear</td>\n",
       "      <td>4575588528974610257</td>\n",
       "      <td>1564029816</td>\n",
       "      <td>246</td>\n",
       "      <td>2019-07-25 07:43:36</td>\n",
       "      <td>2019-07-25</td>\n",
       "    </tr>\n",
       "    <tr>\n",
       "      <th>1</th>\n",
       "      <td>MainScreenAppear</td>\n",
       "      <td>7416695313311560658</td>\n",
       "      <td>1564053102</td>\n",
       "      <td>246</td>\n",
       "      <td>2019-07-25 14:11:42</td>\n",
       "      <td>2019-07-25</td>\n",
       "    </tr>\n",
       "    <tr>\n",
       "      <th>2</th>\n",
       "      <td>PaymentScreenSuccessful</td>\n",
       "      <td>3518123091307005509</td>\n",
       "      <td>1564054127</td>\n",
       "      <td>248</td>\n",
       "      <td>2019-07-25 14:28:47</td>\n",
       "      <td>2019-07-25</td>\n",
       "    </tr>\n",
       "    <tr>\n",
       "      <th>3</th>\n",
       "      <td>CartScreenAppear</td>\n",
       "      <td>3518123091307005509</td>\n",
       "      <td>1564054127</td>\n",
       "      <td>248</td>\n",
       "      <td>2019-07-25 14:28:47</td>\n",
       "      <td>2019-07-25</td>\n",
       "    </tr>\n",
       "    <tr>\n",
       "      <th>4</th>\n",
       "      <td>PaymentScreenSuccessful</td>\n",
       "      <td>6217807653094995999</td>\n",
       "      <td>1564055322</td>\n",
       "      <td>248</td>\n",
       "      <td>2019-07-25 14:48:42</td>\n",
       "      <td>2019-07-25</td>\n",
       "    </tr>\n",
       "  </tbody>\n",
       "</table>\n",
       "</div>"
      ],
      "text/plain": [
       "                event_name            device_id    event_ts  group_id  \\\n",
       "0         MainScreenAppear  4575588528974610257  1564029816       246   \n",
       "1         MainScreenAppear  7416695313311560658  1564053102       246   \n",
       "2  PaymentScreenSuccessful  3518123091307005509  1564054127       248   \n",
       "3         CartScreenAppear  3518123091307005509  1564054127       248   \n",
       "4  PaymentScreenSuccessful  6217807653094995999  1564055322       248   \n",
       "\n",
       "             event_dt  event_date  \n",
       "0 2019-07-25 07:43:36  2019-07-25  \n",
       "1 2019-07-25 14:11:42  2019-07-25  \n",
       "2 2019-07-25 14:28:47  2019-07-25  \n",
       "3 2019-07-25 14:28:47  2019-07-25  \n",
       "4 2019-07-25 14:48:42  2019-07-25  "
      ]
     },
     "execution_count": 9,
     "metadata": {},
     "output_type": "execute_result"
    }
   ],
   "source": [
    "#check dataset transformations\n",
    "data.head()"
   ]
  },
  {
   "attachments": {},
   "cell_type": "markdown",
   "metadata": {
    "lang": "en"
   },
   "source": [
    "**Conclusions:**\n",
    "\n",
    "As part of the data preprocessing, we prepared the data for further verification and analysis:\n",
    "\n",
    "- checked the data for gaps and they were not found\n",
    "- checked the data for complete duplicates and deleted 413 such lines\n",
    "- replaced the column names with convenient ones\n",
    "- added a column with date and time data\n",
    "- added a separate column with the date for further analysis by day"
   ]
  },
  {
   "attachments": {},
   "cell_type": "markdown",
   "metadata": {
    "lang": "en"
   },
   "source": [
    "## Preliminary data analysis"
   ]
  },
  {
   "attachments": {},
   "cell_type": "markdown",
   "metadata": {
    "lang": "en"
   },
   "source": [
    "After preprocessing the data, we will conduct a preliminary analysis and check the data."
   ]
  },
  {
   "cell_type": "code",
   "execution_count": 10,
   "metadata": {},
   "outputs": [
    {
     "name": "stdout",
     "output_type": "stream",
     "text": [
      "Number of events in dataset: 243713\n",
      "Number of unique events: 5\n",
      "Number of users: 7551\n",
      "Average events per user: 32.28\n"
     ]
    }
   ],
   "source": [
    "#посчитаем сколько всего событий в логе сейчас в данных\n",
    "print('Number of events in dataset:', len(data['event_name']))\n",
    "\n",
    "#посчитаем количество уникальных событий в логе сейчас в данных\n",
    "print('Number of unique events:', data['event_name'].nunique())\n",
    "\n",
    "#посчитаем сколько всего пользователей в логе сейчас в данных\n",
    "print('Number of users:', data['device_id'].nunique())\n",
    "\n",
    "event_cnt = data.groupby('device_id').agg({'event_name': 'count'})\n",
    "print('Average events per user:', \"{0:.2f}\".format(event_cnt['event_name'].mean()))"
   ]
  },
  {
   "cell_type": "code",
   "execution_count": 11,
   "metadata": {},
   "outputs": [
    {
     "name": "stdout",
     "output_type": "stream",
     "text": [
      "Min date: 2019-07-25 07:43:36\n",
      "Max date: 2019-08-08 00:15:17\n"
     ]
    }
   ],
   "source": [
    "#рассчитаем максимальную и минимальную даты в данных\n",
    "print('Min date:', data['event_dt'].min())\n",
    "print('Max date:', data['event_dt'].max())"
   ]
  },
  {
   "cell_type": "code",
   "execution_count": 12,
   "metadata": {
    "scrolled": false
   },
   "outputs": [
    {
     "data": {
      "image/png": "[encoded data removed]",
      "text/plain": [
       "<Figure size 1600x500 with 1 Axes>"
      ]
     },
     "metadata": {},
     "output_type": "display_data"
    }
   ],
   "source": [
    "#draw a plot to show number of events per date\n",
    "plt.figure(figsize=(16,5))\n",
    "plt.hist(data['event_dt'], bins=100)\n",
    "plt.title('Number of events per day')\n",
    "plt.xlabel(\"Number of events\")\n",
    "plt.ylabel(\"Date\")\n",
    "plt.xticks(rotation=45)\n",
    "plt.show()"
   ]
  },
  {
   "attachments": {},
   "cell_type": "markdown",
   "metadata": {
    "lang": "en"
   },
   "source": [
    "The graph shows how from August 1 and onward, every day we have a sharp increase in the number of events during the day and decrease by the end of the day. The picture for the second week for each day is very similar. There is practically no data for the first week compared to the second."
   ]
  },
  {
   "cell_type": "code",
   "execution_count": 13,
   "metadata": {
    "scrolled": false
   },
   "outputs": [
    {
     "name": "stdout",
     "output_type": "stream",
     "text": [
      "            event_name  device_id\n",
      "event_date                       \n",
      "2019-07-25           9          7\n",
      "2019-07-26          30         21\n",
      "2019-07-27          55         39\n",
      "2019-07-28         104         68\n",
      "2019-07-29         181        132\n",
      "2019-07-30         397        283\n",
      "2019-07-31        1213        798\n",
      "2019-08-01       35767       3688\n",
      "2019-08-02       35571       3641\n",
      "2019-08-03       33602       3472\n",
      "2019-08-04       32583       3511\n",
      "2019-08-05       36075       3803\n",
      "2019-08-06       36270       3933\n",
      "2019-08-07       31788       3682\n",
      "2019-08-08          68         23\n"
     ]
    }
   ],
   "source": [
    "#build a table by the number of events and the number of unique users by date\n",
    "print(data.groupby('event_date').agg({'event_name': 'count', 'device_id': 'nunique'}))"
   ]
  },
  {
   "attachments": {},
   "cell_type": "markdown",
   "metadata": {
    "lang": "en"
   },
   "source": [
    "It is obvious that the data in the logs is not equally complete for two weeks. In the first week, there is much less data and data on events and users can distort the analysis. Therefore, for further analysis, it would be correct to discard older data and leave only all events since August 1st.\n",
    "In total, we will have data for one week instead of two."
   ]
  },
  {
   "cell_type": "code",
   "execution_count": 14,
   "metadata": {},
   "outputs": [],
   "source": [
    "#collect data without old dates into a new dataframe\n",
    "df = data.query('event_date >= \"2019-08-01\"')"
   ]
  },
  {
   "cell_type": "code",
   "execution_count": 15,
   "metadata": {},
   "outputs": [
    {
     "name": "stdout",
     "output_type": "stream",
     "text": [
      "Number of deleted events in data: 1989\n",
      "Number of unique users removed: 13\n",
      "Share of deleted events: 0.82 %\n",
      "Percentage of deleted users: 0.17 %\n"
     ]
    }
   ],
   "source": [
    "#count how many events and users we lost by discarding the old data\n",
    "print('Number of deleted events in data:', len(data['event_name']) - len(df['event_name']))\n",
    "print('Number of unique users removed:', data['device_id'].nunique() - df['device_id'].nunique())\n",
    "\n",
    "print('Share of deleted events:', \"{0:.2f}\".format((1 - (len(df['event_name']) / len(data['event_name'])))*100),'%')\n",
    "print('Percentage of deleted users:', \"{0:.2f}\".format((1 - (df['device_id'].nunique() / data['device_id'].nunique()))*100),'%')"
   ]
  },
  {
   "cell_type": "code",
   "execution_count": 16,
   "metadata": {},
   "outputs": [
    {
     "name": "stdout",
     "output_type": "stream",
     "text": [
      "          event_name  device_id\n",
      "group_id                       \n",
      "246            79556       2484\n",
      "247            77293       2517\n",
      "248            84875       2537\n"
     ]
    }
   ],
   "source": [
    "#check that the data contains users from all three experimental groups\n",
    "print(df.groupby('group_id').agg({'event_name': 'count', 'device_id': 'nunique'}))"
   ]
  },
  {
   "attachments": {},
   "cell_type": "markdown",
   "metadata": {
    "lang": "en"
   },
   "source": [
    "Preliminarily, there are events and unique users in the data in all three groups of the A / A / B test, and at first glance they are distributed more or less evenly."
   ]
  },
  {
   "cell_type": "code",
   "execution_count": 17,
   "metadata": {},
   "outputs": [
    {
     "data": {
      "text/plain": [
       "group_id    0\n",
       "dtype: int64"
      ]
     },
     "execution_count": 17,
     "metadata": {},
     "output_type": "execute_result"
    }
   ],
   "source": [
    "#check that each user belongs to only one group (no users with number of groups > 1)\n",
    "\n",
    "double_group = df.groupby('device_id').agg({'group_id': 'nunique'}).query('group_id > 1').count()\n",
    "double_group"
   ]
  },
  {
   "attachments": {},
   "cell_type": "markdown",
   "metadata": {
    "lang": "en"
   },
   "source": [
    "**Conclusions:**\n",
    "\n",
    "1. In the original dataset there was incomplete data for the first week, which we removed so that they do not distort the results, both in the analysis of the funnel and in the analysis of the results of the A / A / B test. By discarding this data, we lost only 1.2% of events and 0.2% of users.\n",
    "2. At first glance, there are events and unique users in the data in all three groups of the A/A/B test, and they are distributed relatively evenly."
   ]
  },
  {
   "attachments": {},
   "cell_type": "markdown",
   "metadata": {
    "lang": "en"
   },
   "source": [
    "## Event funnel analysis"
   ]
  },
  {
   "attachments": {},
   "cell_type": "markdown",
   "metadata": {
    "lang": "en"
   },
   "source": [
    "After a preliminary analysis, we will analyze the sales funnel in more detail. To do this, let's see what events are in the log, how often they occur."
   ]
  },
  {
   "cell_type": "code",
   "execution_count": 18,
   "metadata": {},
   "outputs": [
    {
     "name": "stdout",
     "output_type": "stream",
     "text": [
      "                         device_id\n",
      "event_name                        \n",
      "MainScreenAppear            117889\n",
      "OffersScreenAppear           46531\n",
      "CartScreenAppear             42343\n",
      "PaymentScreenSuccessful      33951\n",
      "Tutorial                      1010\n"
     ]
    }
   ],
   "source": [
    "print(df.groupby('event_name').agg({'device_id': 'count'}).sort_values(by='device_id', ascending=False))"
   ]
  },
  {
   "attachments": {},
   "cell_type": "markdown",
   "metadata": {
    "lang": "en"
   },
   "source": [
    "Assume based on the names and frequency that:\n",
    "- MainScreenAppear - the appearance of the main screen of the store (most likely, all users should have such an event)\n",
    "- OffersScreenAppear - the appearance of a screen with an offer (probably a separate page with promotions and offers)\n",
    "- CartScreenAppear - transition to the screen with a basket\n",
    "- PaymentScreenSuccessful - screen with information about successful payment for goods\n",
    "- Tutorial - tutorial page"
   ]
  },
  {
   "attachments": {},
   "cell_type": "markdown",
   "metadata": {
    "lang": "en"
   },
   "source": [
    "Let's calculate how many users made each of these events and the proportion of users who made the event at least once."
   ]
  },
  {
   "cell_type": "code",
   "execution_count": 19,
   "metadata": {},
   "outputs": [
    {
     "name": "stdout",
     "output_type": "stream",
     "text": [
      "                event_name  device_id  users_%\n",
      "1         MainScreenAppear       7423    98.47\n",
      "2       OffersScreenAppear       4597    60.98\n",
      "0         CartScreenAppear       3736    49.56\n",
      "3  PaymentScreenSuccessful       3540    46.96\n",
      "4                 Tutorial        843    11.18\n"
     ]
    }
   ],
   "source": [
    "users_cnt = df.groupby('event_name').agg({'device_id': 'nunique'})\n",
    "users_cnt['users_%'] = users_cnt['device_id'] / df['device_id'].nunique() * 100\n",
    "users_cnt['users_%'] = users_cnt['users_%'].round(2)\n",
    "users_cnt = users_cnt.reset_index()\n",
    "print(users_cnt.sort_values(by='device_id', ascending=False))"
   ]
  },
  {
   "attachments": {},
   "cell_type": "markdown",
   "metadata": {
    "lang": "en"
   },
   "source": [
    "As expected, the main screen is shown to almost all users. Interestingly, almost half of users reach the cart and ~47% of users make purchases. Only 11% of users go to the learning screen."
   ]
  },
  {
   "attachments": {},
   "cell_type": "markdown",
   "metadata": {
    "lang": "en"
   },
   "source": [
    "Let's assume that the transition of users through the sales funnel occurs like this:\n",
    "\n",
    "- Step 1. The appearance of the main screen (where the user selects a product and adds it to the cart)\n",
    "- Step 2. Go to the screen with the product (OffersScreenAppear)\n",
    "- Step 3. Adding an item to the cart\n",
    "- Step 4. Screen with successful payment (in case of payment).\n",
    "\n",
    "The step with the transition to the screen with Tutorial will not be taken into account for the analysis of the funnel, because it is not consistent in such a funnel."
   ]
  },
  {
   "attachments": {},
   "cell_type": "markdown",
   "metadata": {
    "lang": "en"
   },
   "source": [
    "As part of the analysis of the funnel of events, we will calculate what proportion of users go to the next step of the funnel (from the number of users on the previous one)."
   ]
  },
  {
   "cell_type": "code",
   "execution_count": 20,
   "metadata": {},
   "outputs": [
    {
     "data": {
      "text/html": [
       "<div>\n",
       "<style scoped>\n",
       "    .dataframe tbody tr th:only-of-type {\n",
       "        vertical-align: middle;\n",
       "    }\n",
       "\n",
       "    .dataframe tbody tr th {\n",
       "        vertical-align: top;\n",
       "    }\n",
       "\n",
       "    .dataframe thead th {\n",
       "        text-align: right;\n",
       "    }\n",
       "</style>\n",
       "<table border=\"1\" class=\"dataframe\">\n",
       "  <thead>\n",
       "    <tr style=\"text-align: right;\">\n",
       "      <th></th>\n",
       "      <th>event_name</th>\n",
       "      <th>device_id</th>\n",
       "      <th>users_%</th>\n",
       "      <th>prv_step_users</th>\n",
       "      <th>%_prv_step_users</th>\n",
       "    </tr>\n",
       "  </thead>\n",
       "  <tbody>\n",
       "    <tr>\n",
       "      <th>0</th>\n",
       "      <td>MainScreenAppear</td>\n",
       "      <td>7423</td>\n",
       "      <td>98.47</td>\n",
       "      <td>NaN</td>\n",
       "      <td>NaN</td>\n",
       "    </tr>\n",
       "    <tr>\n",
       "      <th>1</th>\n",
       "      <td>OffersScreenAppear</td>\n",
       "      <td>4597</td>\n",
       "      <td>60.98</td>\n",
       "      <td>7423.0</td>\n",
       "      <td>61.93</td>\n",
       "    </tr>\n",
       "    <tr>\n",
       "      <th>2</th>\n",
       "      <td>CartScreenAppear</td>\n",
       "      <td>3736</td>\n",
       "      <td>49.56</td>\n",
       "      <td>4597.0</td>\n",
       "      <td>81.27</td>\n",
       "    </tr>\n",
       "    <tr>\n",
       "      <th>3</th>\n",
       "      <td>PaymentScreenSuccessful</td>\n",
       "      <td>3540</td>\n",
       "      <td>46.96</td>\n",
       "      <td>3736.0</td>\n",
       "      <td>94.75</td>\n",
       "    </tr>\n",
       "  </tbody>\n",
       "</table>\n",
       "</div>"
      ],
      "text/plain": [
       "                event_name  device_id  users_%  prv_step_users  \\\n",
       "0         MainScreenAppear       7423    98.47             NaN   \n",
       "1       OffersScreenAppear       4597    60.98          7423.0   \n",
       "2         CartScreenAppear       3736    49.56          4597.0   \n",
       "3  PaymentScreenSuccessful       3540    46.96          3736.0   \n",
       "\n",
       "   %_prv_step_users  \n",
       "0               NaN  \n",
       "1             61.93  \n",
       "2             81.27  \n",
       "3             94.75  "
      ]
     },
     "execution_count": 20,
     "metadata": {},
     "output_type": "execute_result"
    }
   ],
   "source": [
    "#rebuild the dataset without the Tutorial step\n",
    "users_cnt = users_cnt.query('event_name != \"Tutorial\"')\n",
    "users_cnt = users_cnt.sort_values(by='device_id', ascending=False)\n",
    "\n",
    "#add a column with the number of users in the previous step\n",
    "users_cnt['prv_step_users'] = users_cnt[\"device_id\"].shift()\n",
    "users_cnt = users_cnt.reset_index(drop=True)\n",
    "\n",
    "#calculate conversion per step\n",
    "users_cnt['%_prv_step_users'] = users_cnt['device_id'] / users_cnt['prv_step_users'] * 100\n",
    "users_cnt['%_prv_step_users'] = users_cnt['%_prv_step_users'].round(2)\n",
    "\n",
    "users_cnt"
   ]
  },
  {
   "cell_type": "code",
   "execution_count": 21,
   "metadata": {},
   "outputs": [
    {
     "data": {
      "application/vnd.plotly.v1+json": {
       "config": {
        "plotlyServerURL": "https://plot.ly"
       },
       "data": [
        {
         "textinfo": "value+percent initial",
         "textposition": "inside",
         "type": "funnel",
         "x": [
          7423,
          4597,
          3736,
          3540
         ],
         "y": [
          "MainScreenAppear",
          "OffersScreenAppear",
          "CartScreenAppear",
          "PaymentScreenSuccessful"
         ]
        }
       ],
       "layout": {
        "template": {
         "data": {
          "bar": [
           {
            "error_x": {
             "color": "#2a3f5f"
            },
            "error_y": {
             "color": "#2a3f5f"
            },
            "marker": {
             "line": {
              "color": "#E5ECF6",
              "width": 0.5
             },
             "pattern": {
              "fillmode": "overlay",
              "size": 10,
              "solidity": 0.2
             }
            },
            "type": "bar"
           }
          ],
          "barpolar": [
           {
            "marker": {
             "line": {
              "color": "#E5ECF6",
              "width": 0.5
             },
             "pattern": {
              "fillmode": "overlay",
              "size": 10,
              "solidity": 0.2
             }
            },
            "type": "barpolar"
           }
          ],
          "carpet": [
           {
            "aaxis": {
             "endlinecolor": "#2a3f5f",
             "gridcolor": "white",
             "linecolor": "white",
             "minorgridcolor": "white",
             "startlinecolor": "#2a3f5f"
            },
            "baxis": {
             "endlinecolor": "#2a3f5f",
             "gridcolor": "white",
             "linecolor": "white",
             "minorgridcolor": "white",
             "startlinecolor": "#2a3f5f"
            },
            "type": "carpet"
           }
          ],
          "choropleth": [
           {
            "colorbar": {
             "outlinewidth": 0,
             "ticks": ""
            },
            "type": "choropleth"
           }
          ],
          "contour": [
           {
            "colorbar": {
             "outlinewidth": 0,
             "ticks": ""
            },
            "colorscale": [
             [
              0,
              "#0d0887"
             ],
             [
              0.1111111111111111,
              "#46039f"
             ],
             [
              0.2222222222222222,
              "#7201a8"
             ],
             [
              0.3333333333333333,
              "#9c179e"
             ],
             [
              0.4444444444444444,
              "#bd3786"
             ],
             [
              0.5555555555555556,
              "#d8576b"
             ],
             [
              0.6666666666666666,
              "#ed7953"
             ],
             [
              0.7777777777777778,
              "#fb9f3a"
             ],
             [
              0.8888888888888888,
              "#fdca26"
             ],
             [
              1,
              "#f0f921"
             ]
            ],
            "type": "contour"
           }
          ],
          "contourcarpet": [
           {
            "colorbar": {
             "outlinewidth": 0,
             "ticks": ""
            },
            "type": "contourcarpet"
           }
          ],
          "heatmap": [
           {
            "colorbar": {
             "outlinewidth": 0,
             "ticks": ""
            },
            "colorscale": [
             [
              0,
              "#0d0887"
             ],
             [
              0.1111111111111111,
              "#46039f"
             ],
             [
              0.2222222222222222,
              "#7201a8"
             ],
             [
              0.3333333333333333,
              "#9c179e"
             ],
             [
              0.4444444444444444,
              "#bd3786"
             ],
             [
              0.5555555555555556,
              "#d8576b"
             ],
             [
              0.6666666666666666,
              "#ed7953"
             ],
             [
              0.7777777777777778,
              "#fb9f3a"
             ],
             [
              0.8888888888888888,
              "#fdca26"
             ],
             [
              1,
              "#f0f921"
             ]
            ],
            "type": "heatmap"
           }
          ],
          "heatmapgl": [
           {
            "colorbar": {
             "outlinewidth": 0,
             "ticks": ""
            },
            "colorscale": [
             [
              0,
              "#0d0887"
             ],
             [
              0.1111111111111111,
              "#46039f"
             ],
             [
              0.2222222222222222,
              "#7201a8"
             ],
             [
              0.3333333333333333,
              "#9c179e"
             ],
             [
              0.4444444444444444,
              "#bd3786"
             ],
             [
              0.5555555555555556,
              "#d8576b"
             ],
             [
              0.6666666666666666,
              "#ed7953"
             ],
             [
              0.7777777777777778,
              "#fb9f3a"
             ],
             [
              0.8888888888888888,
              "#fdca26"
             ],
             [
              1,
              "#f0f921"
             ]
            ],
            "type": "heatmapgl"
           }
          ],
          "histogram": [
           {
            "marker": {
             "pattern": {
              "fillmode": "overlay",
              "size": 10,
              "solidity": 0.2
             }
            },
            "type": "histogram"
           }
          ],
          "histogram2d": [
           {
            "colorbar": {
             "outlinewidth": 0,
             "ticks": ""
            },
            "colorscale": [
             [
              0,
              "#0d0887"
             ],
             [
              0.1111111111111111,
              "#46039f"
             ],
             [
              0.2222222222222222,
              "#7201a8"
             ],
             [
              0.3333333333333333,
              "#9c179e"
             ],
             [
              0.4444444444444444,
              "#bd3786"
             ],
             [
              0.5555555555555556,
              "#d8576b"
             ],
             [
              0.6666666666666666,
              "#ed7953"
             ],
             [
              0.7777777777777778,
              "#fb9f3a"
             ],
             [
              0.8888888888888888,
              "#fdca26"
             ],
             [
              1,
              "#f0f921"
             ]
            ],
            "type": "histogram2d"
           }
          ],
          "histogram2dcontour": [
           {
            "colorbar": {
             "outlinewidth": 0,
             "ticks": ""
            },
            "colorscale": [
             [
              0,
              "#0d0887"
             ],
             [
              0.1111111111111111,
              "#46039f"
             ],
             [
              0.2222222222222222,
              "#7201a8"
             ],
             [
              0.3333333333333333,
              "#9c179e"
             ],
             [
              0.4444444444444444,
              "#bd3786"
             ],
             [
              0.5555555555555556,
              "#d8576b"
             ],
             [
              0.6666666666666666,
              "#ed7953"
             ],
             [
              0.7777777777777778,
              "#fb9f3a"
             ],
             [
              0.8888888888888888,
              "#fdca26"
             ],
             [
              1,
              "#f0f921"
             ]
            ],
            "type": "histogram2dcontour"
           }
          ],
          "mesh3d": [
           {
            "colorbar": {
             "outlinewidth": 0,
             "ticks": ""
            },
            "type": "mesh3d"
           }
          ],
          "parcoords": [
           {
            "line": {
             "colorbar": {
              "outlinewidth": 0,
              "ticks": ""
             }
            },
            "type": "parcoords"
           }
          ],
          "pie": [
           {
            "automargin": true,
            "type": "pie"
           }
          ],
          "scatter": [
           {
            "marker": {
             "colorbar": {
              "outlinewidth": 0,
              "ticks": ""
             }
            },
            "type": "scatter"
           }
          ],
          "scatter3d": [
           {
            "line": {
             "colorbar": {
              "outlinewidth": 0,
              "ticks": ""
             }
            },
            "marker": {
             "colorbar": {
              "outlinewidth": 0,
              "ticks": ""
             }
            },
            "type": "scatter3d"
           }
          ],
          "scattercarpet": [
           {
            "marker": {
             "colorbar": {
              "outlinewidth": 0,
              "ticks": ""
             }
            },
            "type": "scattercarpet"
           }
          ],
          "scattergeo": [
           {
            "marker": {
             "colorbar": {
              "outlinewidth": 0,
              "ticks": ""
             }
            },
            "type": "scattergeo"
           }
          ],
          "scattergl": [
           {
            "marker": {
             "colorbar": {
              "outlinewidth": 0,
              "ticks": ""
             }
            },
            "type": "scattergl"
           }
          ],
          "scattermapbox": [
           {
            "marker": {
             "colorbar": {
              "outlinewidth": 0,
              "ticks": ""
             }
            },
            "type": "scattermapbox"
           }
          ],
          "scatterpolar": [
           {
            "marker": {
             "colorbar": {
              "outlinewidth": 0,
              "ticks": ""
             }
            },
            "type": "scatterpolar"
           }
          ],
          "scatterpolargl": [
           {
            "marker": {
             "colorbar": {
              "outlinewidth": 0,
              "ticks": ""
             }
            },
            "type": "scatterpolargl"
           }
          ],
          "scatterternary": [
           {
            "marker": {
             "colorbar": {
              "outlinewidth": 0,
              "ticks": ""
             }
            },
            "type": "scatterternary"
           }
          ],
          "surface": [
           {
            "colorbar": {
             "outlinewidth": 0,
             "ticks": ""
            },
            "colorscale": [
             [
              0,
              "#0d0887"
             ],
             [
              0.1111111111111111,
              "#46039f"
             ],
             [
              0.2222222222222222,
              "#7201a8"
             ],
             [
              0.3333333333333333,
              "#9c179e"
             ],
             [
              0.4444444444444444,
              "#bd3786"
             ],
             [
              0.5555555555555556,
              "#d8576b"
             ],
             [
              0.6666666666666666,
              "#ed7953"
             ],
             [
              0.7777777777777778,
              "#fb9f3a"
             ],
             [
              0.8888888888888888,
              "#fdca26"
             ],
             [
              1,
              "#f0f921"
             ]
            ],
            "type": "surface"
           }
          ],
          "table": [
           {
            "cells": {
             "fill": {
              "color": "#EBF0F8"
             },
             "line": {
              "color": "white"
             }
            },
            "header": {
             "fill": {
              "color": "#C8D4E3"
             },
             "line": {
              "color": "white"
             }
            },
            "type": "table"
           }
          ]
         },
         "layout": {
          "annotationdefaults": {
           "arrowcolor": "#2a3f5f",
           "arrowhead": 0,
           "arrowwidth": 1
          },
          "autotypenumbers": "strict",
          "coloraxis": {
           "colorbar": {
            "outlinewidth": 0,
            "ticks": ""
           }
          },
          "colorscale": {
           "diverging": [
            [
             0,
             "#8e0152"
            ],
            [
             0.1,
             "#c51b7d"
            ],
            [
             0.2,
             "#de77ae"
            ],
            [
             0.3,
             "#f1b6da"
            ],
            [
             0.4,
             "#fde0ef"
            ],
            [
             0.5,
             "#f7f7f7"
            ],
            [
             0.6,
             "#e6f5d0"
            ],
            [
             0.7,
             "#b8e186"
            ],
            [
             0.8,
             "#7fbc41"
            ],
            [
             0.9,
             "#4d9221"
            ],
            [
             1,
             "#276419"
            ]
           ],
           "sequential": [
            [
             0,
             "#0d0887"
            ],
            [
             0.1111111111111111,
             "#46039f"
            ],
            [
             0.2222222222222222,
             "#7201a8"
            ],
            [
             0.3333333333333333,
             "#9c179e"
            ],
            [
             0.4444444444444444,
             "#bd3786"
            ],
            [
             0.5555555555555556,
             "#d8576b"
            ],
            [
             0.6666666666666666,
             "#ed7953"
            ],
            [
             0.7777777777777778,
             "#fb9f3a"
            ],
            [
             0.8888888888888888,
             "#fdca26"
            ],
            [
             1,
             "#f0f921"
            ]
           ],
           "sequentialminus": [
            [
             0,
             "#0d0887"
            ],
            [
             0.1111111111111111,
             "#46039f"
            ],
            [
             0.2222222222222222,
             "#7201a8"
            ],
            [
             0.3333333333333333,
             "#9c179e"
            ],
            [
             0.4444444444444444,
             "#bd3786"
            ],
            [
             0.5555555555555556,
             "#d8576b"
            ],
            [
             0.6666666666666666,
             "#ed7953"
            ],
            [
             0.7777777777777778,
             "#fb9f3a"
            ],
            [
             0.8888888888888888,
             "#fdca26"
            ],
            [
             1,
             "#f0f921"
            ]
           ]
          },
          "colorway": [
           "#636efa",
           "#EF553B",
           "#00cc96",
           "#ab63fa",
           "#FFA15A",
           "#19d3f3",
           "#FF6692",
           "#B6E880",
           "#FF97FF",
           "#FECB52"
          ],
          "font": {
           "color": "#2a3f5f"
          },
          "geo": {
           "bgcolor": "white",
           "lakecolor": "white",
           "landcolor": "#E5ECF6",
           "showlakes": true,
           "showland": true,
           "subunitcolor": "white"
          },
          "hoverlabel": {
           "align": "left"
          },
          "hovermode": "closest",
          "mapbox": {
           "style": "light"
          },
          "paper_bgcolor": "white",
          "plot_bgcolor": "#E5ECF6",
          "polar": {
           "angularaxis": {
            "gridcolor": "white",
            "linecolor": "white",
            "ticks": ""
           },
           "bgcolor": "#E5ECF6",
           "radialaxis": {
            "gridcolor": "white",
            "linecolor": "white",
            "ticks": ""
           }
          },
          "scene": {
           "xaxis": {
            "backgroundcolor": "#E5ECF6",
            "gridcolor": "white",
            "gridwidth": 2,
            "linecolor": "white",
            "showbackground": true,
            "ticks": "",
            "zerolinecolor": "white"
           },
           "yaxis": {
            "backgroundcolor": "#E5ECF6",
            "gridcolor": "white",
            "gridwidth": 2,
            "linecolor": "white",
            "showbackground": true,
            "ticks": "",
            "zerolinecolor": "white"
           },
           "zaxis": {
            "backgroundcolor": "#E5ECF6",
            "gridcolor": "white",
            "gridwidth": 2,
            "linecolor": "white",
            "showbackground": true,
            "ticks": "",
            "zerolinecolor": "white"
           }
          },
          "shapedefaults": {
           "line": {
            "color": "#2a3f5f"
           }
          },
          "ternary": {
           "aaxis": {
            "gridcolor": "white",
            "linecolor": "white",
            "ticks": ""
           },
           "baxis": {
            "gridcolor": "white",
            "linecolor": "white",
            "ticks": ""
           },
           "bgcolor": "#E5ECF6",
           "caxis": {
            "gridcolor": "white",
            "linecolor": "white",
            "ticks": ""
           }
          },
          "title": {
           "x": 0.05
          },
          "xaxis": {
           "automargin": true,
           "gridcolor": "white",
           "linecolor": "white",
           "ticks": "",
           "title": {
            "standoff": 15
           },
           "zerolinecolor": "white",
           "zerolinewidth": 2
          },
          "yaxis": {
           "automargin": true,
           "gridcolor": "white",
           "linecolor": "white",
           "ticks": "",
           "title": {
            "standoff": 15
           },
           "zerolinecolor": "white",
           "zerolinewidth": 2
          }
         }
        }
       }
      }
     },
     "metadata": {},
     "output_type": "display_data"
    }
   ],
   "source": [
    "#draw a funnel\n",
    "\n",
    "fig = go.Figure(go.Funnel(\n",
    "    y = users_cnt['event_name'],\n",
    "    x = users_cnt['device_id'],\n",
    "    textposition = \"inside\",\n",
    "    textinfo = \"value+percent initial\")\n",
    "    )\n",
    "\n",
    "fig.show()"
   ]
  },
  {
   "attachments": {},
   "cell_type": "markdown",
   "metadata": {
    "lang": "en"
   },
   "source": [
    "**Output:**\n",
    "\n",
    "More users are lost in the second step. About 38% of users do not go to the screen with the description of the product offer.\n",
    "It is also worth noting that more than 81% of users who go to the product description end up adding it to the cart.\n",
    "Surprisingly, 94.8% of users who go to the cart end up paying for the purchase within less than a week.\n",
    "\n",
    "As a result, 47.7% of users from those who were able to get to the main screen of the application reach the stage of purchasing a product."
   ]
  },
  {
   "attachments": {},
   "cell_type": "markdown",
   "metadata": {
    "lang": "en"
   },
   "source": [
    "## Analysis of the results of the experiment"
   ]
  },
  {
   "attachments": {},
   "cell_type": "markdown",
   "metadata": {
    "lang": "en"
   },
   "source": [
    "Let's analyze the results of A/A/B testing.\n",
    "\n",
    "To do this, we will use a hypothesis test about the equality of user shares (z-test) in groups at each stage of the event funnel.\n",
    "\n",
    "If the proportions in the groups are perfectly equal, the difference between them will be zero. For each pair of groups and each event, we calculate how statistically significant the current difference in proportions is.\n",
    "\n",
    "Thus, **we will formulate a null hypothesis** - the proportions in the groups (the proportion of users who have reached each stage from the initial number of users in the group) are equal.\n",
    "\n",
    "**Alternative hypothesis** - changing fonts in the experimental group changes the proportions (shares) of users who reach a certain stage of the funnel of events (in one direction or another)."
   ]
  },
  {
   "cell_type": "code",
   "execution_count": 22,
   "metadata": {},
   "outputs": [
    {
     "data": {
      "text/html": [
       "<div>\n",
       "<style scoped>\n",
       "    .dataframe tbody tr th:only-of-type {\n",
       "        vertical-align: middle;\n",
       "    }\n",
       "\n",
       "    .dataframe tbody tr th {\n",
       "        vertical-align: top;\n",
       "    }\n",
       "\n",
       "    .dataframe thead th {\n",
       "        text-align: right;\n",
       "    }\n",
       "</style>\n",
       "<table border=\"1\" class=\"dataframe\">\n",
       "  <thead>\n",
       "    <tr style=\"text-align: right;\">\n",
       "      <th></th>\n",
       "      <th>group_id</th>\n",
       "      <th>device_id</th>\n",
       "    </tr>\n",
       "  </thead>\n",
       "  <tbody>\n",
       "    <tr>\n",
       "      <th>0</th>\n",
       "      <td>246</td>\n",
       "      <td>2484</td>\n",
       "    </tr>\n",
       "    <tr>\n",
       "      <th>1</th>\n",
       "      <td>247</td>\n",
       "      <td>2517</td>\n",
       "    </tr>\n",
       "    <tr>\n",
       "      <th>2</th>\n",
       "      <td>248</td>\n",
       "      <td>2537</td>\n",
       "    </tr>\n",
       "  </tbody>\n",
       "</table>\n",
       "</div>"
      ],
      "text/plain": [
       "   group_id  device_id\n",
       "0       246       2484\n",
       "1       247       2517\n",
       "2       248       2537"
      ]
     },
     "execution_count": 22,
     "metadata": {},
     "output_type": "execute_result"
    }
   ],
   "source": [
    "#count the number of unique users by groups\n",
    "users_by_groups = df.groupby('group_id').agg({'device_id': 'nunique'})\n",
    "users_by_groups = users_by_groups.reset_index()\n",
    "users_by_groups"
   ]
  },
  {
   "cell_type": "code",
   "execution_count": 23,
   "metadata": {
    "scrolled": true
   },
   "outputs": [
    {
     "data": {
      "text/html": [
       "<div>\n",
       "<style scoped>\n",
       "    .dataframe tbody tr th:only-of-type {\n",
       "        vertical-align: middle;\n",
       "    }\n",
       "\n",
       "    .dataframe tbody tr th {\n",
       "        vertical-align: top;\n",
       "    }\n",
       "\n",
       "    .dataframe thead th {\n",
       "        text-align: right;\n",
       "    }\n",
       "</style>\n",
       "<table border=\"1\" class=\"dataframe\">\n",
       "  <thead>\n",
       "    <tr style=\"text-align: right;\">\n",
       "      <th></th>\n",
       "      <th>group_id</th>\n",
       "      <th>event_name</th>\n",
       "      <th>event_ts</th>\n",
       "      <th>device_id</th>\n",
       "    </tr>\n",
       "  </thead>\n",
       "  <tbody>\n",
       "    <tr>\n",
       "      <th>0</th>\n",
       "      <td>246</td>\n",
       "      <td>CartScreenAppear</td>\n",
       "      <td>14697</td>\n",
       "      <td>1266</td>\n",
       "    </tr>\n",
       "    <tr>\n",
       "      <th>1</th>\n",
       "      <td>246</td>\n",
       "      <td>MainScreenAppear</td>\n",
       "      <td>37855</td>\n",
       "      <td>2450</td>\n",
       "    </tr>\n",
       "    <tr>\n",
       "      <th>2</th>\n",
       "      <td>246</td>\n",
       "      <td>OffersScreenAppear</td>\n",
       "      <td>14829</td>\n",
       "      <td>1542</td>\n",
       "    </tr>\n",
       "    <tr>\n",
       "      <th>3</th>\n",
       "      <td>246</td>\n",
       "      <td>PaymentScreenSuccessful</td>\n",
       "      <td>11858</td>\n",
       "      <td>1200</td>\n",
       "    </tr>\n",
       "    <tr>\n",
       "      <th>4</th>\n",
       "      <td>246</td>\n",
       "      <td>Tutorial</td>\n",
       "      <td>317</td>\n",
       "      <td>278</td>\n",
       "    </tr>\n",
       "  </tbody>\n",
       "</table>\n",
       "</div>"
      ],
      "text/plain": [
       "   group_id               event_name  event_ts  device_id\n",
       "0       246         CartScreenAppear     14697       1266\n",
       "1       246         MainScreenAppear     37855       2450\n",
       "2       246       OffersScreenAppear     14829       1542\n",
       "3       246  PaymentScreenSuccessful     11858       1200\n",
       "4       246                 Tutorial       317        278"
      ]
     },
     "execution_count": 23,
     "metadata": {},
     "output_type": "execute_result"
    }
   ],
   "source": [
    "#collect data by groups, number of events, unique users into a separate dataframe\n",
    "#and the percentage of users from the group who performed the action\n",
    "group_cnt = df.groupby(['group_id', 'event_name']).agg({'event_ts': 'count', 'device_id': 'nunique'})\n",
    "group_cnt = group_cnt.reset_index()\n",
    "group_cnt.head()"
   ]
  },
  {
   "cell_type": "code",
   "execution_count": 24,
   "metadata": {},
   "outputs": [],
   "source": [
    "#add the initial number of unique users by groups to the dataframe\n",
    "group_cnt = group_cnt.merge(users_by_groups, on='group_id', how='left')\n",
    "group_cnt.columns = ['group_id', 'event_name', 'event_ts', 'device_id', 'users_by_group']"
   ]
  },
  {
   "cell_type": "code",
   "execution_count": 25,
   "metadata": {},
   "outputs": [
    {
     "data": {
      "text/html": [
       "<div>\n",
       "<style scoped>\n",
       "    .dataframe tbody tr th:only-of-type {\n",
       "        vertical-align: middle;\n",
       "    }\n",
       "\n",
       "    .dataframe tbody tr th {\n",
       "        vertical-align: top;\n",
       "    }\n",
       "\n",
       "    .dataframe thead th {\n",
       "        text-align: right;\n",
       "    }\n",
       "</style>\n",
       "<table border=\"1\" class=\"dataframe\">\n",
       "  <thead>\n",
       "    <tr style=\"text-align: right;\">\n",
       "      <th></th>\n",
       "      <th>group_id</th>\n",
       "      <th>event_name</th>\n",
       "      <th>event_ts</th>\n",
       "      <th>device_id</th>\n",
       "      <th>users_by_group</th>\n",
       "      <th>user_%</th>\n",
       "    </tr>\n",
       "  </thead>\n",
       "  <tbody>\n",
       "    <tr>\n",
       "      <th>1</th>\n",
       "      <td>246</td>\n",
       "      <td>MainScreenAppear</td>\n",
       "      <td>37855</td>\n",
       "      <td>2450</td>\n",
       "      <td>2484</td>\n",
       "      <td>98.63</td>\n",
       "    </tr>\n",
       "    <tr>\n",
       "      <th>2</th>\n",
       "      <td>246</td>\n",
       "      <td>OffersScreenAppear</td>\n",
       "      <td>14829</td>\n",
       "      <td>1542</td>\n",
       "      <td>2484</td>\n",
       "      <td>62.08</td>\n",
       "    </tr>\n",
       "    <tr>\n",
       "      <th>0</th>\n",
       "      <td>246</td>\n",
       "      <td>CartScreenAppear</td>\n",
       "      <td>14697</td>\n",
       "      <td>1266</td>\n",
       "      <td>2484</td>\n",
       "      <td>50.97</td>\n",
       "    </tr>\n",
       "    <tr>\n",
       "      <th>3</th>\n",
       "      <td>246</td>\n",
       "      <td>PaymentScreenSuccessful</td>\n",
       "      <td>11858</td>\n",
       "      <td>1200</td>\n",
       "      <td>2484</td>\n",
       "      <td>48.31</td>\n",
       "    </tr>\n",
       "    <tr>\n",
       "      <th>4</th>\n",
       "      <td>246</td>\n",
       "      <td>Tutorial</td>\n",
       "      <td>317</td>\n",
       "      <td>278</td>\n",
       "      <td>2484</td>\n",
       "      <td>11.19</td>\n",
       "    </tr>\n",
       "    <tr>\n",
       "      <th>6</th>\n",
       "      <td>247</td>\n",
       "      <td>MainScreenAppear</td>\n",
       "      <td>39294</td>\n",
       "      <td>2479</td>\n",
       "      <td>2517</td>\n",
       "      <td>98.49</td>\n",
       "    </tr>\n",
       "    <tr>\n",
       "      <th>7</th>\n",
       "      <td>247</td>\n",
       "      <td>OffersScreenAppear</td>\n",
       "      <td>15237</td>\n",
       "      <td>1524</td>\n",
       "      <td>2517</td>\n",
       "      <td>60.55</td>\n",
       "    </tr>\n",
       "    <tr>\n",
       "      <th>5</th>\n",
       "      <td>247</td>\n",
       "      <td>CartScreenAppear</td>\n",
       "      <td>12439</td>\n",
       "      <td>1239</td>\n",
       "      <td>2517</td>\n",
       "      <td>49.23</td>\n",
       "    </tr>\n",
       "    <tr>\n",
       "      <th>8</th>\n",
       "      <td>247</td>\n",
       "      <td>PaymentScreenSuccessful</td>\n",
       "      <td>9983</td>\n",
       "      <td>1158</td>\n",
       "      <td>2517</td>\n",
       "      <td>46.01</td>\n",
       "    </tr>\n",
       "    <tr>\n",
       "      <th>9</th>\n",
       "      <td>247</td>\n",
       "      <td>Tutorial</td>\n",
       "      <td>340</td>\n",
       "      <td>284</td>\n",
       "      <td>2517</td>\n",
       "      <td>11.28</td>\n",
       "    </tr>\n",
       "    <tr>\n",
       "      <th>11</th>\n",
       "      <td>248</td>\n",
       "      <td>MainScreenAppear</td>\n",
       "      <td>40740</td>\n",
       "      <td>2494</td>\n",
       "      <td>2537</td>\n",
       "      <td>98.31</td>\n",
       "    </tr>\n",
       "    <tr>\n",
       "      <th>12</th>\n",
       "      <td>248</td>\n",
       "      <td>OffersScreenAppear</td>\n",
       "      <td>16465</td>\n",
       "      <td>1531</td>\n",
       "      <td>2537</td>\n",
       "      <td>60.35</td>\n",
       "    </tr>\n",
       "    <tr>\n",
       "      <th>10</th>\n",
       "      <td>248</td>\n",
       "      <td>CartScreenAppear</td>\n",
       "      <td>15207</td>\n",
       "      <td>1231</td>\n",
       "      <td>2537</td>\n",
       "      <td>48.52</td>\n",
       "    </tr>\n",
       "    <tr>\n",
       "      <th>13</th>\n",
       "      <td>248</td>\n",
       "      <td>PaymentScreenSuccessful</td>\n",
       "      <td>12110</td>\n",
       "      <td>1182</td>\n",
       "      <td>2537</td>\n",
       "      <td>46.59</td>\n",
       "    </tr>\n",
       "    <tr>\n",
       "      <th>14</th>\n",
       "      <td>248</td>\n",
       "      <td>Tutorial</td>\n",
       "      <td>353</td>\n",
       "      <td>281</td>\n",
       "      <td>2537</td>\n",
       "      <td>11.08</td>\n",
       "    </tr>\n",
       "  </tbody>\n",
       "</table>\n",
       "</div>"
      ],
      "text/plain": [
       "    group_id               event_name  event_ts  device_id  users_by_group  \\\n",
       "1        246         MainScreenAppear     37855       2450            2484   \n",
       "2        246       OffersScreenAppear     14829       1542            2484   \n",
       "0        246         CartScreenAppear     14697       1266            2484   \n",
       "3        246  PaymentScreenSuccessful     11858       1200            2484   \n",
       "4        246                 Tutorial       317        278            2484   \n",
       "6        247         MainScreenAppear     39294       2479            2517   \n",
       "7        247       OffersScreenAppear     15237       1524            2517   \n",
       "5        247         CartScreenAppear     12439       1239            2517   \n",
       "8        247  PaymentScreenSuccessful      9983       1158            2517   \n",
       "9        247                 Tutorial       340        284            2517   \n",
       "11       248         MainScreenAppear     40740       2494            2537   \n",
       "12       248       OffersScreenAppear     16465       1531            2537   \n",
       "10       248         CartScreenAppear     15207       1231            2537   \n",
       "13       248  PaymentScreenSuccessful     12110       1182            2537   \n",
       "14       248                 Tutorial       353        281            2537   \n",
       "\n",
       "    user_%  \n",
       "1    98.63  \n",
       "2    62.08  \n",
       "0    50.97  \n",
       "3    48.31  \n",
       "4    11.19  \n",
       "6    98.49  \n",
       "7    60.55  \n",
       "5    49.23  \n",
       "8    46.01  \n",
       "9    11.28  \n",
       "11   98.31  \n",
       "12   60.35  \n",
       "10   48.52  \n",
       "13   46.59  \n",
       "14   11.08  "
      ]
     },
     "execution_count": 25,
     "metadata": {},
     "output_type": "execute_result"
    }
   ],
   "source": [
    "#calculate the shares of users from the initial ones for each step for each group\n",
    "group_cnt['user_%'] = group_cnt['device_id'] / group_cnt['users_by_group'] * 100\n",
    "group_cnt['user_%'] = group_cnt['user_%'].round(2)\n",
    "group_cnt = group_cnt.sort_values(by=['group_id', 'device_id'], ascending=[True, False])\n",
    "group_cnt"
   ]
  },
  {
   "cell_type": "code",
   "execution_count": 26,
   "metadata": {},
   "outputs": [
    {
     "name": "stdout",
     "output_type": "stream",
     "text": [
      "group_id               event_name    246    247    248\n",
      "1                MainScreenAppear  98.63  98.49  98.31\n",
      "2              OffersScreenAppear  62.08  60.55  60.35\n",
      "0                CartScreenAppear  50.97  49.23  48.52\n",
      "3         PaymentScreenSuccessful  48.31  46.01  46.59\n",
      "4                        Tutorial  11.19  11.28  11.08\n"
     ]
    }
   ],
   "source": [
    "#create a pivot table with shares by groups for visual comparison\n",
    "group_pivot = group_cnt.pivot_table(index='event_name', columns='group_id', values='user_%')\n",
    "group_pivot = group_pivot.reset_index()\n",
    "print(group_pivot.sort_values(by=246, ascending=False))"
   ]
  },
  {
   "attachments": {},
   "cell_type": "markdown",
   "metadata": {
    "lang": "en"
   },
   "source": [
    "At first glance, the proportions in the groups look very similar. The key thing is that the funnel for events in each group is similar, which means there are no strong outliers in the data. It remains to check whether the difference in proportions is statistically significant."
   ]
  },
  {
   "cell_type": "code",
   "execution_count": 27,
   "metadata": {
    "scrolled": true
   },
   "outputs": [],
   "source": [
    "#build a function to check groups and events - set as arguments\n",
    "#name of the event, the first group to check, the second group to check, the dataframe that was assembled for checking\n",
    "def check_diff(event, group_to_check1, group_to_check2, group_cnt):\n",
    "\n",
    "    alpha = .01 # critical level of statistical significance\n",
    "\n",
    "    \n",
    "    successes = []\n",
    "    trials = []\n",
    "    \n",
    "    group_cnt = group_cnt.reset_index(drop=True)\n",
    "    group_1 = group_cnt.query('group_id == @group_to_check1 & event_name == @event')\n",
    "    group_1 = group_1.reset_index(drop=True)\n",
    "\n",
    "    group_2 = group_cnt.query('group_id == @group_to_check2 & event_name == @event')\n",
    "    group_2 = group_2.reset_index(drop=True)\n",
    "    trials.append(group_1['users_by_group'][0])\n",
    "    trials.append(group_2['users_by_group'][0])\n",
    "    \n",
    "    \n",
    "    \n",
    "\n",
    "    group_cnt = group_cnt.reset_index(drop=True)\n",
    "    group_1 = group_cnt.query('group_id == @group_to_check1 & event_name == @event')\n",
    "    group_1 = group_1.reset_index(drop=True)\n",
    "\n",
    "    group_2 = group_cnt.query('group_id == @group_to_check2 & event_name == @event')\n",
    "    group_2 = group_2.reset_index(drop=True)\n",
    "    successes.append(group_1['device_id'][0])\n",
    "    successes.append(group_2['device_id'][0])\n",
    "\n",
    "    # proportion of successes in the first group:\n",
    "    p1 = successes[0]/trials[0]\n",
    "\n",
    "    # proportion of successes in the second group:\n",
    "    p2 = successes[1]/trials[1]\n",
    "\n",
    "    # proportion of successes in the combined dataset:\n",
    "    p_combined = (successes[0] + successes[1]) / (trials[0] + trials[1])\n",
    "\n",
    "    # difference\n",
    "    difference = p1 - p2 \n",
    "\n",
    "    # calculate statistics in standard deviations of the standard normal distribution\n",
    "       \n",
    "    z_value = difference / mth.sqrt(p_combined * (1 - p_combined) * (1/trials[0] + 1/trials[1]))\n",
    "    \n",
    "    # set standard normal distribution (mean 0, standard deviation 1)\n",
    "    distr = st.norm(0, 1)  \n",
    "\n",
    "\n",
    "    p_value = (1 - distr.cdf(abs(z_value))) * 2\n",
    "    \n",
    "    print('Event being checked: ', event)\n",
    "    print('Groups:', group_to_check1, 'and', group_to_check2)\n",
    "    print('p-value: ', p_value)\n",
    "\n",
    "    if p_value < alpha:\n",
    "        print('We reject the null hypothesis: there is a significant difference between the shares')\n",
    "    else:\n",
    "        print(\n",
    "        'Could not reject the null hypothesis, there is no reason to consider the shares different'\n",
    "        ) \n",
    "    print('\\n') \n",
    "    return ''\n",
    "\n"
   ]
  },
  {
   "attachments": {},
   "cell_type": "markdown",
   "metadata": {
    "lang": "en"
   },
   "source": [
    "We have 2 control groups in the data for the A/A experiment to check the correctness of all mechanisms and calculations. Let's check if the statistical tests find a difference between samples 246 and 247."
   ]
  },
  {
   "cell_type": "code",
   "execution_count": 28,
   "metadata": {
    "scrolled": false
   },
   "outputs": [
    {
     "name": "stdout",
     "output_type": "stream",
     "text": [
      "Event being checked:  MainScreenAppear\n",
      "Groups: 246 and 247\n",
      "p-value:  0.6756217702005545\n",
      "Could not reject the null hypothesis, there is no reason to consider the shares different\n",
      "\n",
      "\n",
      "Event being checked:  OffersScreenAppear\n",
      "Groups: 246 and 247\n",
      "p-value:  0.26698769175859516\n",
      "Could not reject the null hypothesis, there is no reason to consider the shares different\n",
      "\n",
      "\n",
      "Event being checked:  CartScreenAppear\n",
      "Groups: 246 and 247\n",
      "p-value:  0.2182812140633792\n",
      "Could not reject the null hypothesis, there is no reason to consider the shares different\n",
      "\n",
      "\n",
      "Event being checked:  PaymentScreenSuccessful\n",
      "Groups: 246 and 247\n",
      "p-value:  0.10298394982948822\n",
      "Could not reject the null hypothesis, there is no reason to consider the shares different\n",
      "\n",
      "\n",
      "Event being checked:  Tutorial\n",
      "Groups: 246 and 247\n",
      "p-value:  0.9182790262812368\n",
      "Could not reject the null hypothesis, there is no reason to consider the shares different\n",
      "\n",
      "\n"
     ]
    }
   ],
   "source": [
    "#collect all event names in a list\n",
    "all_events = group_cnt['event_name'].unique()\n",
    "\n",
    "#cycle check groups A and A for each event for the difference in shares\n",
    "for events in all_events:\n",
    "    check_diff(events, 246, 247, group_cnt)"
   ]
  },
  {
   "attachments": {},
   "cell_type": "markdown",
   "metadata": {
    "lang": "en"
   },
   "source": [
    "The test results indicate that there is no statistically significant difference between groups A and A. We can say that grouping works correctly."
   ]
  },
  {
   "attachments": {},
   "cell_type": "markdown",
   "metadata": {
    "lang": "en"
   },
   "source": [
    "In turn, we will also check two pairs of groups - control 247 and experimental 248, as well as control 246 and experimental 248."
   ]
  },
  {
   "cell_type": "code",
   "execution_count": 29,
   "metadata": {
    "scrolled": false
   },
   "outputs": [
    {
     "name": "stdout",
     "output_type": "stream",
     "text": [
      "Event being checked:  MainScreenAppear\n",
      "Groups: 247 and 248\n",
      "p-value:  0.6001661582453706\n",
      "Could not reject the null hypothesis, there is no reason to consider the shares different\n",
      "\n",
      "\n",
      "Event being checked:  OffersScreenAppear\n",
      "Groups: 247 and 248\n",
      "p-value:  0.8835956656016957\n",
      "Could not reject the null hypothesis, there is no reason to consider the shares different\n",
      "\n",
      "\n",
      "Event being checked:  CartScreenAppear\n",
      "Groups: 247 and 248\n",
      "p-value:  0.6169517476996997\n",
      "Could not reject the null hypothesis, there is no reason to consider the shares different\n",
      "\n",
      "\n",
      "Event being checked:  PaymentScreenSuccessful\n",
      "Groups: 247 and 248\n",
      "p-value:  0.6775413642906454\n",
      "Could not reject the null hypothesis, there is no reason to consider the shares different\n",
      "\n",
      "\n",
      "Event being checked:  Tutorial\n",
      "Groups: 247 and 248\n",
      "p-value:  0.8151967015119994\n",
      "Could not reject the null hypothesis, there is no reason to consider the shares different\n",
      "\n",
      "\n"
     ]
    }
   ],
   "source": [
    "for events in all_events:\n",
    "    check_diff(events, 247, 248, group_cnt)"
   ]
  },
  {
   "cell_type": "code",
   "execution_count": 30,
   "metadata": {},
   "outputs": [
    {
     "name": "stdout",
     "output_type": "stream",
     "text": [
      "Event being checked:  MainScreenAppear\n",
      "Groups: 246 and 248\n",
      "p-value:  0.34705881021236484\n",
      "Could not reject the null hypothesis, there is no reason to consider the shares different\n",
      "\n",
      "\n",
      "Event being checked:  OffersScreenAppear\n",
      "Groups: 246 and 248\n",
      "p-value:  0.20836205402738917\n",
      "Could not reject the null hypothesis, there is no reason to consider the shares different\n",
      "\n",
      "\n",
      "Event being checked:  CartScreenAppear\n",
      "Groups: 246 and 248\n",
      "p-value:  0.08328412977507749\n",
      "Could not reject the null hypothesis, there is no reason to consider the shares different\n",
      "\n",
      "\n",
      "Event being checked:  PaymentScreenSuccessful\n",
      "Groups: 246 and 248\n",
      "p-value:  0.22269358994682742\n",
      "Could not reject the null hypothesis, there is no reason to consider the shares different\n",
      "\n",
      "\n",
      "Event being checked:  Tutorial\n",
      "Groups: 246 and 248\n",
      "p-value:  0.8964489622133207\n",
      "Could not reject the null hypothesis, there is no reason to consider the shares different\n",
      "\n",
      "\n"
     ]
    }
   ],
   "source": [
    "for events in all_events:\n",
    "    check_diff(events, 246, 248, group_cnt)"
   ]
  },
  {
   "cell_type": "code",
   "execution_count": 31,
   "metadata": {},
   "outputs": [
    {
     "data": {
      "text/html": [
       "<div>\n",
       "<style scoped>\n",
       "    .dataframe tbody tr th:only-of-type {\n",
       "        vertical-align: middle;\n",
       "    }\n",
       "\n",
       "    .dataframe tbody tr th {\n",
       "        vertical-align: top;\n",
       "    }\n",
       "\n",
       "    .dataframe thead th {\n",
       "        text-align: right;\n",
       "    }\n",
       "</style>\n",
       "<table border=\"1\" class=\"dataframe\">\n",
       "  <thead>\n",
       "    <tr style=\"text-align: right;\">\n",
       "      <th></th>\n",
       "      <th>group_id</th>\n",
       "      <th>event_name</th>\n",
       "      <th>event_ts</th>\n",
       "      <th>device_id</th>\n",
       "      <th>users_by_group</th>\n",
       "      <th>user_%</th>\n",
       "    </tr>\n",
       "  </thead>\n",
       "  <tbody>\n",
       "    <tr>\n",
       "      <th>15</th>\n",
       "      <td>249</td>\n",
       "      <td>MainScreenAppear</td>\n",
       "      <td>77149</td>\n",
       "      <td>4929</td>\n",
       "      <td>5001</td>\n",
       "      <td>98.560288</td>\n",
       "    </tr>\n",
       "    <tr>\n",
       "      <th>16</th>\n",
       "      <td>249</td>\n",
       "      <td>OffersScreenAppear</td>\n",
       "      <td>30066</td>\n",
       "      <td>3066</td>\n",
       "      <td>5001</td>\n",
       "      <td>61.307738</td>\n",
       "    </tr>\n",
       "    <tr>\n",
       "      <th>17</th>\n",
       "      <td>249</td>\n",
       "      <td>CartScreenAppear</td>\n",
       "      <td>27136</td>\n",
       "      <td>2505</td>\n",
       "      <td>5001</td>\n",
       "      <td>50.089982</td>\n",
       "    </tr>\n",
       "    <tr>\n",
       "      <th>18</th>\n",
       "      <td>249</td>\n",
       "      <td>PaymentScreenSuccessful</td>\n",
       "      <td>21841</td>\n",
       "      <td>2358</td>\n",
       "      <td>5001</td>\n",
       "      <td>47.150570</td>\n",
       "    </tr>\n",
       "    <tr>\n",
       "      <th>19</th>\n",
       "      <td>249</td>\n",
       "      <td>Tutorial</td>\n",
       "      <td>657</td>\n",
       "      <td>562</td>\n",
       "      <td>5001</td>\n",
       "      <td>11.237752</td>\n",
       "    </tr>\n",
       "  </tbody>\n",
       "</table>\n",
       "</div>"
      ],
      "text/plain": [
       "    group_id               event_name  event_ts  device_id  users_by_group  \\\n",
       "15       249         MainScreenAppear     77149       4929            5001   \n",
       "16       249       OffersScreenAppear     30066       3066            5001   \n",
       "17       249         CartScreenAppear     27136       2505            5001   \n",
       "18       249  PaymentScreenSuccessful     21841       2358            5001   \n",
       "19       249                 Tutorial       657        562            5001   \n",
       "\n",
       "       user_%  \n",
       "15  98.560288  \n",
       "16  61.307738  \n",
       "17  50.089982  \n",
       "18  47.150570  \n",
       "19  11.237752  "
      ]
     },
     "execution_count": 31,
     "metadata": {},
     "output_type": "execute_result"
    }
   ],
   "source": [
    "#Add the combined group - 249 to the dataset (the sum of the groups 246 and 247)\n",
    "\n",
    "for events in all_events:\n",
    "    grp1 = group_cnt.query('group_id == 246 & event_name == @events')['event_ts']\n",
    "    grp1 = grp1.reset_index(drop=True)\n",
    "    grp2 = group_cnt.query('group_id == 247 & event_name == @events')['event_ts']\n",
    "    grp2 = grp2.reset_index(drop=True)\n",
    "\n",
    "    grp_united_events = (grp1[0] + grp2[0])\n",
    "\n",
    "\n",
    "    grp1_dev = group_cnt.query('group_id == 246 & event_name == @events')['device_id']\n",
    "    grp1_dev = grp1_dev.reset_index(drop=True)\n",
    "    grp2_dev = group_cnt.query('group_id == 247 & event_name == @events')['device_id']\n",
    "    grp2_dev = grp2_dev.reset_index(drop=True)\n",
    "    grp_united_dev = (grp1_dev[0] + grp2_dev[0])\n",
    "\n",
    "\n",
    "    grp1_user = group_cnt.query('group_id == 246 & event_name == @events')['users_by_group']\n",
    "    grp1_user = grp1_user.reset_index(drop=True)\n",
    "    grp2_user = group_cnt.query('group_id == 247 & event_name == @events')['users_by_group']\n",
    "    grp2_user = grp2_user.reset_index(drop=True)\n",
    "    grp_united_users = (grp1_user[0] + grp2_user[0])\n",
    "\n",
    "    grp_united_share = (grp_united_dev)/(grp_united_users) * 100\n",
    "    \n",
    "    grp_to_add = {'group_id': 249, 'event_name': events, 'event_ts': grp_united_events, 'device_id': grp_united_dev, 'users_by_group': grp_united_users, 'user_%': grp_united_share}      \n",
    "    group_cnt = group_cnt.append(grp_to_add, ignore_index=True)\n",
    "       \n",
    "    \n",
    "group_cnt.tail(5)"
   ]
  },
  {
   "cell_type": "code",
   "execution_count": 32,
   "metadata": {},
   "outputs": [
    {
     "name": "stdout",
     "output_type": "stream",
     "text": [
      "Event being checked:  MainScreenAppear\n",
      "Groups: 249 and 248\n",
      "p-value:  0.39298914928006035\n",
      "Could not reject the null hypothesis, there is no reason to consider the shares different\n",
      "\n",
      "\n",
      "Event being checked:  OffersScreenAppear\n",
      "Groups: 249 and 248\n",
      "p-value:  0.418998284007599\n",
      "Could not reject the null hypothesis, there is no reason to consider the shares different\n",
      "\n",
      "\n",
      "Event being checked:  CartScreenAppear\n",
      "Groups: 249 and 248\n",
      "p-value:  0.19819340844527744\n",
      "Could not reject the null hypothesis, there is no reason to consider the shares different\n",
      "\n",
      "\n",
      "Event being checked:  PaymentScreenSuccessful\n",
      "Groups: 249 and 248\n",
      "p-value:  0.6452057673098244\n",
      "Could not reject the null hypothesis, there is no reason to consider the shares different\n",
      "\n",
      "\n",
      "Event being checked:  Tutorial\n",
      "Groups: 249 and 248\n",
      "p-value:  0.8333049080125807\n",
      "Could not reject the null hypothesis, there is no reason to consider the shares different\n",
      "\n",
      "\n"
     ]
    }
   ],
   "source": [
    "#test for combined group (A+A) and experimental group B\n",
    "for events in all_events:\n",
    "    check_diff(events, 249, 248, group_cnt)"
   ]
  },
  {
   "attachments": {},
   "cell_type": "markdown",
   "metadata": {
    "lang": "en"
   },
   "source": [
    "**Conclusions from the experiment:**\n",
    "\n",
    "After checking the differences between groups A and A, it was possible to establish that the separation works normally - no statistically significant differences were found between groups.\n",
    "\n",
    "\n",
    "The test results indicate that there is no statistically significant difference between the A/A/B groups. This means that the changed fonts did not affect users and did not change the funnel of events in the experimental group in either direction.\n",
    "\n",
    "\n",
    "The level of significance was initially taken very high - 0.01. In this case, only every hundredth result can be a false result. We conducted a total of 20 tests, so the significance level is acceptable for this hypothesis testing."
   ]
  },
  {
   "attachments": {},
   "cell_type": "markdown",
   "metadata": {
    "lang": "en"
   },
   "source": [
    "## Conclusions on the results of the project"
   ]
  },
  {
   "attachments": {},
   "cell_type": "markdown",
   "metadata": {
    "lang": "en"
   },
   "source": [
    "As part of the project, we analyzed the sales funnel and analyzed the results of the A / A / B test.\n",
    "In addition, prior to the start of the analysis, the data were pre-processed and the data were checked for completeness.\n",
    "It turned out that the original dataset had incomplete data that we removed so that they would not distort the results.\n",
    "\n",
    "\n",
    "**Sales funnel:**\n",
    "As part of the analysis of the sales funnel, it was assumed that the user first enters the main page through the funnel of events, selects products there and adds them to the cart, goes to the cart and makes a payment.\n",
    "Based on the analysis of such a funnel of events, several important points can be noted:\n",
    "1. Not all users get to the main screen (about 2% of users get lost somewhere - needs to be checked).\n",
    "2. The store has a very high conversion from cart to payment. 94.8% of users who go to the cart end up paying for the purchase within less than a week.\n",
    "3. About half of users do not go to the basket from the main screen\n",
    "    \n",
    "Thus, we can say that those users who are interested in something on the main page and add the product to the cart almost always end up buying it, while every second user is interested in some products.\n",
    "\n",
    "\n",
    "**Conclusions from the A/A/B test and experiment with fonts:**\n",
    "\n",
    "1. Grouping works fine - no statistically significant difference was found between control groups A and A. For all events, it was not possible to refute the null hypothesis that the proportions in the groups were not statistically different.\n",
    "\n",
    "2. Exactly the same result was obtained in all comparisons between groups A and group B and, importantly, for all events and with a high level of significance. It can be concluded that there is no statistically significant difference between groups A/A/B. This means that the changed fonts did not affect the funnel of events in the experimental group either positively or negatively."
   ]
  }
 ],
 "metadata": {
  "ExecuteTimeLog": [
   {
    "duration": 414,
    "start_time": "2023-05-22T15:36:51.903Z"
   },
   {
    "duration": 686,
    "start_time": "2023-05-22T15:36:53.768Z"
   },
   {
    "duration": 17,
    "start_time": "2023-05-22T15:36:55.762Z"
   },
   {
    "duration": 3,
    "start_time": "2023-05-22T15:37:28.399Z"
   },
   {
    "duration": 170,
    "start_time": "2023-05-22T15:37:30.042Z"
   },
   {
    "duration": 8,
    "start_time": "2023-05-22T15:37:31.662Z"
   },
   {
    "duration": 21,
    "start_time": "2023-05-22T15:38:39.028Z"
   },
   {
    "duration": 66,
    "start_time": "2023-05-22T15:45:39.462Z"
   },
   {
    "duration": 78,
    "start_time": "2023-05-22T15:46:33.112Z"
   },
   {
    "duration": 77,
    "start_time": "2023-05-22T15:46:41.215Z"
   },
   {
    "duration": 5,
    "start_time": "2023-05-22T15:47:44.269Z"
   },
   {
    "duration": 3,
    "start_time": "2023-05-22T15:49:49.464Z"
   },
   {
    "duration": 72,
    "start_time": "2023-05-22T15:49:52.783Z"
   },
   {
    "duration": 3,
    "start_time": "2023-05-22T15:50:41.761Z"
   },
   {
    "duration": 10,
    "start_time": "2023-05-22T15:50:50.015Z"
   },
   {
    "duration": 3,
    "start_time": "2023-05-22T15:51:08.339Z"
   },
   {
    "duration": 10,
    "start_time": "2023-05-22T15:51:11.740Z"
   },
   {
    "duration": 10,
    "start_time": "2023-05-22T15:51:20.510Z"
   },
   {
    "duration": 1304,
    "start_time": "2023-05-22T15:52:34.515Z"
   },
   {
    "duration": 1238,
    "start_time": "2023-05-22T15:52:49.904Z"
   },
   {
    "duration": 163,
    "start_time": "2023-05-22T15:53:17.716Z"
   },
   {
    "duration": 10,
    "start_time": "2023-05-22T15:53:19.626Z"
   },
   {
    "duration": 1105,
    "start_time": "2023-05-22T15:56:02.829Z"
   },
   {
    "duration": 589,
    "start_time": "2023-05-22T15:56:16.236Z"
   },
   {
    "duration": 10,
    "start_time": "2023-05-22T15:56:18.256Z"
   },
   {
    "duration": 759,
    "start_time": "2023-05-22T15:56:34.088Z"
   },
   {
    "duration": 4,
    "start_time": "2023-05-22T16:01:58.743Z"
   },
   {
    "duration": 5,
    "start_time": "2023-05-22T16:03:07.586Z"
   },
   {
    "duration": 11,
    "start_time": "2023-05-22T16:03:37.348Z"
   },
   {
    "duration": 47,
    "start_time": "2023-05-22T16:03:48.254Z"
   },
   {
    "duration": 17,
    "start_time": "2023-05-22T16:05:16.738Z"
   },
   {
    "duration": 8,
    "start_time": "2023-05-22T16:05:29.865Z"
   },
   {
    "duration": 27,
    "start_time": "2023-05-22T16:09:25.396Z"
   },
   {
    "duration": 20,
    "start_time": "2023-05-22T16:09:58.077Z"
   },
   {
    "duration": 26,
    "start_time": "2023-05-22T16:10:46.359Z"
   },
   {
    "duration": 21,
    "start_time": "2023-05-22T16:11:11.040Z"
   },
   {
    "duration": 20,
    "start_time": "2023-05-22T16:11:18.142Z"
   },
   {
    "duration": 4,
    "start_time": "2023-05-22T16:11:59.911Z"
   },
   {
    "duration": 5,
    "start_time": "2023-05-22T16:12:02.035Z"
   },
   {
    "duration": 10,
    "start_time": "2023-05-22T16:12:05.107Z"
   },
   {
    "duration": 27,
    "start_time": "2023-05-22T16:12:45.169Z"
   },
   {
    "duration": 9,
    "start_time": "2023-05-22T16:13:39.838Z"
   },
   {
    "duration": 8,
    "start_time": "2023-05-22T16:14:16.468Z"
   },
   {
    "duration": 7,
    "start_time": "2023-05-22T16:16:53.878Z"
   },
   {
    "duration": 446,
    "start_time": "2023-05-22T16:18:36.348Z"
   },
   {
    "duration": 432,
    "start_time": "2023-05-22T16:18:43.942Z"
   },
   {
    "duration": 215,
    "start_time": "2023-05-22T16:20:05.651Z"
   },
   {
    "duration": 210,
    "start_time": "2023-05-22T16:20:30.152Z"
   },
   {
    "duration": 249,
    "start_time": "2023-05-22T16:20:56.007Z"
   },
   {
    "duration": 193,
    "start_time": "2023-05-22T16:21:03.602Z"
   },
   {
    "duration": 218,
    "start_time": "2023-05-22T16:21:08.160Z"
   },
   {
    "duration": 43,
    "start_time": "2023-05-22T16:23:00.951Z"
   },
   {
    "duration": 69,
    "start_time": "2023-05-22T16:31:17.826Z"
   },
   {
    "duration": 18,
    "start_time": "2023-05-22T16:33:59.070Z"
   },
   {
    "duration": 13,
    "start_time": "2023-05-22T16:34:06.381Z"
   },
   {
    "duration": 36,
    "start_time": "2023-05-22T16:35:29.439Z"
   },
   {
    "duration": 10,
    "start_time": "2023-05-22T16:36:59.188Z"
   },
   {
    "duration": 4,
    "start_time": "2023-05-22T16:37:06.166Z"
   },
   {
    "duration": 230,
    "start_time": "2023-05-22T16:37:06.173Z"
   },
   {
    "duration": 10,
    "start_time": "2023-05-22T16:37:06.405Z"
   },
   {
    "duration": 58,
    "start_time": "2023-05-22T16:37:06.418Z"
   },
   {
    "duration": 82,
    "start_time": "2023-05-22T16:37:06.478Z"
   },
   {
    "duration": 83,
    "start_time": "2023-05-22T16:37:06.561Z"
   },
   {
    "duration": 4,
    "start_time": "2023-05-22T16:37:06.646Z"
   },
   {
    "duration": 821,
    "start_time": "2023-05-22T16:37:06.652Z"
   },
   {
    "duration": 14,
    "start_time": "2023-05-22T16:37:07.475Z"
   },
   {
    "duration": 20,
    "start_time": "2023-05-22T16:37:07.494Z"
   },
   {
    "duration": 14,
    "start_time": "2023-05-22T16:37:07.517Z"
   },
   {
    "duration": 47,
    "start_time": "2023-05-22T16:37:07.533Z"
   },
   {
    "duration": 23,
    "start_time": "2023-05-22T16:37:07.582Z"
   },
   {
    "duration": 39,
    "start_time": "2023-05-22T16:37:07.607Z"
   },
   {
    "duration": 8,
    "start_time": "2023-05-22T16:37:07.648Z"
   },
   {
    "duration": 92,
    "start_time": "2023-05-22T16:37:07.657Z"
   },
   {
    "duration": 0,
    "start_time": "2023-05-22T16:37:07.751Z"
   },
   {
    "duration": 0,
    "start_time": "2023-05-22T16:37:07.753Z"
   },
   {
    "duration": 230,
    "start_time": "2023-05-22T16:37:22.244Z"
   },
   {
    "duration": 64,
    "start_time": "2023-05-22T16:37:25.167Z"
   },
   {
    "duration": 29,
    "start_time": "2023-05-22T16:37:29.470Z"
   },
   {
    "duration": 13,
    "start_time": "2023-05-22T16:41:20.263Z"
   },
   {
    "duration": 3,
    "start_time": "2023-05-22T16:42:09.758Z"
   },
   {
    "duration": 174,
    "start_time": "2023-05-22T16:42:09.764Z"
   },
   {
    "duration": 10,
    "start_time": "2023-05-22T16:42:09.940Z"
   },
   {
    "duration": 47,
    "start_time": "2023-05-22T16:42:09.952Z"
   },
   {
    "duration": 63,
    "start_time": "2023-05-22T16:42:10.001Z"
   },
   {
    "duration": 63,
    "start_time": "2023-05-22T16:42:10.066Z"
   },
   {
    "duration": 4,
    "start_time": "2023-05-22T16:42:10.131Z"
   },
   {
    "duration": 760,
    "start_time": "2023-05-22T16:42:10.137Z"
   },
   {
    "duration": 11,
    "start_time": "2023-05-22T16:42:10.899Z"
   },
   {
    "duration": 6,
    "start_time": "2023-05-22T16:42:10.914Z"
   },
   {
    "duration": 33,
    "start_time": "2023-05-22T16:42:10.922Z"
   },
   {
    "duration": 0,
    "start_time": "2023-05-22T16:42:10.957Z"
   },
   {
    "duration": 0,
    "start_time": "2023-05-22T16:42:10.958Z"
   },
   {
    "duration": 0,
    "start_time": "2023-05-22T16:42:10.960Z"
   },
   {
    "duration": 0,
    "start_time": "2023-05-22T16:42:10.962Z"
   },
   {
    "duration": 0,
    "start_time": "2023-05-22T16:42:10.963Z"
   },
   {
    "duration": 0,
    "start_time": "2023-05-22T16:42:10.970Z"
   },
   {
    "duration": 0,
    "start_time": "2023-05-22T16:42:10.972Z"
   },
   {
    "duration": 4,
    "start_time": "2023-05-22T16:42:30.277Z"
   },
   {
    "duration": 30,
    "start_time": "2023-05-22T16:42:32.869Z"
   },
   {
    "duration": 10,
    "start_time": "2023-05-22T16:42:34.871Z"
   },
   {
    "duration": 30,
    "start_time": "2023-05-22T16:42:37.278Z"
   },
   {
    "duration": 6,
    "start_time": "2023-05-22T16:42:39.445Z"
   },
   {
    "duration": 228,
    "start_time": "2023-05-22T16:42:41.252Z"
   },
   {
    "duration": 65,
    "start_time": "2023-05-22T16:42:44.340Z"
   },
   {
    "duration": 39,
    "start_time": "2023-05-22T16:42:48.682Z"
   },
   {
    "duration": 21,
    "start_time": "2023-05-22T16:42:50.627Z"
   },
   {
    "duration": 19,
    "start_time": "2023-05-22T16:45:02.043Z"
   },
   {
    "duration": 94,
    "start_time": "2023-05-22T16:45:09.061Z"
   },
   {
    "duration": 21,
    "start_time": "2023-05-22T16:45:23.158Z"
   },
   {
    "duration": 20,
    "start_time": "2023-05-22T16:46:42.941Z"
   },
   {
    "duration": 24,
    "start_time": "2023-05-22T16:46:58.954Z"
   },
   {
    "duration": 23,
    "start_time": "2023-05-22T16:48:02.524Z"
   },
   {
    "duration": 50,
    "start_time": "2023-05-22T16:48:34.288Z"
   },
   {
    "duration": 31,
    "start_time": "2023-05-22T17:08:30.479Z"
   },
   {
    "duration": 39,
    "start_time": "2023-05-22T17:08:52.263Z"
   },
   {
    "duration": 59,
    "start_time": "2023-05-22T17:17:39.993Z"
   },
   {
    "duration": 63,
    "start_time": "2023-05-22T17:19:13.251Z"
   },
   {
    "duration": 89,
    "start_time": "2023-05-22T17:19:27.631Z"
   },
   {
    "duration": 97,
    "start_time": "2023-05-22T17:19:52.074Z"
   },
   {
    "duration": 843,
    "start_time": "2023-05-23T15:31:23.518Z"
   },
   {
    "duration": 720,
    "start_time": "2023-05-23T15:31:24.363Z"
   },
   {
    "duration": 11,
    "start_time": "2023-05-23T15:31:25.085Z"
   },
   {
    "duration": 19,
    "start_time": "2023-05-23T15:31:25.098Z"
   },
   {
    "duration": 74,
    "start_time": "2023-05-23T15:31:25.120Z"
   },
   {
    "duration": 83,
    "start_time": "2023-05-23T15:31:25.195Z"
   },
   {
    "duration": 3,
    "start_time": "2023-05-23T15:31:25.280Z"
   },
   {
    "duration": 698,
    "start_time": "2023-05-23T15:31:25.284Z"
   },
   {
    "duration": 10,
    "start_time": "2023-05-23T15:31:25.984Z"
   },
   {
    "duration": 7,
    "start_time": "2023-05-23T15:31:25.996Z"
   },
   {
    "duration": 45,
    "start_time": "2023-05-23T15:31:26.005Z"
   },
   {
    "duration": 8,
    "start_time": "2023-05-23T15:31:26.052Z"
   },
   {
    "duration": 20,
    "start_time": "2023-05-23T15:31:26.061Z"
   },
   {
    "duration": 5,
    "start_time": "2023-05-23T15:31:26.084Z"
   },
   {
    "duration": 285,
    "start_time": "2023-05-23T15:31:26.091Z"
   },
   {
    "duration": 56,
    "start_time": "2023-05-23T15:31:26.378Z"
   },
   {
    "duration": 42,
    "start_time": "2023-05-23T15:31:26.435Z"
   },
   {
    "duration": 21,
    "start_time": "2023-05-23T15:31:26.480Z"
   },
   {
    "duration": 59,
    "start_time": "2023-05-23T15:31:26.503Z"
   },
   {
    "duration": 22,
    "start_time": "2023-05-23T15:31:26.563Z"
   },
   {
    "duration": 71,
    "start_time": "2023-05-23T15:31:26.586Z"
   },
   {
    "duration": 35,
    "start_time": "2023-05-23T15:36:28.714Z"
   },
   {
    "duration": 5,
    "start_time": "2023-05-23T15:51:47.160Z"
   },
   {
    "duration": 8,
    "start_time": "2023-05-23T15:54:06.488Z"
   },
   {
    "duration": 12,
    "start_time": "2023-05-23T15:54:14.351Z"
   },
   {
    "duration": 13,
    "start_time": "2023-05-23T15:54:38.489Z"
   },
   {
    "duration": 13,
    "start_time": "2023-05-23T15:54:58.289Z"
   },
   {
    "duration": 161,
    "start_time": "2023-05-23T15:55:52.662Z"
   },
   {
    "duration": 45,
    "start_time": "2023-05-23T16:36:23.964Z"
   },
   {
    "duration": 67,
    "start_time": "2023-05-23T16:37:05.274Z"
   },
   {
    "duration": 186,
    "start_time": "2023-05-23T16:41:31.055Z"
   },
   {
    "duration": 80,
    "start_time": "2023-05-23T16:42:01.396Z"
   },
   {
    "duration": 300,
    "start_time": "2023-05-23T16:43:30.971Z"
   },
   {
    "duration": 82,
    "start_time": "2023-05-23T16:43:43.291Z"
   },
   {
    "duration": 81,
    "start_time": "2023-05-23T16:43:50.690Z"
   },
   {
    "duration": 9,
    "start_time": "2023-05-23T16:44:23.055Z"
   },
   {
    "duration": 73,
    "start_time": "2023-05-23T16:44:46.704Z"
   },
   {
    "duration": 70,
    "start_time": "2023-05-23T16:44:56.281Z"
   },
   {
    "duration": 69,
    "start_time": "2023-05-23T16:45:10.846Z"
   },
   {
    "duration": 72,
    "start_time": "2023-05-23T16:45:15.361Z"
   },
   {
    "duration": 70,
    "start_time": "2023-05-23T16:45:49.273Z"
   },
   {
    "duration": 5,
    "start_time": "2023-05-23T16:45:59.763Z"
   },
   {
    "duration": 8,
    "start_time": "2023-05-23T16:46:05.663Z"
   },
   {
    "duration": 759,
    "start_time": "2023-05-23T16:47:42.877Z"
   },
   {
    "duration": 71,
    "start_time": "2023-05-23T16:48:18.120Z"
   },
   {
    "duration": 7,
    "start_time": "2023-05-23T16:48:52.670Z"
   },
   {
    "duration": 6,
    "start_time": "2023-05-23T18:06:14.530Z"
   },
   {
    "duration": 5,
    "start_time": "2023-05-23T18:06:22.556Z"
   },
   {
    "duration": 7,
    "start_time": "2023-05-23T18:07:42.652Z"
   },
   {
    "duration": 8,
    "start_time": "2023-05-23T18:08:16.753Z"
   },
   {
    "duration": 8,
    "start_time": "2023-05-23T18:09:16.001Z"
   },
   {
    "duration": 9,
    "start_time": "2023-05-23T18:09:41.063Z"
   },
   {
    "duration": 14,
    "start_time": "2023-05-23T18:11:02.325Z"
   },
   {
    "duration": 73,
    "start_time": "2023-05-23T18:11:56.795Z"
   },
   {
    "duration": 9,
    "start_time": "2023-05-23T18:12:05.459Z"
   },
   {
    "duration": 39,
    "start_time": "2023-05-23T18:12:19.342Z"
   },
   {
    "duration": 9,
    "start_time": "2023-05-23T18:12:20.908Z"
   },
   {
    "duration": 969,
    "start_time": "2023-05-24T15:03:55.763Z"
   },
   {
    "duration": 663,
    "start_time": "2023-05-24T15:03:56.734Z"
   },
   {
    "duration": 13,
    "start_time": "2023-05-24T15:03:57.399Z"
   },
   {
    "duration": 23,
    "start_time": "2023-05-24T15:03:57.414Z"
   },
   {
    "duration": 87,
    "start_time": "2023-05-24T15:03:57.440Z"
   },
   {
    "duration": 96,
    "start_time": "2023-05-24T15:03:57.528Z"
   },
   {
    "duration": 3,
    "start_time": "2023-05-24T15:03:57.627Z"
   },
   {
    "duration": 791,
    "start_time": "2023-05-24T15:03:57.632Z"
   },
   {
    "duration": 11,
    "start_time": "2023-05-24T15:03:58.425Z"
   },
   {
    "duration": 8,
    "start_time": "2023-05-24T15:03:58.438Z"
   },
   {
    "duration": 51,
    "start_time": "2023-05-24T15:03:58.448Z"
   },
   {
    "duration": 9,
    "start_time": "2023-05-24T15:03:58.500Z"
   },
   {
    "duration": 40,
    "start_time": "2023-05-24T15:03:58.511Z"
   },
   {
    "duration": 6,
    "start_time": "2023-05-24T15:03:58.553Z"
   },
   {
    "duration": 301,
    "start_time": "2023-05-24T15:03:58.570Z"
   },
   {
    "duration": 62,
    "start_time": "2023-05-24T15:03:58.873Z"
   },
   {
    "duration": 54,
    "start_time": "2023-05-24T15:03:58.937Z"
   },
   {
    "duration": 26,
    "start_time": "2023-05-24T15:03:58.993Z"
   },
   {
    "duration": 61,
    "start_time": "2023-05-24T15:03:59.021Z"
   },
   {
    "duration": 45,
    "start_time": "2023-05-24T15:03:59.084Z"
   },
   {
    "duration": 40,
    "start_time": "2023-05-24T15:03:59.131Z"
   },
   {
    "duration": 63,
    "start_time": "2023-05-24T15:03:59.173Z"
   },
   {
    "duration": 113,
    "start_time": "2023-05-24T15:03:59.238Z"
   },
   {
    "duration": 0,
    "start_time": "2023-05-24T15:03:59.353Z"
   },
   {
    "duration": 33,
    "start_time": "2023-05-24T15:04:27.000Z"
   },
   {
    "duration": 64,
    "start_time": "2023-05-24T15:04:41.650Z"
   },
   {
    "duration": 60,
    "start_time": "2023-05-24T15:04:49.214Z"
   },
   {
    "duration": 65,
    "start_time": "2023-05-24T15:05:03.266Z"
   },
   {
    "duration": 13,
    "start_time": "2023-05-24T15:05:07.959Z"
   },
   {
    "duration": 178,
    "start_time": "2023-05-24T15:05:16.179Z"
   },
   {
    "duration": 43,
    "start_time": "2023-05-24T15:06:35.858Z"
   },
   {
    "duration": 45,
    "start_time": "2023-05-24T15:06:56.165Z"
   },
   {
    "duration": 76,
    "start_time": "2023-05-24T15:07:05.487Z"
   },
   {
    "duration": 6,
    "start_time": "2023-05-24T15:07:39.333Z"
   },
   {
    "duration": 11,
    "start_time": "2023-05-24T15:07:41.259Z"
   },
   {
    "duration": 15,
    "start_time": "2023-05-24T15:09:54.150Z"
   },
   {
    "duration": 4,
    "start_time": "2023-05-24T15:10:18.090Z"
   },
   {
    "duration": 187,
    "start_time": "2023-05-24T15:10:18.096Z"
   },
   {
    "duration": 8,
    "start_time": "2023-05-24T15:10:18.285Z"
   },
   {
    "duration": 38,
    "start_time": "2023-05-24T15:10:18.295Z"
   },
   {
    "duration": 71,
    "start_time": "2023-05-24T15:10:18.335Z"
   },
   {
    "duration": 93,
    "start_time": "2023-05-24T15:10:18.408Z"
   },
   {
    "duration": 4,
    "start_time": "2023-05-24T15:10:18.503Z"
   },
   {
    "duration": 793,
    "start_time": "2023-05-24T15:10:18.509Z"
   },
   {
    "duration": 10,
    "start_time": "2023-05-24T15:10:19.304Z"
   },
   {
    "duration": 15,
    "start_time": "2023-05-24T15:10:19.316Z"
   },
   {
    "duration": 43,
    "start_time": "2023-05-24T15:10:19.332Z"
   },
   {
    "duration": 7,
    "start_time": "2023-05-24T15:10:19.377Z"
   },
   {
    "duration": 40,
    "start_time": "2023-05-24T15:10:19.386Z"
   },
   {
    "duration": 6,
    "start_time": "2023-05-24T15:10:19.428Z"
   },
   {
    "duration": 217,
    "start_time": "2023-05-24T15:10:19.436Z"
   },
   {
    "duration": 76,
    "start_time": "2023-05-24T15:10:19.655Z"
   },
   {
    "duration": 52,
    "start_time": "2023-05-24T15:10:19.733Z"
   },
   {
    "duration": 23,
    "start_time": "2023-05-24T15:10:19.787Z"
   },
   {
    "duration": 62,
    "start_time": "2023-05-24T15:10:19.812Z"
   },
   {
    "duration": 129,
    "start_time": "2023-05-24T15:10:19.876Z"
   },
   {
    "duration": 24,
    "start_time": "2023-05-24T15:10:20.007Z"
   },
   {
    "duration": 77,
    "start_time": "2023-05-24T15:10:20.033Z"
   },
   {
    "duration": 14,
    "start_time": "2023-05-24T15:10:20.112Z"
   },
   {
    "duration": 35,
    "start_time": "2023-05-24T15:10:20.128Z"
   },
   {
    "duration": 42,
    "start_time": "2023-05-24T15:10:20.165Z"
   },
   {
    "duration": 70,
    "start_time": "2023-05-24T15:10:20.209Z"
   },
   {
    "duration": 13,
    "start_time": "2023-05-24T15:10:32.880Z"
   },
   {
    "duration": 1480,
    "start_time": "2023-05-24T15:13:07.397Z"
   },
   {
    "duration": 1290,
    "start_time": "2023-05-24T15:13:46.941Z"
   },
   {
    "duration": 12,
    "start_time": "2023-05-24T15:13:57.416Z"
   },
   {
    "duration": 1393,
    "start_time": "2023-05-24T15:14:08.453Z"
   },
   {
    "duration": 1250,
    "start_time": "2023-05-24T15:14:23.449Z"
   },
   {
    "duration": 353,
    "start_time": "2023-05-24T15:15:12.682Z"
   },
   {
    "duration": 7,
    "start_time": "2023-05-24T15:15:31.173Z"
   },
   {
    "duration": 13,
    "start_time": "2023-05-24T15:15:35.253Z"
   },
   {
    "duration": 607,
    "start_time": "2023-05-24T15:16:25.198Z"
   },
   {
    "duration": 16,
    "start_time": "2023-05-24T15:16:45.075Z"
   },
   {
    "duration": 13,
    "start_time": "2023-05-24T15:21:04.349Z"
   },
   {
    "duration": 20,
    "start_time": "2023-05-24T15:22:19.901Z"
   },
   {
    "duration": 175,
    "start_time": "2023-05-24T15:22:58.184Z"
   },
   {
    "duration": 25,
    "start_time": "2023-05-24T15:23:01.821Z"
   },
   {
    "duration": 19,
    "start_time": "2023-05-24T15:23:21.070Z"
   },
   {
    "duration": 27,
    "start_time": "2023-05-24T15:23:51.360Z"
   },
   {
    "duration": 24,
    "start_time": "2023-05-24T15:24:19.356Z"
   },
   {
    "duration": 28,
    "start_time": "2023-05-24T15:24:25.933Z"
   },
   {
    "duration": 22,
    "start_time": "2023-05-24T15:24:45.802Z"
   },
   {
    "duration": 23,
    "start_time": "2023-05-24T15:24:54.492Z"
   },
   {
    "duration": 11,
    "start_time": "2023-05-24T15:25:44.520Z"
   },
   {
    "duration": 8,
    "start_time": "2023-05-24T15:26:14.161Z"
   },
   {
    "duration": 412,
    "start_time": "2023-05-24T15:45:17.285Z"
   },
   {
    "duration": 3,
    "start_time": "2023-05-24T15:45:43.551Z"
   },
   {
    "duration": 35,
    "start_time": "2023-05-24T15:49:40.682Z"
   },
   {
    "duration": 13,
    "start_time": "2023-05-24T15:50:01.249Z"
   },
   {
    "duration": 20,
    "start_time": "2023-05-24T15:50:11.868Z"
   },
   {
    "duration": 11,
    "start_time": "2023-05-24T15:51:07.652Z"
   },
   {
    "duration": 26,
    "start_time": "2023-05-24T15:51:19.275Z"
   },
   {
    "duration": 21,
    "start_time": "2023-05-24T15:52:04.059Z"
   },
   {
    "duration": 5,
    "start_time": "2023-05-24T15:52:25.742Z"
   },
   {
    "duration": 12,
    "start_time": "2023-05-24T15:52:31.009Z"
   },
   {
    "duration": 8,
    "start_time": "2023-05-24T15:52:43.152Z"
   },
   {
    "duration": 49,
    "start_time": "2023-05-24T15:53:42.352Z"
   },
   {
    "duration": 13,
    "start_time": "2023-05-24T15:55:04.877Z"
   },
   {
    "duration": 8,
    "start_time": "2023-05-24T15:55:42.997Z"
   },
   {
    "duration": 2750,
    "start_time": "2023-05-24T15:58:14.083Z"
   },
   {
    "duration": 1346,
    "start_time": "2023-05-24T15:58:39.347Z"
   },
   {
    "duration": 16,
    "start_time": "2023-05-24T15:58:50.794Z"
   },
   {
    "duration": 11,
    "start_time": "2023-05-24T15:59:19.803Z"
   },
   {
    "duration": 1131,
    "start_time": "2023-05-24T15:59:47.534Z"
   },
   {
    "duration": 2820,
    "start_time": "2023-05-24T16:00:01.673Z"
   },
   {
    "duration": 18,
    "start_time": "2023-05-24T16:00:22.197Z"
   },
   {
    "duration": 12,
    "start_time": "2023-05-24T16:01:22.041Z"
   },
   {
    "duration": 3030,
    "start_time": "2023-05-24T16:01:47.795Z"
   },
   {
    "duration": 1699,
    "start_time": "2023-05-24T16:01:56.250Z"
   },
   {
    "duration": 13,
    "start_time": "2023-05-24T16:02:01.941Z"
   },
   {
    "duration": 10,
    "start_time": "2023-05-24T16:02:42.457Z"
   },
   {
    "duration": 10,
    "start_time": "2023-05-24T16:02:49.508Z"
   },
   {
    "duration": 10,
    "start_time": "2023-05-24T16:03:26.970Z"
   },
   {
    "duration": 1289,
    "start_time": "2023-05-24T16:03:36.314Z"
   },
   {
    "duration": 11,
    "start_time": "2023-05-24T16:04:00.486Z"
   },
   {
    "duration": 1568,
    "start_time": "2023-05-24T16:04:04.568Z"
   },
   {
    "duration": 12,
    "start_time": "2023-05-24T16:04:45.045Z"
   },
   {
    "duration": 1524,
    "start_time": "2023-05-24T16:04:55.198Z"
   },
   {
    "duration": 12,
    "start_time": "2023-05-24T16:05:00.084Z"
   },
   {
    "duration": 12,
    "start_time": "2023-05-24T16:06:04.950Z"
   },
   {
    "duration": 1313,
    "start_time": "2023-05-24T16:06:12.389Z"
   },
   {
    "duration": 1344,
    "start_time": "2023-05-24T16:06:18.166Z"
   },
   {
    "duration": 1501,
    "start_time": "2023-05-25T15:29:58.641Z"
   },
   {
    "duration": 861,
    "start_time": "2023-05-25T15:30:00.145Z"
   },
   {
    "duration": 17,
    "start_time": "2023-05-25T15:30:01.008Z"
   },
   {
    "duration": 75,
    "start_time": "2023-05-25T15:30:01.027Z"
   },
   {
    "duration": 168,
    "start_time": "2023-05-25T15:30:01.106Z"
   },
   {
    "duration": 123,
    "start_time": "2023-05-25T15:30:01.276Z"
   },
   {
    "duration": 4,
    "start_time": "2023-05-25T15:30:01.402Z"
   },
   {
    "duration": 847,
    "start_time": "2023-05-25T15:30:01.408Z"
   },
   {
    "duration": 19,
    "start_time": "2023-05-25T15:30:02.256Z"
   },
   {
    "duration": 45,
    "start_time": "2023-05-25T15:30:02.277Z"
   },
   {
    "duration": 128,
    "start_time": "2023-05-25T15:30:02.324Z"
   },
   {
    "duration": 43,
    "start_time": "2023-05-25T15:30:02.454Z"
   },
   {
    "duration": 34,
    "start_time": "2023-05-25T15:30:02.498Z"
   },
   {
    "duration": 58,
    "start_time": "2023-05-25T15:30:02.535Z"
   },
   {
    "duration": 332,
    "start_time": "2023-05-25T15:30:02.595Z"
   },
   {
    "duration": 85,
    "start_time": "2023-05-25T15:30:02.929Z"
   },
   {
    "duration": 54,
    "start_time": "2023-05-25T15:30:03.017Z"
   },
   {
    "duration": 34,
    "start_time": "2023-05-25T15:30:03.074Z"
   },
   {
    "duration": 84,
    "start_time": "2023-05-25T15:30:03.110Z"
   },
   {
    "duration": 61,
    "start_time": "2023-05-25T15:30:03.196Z"
   },
   {
    "duration": 39,
    "start_time": "2023-05-25T15:30:03.259Z"
   },
   {
    "duration": 80,
    "start_time": "2023-05-25T15:30:03.301Z"
   },
   {
    "duration": 13,
    "start_time": "2023-05-25T15:30:03.383Z"
   },
   {
    "duration": 245,
    "start_time": "2023-05-25T15:30:03.397Z"
   },
   {
    "duration": 107,
    "start_time": "2023-05-25T15:30:03.651Z"
   },
   {
    "duration": 141,
    "start_time": "2023-05-25T15:30:03.760Z"
   },
   {
    "duration": 9,
    "start_time": "2023-05-25T15:30:03.903Z"
   },
   {
    "duration": 75,
    "start_time": "2023-05-25T15:30:03.914Z"
   },
   {
    "duration": 12,
    "start_time": "2023-05-25T15:31:11.332Z"
   },
   {
    "duration": 14,
    "start_time": "2023-05-25T15:31:35.277Z"
   },
   {
    "duration": 124,
    "start_time": "2023-05-25T15:42:10.526Z"
   },
   {
    "duration": 47,
    "start_time": "2023-05-25T15:42:55.395Z"
   },
   {
    "duration": 56,
    "start_time": "2023-05-25T15:43:01.387Z"
   },
   {
    "duration": 16,
    "start_time": "2023-05-25T15:43:58.899Z"
   },
   {
    "duration": 22,
    "start_time": "2023-05-25T15:45:30.149Z"
   },
   {
    "duration": 17,
    "start_time": "2023-05-25T15:45:48.570Z"
   },
   {
    "duration": 26,
    "start_time": "2023-05-25T15:46:42.148Z"
   },
   {
    "duration": 22,
    "start_time": "2023-05-25T15:46:59.105Z"
   },
   {
    "duration": 51,
    "start_time": "2023-05-25T15:48:22.842Z"
   },
   {
    "duration": 29,
    "start_time": "2023-05-25T15:48:32.356Z"
   },
   {
    "duration": 152,
    "start_time": "2023-05-25T15:50:27.282Z"
   },
   {
    "duration": 28,
    "start_time": "2023-05-25T15:52:16.234Z"
   },
   {
    "duration": 23,
    "start_time": "2023-05-25T15:52:29.624Z"
   },
   {
    "duration": 20,
    "start_time": "2023-05-25T15:52:40.922Z"
   },
   {
    "duration": 19,
    "start_time": "2023-05-25T15:52:49.938Z"
   },
   {
    "duration": 29,
    "start_time": "2023-05-25T15:53:32.054Z"
   },
   {
    "duration": 18,
    "start_time": "2023-05-25T15:54:32.740Z"
   },
   {
    "duration": 19,
    "start_time": "2023-05-25T15:54:59.754Z"
   },
   {
    "duration": 4,
    "start_time": "2023-05-25T15:55:13.222Z"
   },
   {
    "duration": 19,
    "start_time": "2023-05-25T15:55:53.792Z"
   },
   {
    "duration": 19,
    "start_time": "2023-05-25T15:56:09.132Z"
   },
   {
    "duration": 33,
    "start_time": "2023-05-25T15:56:23.240Z"
   },
   {
    "duration": 38,
    "start_time": "2023-05-25T15:57:18.966Z"
   },
   {
    "duration": 27,
    "start_time": "2023-05-25T15:57:55.597Z"
   },
   {
    "duration": 28,
    "start_time": "2023-05-25T15:58:35.726Z"
   },
   {
    "duration": 19,
    "start_time": "2023-05-25T16:00:22.040Z"
   },
   {
    "duration": 22,
    "start_time": "2023-05-25T16:00:44.368Z"
   },
   {
    "duration": 19,
    "start_time": "2023-05-25T16:00:58.520Z"
   },
   {
    "duration": 73,
    "start_time": "2023-05-25T16:04:11.323Z"
   },
   {
    "duration": 29,
    "start_time": "2023-05-25T16:04:27.007Z"
   },
   {
    "duration": 23,
    "start_time": "2023-05-25T16:04:47.725Z"
   },
   {
    "duration": 11,
    "start_time": "2023-05-25T16:08:01.877Z"
   },
   {
    "duration": 21,
    "start_time": "2023-05-25T16:08:47.175Z"
   },
   {
    "duration": 22,
    "start_time": "2023-05-25T16:10:06.104Z"
   },
   {
    "duration": 49,
    "start_time": "2023-05-25T16:10:23.226Z"
   },
   {
    "duration": 9,
    "start_time": "2023-05-25T16:11:12.049Z"
   },
   {
    "duration": 53,
    "start_time": "2023-05-25T16:11:13.860Z"
   },
   {
    "duration": 12,
    "start_time": "2023-05-25T16:11:29.483Z"
   },
   {
    "duration": 53,
    "start_time": "2023-05-25T16:11:31.574Z"
   },
   {
    "duration": 8,
    "start_time": "2023-05-25T16:11:45.076Z"
   },
   {
    "duration": 39,
    "start_time": "2023-05-25T16:11:46.877Z"
   },
   {
    "duration": 5,
    "start_time": "2023-05-25T16:13:32.113Z"
   },
   {
    "duration": 5,
    "start_time": "2023-05-25T16:13:38.079Z"
   },
   {
    "duration": 5,
    "start_time": "2023-05-25T16:13:52.925Z"
   },
   {
    "duration": 14,
    "start_time": "2023-05-25T16:13:58.218Z"
   },
   {
    "duration": 60,
    "start_time": "2023-05-25T16:14:04.062Z"
   },
   {
    "duration": 8,
    "start_time": "2023-05-25T16:14:57.660Z"
   },
   {
    "duration": 65,
    "start_time": "2023-05-25T16:15:01.862Z"
   },
   {
    "duration": 60,
    "start_time": "2023-05-25T16:25:23.650Z"
   },
   {
    "duration": 57,
    "start_time": "2023-05-25T16:25:39.087Z"
   },
   {
    "duration": 8,
    "start_time": "2023-05-25T17:26:48.170Z"
   },
   {
    "duration": 61,
    "start_time": "2023-05-25T17:26:51.043Z"
   },
   {
    "duration": 58,
    "start_time": "2023-05-25T17:26:56.125Z"
   },
   {
    "duration": 60,
    "start_time": "2023-05-25T17:26:59.994Z"
   },
   {
    "duration": 8,
    "start_time": "2023-05-25T17:39:26.726Z"
   },
   {
    "duration": 63,
    "start_time": "2023-05-25T17:39:31.487Z"
   },
   {
    "duration": 64,
    "start_time": "2023-05-25T17:39:49.924Z"
   },
   {
    "duration": 68,
    "start_time": "2023-05-25T17:39:52.106Z"
   },
   {
    "duration": 1421,
    "start_time": "2023-05-26T13:47:43.381Z"
   },
   {
    "duration": 561,
    "start_time": "2023-05-26T13:47:46.171Z"
   },
   {
    "duration": 14,
    "start_time": "2023-05-26T13:47:48.494Z"
   },
   {
    "duration": 33,
    "start_time": "2023-05-26T13:47:54.655Z"
   },
   {
    "duration": 73,
    "start_time": "2023-05-26T13:49:24.480Z"
   },
   {
    "duration": 88,
    "start_time": "2023-05-26T13:49:26.659Z"
   },
   {
    "duration": 5,
    "start_time": "2023-05-26T13:49:30.887Z"
   },
   {
    "duration": 827,
    "start_time": "2023-05-26T13:49:33.086Z"
   },
   {
    "duration": 14,
    "start_time": "2023-05-26T13:49:35.187Z"
   },
   {
    "duration": 76,
    "start_time": "2023-05-26T13:51:33.275Z"
   },
   {
    "duration": 290,
    "start_time": "2023-05-26T13:53:03.353Z"
   },
   {
    "duration": 98,
    "start_time": "2023-05-26T13:53:46.486Z"
   },
   {
    "duration": 54,
    "start_time": "2023-05-26T13:57:47.475Z"
   },
   {
    "duration": 22,
    "start_time": "2023-05-26T13:58:10.221Z"
   },
   {
    "duration": 52,
    "start_time": "2023-05-26T13:59:56.984Z"
   },
   {
    "duration": 24,
    "start_time": "2023-05-26T14:05:12.775Z"
   },
   {
    "duration": 60,
    "start_time": "2023-05-26T14:10:18.256Z"
   },
   {
    "duration": 207,
    "start_time": "2023-05-26T14:16:29.796Z"
   },
   {
    "duration": 40,
    "start_time": "2023-05-26T14:31:54.158Z"
   },
   {
    "duration": 72,
    "start_time": "2023-05-26T14:32:00.895Z"
   },
   {
    "duration": 7,
    "start_time": "2023-05-26T14:32:45.364Z"
   },
   {
    "duration": 15,
    "start_time": "2023-05-26T14:33:37.949Z"
   },
   {
    "duration": 8,
    "start_time": "2023-05-26T14:34:55.327Z"
   },
   {
    "duration": 92,
    "start_time": "2023-05-26T14:35:55.257Z"
   },
   {
    "duration": 58,
    "start_time": "2023-05-26T14:39:21.118Z"
   },
   {
    "duration": 75,
    "start_time": "2023-05-26T14:39:24.545Z"
   },
   {
    "duration": 17,
    "start_time": "2023-05-26T14:40:42.050Z"
   },
   {
    "duration": 16,
    "start_time": "2023-05-26T14:51:46.069Z"
   },
   {
    "duration": 11,
    "start_time": "2023-05-26T14:54:25.543Z"
   },
   {
    "duration": 13,
    "start_time": "2023-05-26T14:55:12.645Z"
   },
   {
    "duration": 10,
    "start_time": "2023-05-26T14:55:31.399Z"
   },
   {
    "duration": 1444,
    "start_time": "2023-05-26T14:56:00.147Z"
   },
   {
    "duration": 7,
    "start_time": "2023-05-26T14:56:05.049Z"
   },
   {
    "duration": 1280,
    "start_time": "2023-05-26T14:57:13.067Z"
   },
   {
    "duration": 7,
    "start_time": "2023-05-26T14:57:19.647Z"
   },
   {
    "duration": 21,
    "start_time": "2023-05-26T15:02:55.872Z"
   },
   {
    "duration": 15,
    "start_time": "2023-05-26T15:03:16.913Z"
   },
   {
    "duration": 26,
    "start_time": "2023-05-26T15:11:07.254Z"
   },
   {
    "duration": 24,
    "start_time": "2023-05-26T15:11:14.492Z"
   },
   {
    "duration": 94,
    "start_time": "2023-05-26T15:13:45.358Z"
   },
   {
    "duration": 17,
    "start_time": "2023-05-26T15:14:15.658Z"
   },
   {
    "duration": 12,
    "start_time": "2023-05-26T15:14:26.446Z"
   },
   {
    "duration": 9,
    "start_time": "2023-05-26T15:14:30.991Z"
   },
   {
    "duration": 335,
    "start_time": "2023-05-26T15:15:11.090Z"
   },
   {
    "duration": 67,
    "start_time": "2023-05-26T15:16:25.083Z"
   },
   {
    "duration": 65,
    "start_time": "2023-05-26T15:17:14.102Z"
   },
   {
    "duration": 81,
    "start_time": "2023-05-26T15:17:43.105Z"
   },
   {
    "duration": 72,
    "start_time": "2023-05-26T15:17:53.769Z"
   },
   {
    "duration": 73,
    "start_time": "2023-05-26T15:17:57.252Z"
   },
   {
    "duration": 95,
    "start_time": "2023-05-26T15:20:01.353Z"
   },
   {
    "duration": 97,
    "start_time": "2023-05-26T15:20:14.506Z"
   },
   {
    "duration": 99,
    "start_time": "2023-05-26T15:20:39.416Z"
   },
   {
    "duration": 4,
    "start_time": "2023-05-26T15:23:55.740Z"
   },
   {
    "duration": 201,
    "start_time": "2023-05-26T15:23:55.746Z"
   },
   {
    "duration": 7,
    "start_time": "2023-05-26T15:23:55.948Z"
   },
   {
    "duration": 28,
    "start_time": "2023-05-26T15:23:55.957Z"
   },
   {
    "duration": 58,
    "start_time": "2023-05-26T15:23:55.987Z"
   },
   {
    "duration": 81,
    "start_time": "2023-05-26T15:23:56.046Z"
   },
   {
    "duration": 4,
    "start_time": "2023-05-26T15:23:56.129Z"
   },
   {
    "duration": 746,
    "start_time": "2023-05-26T15:23:56.134Z"
   },
   {
    "duration": 9,
    "start_time": "2023-05-26T15:23:56.882Z"
   },
   {
    "duration": 57,
    "start_time": "2023-05-26T15:23:56.893Z"
   },
   {
    "duration": 25,
    "start_time": "2023-05-26T15:23:56.951Z"
   },
   {
    "duration": 197,
    "start_time": "2023-05-26T15:23:56.978Z"
   },
   {
    "duration": 59,
    "start_time": "2023-05-26T15:23:57.177Z"
   },
   {
    "duration": 52,
    "start_time": "2023-05-26T15:23:57.240Z"
   },
   {
    "duration": 21,
    "start_time": "2023-05-26T15:23:57.294Z"
   },
   {
    "duration": 60,
    "start_time": "2023-05-26T15:23:57.317Z"
   },
   {
    "duration": 37,
    "start_time": "2023-05-26T15:23:57.378Z"
   },
   {
    "duration": 23,
    "start_time": "2023-05-26T15:23:57.416Z"
   },
   {
    "duration": 80,
    "start_time": "2023-05-26T15:23:57.441Z"
   },
   {
    "duration": 13,
    "start_time": "2023-05-26T15:23:57.524Z"
   },
   {
    "duration": 51,
    "start_time": "2023-05-26T15:23:57.538Z"
   },
   {
    "duration": 68,
    "start_time": "2023-05-26T15:23:57.591Z"
   },
   {
    "duration": 21,
    "start_time": "2023-05-26T15:23:57.660Z"
   },
   {
    "duration": 35,
    "start_time": "2023-05-26T15:23:57.682Z"
   },
   {
    "duration": 48,
    "start_time": "2023-05-26T15:23:57.719Z"
   },
   {
    "duration": 33,
    "start_time": "2023-05-26T15:23:57.769Z"
   },
   {
    "duration": 85,
    "start_time": "2023-05-26T15:23:57.804Z"
   },
   {
    "duration": 56,
    "start_time": "2023-05-26T15:23:57.891Z"
   },
   {
    "duration": 71,
    "start_time": "2023-05-26T15:23:57.949Z"
   },
   {
    "duration": 9,
    "start_time": "2023-05-26T15:23:58.021Z"
   },
   {
    "duration": 29,
    "start_time": "2023-05-26T15:23:58.031Z"
   },
   {
    "duration": 26,
    "start_time": "2023-05-26T15:24:03.838Z"
   },
   {
    "duration": 88,
    "start_time": "2023-05-26T15:24:16.746Z"
   },
   {
    "duration": 94,
    "start_time": "2023-05-26T15:25:43.246Z"
   },
   {
    "duration": 57,
    "start_time": "2023-05-26T15:26:08.888Z"
   },
   {
    "duration": 1029,
    "start_time": "2023-05-27T01:35:08.280Z"
   },
   {
    "duration": 693,
    "start_time": "2023-05-27T01:35:09.311Z"
   },
   {
    "duration": 10,
    "start_time": "2023-05-27T01:35:10.006Z"
   },
   {
    "duration": 25,
    "start_time": "2023-05-27T01:35:10.018Z"
   },
   {
    "duration": 65,
    "start_time": "2023-05-27T01:35:10.044Z"
   },
   {
    "duration": 79,
    "start_time": "2023-05-27T01:35:10.111Z"
   },
   {
    "duration": 3,
    "start_time": "2023-05-27T01:35:10.192Z"
   },
   {
    "duration": 695,
    "start_time": "2023-05-27T01:35:10.197Z"
   },
   {
    "duration": 9,
    "start_time": "2023-05-27T01:35:10.894Z"
   },
   {
    "duration": 54,
    "start_time": "2023-05-27T01:35:10.905Z"
   },
   {
    "duration": 20,
    "start_time": "2023-05-27T01:35:10.961Z"
   },
   {
    "duration": 271,
    "start_time": "2023-05-27T01:35:10.982Z"
   },
   {
    "duration": 67,
    "start_time": "2023-05-27T01:35:11.254Z"
   },
   {
    "duration": 34,
    "start_time": "2023-05-27T01:35:11.323Z"
   },
   {
    "duration": 35,
    "start_time": "2023-05-27T01:35:11.359Z"
   },
   {
    "duration": 39,
    "start_time": "2023-05-27T01:35:11.396Z"
   },
   {
    "duration": 56,
    "start_time": "2023-05-27T01:35:11.437Z"
   },
   {
    "duration": 23,
    "start_time": "2023-05-27T01:35:11.495Z"
   },
   {
    "duration": 71,
    "start_time": "2023-05-27T01:35:11.520Z"
   },
   {
    "duration": 188,
    "start_time": "2023-05-27T01:35:11.593Z"
   },
   {
    "duration": 36,
    "start_time": "2023-05-27T01:35:11.783Z"
   },
   {
    "duration": 113,
    "start_time": "2023-05-27T01:35:11.821Z"
   },
   {
    "duration": 7,
    "start_time": "2023-05-27T01:35:11.935Z"
   },
   {
    "duration": 47,
    "start_time": "2023-05-27T01:35:11.943Z"
   },
   {
    "duration": 23,
    "start_time": "2023-05-27T01:35:11.992Z"
   },
   {
    "duration": 8,
    "start_time": "2023-05-27T01:35:12.017Z"
   },
   {
    "duration": 78,
    "start_time": "2023-05-27T01:35:12.027Z"
   },
   {
    "duration": 52,
    "start_time": "2023-05-27T01:35:12.108Z"
   },
   {
    "duration": 56,
    "start_time": "2023-05-27T01:35:12.178Z"
   },
   {
    "duration": 114,
    "start_time": "2023-05-27T01:35:12.236Z"
   },
   {
    "duration": 72,
    "start_time": "2023-05-27T01:35:12.352Z"
   },
   {
    "duration": 1268,
    "start_time": "2023-05-27T10:03:11.158Z"
   },
   {
    "duration": 721,
    "start_time": "2023-05-27T10:03:12.429Z"
   },
   {
    "duration": 11,
    "start_time": "2023-05-27T10:03:13.152Z"
   },
   {
    "duration": 19,
    "start_time": "2023-05-27T10:03:13.165Z"
   },
   {
    "duration": 82,
    "start_time": "2023-05-27T10:03:13.186Z"
   },
   {
    "duration": 93,
    "start_time": "2023-05-27T10:03:13.270Z"
   },
   {
    "duration": 3,
    "start_time": "2023-05-27T10:03:13.365Z"
   },
   {
    "duration": 772,
    "start_time": "2023-05-27T10:03:13.370Z"
   },
   {
    "duration": 16,
    "start_time": "2023-05-27T10:03:14.144Z"
   },
   {
    "duration": 66,
    "start_time": "2023-05-27T10:03:14.162Z"
   },
   {
    "duration": 8,
    "start_time": "2023-05-27T10:03:14.249Z"
   },
   {
    "duration": 374,
    "start_time": "2023-05-27T10:03:18.702Z"
   },
   {
    "duration": 306,
    "start_time": "2023-05-27T10:04:11.347Z"
   },
   {
    "duration": 114,
    "start_time": "2023-05-27T10:17:25.087Z"
   },
   {
    "duration": 4,
    "start_time": "2023-05-27T10:17:30.961Z"
   },
   {
    "duration": 194,
    "start_time": "2023-05-27T10:17:30.968Z"
   },
   {
    "duration": 8,
    "start_time": "2023-05-27T10:17:31.164Z"
   },
   {
    "duration": 41,
    "start_time": "2023-05-27T10:17:31.174Z"
   },
   {
    "duration": 69,
    "start_time": "2023-05-27T10:17:31.216Z"
   },
   {
    "duration": 75,
    "start_time": "2023-05-27T10:17:31.287Z"
   },
   {
    "duration": 2,
    "start_time": "2023-05-27T10:17:31.364Z"
   },
   {
    "duration": 753,
    "start_time": "2023-05-27T10:17:31.368Z"
   },
   {
    "duration": 9,
    "start_time": "2023-05-27T10:17:32.123Z"
   },
   {
    "duration": 68,
    "start_time": "2023-05-27T10:17:32.134Z"
   },
   {
    "duration": 6,
    "start_time": "2023-05-27T10:17:32.204Z"
   },
   {
    "duration": 334,
    "start_time": "2023-05-27T10:17:32.211Z"
   },
   {
    "duration": 59,
    "start_time": "2023-05-27T10:17:32.550Z"
   },
   {
    "duration": 56,
    "start_time": "2023-05-27T10:17:32.611Z"
   },
   {
    "duration": 21,
    "start_time": "2023-05-27T10:17:32.669Z"
   },
   {
    "duration": 41,
    "start_time": "2023-05-27T10:17:32.692Z"
   },
   {
    "duration": 51,
    "start_time": "2023-05-27T10:17:32.735Z"
   },
   {
    "duration": 25,
    "start_time": "2023-05-27T10:17:32.789Z"
   },
   {
    "duration": 81,
    "start_time": "2023-05-27T10:17:32.815Z"
   },
   {
    "duration": 181,
    "start_time": "2023-05-27T10:17:35.779Z"
   },
   {
    "duration": 49,
    "start_time": "2023-05-27T10:21:55.830Z"
   },
   {
    "duration": 6,
    "start_time": "2023-05-27T10:22:57.761Z"
   },
   {
    "duration": 29,
    "start_time": "2023-05-27T10:28:34.938Z"
   },
   {
    "duration": 13,
    "start_time": "2023-05-27T10:28:45.803Z"
   },
   {
    "duration": 4,
    "start_time": "2023-05-27T10:29:51.030Z"
   },
   {
    "duration": 9,
    "start_time": "2023-05-27T10:29:54.675Z"
   },
   {
    "duration": 11,
    "start_time": "2023-05-27T10:31:34.941Z"
   },
   {
    "duration": 4,
    "start_time": "2023-05-27T10:31:42.952Z"
   },
   {
    "duration": 156,
    "start_time": "2023-05-27T10:31:42.957Z"
   },
   {
    "duration": 8,
    "start_time": "2023-05-27T10:31:43.115Z"
   },
   {
    "duration": 33,
    "start_time": "2023-05-27T10:31:43.125Z"
   },
   {
    "duration": 51,
    "start_time": "2023-05-27T10:31:43.160Z"
   },
   {
    "duration": 94,
    "start_time": "2023-05-27T10:31:43.213Z"
   },
   {
    "duration": 3,
    "start_time": "2023-05-27T10:31:43.308Z"
   },
   {
    "duration": 729,
    "start_time": "2023-05-27T10:31:43.313Z"
   },
   {
    "duration": 13,
    "start_time": "2023-05-27T10:31:44.043Z"
   },
   {
    "duration": 64,
    "start_time": "2023-05-27T10:31:44.058Z"
   },
   {
    "duration": 24,
    "start_time": "2023-05-27T10:31:44.125Z"
   },
   {
    "duration": 465,
    "start_time": "2023-05-27T10:31:44.151Z"
   },
   {
    "duration": 66,
    "start_time": "2023-05-27T10:31:44.618Z"
   },
   {
    "duration": 31,
    "start_time": "2023-05-27T10:31:44.685Z"
   },
   {
    "duration": 35,
    "start_time": "2023-05-27T10:31:44.718Z"
   },
   {
    "duration": 42,
    "start_time": "2023-05-27T10:31:44.755Z"
   },
   {
    "duration": 59,
    "start_time": "2023-05-27T10:31:44.799Z"
   },
   {
    "duration": 25,
    "start_time": "2023-05-27T10:31:44.859Z"
   },
   {
    "duration": 79,
    "start_time": "2023-05-27T10:31:44.885Z"
   },
   {
    "duration": 5,
    "start_time": "2023-05-27T10:31:44.966Z"
   },
   {
    "duration": 21,
    "start_time": "2023-05-27T10:32:28.686Z"
   },
   {
    "duration": 11,
    "start_time": "2023-05-27T10:32:54.254Z"
   },
   {
    "duration": 6,
    "start_time": "2023-05-27T10:34:54.010Z"
   },
   {
    "duration": 12,
    "start_time": "2023-05-27T10:34:56.697Z"
   },
   {
    "duration": 3,
    "start_time": "2023-05-27T10:35:09.802Z"
   },
   {
    "duration": 153,
    "start_time": "2023-05-27T10:35:09.807Z"
   },
   {
    "duration": 8,
    "start_time": "2023-05-27T10:35:09.962Z"
   },
   {
    "duration": 19,
    "start_time": "2023-05-27T10:35:09.972Z"
   },
   {
    "duration": 75,
    "start_time": "2023-05-27T10:35:09.994Z"
   },
   {
    "duration": 57,
    "start_time": "2023-05-27T10:35:10.071Z"
   },
   {
    "duration": 3,
    "start_time": "2023-05-27T10:35:10.130Z"
   },
   {
    "duration": 729,
    "start_time": "2023-05-27T10:35:10.150Z"
   },
   {
    "duration": 10,
    "start_time": "2023-05-27T10:35:10.881Z"
   },
   {
    "duration": 57,
    "start_time": "2023-05-27T10:35:10.894Z"
   },
   {
    "duration": 6,
    "start_time": "2023-05-27T10:35:10.953Z"
   },
   {
    "duration": 332,
    "start_time": "2023-05-27T10:35:10.961Z"
   },
   {
    "duration": 78,
    "start_time": "2023-05-27T10:35:11.297Z"
   },
   {
    "duration": 34,
    "start_time": "2023-05-27T10:35:11.376Z"
   },
   {
    "duration": 18,
    "start_time": "2023-05-27T10:35:11.412Z"
   },
   {
    "duration": 57,
    "start_time": "2023-05-27T10:35:11.432Z"
   },
   {
    "duration": 60,
    "start_time": "2023-05-27T10:35:11.491Z"
   },
   {
    "duration": 22,
    "start_time": "2023-05-27T10:35:11.552Z"
   },
   {
    "duration": 62,
    "start_time": "2023-05-27T10:35:11.576Z"
   },
   {
    "duration": 13,
    "start_time": "2023-05-27T10:35:11.639Z"
   },
   {
    "duration": 7,
    "start_time": "2023-05-27T10:35:11.654Z"
   },
   {
    "duration": 11,
    "start_time": "2023-05-27T10:35:13.429Z"
   },
   {
    "duration": 15,
    "start_time": "2023-05-27T10:39:04.542Z"
   },
   {
    "duration": 15,
    "start_time": "2023-05-27T10:39:23.350Z"
   },
   {
    "duration": 20,
    "start_time": "2023-05-27T10:41:49.549Z"
   },
   {
    "duration": 14,
    "start_time": "2023-05-27T10:42:19.189Z"
   },
   {
    "duration": 7,
    "start_time": "2023-05-27T10:42:31.075Z"
   },
   {
    "duration": 15,
    "start_time": "2023-05-27T10:42:33.841Z"
   },
   {
    "duration": 4,
    "start_time": "2023-05-27T10:49:44.491Z"
   },
   {
    "duration": 12,
    "start_time": "2023-05-27T10:49:46.980Z"
   },
   {
    "duration": 14,
    "start_time": "2023-05-27T10:49:53.253Z"
   },
   {
    "duration": 14,
    "start_time": "2023-05-27T10:51:12.443Z"
   },
   {
    "duration": 24,
    "start_time": "2023-05-27T10:52:54.161Z"
   },
   {
    "duration": 28,
    "start_time": "2023-05-27T10:53:08.719Z"
   },
   {
    "duration": 12,
    "start_time": "2023-05-27T10:53:20.246Z"
   },
   {
    "duration": 14,
    "start_time": "2023-05-27T10:54:06.896Z"
   },
   {
    "duration": 18,
    "start_time": "2023-05-27T10:55:03.688Z"
   },
   {
    "duration": 41,
    "start_time": "2023-05-27T10:55:53.312Z"
   },
   {
    "duration": 46,
    "start_time": "2023-05-27T11:03:08.591Z"
   },
   {
    "duration": 613,
    "start_time": "2023-05-27T11:05:14.467Z"
   },
   {
    "duration": 9,
    "start_time": "2023-05-27T11:06:27.790Z"
   },
   {
    "duration": 8,
    "start_time": "2023-05-27T11:06:56.689Z"
   },
   {
    "duration": 9,
    "start_time": "2023-05-27T11:07:00.693Z"
   },
   {
    "duration": 17,
    "start_time": "2023-05-27T11:07:31.444Z"
   },
   {
    "duration": 26,
    "start_time": "2023-05-27T11:07:41.742Z"
   },
   {
    "duration": 8,
    "start_time": "2023-05-27T11:08:04.497Z"
   },
   {
    "duration": 29,
    "start_time": "2023-05-27T11:08:10.303Z"
   },
   {
    "duration": 8,
    "start_time": "2023-05-27T11:08:22.239Z"
   },
   {
    "duration": 17,
    "start_time": "2023-05-27T11:08:24.019Z"
   },
   {
    "duration": 10,
    "start_time": "2023-05-27T11:08:31.289Z"
   },
   {
    "duration": 18,
    "start_time": "2023-05-27T11:08:45.806Z"
   },
   {
    "duration": 20,
    "start_time": "2023-05-27T11:09:33.843Z"
   }
  ],
  "kernelspec": {
   "display_name": "Python 3 (ipykernel)",
   "language": "python",
   "name": "python3"
  },
  "language_info": {
   "codemirror_mode": {
    "name": "ipython",
    "version": 3
   },
   "file_extension": ".py",
   "mimetype": "text/x-python",
   "name": "python",
   "nbconvert_exporter": "python",
   "pygments_lexer": "ipython3",
   "version": "3.9.15"
  },
  "nbTranslate": {
   "displayLangs": [],
   "hotkey": "alt-t",
   "langInMainMenu": true,
   "sourceLang": "ru",
   "targetLang": "en",
   "useGoogleTranslate": true
  },
  "toc": {
   "base_numbering": 1,
   "nav_menu": {},
   "number_sections": true,
   "sideBar": true,
   "skip_h1_title": true,
   "title_cell": "Table of Contents",
   "title_sidebar": "Contents",
   "toc_cell": false,
   "toc_position": {},
   "toc_section_display": true,
   "toc_window_display": false
  }
 },
 "nbformat": 4,
 "nbformat_minor": 2
}
