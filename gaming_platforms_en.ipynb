{
 "cells": [
  {
   "attachments": {},
   "cell_type": "markdown",
   "metadata": {},
   "source": [
    "# About the project"
   ]
  },
  {
   "attachments": {},
   "cell_type": "markdown",
   "metadata": {},
   "source": [
    "**The purpose of this project:**\n",
    "\n",
    "Using historical data on sales of computer games, user and expert ratings, genres and platforms, identify patterns that determine the success of a game.\n",
    "\n",
    "The dataset is until the year 2016 (sales data for 2016 is not complete)."
   ]
  },
  {
   "attachments": {},
   "cell_type": "markdown",
   "metadata": {},
   "source": [
    "# Project findings summary"
   ]
  },
  {
   "attachments": {},
   "cell_type": "markdown",
   "metadata": {},
   "source": [
    "1. PS4 and Xbox One platforms are popular and growing at the moment\n",
    "2. Sales of games for these platforms are affected by critical ratings, especially if the rating is above 60 points.\n",
    "3. Popular genres in terms of sales - action, shooters, sports, RPG.\n",
    "4. Shooters, Sports games, Platformers are much better than other genres on average.\n",
    "5. The portrait of a game buyer in the US, EU and Japan is different. While shooters and action games are popular in the US and the EU, the RPG genre is the most popular in Japan.\n",
    "6. Each genre has 1-2 most popular ESRB game ratings. For example, for racing and sports games - E, and for shooters and action games - M.\n",
    "7. In Japan, most games do not have a rating."
   ]
  },
  {
   "cell_type": "code",
   "execution_count": 1,
   "metadata": {},
   "outputs": [
    {
     "data": {
      "text/html": [
       "<div>\n",
       "<style scoped>\n",
       "    .dataframe tbody tr th:only-of-type {\n",
       "        vertical-align: middle;\n",
       "    }\n",
       "\n",
       "    .dataframe tbody tr th {\n",
       "        vertical-align: top;\n",
       "    }\n",
       "\n",
       "    .dataframe thead th {\n",
       "        text-align: right;\n",
       "    }\n",
       "</style>\n",
       "<table border=\"1\" class=\"dataframe\">\n",
       "  <thead>\n",
       "    <tr style=\"text-align: right;\">\n",
       "      <th></th>\n",
       "      <th>Name</th>\n",
       "      <th>Platform</th>\n",
       "      <th>Year_of_Release</th>\n",
       "      <th>Genre</th>\n",
       "      <th>NA_sales</th>\n",
       "      <th>EU_sales</th>\n",
       "      <th>JP_sales</th>\n",
       "      <th>Other_sales</th>\n",
       "      <th>Critic_Score</th>\n",
       "      <th>User_Score</th>\n",
       "      <th>Rating</th>\n",
       "    </tr>\n",
       "  </thead>\n",
       "  <tbody>\n",
       "    <tr>\n",
       "      <th>0</th>\n",
       "      <td>Wii Sports</td>\n",
       "      <td>Wii</td>\n",
       "      <td>2006.0</td>\n",
       "      <td>Sports</td>\n",
       "      <td>41.36</td>\n",
       "      <td>28.96</td>\n",
       "      <td>3.77</td>\n",
       "      <td>8.45</td>\n",
       "      <td>76.0</td>\n",
       "      <td>8</td>\n",
       "      <td>E</td>\n",
       "    </tr>\n",
       "    <tr>\n",
       "      <th>1</th>\n",
       "      <td>Super Mario Bros.</td>\n",
       "      <td>NES</td>\n",
       "      <td>1985.0</td>\n",
       "      <td>Platform</td>\n",
       "      <td>29.08</td>\n",
       "      <td>3.58</td>\n",
       "      <td>6.81</td>\n",
       "      <td>0.77</td>\n",
       "      <td>NaN</td>\n",
       "      <td>NaN</td>\n",
       "      <td>NaN</td>\n",
       "    </tr>\n",
       "    <tr>\n",
       "      <th>2</th>\n",
       "      <td>Mario Kart Wii</td>\n",
       "      <td>Wii</td>\n",
       "      <td>2008.0</td>\n",
       "      <td>Racing</td>\n",
       "      <td>15.68</td>\n",
       "      <td>12.76</td>\n",
       "      <td>3.79</td>\n",
       "      <td>3.29</td>\n",
       "      <td>82.0</td>\n",
       "      <td>8.3</td>\n",
       "      <td>E</td>\n",
       "    </tr>\n",
       "    <tr>\n",
       "      <th>3</th>\n",
       "      <td>Wii Sports Resort</td>\n",
       "      <td>Wii</td>\n",
       "      <td>2009.0</td>\n",
       "      <td>Sports</td>\n",
       "      <td>15.61</td>\n",
       "      <td>10.93</td>\n",
       "      <td>3.28</td>\n",
       "      <td>2.95</td>\n",
       "      <td>80.0</td>\n",
       "      <td>8</td>\n",
       "      <td>E</td>\n",
       "    </tr>\n",
       "    <tr>\n",
       "      <th>4</th>\n",
       "      <td>Pokemon Red/Pokemon Blue</td>\n",
       "      <td>GB</td>\n",
       "      <td>1996.0</td>\n",
       "      <td>Role-Playing</td>\n",
       "      <td>11.27</td>\n",
       "      <td>8.89</td>\n",
       "      <td>10.22</td>\n",
       "      <td>1.00</td>\n",
       "      <td>NaN</td>\n",
       "      <td>NaN</td>\n",
       "      <td>NaN</td>\n",
       "    </tr>\n",
       "  </tbody>\n",
       "</table>\n",
       "</div>"
      ],
      "text/plain": [
       "                       Name Platform  Year_of_Release         Genre  NA_sales  \\\n",
       "0                Wii Sports      Wii           2006.0        Sports     41.36   \n",
       "1         Super Mario Bros.      NES           1985.0      Platform     29.08   \n",
       "2            Mario Kart Wii      Wii           2008.0        Racing     15.68   \n",
       "3         Wii Sports Resort      Wii           2009.0        Sports     15.61   \n",
       "4  Pokemon Red/Pokemon Blue       GB           1996.0  Role-Playing     11.27   \n",
       "\n",
       "   EU_sales  JP_sales  Other_sales  Critic_Score User_Score Rating  \n",
       "0     28.96      3.77         8.45          76.0          8      E  \n",
       "1      3.58      6.81         0.77           NaN        NaN    NaN  \n",
       "2     12.76      3.79         3.29          82.0        8.3      E  \n",
       "3     10.93      3.28         2.95          80.0          8      E  \n",
       "4      8.89     10.22         1.00           NaN        NaN    NaN  "
      ]
     },
     "execution_count": 1,
     "metadata": {},
     "output_type": "execute_result"
    }
   ],
   "source": [
    "#import libraries\n",
    "import pandas as pd\n",
    "import numpy as np\n",
    "import seaborn as sns\n",
    "from matplotlib import pyplot as plt\n",
    "from scipy import stats as st\n",
    "\n",
    "#opening dataset\n",
    "data = pd.read_csv('./datasets/games.csv')\n",
    "\n",
    "#printing out the first 5 lines\n",
    "data.head()"
   ]
  },
  {
   "cell_type": "code",
   "execution_count": 2,
   "metadata": {},
   "outputs": [],
   "source": [
    "#removing full duplicates\n",
    "data = data.drop_duplicates()"
   ]
  },
  {
   "cell_type": "code",
   "execution_count": 3,
   "metadata": {
    "scrolled": true
   },
   "outputs": [
    {
     "name": "stdout",
     "output_type": "stream",
     "text": [
      "<class 'pandas.core.frame.DataFrame'>\n",
      "Int64Index: 16715 entries, 0 to 16714\n",
      "Data columns (total 11 columns):\n",
      " #   Column           Non-Null Count  Dtype  \n",
      "---  ------           --------------  -----  \n",
      " 0   Name             16713 non-null  object \n",
      " 1   Platform         16715 non-null  object \n",
      " 2   Year_of_Release  16446 non-null  float64\n",
      " 3   Genre            16713 non-null  object \n",
      " 4   NA_sales         16715 non-null  float64\n",
      " 5   EU_sales         16715 non-null  float64\n",
      " 6   JP_sales         16715 non-null  float64\n",
      " 7   Other_sales      16715 non-null  float64\n",
      " 8   Critic_Score     8137 non-null   float64\n",
      " 9   User_Score       10014 non-null  object \n",
      " 10  Rating           9949 non-null   object \n",
      "dtypes: float64(6), object(5)\n",
      "memory usage: 1.5+ MB\n"
     ]
    }
   ],
   "source": [
    "#checking data types and missing values\n",
    "data.info()"
   ]
  },
  {
   "attachments": {},
   "cell_type": "markdown",
   "metadata": {},
   "source": [
    "Data Description:\n",
    "- About half of the data on user ratings, critics and game ratings are missing.\n",
    "- A couple of games are missing names. Further analysis is required - if they do not have genre data, then they must be removed from further calculations.\n",
    "- Approximately 2% of the data do not have values for the year the game was released - it is necessary to remove them from the calculations.\n",
    "\n",
    "Columns that require data type replacement:\n",
    "- User-Score on a numeric value (float)\n",
    "- Year of release to an integer value (int)"
   ]
  },
  {
   "cell_type": "code",
   "execution_count": 4,
   "metadata": {},
   "outputs": [
    {
     "data": {
      "text/html": [
       "<div>\n",
       "<style scoped>\n",
       "    .dataframe tbody tr th:only-of-type {\n",
       "        vertical-align: middle;\n",
       "    }\n",
       "\n",
       "    .dataframe tbody tr th {\n",
       "        vertical-align: top;\n",
       "    }\n",
       "\n",
       "    .dataframe thead th {\n",
       "        text-align: right;\n",
       "    }\n",
       "</style>\n",
       "<table border=\"1\" class=\"dataframe\">\n",
       "  <thead>\n",
       "    <tr style=\"text-align: right;\">\n",
       "      <th></th>\n",
       "      <th>Year_of_Release</th>\n",
       "      <th>NA_sales</th>\n",
       "      <th>EU_sales</th>\n",
       "      <th>JP_sales</th>\n",
       "      <th>Other_sales</th>\n",
       "      <th>Critic_Score</th>\n",
       "    </tr>\n",
       "  </thead>\n",
       "  <tbody>\n",
       "    <tr>\n",
       "      <th>count</th>\n",
       "      <td>16446.000000</td>\n",
       "      <td>16715.000000</td>\n",
       "      <td>16715.000000</td>\n",
       "      <td>16715.000000</td>\n",
       "      <td>16715.000000</td>\n",
       "      <td>8137.000000</td>\n",
       "    </tr>\n",
       "    <tr>\n",
       "      <th>mean</th>\n",
       "      <td>2006.484616</td>\n",
       "      <td>0.263377</td>\n",
       "      <td>0.145060</td>\n",
       "      <td>0.077617</td>\n",
       "      <td>0.047342</td>\n",
       "      <td>68.967679</td>\n",
       "    </tr>\n",
       "    <tr>\n",
       "      <th>std</th>\n",
       "      <td>5.877050</td>\n",
       "      <td>0.813604</td>\n",
       "      <td>0.503339</td>\n",
       "      <td>0.308853</td>\n",
       "      <td>0.186731</td>\n",
       "      <td>13.938165</td>\n",
       "    </tr>\n",
       "    <tr>\n",
       "      <th>min</th>\n",
       "      <td>1980.000000</td>\n",
       "      <td>0.000000</td>\n",
       "      <td>0.000000</td>\n",
       "      <td>0.000000</td>\n",
       "      <td>0.000000</td>\n",
       "      <td>13.000000</td>\n",
       "    </tr>\n",
       "    <tr>\n",
       "      <th>25%</th>\n",
       "      <td>2003.000000</td>\n",
       "      <td>0.000000</td>\n",
       "      <td>0.000000</td>\n",
       "      <td>0.000000</td>\n",
       "      <td>0.000000</td>\n",
       "      <td>60.000000</td>\n",
       "    </tr>\n",
       "    <tr>\n",
       "      <th>50%</th>\n",
       "      <td>2007.000000</td>\n",
       "      <td>0.080000</td>\n",
       "      <td>0.020000</td>\n",
       "      <td>0.000000</td>\n",
       "      <td>0.010000</td>\n",
       "      <td>71.000000</td>\n",
       "    </tr>\n",
       "    <tr>\n",
       "      <th>75%</th>\n",
       "      <td>2010.000000</td>\n",
       "      <td>0.240000</td>\n",
       "      <td>0.110000</td>\n",
       "      <td>0.040000</td>\n",
       "      <td>0.030000</td>\n",
       "      <td>79.000000</td>\n",
       "    </tr>\n",
       "    <tr>\n",
       "      <th>max</th>\n",
       "      <td>2016.000000</td>\n",
       "      <td>41.360000</td>\n",
       "      <td>28.960000</td>\n",
       "      <td>10.220000</td>\n",
       "      <td>10.570000</td>\n",
       "      <td>98.000000</td>\n",
       "    </tr>\n",
       "  </tbody>\n",
       "</table>\n",
       "</div>"
      ],
      "text/plain": [
       "       Year_of_Release      NA_sales      EU_sales      JP_sales  \\\n",
       "count     16446.000000  16715.000000  16715.000000  16715.000000   \n",
       "mean       2006.484616      0.263377      0.145060      0.077617   \n",
       "std           5.877050      0.813604      0.503339      0.308853   \n",
       "min        1980.000000      0.000000      0.000000      0.000000   \n",
       "25%        2003.000000      0.000000      0.000000      0.000000   \n",
       "50%        2007.000000      0.080000      0.020000      0.000000   \n",
       "75%        2010.000000      0.240000      0.110000      0.040000   \n",
       "max        2016.000000     41.360000     28.960000     10.220000   \n",
       "\n",
       "        Other_sales  Critic_Score  \n",
       "count  16715.000000   8137.000000  \n",
       "mean       0.047342     68.967679  \n",
       "std        0.186731     13.938165  \n",
       "min        0.000000     13.000000  \n",
       "25%        0.000000     60.000000  \n",
       "50%        0.010000     71.000000  \n",
       "75%        0.030000     79.000000  \n",
       "max       10.570000     98.000000  "
      ]
     },
     "execution_count": 4,
     "metadata": {},
     "output_type": "execute_result"
    }
   ],
   "source": [
    "#checking data for anomalies\n",
    "data.describe()"
   ]
  },
  {
   "attachments": {},
   "cell_type": "markdown",
   "metadata": {},
   "source": [
    "1. Preliminarily, sales data in all countries seem very strange - the average differs from the maximum by two orders of magnitude\n",
    "2. Check User_Score after datatype change"
   ]
  },
  {
   "attachments": {},
   "cell_type": "markdown",
   "metadata": {},
   "source": [
    "# Preparing data\n"
   ]
  },
  {
   "attachments": {},
   "cell_type": "markdown",
   "metadata": {},
   "source": [
    "**Renaming columns**"
   ]
  },
  {
   "cell_type": "code",
   "execution_count": 5,
   "metadata": {},
   "outputs": [],
   "source": [
    "#changing column names to lower case\n",
    "data.columns= data.columns.str.lower()"
   ]
  },
  {
   "cell_type": "code",
   "execution_count": 6,
   "metadata": {},
   "outputs": [
    {
     "data": {
      "text/html": [
       "<div>\n",
       "<style scoped>\n",
       "    .dataframe tbody tr th:only-of-type {\n",
       "        vertical-align: middle;\n",
       "    }\n",
       "\n",
       "    .dataframe tbody tr th {\n",
       "        vertical-align: top;\n",
       "    }\n",
       "\n",
       "    .dataframe thead th {\n",
       "        text-align: right;\n",
       "    }\n",
       "</style>\n",
       "<table border=\"1\" class=\"dataframe\">\n",
       "  <thead>\n",
       "    <tr style=\"text-align: right;\">\n",
       "      <th></th>\n",
       "      <th>name</th>\n",
       "      <th>platform</th>\n",
       "      <th>year_of_release</th>\n",
       "      <th>genre</th>\n",
       "      <th>na_sales</th>\n",
       "      <th>eu_sales</th>\n",
       "      <th>jp_sales</th>\n",
       "      <th>other_sales</th>\n",
       "      <th>critic_score</th>\n",
       "      <th>user_score</th>\n",
       "      <th>rating</th>\n",
       "    </tr>\n",
       "  </thead>\n",
       "  <tbody>\n",
       "    <tr>\n",
       "      <th>0</th>\n",
       "      <td>Wii Sports</td>\n",
       "      <td>Wii</td>\n",
       "      <td>2006.0</td>\n",
       "      <td>Sports</td>\n",
       "      <td>41.36</td>\n",
       "      <td>28.96</td>\n",
       "      <td>3.77</td>\n",
       "      <td>8.45</td>\n",
       "      <td>76.0</td>\n",
       "      <td>8</td>\n",
       "      <td>E</td>\n",
       "    </tr>\n",
       "    <tr>\n",
       "      <th>1</th>\n",
       "      <td>Super Mario Bros.</td>\n",
       "      <td>NES</td>\n",
       "      <td>1985.0</td>\n",
       "      <td>Platform</td>\n",
       "      <td>29.08</td>\n",
       "      <td>3.58</td>\n",
       "      <td>6.81</td>\n",
       "      <td>0.77</td>\n",
       "      <td>NaN</td>\n",
       "      <td>NaN</td>\n",
       "      <td>NaN</td>\n",
       "    </tr>\n",
       "    <tr>\n",
       "      <th>2</th>\n",
       "      <td>Mario Kart Wii</td>\n",
       "      <td>Wii</td>\n",
       "      <td>2008.0</td>\n",
       "      <td>Racing</td>\n",
       "      <td>15.68</td>\n",
       "      <td>12.76</td>\n",
       "      <td>3.79</td>\n",
       "      <td>3.29</td>\n",
       "      <td>82.0</td>\n",
       "      <td>8.3</td>\n",
       "      <td>E</td>\n",
       "    </tr>\n",
       "    <tr>\n",
       "      <th>3</th>\n",
       "      <td>Wii Sports Resort</td>\n",
       "      <td>Wii</td>\n",
       "      <td>2009.0</td>\n",
       "      <td>Sports</td>\n",
       "      <td>15.61</td>\n",
       "      <td>10.93</td>\n",
       "      <td>3.28</td>\n",
       "      <td>2.95</td>\n",
       "      <td>80.0</td>\n",
       "      <td>8</td>\n",
       "      <td>E</td>\n",
       "    </tr>\n",
       "    <tr>\n",
       "      <th>4</th>\n",
       "      <td>Pokemon Red/Pokemon Blue</td>\n",
       "      <td>GB</td>\n",
       "      <td>1996.0</td>\n",
       "      <td>Role-Playing</td>\n",
       "      <td>11.27</td>\n",
       "      <td>8.89</td>\n",
       "      <td>10.22</td>\n",
       "      <td>1.00</td>\n",
       "      <td>NaN</td>\n",
       "      <td>NaN</td>\n",
       "      <td>NaN</td>\n",
       "    </tr>\n",
       "  </tbody>\n",
       "</table>\n",
       "</div>"
      ],
      "text/plain": [
       "                       name platform  year_of_release         genre  na_sales  \\\n",
       "0                Wii Sports      Wii           2006.0        Sports     41.36   \n",
       "1         Super Mario Bros.      NES           1985.0      Platform     29.08   \n",
       "2            Mario Kart Wii      Wii           2008.0        Racing     15.68   \n",
       "3         Wii Sports Resort      Wii           2009.0        Sports     15.61   \n",
       "4  Pokemon Red/Pokemon Blue       GB           1996.0  Role-Playing     11.27   \n",
       "\n",
       "   eu_sales  jp_sales  other_sales  critic_score user_score rating  \n",
       "0     28.96      3.77         8.45          76.0          8      E  \n",
       "1      3.58      6.81         0.77           NaN        NaN    NaN  \n",
       "2     12.76      3.79         3.29          82.0        8.3      E  \n",
       "3     10.93      3.28         2.95          80.0          8      E  \n",
       "4      8.89     10.22         1.00           NaN        NaN    NaN  "
      ]
     },
     "execution_count": 6,
     "metadata": {},
     "output_type": "execute_result"
    }
   ],
   "source": [
    "data.head()"
   ]
  },
  {
   "attachments": {},
   "cell_type": "markdown",
   "metadata": {},
   "source": [
    "**Preparing data by sales values**"
   ]
  },
  {
   "cell_type": "code",
   "execution_count": 7,
   "metadata": {},
   "outputs": [
    {
     "data": {
      "text/html": [
       "<div>\n",
       "<style scoped>\n",
       "    .dataframe tbody tr th:only-of-type {\n",
       "        vertical-align: middle;\n",
       "    }\n",
       "\n",
       "    .dataframe tbody tr th {\n",
       "        vertical-align: top;\n",
       "    }\n",
       "\n",
       "    .dataframe thead th {\n",
       "        text-align: right;\n",
       "    }\n",
       "</style>\n",
       "<table border=\"1\" class=\"dataframe\">\n",
       "  <thead>\n",
       "    <tr style=\"text-align: right;\">\n",
       "      <th></th>\n",
       "      <th>name</th>\n",
       "      <th>platform</th>\n",
       "      <th>year_of_release</th>\n",
       "      <th>genre</th>\n",
       "      <th>na_sales</th>\n",
       "      <th>eu_sales</th>\n",
       "      <th>jp_sales</th>\n",
       "      <th>other_sales</th>\n",
       "      <th>critic_score</th>\n",
       "      <th>user_score</th>\n",
       "      <th>rating</th>\n",
       "    </tr>\n",
       "  </thead>\n",
       "  <tbody>\n",
       "    <tr>\n",
       "      <th>215</th>\n",
       "      <td>Monster Hunter Freedom 3</td>\n",
       "      <td>PSP</td>\n",
       "      <td>2010.0</td>\n",
       "      <td>Role-Playing</td>\n",
       "      <td>0.0</td>\n",
       "      <td>0.00</td>\n",
       "      <td>4.87</td>\n",
       "      <td>0.00</td>\n",
       "      <td>NaN</td>\n",
       "      <td>NaN</td>\n",
       "      <td>NaN</td>\n",
       "    </tr>\n",
       "    <tr>\n",
       "      <th>340</th>\n",
       "      <td>Friend Collection</td>\n",
       "      <td>DS</td>\n",
       "      <td>2009.0</td>\n",
       "      <td>Misc</td>\n",
       "      <td>0.0</td>\n",
       "      <td>0.00</td>\n",
       "      <td>3.67</td>\n",
       "      <td>0.00</td>\n",
       "      <td>NaN</td>\n",
       "      <td>NaN</td>\n",
       "      <td>NaN</td>\n",
       "    </tr>\n",
       "    <tr>\n",
       "      <th>385</th>\n",
       "      <td>Monster Hunter 4</td>\n",
       "      <td>3DS</td>\n",
       "      <td>2013.0</td>\n",
       "      <td>Role-Playing</td>\n",
       "      <td>0.0</td>\n",
       "      <td>0.00</td>\n",
       "      <td>3.44</td>\n",
       "      <td>0.00</td>\n",
       "      <td>NaN</td>\n",
       "      <td>NaN</td>\n",
       "      <td>NaN</td>\n",
       "    </tr>\n",
       "    <tr>\n",
       "      <th>403</th>\n",
       "      <td>English Training: Have Fun Improving Your Skills!</td>\n",
       "      <td>DS</td>\n",
       "      <td>2006.0</td>\n",
       "      <td>Misc</td>\n",
       "      <td>0.0</td>\n",
       "      <td>0.99</td>\n",
       "      <td>2.32</td>\n",
       "      <td>0.02</td>\n",
       "      <td>NaN</td>\n",
       "      <td>NaN</td>\n",
       "      <td>NaN</td>\n",
       "    </tr>\n",
       "    <tr>\n",
       "      <th>428</th>\n",
       "      <td>Dragon Quest VI: Maboroshi no Daichi</td>\n",
       "      <td>SNES</td>\n",
       "      <td>1995.0</td>\n",
       "      <td>Role-Playing</td>\n",
       "      <td>0.0</td>\n",
       "      <td>0.00</td>\n",
       "      <td>3.19</td>\n",
       "      <td>0.00</td>\n",
       "      <td>NaN</td>\n",
       "      <td>NaN</td>\n",
       "      <td>NaN</td>\n",
       "    </tr>\n",
       "    <tr>\n",
       "      <th>530</th>\n",
       "      <td>Dragon Quest V: Tenkuu no Hanayome</td>\n",
       "      <td>SNES</td>\n",
       "      <td>1992.0</td>\n",
       "      <td>Role-Playing</td>\n",
       "      <td>0.0</td>\n",
       "      <td>0.00</td>\n",
       "      <td>2.78</td>\n",
       "      <td>0.01</td>\n",
       "      <td>NaN</td>\n",
       "      <td>NaN</td>\n",
       "      <td>NaN</td>\n",
       "    </tr>\n",
       "    <tr>\n",
       "      <th>563</th>\n",
       "      <td>Yokai Watch 2 Shinuchi</td>\n",
       "      <td>3DS</td>\n",
       "      <td>2014.0</td>\n",
       "      <td>Role-Playing</td>\n",
       "      <td>0.0</td>\n",
       "      <td>0.00</td>\n",
       "      <td>2.68</td>\n",
       "      <td>0.00</td>\n",
       "      <td>NaN</td>\n",
       "      <td>NaN</td>\n",
       "      <td>NaN</td>\n",
       "    </tr>\n",
       "    <tr>\n",
       "      <th>574</th>\n",
       "      <td>Super Mario Bros.: The Lost Levels</td>\n",
       "      <td>NES</td>\n",
       "      <td>1986.0</td>\n",
       "      <td>Platform</td>\n",
       "      <td>0.0</td>\n",
       "      <td>0.00</td>\n",
       "      <td>2.65</td>\n",
       "      <td>0.00</td>\n",
       "      <td>NaN</td>\n",
       "      <td>NaN</td>\n",
       "      <td>NaN</td>\n",
       "    </tr>\n",
       "    <tr>\n",
       "      <th>632</th>\n",
       "      <td>Final Fantasy V</td>\n",
       "      <td>SNES</td>\n",
       "      <td>1992.0</td>\n",
       "      <td>Role-Playing</td>\n",
       "      <td>0.0</td>\n",
       "      <td>0.00</td>\n",
       "      <td>2.43</td>\n",
       "      <td>0.02</td>\n",
       "      <td>NaN</td>\n",
       "      <td>NaN</td>\n",
       "      <td>NaN</td>\n",
       "    </tr>\n",
       "    <tr>\n",
       "      <th>674</th>\n",
       "      <td>Dragon Warrior Monsters</td>\n",
       "      <td>GB</td>\n",
       "      <td>1998.0</td>\n",
       "      <td>Role-Playing</td>\n",
       "      <td>0.0</td>\n",
       "      <td>0.00</td>\n",
       "      <td>2.34</td>\n",
       "      <td>0.01</td>\n",
       "      <td>NaN</td>\n",
       "      <td>NaN</td>\n",
       "      <td>NaN</td>\n",
       "    </tr>\n",
       "  </tbody>\n",
       "</table>\n",
       "</div>"
      ],
      "text/plain": [
       "                                                  name platform  \\\n",
       "215                           Monster Hunter Freedom 3      PSP   \n",
       "340                                  Friend Collection       DS   \n",
       "385                                   Monster Hunter 4      3DS   \n",
       "403  English Training: Have Fun Improving Your Skills!       DS   \n",
       "428               Dragon Quest VI: Maboroshi no Daichi     SNES   \n",
       "530                 Dragon Quest V: Tenkuu no Hanayome     SNES   \n",
       "563                             Yokai Watch 2 Shinuchi      3DS   \n",
       "574                 Super Mario Bros.: The Lost Levels      NES   \n",
       "632                                    Final Fantasy V     SNES   \n",
       "674                            Dragon Warrior Monsters       GB   \n",
       "\n",
       "     year_of_release         genre  na_sales  eu_sales  jp_sales  other_sales  \\\n",
       "215           2010.0  Role-Playing       0.0      0.00      4.87         0.00   \n",
       "340           2009.0          Misc       0.0      0.00      3.67         0.00   \n",
       "385           2013.0  Role-Playing       0.0      0.00      3.44         0.00   \n",
       "403           2006.0          Misc       0.0      0.99      2.32         0.02   \n",
       "428           1995.0  Role-Playing       0.0      0.00      3.19         0.00   \n",
       "530           1992.0  Role-Playing       0.0      0.00      2.78         0.01   \n",
       "563           2014.0  Role-Playing       0.0      0.00      2.68         0.00   \n",
       "574           1986.0      Platform       0.0      0.00      2.65         0.00   \n",
       "632           1992.0  Role-Playing       0.0      0.00      2.43         0.02   \n",
       "674           1998.0  Role-Playing       0.0      0.00      2.34         0.01   \n",
       "\n",
       "     critic_score user_score rating  \n",
       "215           NaN        NaN    NaN  \n",
       "340           NaN        NaN    NaN  \n",
       "385           NaN        NaN    NaN  \n",
       "403           NaN        NaN    NaN  \n",
       "428           NaN        NaN    NaN  \n",
       "530           NaN        NaN    NaN  \n",
       "563           NaN        NaN    NaN  \n",
       "574           NaN        NaN    NaN  \n",
       "632           NaN        NaN    NaN  \n",
       "674           NaN        NaN    NaN  "
      ]
     },
     "execution_count": 7,
     "metadata": {},
     "output_type": "execute_result"
    }
   ],
   "source": [
    "#checking sales data in NA where sales are less than 1 thousand\n",
    "data.query('na_sales < 0.001').head(10)"
   ]
  },
  {
   "attachments": {},
   "cell_type": "markdown",
   "metadata": {},
   "source": [
    "Many games sell millions of copies in one region and don't sell at all in other regions! So it's not a data error.\n",
    "Let's add a column with total sales to evaluate the sales in the dataset."
   ]
  },
  {
   "cell_type": "code",
   "execution_count": 8,
   "metadata": {},
   "outputs": [],
   "source": [
    "#creating a new column to count sales in different regions\n",
    "data['total_sales'] = data['na_sales'] + data['eu_sales'] + data['jp_sales'] + data['other_sales']"
   ]
  },
  {
   "cell_type": "code",
   "execution_count": 9,
   "metadata": {},
   "outputs": [
    {
     "data": {
      "text/plain": [
       "count    16715.000000\n",
       "mean         0.533396\n",
       "std          1.548261\n",
       "min          0.000000\n",
       "25%          0.060000\n",
       "50%          0.170000\n",
       "75%          0.470000\n",
       "max         82.540000\n",
       "Name: total_sales, dtype: float64"
      ]
     },
     "execution_count": 9,
     "metadata": {},
     "output_type": "execute_result"
    }
   ],
   "source": [
    "data['total_sales'].describe()"
   ]
  },
  {
   "attachments": {},
   "cell_type": "markdown",
   "metadata": {},
   "source": [
    "**Working with value 'tbd' in user_score column** "
   ]
  },
  {
   "attachments": {},
   "cell_type": "markdown",
   "metadata": {},
   "source": [
    "The user_score column contains the text value 'tbd' in addition to numbers.\n",
    "Because of this, it is not possible to replace the data type in the user_score column. Let's check how many such values there are."
   ]
  },
  {
   "cell_type": "code",
   "execution_count": 10,
   "metadata": {
    "scrolled": true
   },
   "outputs": [
    {
     "data": {
      "text/plain": [
       "2424"
      ]
     },
     "execution_count": 10,
     "metadata": {},
     "output_type": "execute_result"
    }
   ],
   "source": [
    "data.query('user_score == \"tbd\"')['user_score'].count()"
   ]
  },
  {
   "attachments": {},
   "cell_type": "markdown",
   "metadata": {},
   "source": [
    "There are more than two thousand tbd values. For research, such values do not fundamentally differ from empty ones - we cannot extract additional information from estimates, which are practically non-existent. Tbd means evaluation is still in progress.\n",
    "Let's replace the 'tbd' values in the user_score column with empty ones."
   ]
  },
  {
   "cell_type": "code",
   "execution_count": 11,
   "metadata": {},
   "outputs": [],
   "source": [
    "data['user_score'] = data['user_score'].replace('tbd', np.NaN)"
   ]
  },
  {
   "attachments": {},
   "cell_type": "markdown",
   "metadata": {},
   "source": [
    "**Handling missing values**"
   ]
  },
  {
   "cell_type": "code",
   "execution_count": 12,
   "metadata": {},
   "outputs": [],
   "source": [
    "#deleting rows where year_of_release data is missing \n",
    "data = data[~data['year_of_release'].isna()]"
   ]
  },
  {
   "cell_type": "code",
   "execution_count": 13,
   "metadata": {},
   "outputs": [
    {
     "data": {
      "text/html": [
       "<div>\n",
       "<style scoped>\n",
       "    .dataframe tbody tr th:only-of-type {\n",
       "        vertical-align: middle;\n",
       "    }\n",
       "\n",
       "    .dataframe tbody tr th {\n",
       "        vertical-align: top;\n",
       "    }\n",
       "\n",
       "    .dataframe thead th {\n",
       "        text-align: right;\n",
       "    }\n",
       "</style>\n",
       "<table border=\"1\" class=\"dataframe\">\n",
       "  <thead>\n",
       "    <tr style=\"text-align: right;\">\n",
       "      <th></th>\n",
       "      <th>name</th>\n",
       "      <th>platform</th>\n",
       "      <th>year_of_release</th>\n",
       "      <th>genre</th>\n",
       "      <th>na_sales</th>\n",
       "      <th>eu_sales</th>\n",
       "      <th>jp_sales</th>\n",
       "      <th>other_sales</th>\n",
       "      <th>critic_score</th>\n",
       "      <th>user_score</th>\n",
       "      <th>rating</th>\n",
       "      <th>total_sales</th>\n",
       "    </tr>\n",
       "  </thead>\n",
       "  <tbody>\n",
       "    <tr>\n",
       "      <th>659</th>\n",
       "      <td>NaN</td>\n",
       "      <td>GEN</td>\n",
       "      <td>1993.0</td>\n",
       "      <td>NaN</td>\n",
       "      <td>1.78</td>\n",
       "      <td>0.53</td>\n",
       "      <td>0.00</td>\n",
       "      <td>0.08</td>\n",
       "      <td>NaN</td>\n",
       "      <td>NaN</td>\n",
       "      <td>NaN</td>\n",
       "      <td>2.39</td>\n",
       "    </tr>\n",
       "    <tr>\n",
       "      <th>14244</th>\n",
       "      <td>NaN</td>\n",
       "      <td>GEN</td>\n",
       "      <td>1993.0</td>\n",
       "      <td>NaN</td>\n",
       "      <td>0.00</td>\n",
       "      <td>0.00</td>\n",
       "      <td>0.03</td>\n",
       "      <td>0.00</td>\n",
       "      <td>NaN</td>\n",
       "      <td>NaN</td>\n",
       "      <td>NaN</td>\n",
       "      <td>0.03</td>\n",
       "    </tr>\n",
       "  </tbody>\n",
       "</table>\n",
       "</div>"
      ],
      "text/plain": [
       "      name platform  year_of_release genre  na_sales  eu_sales  jp_sales  \\\n",
       "659    NaN      GEN           1993.0   NaN      1.78      0.53      0.00   \n",
       "14244  NaN      GEN           1993.0   NaN      0.00      0.00      0.03   \n",
       "\n",
       "       other_sales  critic_score user_score rating  total_sales  \n",
       "659           0.08           NaN        NaN    NaN         2.39  \n",
       "14244         0.00           NaN        NaN    NaN         0.03  "
      ]
     },
     "execution_count": 13,
     "metadata": {},
     "output_type": "execute_result"
    }
   ],
   "source": [
    "#checking rows with name of the game missing\n",
    "data_empty = data[data['name'].isna()]\n",
    "data_empty.head()"
   ]
  },
  {
   "cell_type": "code",
   "execution_count": 14,
   "metadata": {},
   "outputs": [],
   "source": [
    "#deleting rows with name missing\n",
    "data = data[~data['name'].isna()]"
   ]
  },
  {
   "cell_type": "code",
   "execution_count": 15,
   "metadata": {},
   "outputs": [],
   "source": [
    "#deleting rows with sales data missing\n",
    "data = data[data['total_sales'] > 0]"
   ]
  },
  {
   "cell_type": "code",
   "execution_count": 16,
   "metadata": {},
   "outputs": [],
   "source": [
    "#in the column with the ESRB rating, we will replace the empty values with 'No rating', this will allow us to form an additional. rating group\n",
    "data['rating'] = data['rating'].fillna('no rating')"
   ]
  },
  {
   "attachments": {},
   "cell_type": "markdown",
   "metadata": {},
   "source": [
    "- Removed the lines where there were empty names of games and genre, tk. it will not be possible to make additional analysis on them and there are only 2 of them.\n",
    "- Removed lines with zero total sales\n",
    "- Removed lines with gaps in the year of publication - it is impossible to fill them out from the current data, additional desk-research is required (about 2% of the data)\n",
    "- Replaced empty values in the ESRB rating column with 'no rating', which will allow categorical analysis for this column\n",
    "- Empty values with critic and user ratings cannot be filled with any average, because assessment is a subjective thing. In addition, it is not very clear why the values are empty - either there are no reviews, or this is a platform error. Leave gaps.\n",
    "\n",
    "Data gaps do not appear to be systemic. Perhaps they are associated with poor filling of open data sources."
   ]
  },
  {
   "attachments": {},
   "cell_type": "markdown",
   "metadata": {},
   "source": [
    "**Changing data type in columns**"
   ]
  },
  {
   "cell_type": "code",
   "execution_count": 17,
   "metadata": {},
   "outputs": [],
   "source": [
    "#Converting the data to the required types.\n",
    "#change the data type in the user_score column to a numeric value (float)\n",
    "data['user_score'] = data['user_score'].astype('float')\n",
    "\n",
    "#change the data type in the year of release column to an integer value (int)\n",
    "data['year_of_release'] = data['year_of_release'].astype('int')"
   ]
  },
  {
   "cell_type": "code",
   "execution_count": 18,
   "metadata": {},
   "outputs": [
    {
     "data": {
      "text/plain": [
       "count    7463.000000\n",
       "mean        7.126330\n",
       "std         1.499447\n",
       "min         0.000000\n",
       "25%         6.400000\n",
       "50%         7.500000\n",
       "75%         8.200000\n",
       "max         9.700000\n",
       "Name: user_score, dtype: float64"
      ]
     },
     "execution_count": 18,
     "metadata": {},
     "output_type": "execute_result"
    }
   ],
   "source": [
    "data['user_score'].describe()"
   ]
  },
  {
   "attachments": {},
   "cell_type": "markdown",
   "metadata": {},
   "source": [
    "Replaced data types in user_score columns (after replacing 'tbd' values with empty ones, it became possible) and year_of_release. Release year must be an integer for convenience and memory saving. And user ratings are floating point numbers so that you can analyze the data."
   ]
  },
  {
   "attachments": {},
   "cell_type": "markdown",
   "metadata": {},
   "source": [
    "# Exploratory data analysis"
   ]
  },
  {
   "attachments": {},
   "cell_type": "markdown",
   "metadata": {},
   "source": [
    "**Game releases by year**"
   ]
  },
  {
   "cell_type": "code",
   "execution_count": 19,
   "metadata": {},
   "outputs": [
    {
     "data": {
      "image/png": "[encoded data removed]",
      "text/plain": [
       "<Figure size 640x480 with 1 Axes>"
      ]
     },
     "metadata": {},
     "output_type": "display_data"
    }
   ],
   "source": [
    "#compile a table by the number of games by year of release and by their total sales\n",
    "games_by_year = data.groupby('year_of_release').agg(number_of_games=('total_sales', 'count'))\n",
    "\n",
    "plt.bar(games_by_year.index, games_by_year['number_of_games'])\n",
    " \n",
    "plt.xlabel(\"Number of games released by year on every platform\")\n",
    "plt.ylabel(\"Number of games\")\n",
    "plt.title(\"Year\")\n",
    "plt.show()"
   ]
  },
  {
   "attachments": {},
   "cell_type": "markdown",
   "metadata": {},
   "source": [
    "The graph shows that until 1995, up to 200 games were released on all platforms (with repetitions: in the graph, 1 game that was released on 4 platforms was counted 4 times) per year. After 2000, there has been a rapid increase in the number of released games per year, and after 2010, probably with the complication and rise in the cost of development, there has been a decrease in the number of released games to ~ 600 per year.\n",
    "\n",
    "Even based on this graph, it is clear that we most likely will not need data before 2000 in further calculations."
   ]
  },
  {
   "attachments": {},
   "cell_type": "markdown",
   "metadata": {},
   "source": [
    "**Game sales by platform. Average platform lifetime**"
   ]
  },
  {
   "cell_type": "code",
   "execution_count": 20,
   "metadata": {},
   "outputs": [],
   "source": [
    "#compile a table with the largest sales by platform, the number of games on the platform,\n",
    "#the year when the game was first released for the platform, the last year when the game was released for the platform\n",
    "top_platforms = data.groupby('platform').agg(total_sales=('total_sales', 'sum'), \n",
    "                                             number_of_games=('total_sales', 'count'), \n",
    "                                             first_year=('year_of_release', 'min'), \n",
    "                                             last_year=('year_of_release', 'max')).sort_values(by='total_sales', \n",
    "                                             ascending=False)"
   ]
  },
  {
   "cell_type": "code",
   "execution_count": 21,
   "metadata": {},
   "outputs": [
    {
     "data": {
      "text/html": [
       "<div>\n",
       "<style scoped>\n",
       "    .dataframe tbody tr th:only-of-type {\n",
       "        vertical-align: middle;\n",
       "    }\n",
       "\n",
       "    .dataframe tbody tr th {\n",
       "        vertical-align: top;\n",
       "    }\n",
       "\n",
       "    .dataframe thead th {\n",
       "        text-align: right;\n",
       "    }\n",
       "</style>\n",
       "<table border=\"1\" class=\"dataframe\">\n",
       "  <thead>\n",
       "    <tr style=\"text-align: right;\">\n",
       "      <th></th>\n",
       "      <th>total_sales</th>\n",
       "      <th>number_of_games</th>\n",
       "      <th>first_year</th>\n",
       "      <th>last_year</th>\n",
       "      <th>change</th>\n",
       "    </tr>\n",
       "    <tr>\n",
       "      <th>platform</th>\n",
       "      <th></th>\n",
       "      <th></th>\n",
       "      <th></th>\n",
       "      <th></th>\n",
       "      <th></th>\n",
       "    </tr>\n",
       "  </thead>\n",
       "  <tbody>\n",
       "    <tr>\n",
       "      <th>PS2</th>\n",
       "      <td>1233.56</td>\n",
       "      <td>2126</td>\n",
       "      <td>2000</td>\n",
       "      <td>2011</td>\n",
       "      <td>11</td>\n",
       "    </tr>\n",
       "    <tr>\n",
       "      <th>X360</th>\n",
       "      <td>961.24</td>\n",
       "      <td>1232</td>\n",
       "      <td>2005</td>\n",
       "      <td>2016</td>\n",
       "      <td>11</td>\n",
       "    </tr>\n",
       "    <tr>\n",
       "      <th>PS3</th>\n",
       "      <td>931.34</td>\n",
       "      <td>1305</td>\n",
       "      <td>2006</td>\n",
       "      <td>2016</td>\n",
       "      <td>10</td>\n",
       "    </tr>\n",
       "    <tr>\n",
       "      <th>Wii</th>\n",
       "      <td>891.18</td>\n",
       "      <td>1286</td>\n",
       "      <td>2006</td>\n",
       "      <td>2016</td>\n",
       "      <td>10</td>\n",
       "    </tr>\n",
       "    <tr>\n",
       "      <th>DS</th>\n",
       "      <td>802.78</td>\n",
       "      <td>2121</td>\n",
       "      <td>1985</td>\n",
       "      <td>2013</td>\n",
       "      <td>28</td>\n",
       "    </tr>\n",
       "    <tr>\n",
       "      <th>PS</th>\n",
       "      <td>727.58</td>\n",
       "      <td>1190</td>\n",
       "      <td>1994</td>\n",
       "      <td>2003</td>\n",
       "      <td>9</td>\n",
       "    </tr>\n",
       "    <tr>\n",
       "      <th>PS4</th>\n",
       "      <td>314.14</td>\n",
       "      <td>392</td>\n",
       "      <td>2013</td>\n",
       "      <td>2016</td>\n",
       "      <td>3</td>\n",
       "    </tr>\n",
       "    <tr>\n",
       "      <th>GBA</th>\n",
       "      <td>312.88</td>\n",
       "      <td>811</td>\n",
       "      <td>2000</td>\n",
       "      <td>2007</td>\n",
       "      <td>7</td>\n",
       "    </tr>\n",
       "    <tr>\n",
       "      <th>PSP</th>\n",
       "      <td>289.53</td>\n",
       "      <td>1193</td>\n",
       "      <td>2004</td>\n",
       "      <td>2015</td>\n",
       "      <td>11</td>\n",
       "    </tr>\n",
       "    <tr>\n",
       "      <th>3DS</th>\n",
       "      <td>257.81</td>\n",
       "      <td>512</td>\n",
       "      <td>2011</td>\n",
       "      <td>2016</td>\n",
       "      <td>5</td>\n",
       "    </tr>\n",
       "    <tr>\n",
       "      <th>PC</th>\n",
       "      <td>255.76</td>\n",
       "      <td>957</td>\n",
       "      <td>1985</td>\n",
       "      <td>2016</td>\n",
       "      <td>31</td>\n",
       "    </tr>\n",
       "    <tr>\n",
       "      <th>GB</th>\n",
       "      <td>254.43</td>\n",
       "      <td>97</td>\n",
       "      <td>1988</td>\n",
       "      <td>2001</td>\n",
       "      <td>13</td>\n",
       "    </tr>\n",
       "    <tr>\n",
       "      <th>XB</th>\n",
       "      <td>251.57</td>\n",
       "      <td>803</td>\n",
       "      <td>2000</td>\n",
       "      <td>2008</td>\n",
       "      <td>8</td>\n",
       "    </tr>\n",
       "    <tr>\n",
       "      <th>NES</th>\n",
       "      <td>251.05</td>\n",
       "      <td>98</td>\n",
       "      <td>1983</td>\n",
       "      <td>1994</td>\n",
       "      <td>11</td>\n",
       "    </tr>\n",
       "    <tr>\n",
       "      <th>N64</th>\n",
       "      <td>218.01</td>\n",
       "      <td>316</td>\n",
       "      <td>1996</td>\n",
       "      <td>2002</td>\n",
       "      <td>6</td>\n",
       "    </tr>\n",
       "  </tbody>\n",
       "</table>\n",
       "</div>"
      ],
      "text/plain": [
       "          total_sales  number_of_games  first_year  last_year  change\n",
       "platform                                                             \n",
       "PS2           1233.56             2126        2000       2011      11\n",
       "X360           961.24             1232        2005       2016      11\n",
       "PS3            931.34             1305        2006       2016      10\n",
       "Wii            891.18             1286        2006       2016      10\n",
       "DS             802.78             2121        1985       2013      28\n",
       "PS             727.58             1190        1994       2003       9\n",
       "PS4            314.14              392        2013       2016       3\n",
       "GBA            312.88              811        2000       2007       7\n",
       "PSP            289.53             1193        2004       2015      11\n",
       "3DS            257.81              512        2011       2016       5\n",
       "PC             255.76              957        1985       2016      31\n",
       "GB             254.43               97        1988       2001      13\n",
       "XB             251.57              803        2000       2008       8\n",
       "NES            251.05               98        1983       1994      11\n",
       "N64            218.01              316        1996       2002       6"
      ]
     },
     "execution_count": 21,
     "metadata": {},
     "output_type": "execute_result"
    }
   ],
   "source": [
    "#add a column with the difference between the release date of the first platform game and the last release date of the platform game\n",
    "top_platforms['change'] = top_platforms['last_year'] - top_platforms['first_year']\n",
    "top_platforms.head(15)"
   ]
  },
  {
   "attachments": {},
   "cell_type": "markdown",
   "metadata": {},
   "source": [
    "From the table of the top 15 platforms of all time, it can be seen that the most popular platform is PS2, but it is no longer relevant. As well as half of this list.\n",
    "Games in 2016 were released only for 6 platforms, and the rest have already ceased to be relevant.\n",
    "\n",
    "For DS, strange data, given that the platform was released in 2004. Let's check."
   ]
  },
  {
   "cell_type": "code",
   "execution_count": 22,
   "metadata": {},
   "outputs": [
    {
     "data": {
      "text/html": [
       "<div>\n",
       "<style scoped>\n",
       "    .dataframe tbody tr th:only-of-type {\n",
       "        vertical-align: middle;\n",
       "    }\n",
       "\n",
       "    .dataframe tbody tr th {\n",
       "        vertical-align: top;\n",
       "    }\n",
       "\n",
       "    .dataframe thead th {\n",
       "        text-align: right;\n",
       "    }\n",
       "</style>\n",
       "<table border=\"1\" class=\"dataframe\">\n",
       "  <thead>\n",
       "    <tr style=\"text-align: right;\">\n",
       "      <th></th>\n",
       "      <th>name</th>\n",
       "      <th>platform</th>\n",
       "      <th>year_of_release</th>\n",
       "      <th>genre</th>\n",
       "      <th>na_sales</th>\n",
       "      <th>eu_sales</th>\n",
       "      <th>jp_sales</th>\n",
       "      <th>other_sales</th>\n",
       "      <th>critic_score</th>\n",
       "      <th>user_score</th>\n",
       "      <th>rating</th>\n",
       "      <th>total_sales</th>\n",
       "    </tr>\n",
       "  </thead>\n",
       "  <tbody>\n",
       "    <tr>\n",
       "      <th>15957</th>\n",
       "      <td>Strongest Tokyo University Shogi DS</td>\n",
       "      <td>DS</td>\n",
       "      <td>1985</td>\n",
       "      <td>Action</td>\n",
       "      <td>0.0</td>\n",
       "      <td>0.0</td>\n",
       "      <td>0.02</td>\n",
       "      <td>0.0</td>\n",
       "      <td>NaN</td>\n",
       "      <td>NaN</td>\n",
       "      <td>no rating</td>\n",
       "      <td>0.02</td>\n",
       "    </tr>\n",
       "  </tbody>\n",
       "</table>\n",
       "</div>"
      ],
      "text/plain": [
       "                                      name platform  year_of_release   genre  \\\n",
       "15957  Strongest Tokyo University Shogi DS       DS             1985  Action   \n",
       "\n",
       "       na_sales  eu_sales  jp_sales  other_sales  critic_score  user_score  \\\n",
       "15957       0.0       0.0      0.02          0.0           NaN         NaN   \n",
       "\n",
       "          rating  total_sales  \n",
       "15957  no rating         0.02  "
      ]
     },
     "execution_count": 22,
     "metadata": {},
     "output_type": "execute_result"
    }
   ],
   "source": [
    "data[(data['platform'] == 'DS') & (data['year_of_release'] < 2004)]"
   ]
  },
  {
   "cell_type": "code",
   "execution_count": 23,
   "metadata": {},
   "outputs": [],
   "source": [
    "#delete this row\n",
    "data = data.drop(data[(data['platform'] == 'DS') & (data['year_of_release'] < 2004)].index)"
   ]
  },
  {
   "cell_type": "code",
   "execution_count": 24,
   "metadata": {},
   "outputs": [],
   "source": [
    "#collect a separate dataset with the 10 most popular platforms\n",
    "top_platforms_data = data[data['platform'].isin(top_platforms.index[0:9])]"
   ]
  },
  {
   "cell_type": "code",
   "execution_count": 25,
   "metadata": {},
   "outputs": [],
   "source": [
    "#group data by platform and total sales by year of release\n",
    "top_platforms_by_year = top_platforms_data.groupby(['platform', 'year_of_release']).agg(total_sales=('total_sales', 'sum'))\n",
    "top_platforms_by_year = top_platforms_by_year.reset_index()"
   ]
  },
  {
   "cell_type": "code",
   "execution_count": 26,
   "metadata": {
    "scrolled": true
   },
   "outputs": [
    {
     "data": {
      "image/png": "[encoded data removed]",
      "text/plain": [
       "<Figure size 640x480 with 1 Axes>"
      ]
     },
     "metadata": {},
     "output_type": "display_data"
    },
    {
     "data": {
      "image/png": "[encoded data removed]",
      "text/plain": [
       "<Figure size 640x480 with 1 Axes>"
      ]
     },
     "metadata": {},
     "output_type": "display_data"
    },
    {
     "data": {
      "image/png": "[encoded data removed]",
      "text/plain": [
       "<Figure size 640x480 with 1 Axes>"
      ]
     },
     "metadata": {},
     "output_type": "display_data"
    },
    {
     "data": {
      "image/png": "[encoded data removed]",
      "text/plain": [
       "<Figure size 640x480 with 1 Axes>"
      ]
     },
     "metadata": {},
     "output_type": "display_data"
    },
    {
     "data": {
      "image/png": "[encoded data removed]",
      "text/plain": [
       "<Figure size 640x480 with 1 Axes>"
      ]
     },
     "metadata": {},
     "output_type": "display_data"
    },
    {
     "data": {
      "image/png": "[encoded data removed]",
      "text/plain": [
       "<Figure size 640x480 with 1 Axes>"
      ]
     },
     "metadata": {},
     "output_type": "display_data"
    },
    {
     "data": {
      "image/png": "[encoded data removed]",
      "text/plain": [
       "<Figure size 640x480 with 1 Axes>"
      ]
     },
     "metadata": {},
     "output_type": "display_data"
    },
    {
     "data": {
      "image/png": "[encoded data removed]",
      "text/plain": [
       "<Figure size 640x480 with 1 Axes>"
      ]
     },
     "metadata": {},
     "output_type": "display_data"
    },
    {
     "data": {
      "image/png": "[encoded data removed]",
      "text/plain": [
       "<Figure size 640x480 with 1 Axes>"
      ]
     },
     "metadata": {},
     "output_type": "display_data"
    }
   ],
   "source": [
    "#for each of the top 10 platforms, draw a sales graph by year\n",
    "for value in top_platforms.index[0:9]:\n",
    "    top_platforms_by_year[top_platforms_by_year['platform'] == value].plot(x='year_of_release')\n",
    "    plt.title(value)\n",
    "    plt.show()"
   ]
  },
  {
   "attachments": {},
   "cell_type": "markdown",
   "metadata": {},
   "source": [
    "**Conclusion**\n",
    "1. Based on the graphs, the peak of sales per platform occurs approximately 3-4 years after the release of games on the platform.\n",
    "2. The average life of platforms (which are no longer relevant) is approximately 7 years."
   ]
  },
  {
   "cell_type": "code",
   "execution_count": 27,
   "metadata": {
    "scrolled": true
   },
   "outputs": [
    {
     "name": "stdout",
     "output_type": "stream",
     "text": [
      "Lifetime of current platforms: 6.5\n"
     ]
    }
   ],
   "source": [
    "#quantifying the second point in the conclusion\n",
    "print('Lifetime of current platforms:', top_platforms.query('last_year != 2016')['change'].median())"
   ]
  },
  {
   "attachments": {},
   "cell_type": "markdown",
   "metadata": {},
   "source": [
    "**Selecting relevant data for further analysis**"
   ]
  },
  {
   "attachments": {},
   "cell_type": "markdown",
   "metadata": {},
   "source": [
    "To further evaluate current platforms and games, you must select data for the current period.\n",
    "\n",
    "The current period can be considered data from 2013, because:\n",
    "\n",
    "1. Data on the top 10 platforms of all time shows that the peak sales per platform are 3-4 years from the start of sales\n",
    "\n",
    "2. Data for all obsolete platforms (for which games are no longer released in 2016) indicate that the average lifetime of the platform is 6.5 years. Those. taking data from 2013 and later, we will just be able to identify platforms that by 2017 will either\n",
    "\n",
    "     a) grow\n",
    "    \n",
    "     b) at the peak\n",
    "    \n",
    "     c) decrease significantly"
   ]
  },
  {
   "cell_type": "code",
   "execution_count": 28,
   "metadata": {},
   "outputs": [],
   "source": [
    "#select data from 2013\n",
    "good_data = data[data['year_of_release'] >= 2013]"
   ]
  },
  {
   "attachments": {},
   "cell_type": "markdown",
   "metadata": {},
   "source": [
    "**Leading platforms. Potentially profitable platforms**"
   ]
  },
  {
   "cell_type": "code",
   "execution_count": 29,
   "metadata": {},
   "outputs": [
    {
     "data": {
      "text/html": [
       "<div>\n",
       "<style scoped>\n",
       "    .dataframe tbody tr th:only-of-type {\n",
       "        vertical-align: middle;\n",
       "    }\n",
       "\n",
       "    .dataframe tbody tr th {\n",
       "        vertical-align: top;\n",
       "    }\n",
       "\n",
       "    .dataframe thead th {\n",
       "        text-align: right;\n",
       "    }\n",
       "</style>\n",
       "<table border=\"1\" class=\"dataframe\">\n",
       "  <thead>\n",
       "    <tr style=\"text-align: right;\">\n",
       "      <th></th>\n",
       "      <th>total_sales</th>\n",
       "      <th>last_year</th>\n",
       "    </tr>\n",
       "    <tr>\n",
       "      <th>platform</th>\n",
       "      <th></th>\n",
       "      <th></th>\n",
       "    </tr>\n",
       "  </thead>\n",
       "  <tbody>\n",
       "    <tr>\n",
       "      <th>PS4</th>\n",
       "      <td>314.14</td>\n",
       "      <td>2016</td>\n",
       "    </tr>\n",
       "    <tr>\n",
       "      <th>PS3</th>\n",
       "      <td>181.43</td>\n",
       "      <td>2016</td>\n",
       "    </tr>\n",
       "    <tr>\n",
       "      <th>XOne</th>\n",
       "      <td>159.32</td>\n",
       "      <td>2016</td>\n",
       "    </tr>\n",
       "    <tr>\n",
       "      <th>3DS</th>\n",
       "      <td>143.25</td>\n",
       "      <td>2016</td>\n",
       "    </tr>\n",
       "    <tr>\n",
       "      <th>X360</th>\n",
       "      <td>136.80</td>\n",
       "      <td>2016</td>\n",
       "    </tr>\n",
       "    <tr>\n",
       "      <th>WiiU</th>\n",
       "      <td>64.63</td>\n",
       "      <td>2016</td>\n",
       "    </tr>\n",
       "    <tr>\n",
       "      <th>PC</th>\n",
       "      <td>39.43</td>\n",
       "      <td>2016</td>\n",
       "    </tr>\n",
       "    <tr>\n",
       "      <th>PSV</th>\n",
       "      <td>32.99</td>\n",
       "      <td>2016</td>\n",
       "    </tr>\n",
       "    <tr>\n",
       "      <th>Wii</th>\n",
       "      <td>13.66</td>\n",
       "      <td>2016</td>\n",
       "    </tr>\n",
       "    <tr>\n",
       "      <th>PSP</th>\n",
       "      <td>3.50</td>\n",
       "      <td>2015</td>\n",
       "    </tr>\n",
       "    <tr>\n",
       "      <th>DS</th>\n",
       "      <td>1.54</td>\n",
       "      <td>2013</td>\n",
       "    </tr>\n",
       "  </tbody>\n",
       "</table>\n",
       "</div>"
      ],
      "text/plain": [
       "          total_sales  last_year\n",
       "platform                        \n",
       "PS4            314.14       2016\n",
       "PS3            181.43       2016\n",
       "XOne           159.32       2016\n",
       "3DS            143.25       2016\n",
       "X360           136.80       2016\n",
       "WiiU            64.63       2016\n",
       "PC              39.43       2016\n",
       "PSV             32.99       2016\n",
       "Wii             13.66       2016\n",
       "PSP              3.50       2015\n",
       "DS               1.54       2013"
      ]
     },
     "execution_count": 29,
     "metadata": {},
     "output_type": "execute_result"
    }
   ],
   "source": [
    "#group data by platform and total sales by year of release\n",
    "tp_good_data = good_data.groupby('platform').agg(total_sales=('total_sales', 'sum'), last_year=('year_of_release', 'max'))\n",
    "tp_good_data.sort_values(by='total_sales', ascending=False)"
   ]
  },
  {
   "cell_type": "code",
   "execution_count": 30,
   "metadata": {
    "scrolled": true
   },
   "outputs": [],
   "source": [
    "#remove the platforms on which games were not released in 2016\n",
    "tp_good_data = tp_good_data[tp_good_data['last_year'] == 2016]\n",
    "good_data = good_data[(good_data['platform'] != 'DS') & (good_data['platform'] != 'PSP')]"
   ]
  },
  {
   "cell_type": "code",
   "execution_count": 31,
   "metadata": {},
   "outputs": [],
   "source": [
    "#group data by platforms and total sales by year of release (For the period 2013-2016)\n",
    "tp_by_year = good_data.groupby(['platform', 'year_of_release']).agg(total_sales=('total_sales', 'sum'))\n",
    "\n",
    "#reset index for simplicity\n",
    "tp_by_year = tp_by_year.reset_index()\n",
    "tp_good_data = tp_good_data.reset_index()"
   ]
  },
  {
   "cell_type": "code",
   "execution_count": 32,
   "metadata": {},
   "outputs": [
    {
     "data": {
      "image/png": "[encoded data removed]",
      "text/plain": [
       "<Figure size 640x480 with 1 Axes>"
      ]
     },
     "metadata": {},
     "output_type": "display_data"
    },
    {
     "data": {
      "image/png": "[encoded data removed]",
      "text/plain": [
       "<Figure size 640x480 with 1 Axes>"
      ]
     },
     "metadata": {},
     "output_type": "display_data"
    },
    {
     "data": {
      "image/png": "[encoded data removed]",
      "text/plain": [
       "<Figure size 640x480 with 1 Axes>"
      ]
     },
     "metadata": {},
     "output_type": "display_data"
    },
    {
     "data": {
      "image/png": "[encoded data removed]",
      "text/plain": [
       "<Figure size 640x480 with 1 Axes>"
      ]
     },
     "metadata": {},
     "output_type": "display_data"
    },
    {
     "data": {
      "image/png": "[encoded data removed]",
      "text/plain": [
       "<Figure size 640x480 with 1 Axes>"
      ]
     },
     "metadata": {},
     "output_type": "display_data"
    },
    {
     "data": {
      "image/png": "[encoded data removed]",
      "text/plain": [
       "<Figure size 640x480 with 1 Axes>"
      ]
     },
     "metadata": {},
     "output_type": "display_data"
    },
    {
     "data": {
      "image/png": "[encoded data removed]",
      "text/plain": [
       "<Figure size 640x480 with 1 Axes>"
      ]
     },
     "metadata": {},
     "output_type": "display_data"
    },
    {
     "data": {
      "image/png": "[encoded data removed]",
      "text/plain": [
       "<Figure size 640x480 with 1 Axes>"
      ]
     },
     "metadata": {},
     "output_type": "display_data"
    },
    {
     "data": {
      "image/png": "[encoded data removed]",
      "text/plain": [
       "<Figure size 640x480 with 1 Axes>"
      ]
     },
     "metadata": {},
     "output_type": "display_data"
    }
   ],
   "source": [
    "#draw distribution graphs to identify rising and falling platforms\n",
    "for value in tp_good_data['platform']:\n",
    "    tp_by_year[tp_by_year['platform'] == value].plot(kind='bar', x='year_of_release')\n",
    "    plt.title(value)\n",
    "    plt.show()"
   ]
  },
  {
   "attachments": {},
   "cell_type": "markdown",
   "metadata": {},
   "source": [
    "Considering that in 2016 the data is incomplete, it would be correct to pay attention to the comparison of 2013 and 2015. on charts.\n",
    "Thus, of the growing platforms, we only have:\n",
    "1. PS4\n",
    "\n",
    "2. Xbox One\n",
    "\n",
    "All other platforms (even PC) have experienced a decline in sales over the past 4 years."
   ]
  },
  {
   "cell_type": "code",
   "execution_count": 33,
   "metadata": {},
   "outputs": [
    {
     "data": {
      "image/png": "[encoded data removed]",
      "text/plain": [
       "<Figure size 1000x800 with 1 Axes>"
      ]
     },
     "metadata": {},
     "output_type": "display_data"
    }
   ],
   "source": [
    "#draw boxplot of total sales by platforms \n",
    "tp_by_year.boxplot(column=\"total_sales\", by=\"platform\", figsize=(10, 8))\n",
    "plt.title('Total sales by platform (2013-2016)')\n",
    "plt.show()"
   ]
  },
  {
   "attachments": {},
   "cell_type": "markdown",
   "metadata": {},
   "source": [
    "**Conclusions by platform:**\n",
    "PS4 and Xbox One are not only the only growing platforms, but also the largest ones at the moment. Also a large platform is the 3DS, but sales for this platform in 2015 and for an incomplete 2016. about two times lower than in 2013."
   ]
  },
  {
   "attachments": {},
   "cell_type": "markdown",
   "metadata": {},
   "source": [
    "**Influence of user and critic reviews on game sales on popular platforms**\n"
   ]
  },
  {
   "cell_type": "code",
   "execution_count": 34,
   "metadata": {},
   "outputs": [
    {
     "data": {
      "text/html": [
       "<div>\n",
       "<style scoped>\n",
       "    .dataframe tbody tr th:only-of-type {\n",
       "        vertical-align: middle;\n",
       "    }\n",
       "\n",
       "    .dataframe tbody tr th {\n",
       "        vertical-align: top;\n",
       "    }\n",
       "\n",
       "    .dataframe thead th {\n",
       "        text-align: right;\n",
       "    }\n",
       "</style>\n",
       "<table border=\"1\" class=\"dataframe\">\n",
       "  <thead>\n",
       "    <tr style=\"text-align: right;\">\n",
       "      <th></th>\n",
       "      <th>critic_count</th>\n",
       "      <th>critic_mean</th>\n",
       "      <th>user_count</th>\n",
       "      <th>user_mean</th>\n",
       "    </tr>\n",
       "    <tr>\n",
       "      <th>platform</th>\n",
       "      <th></th>\n",
       "      <th></th>\n",
       "      <th></th>\n",
       "      <th></th>\n",
       "    </tr>\n",
       "  </thead>\n",
       "  <tbody>\n",
       "    <tr>\n",
       "      <th>3DS</th>\n",
       "      <td>71</td>\n",
       "      <td>68.338028</td>\n",
       "      <td>80</td>\n",
       "      <td>6.976250</td>\n",
       "    </tr>\n",
       "    <tr>\n",
       "      <th>PC</th>\n",
       "      <td>149</td>\n",
       "      <td>75.550336</td>\n",
       "      <td>155</td>\n",
       "      <td>6.269677</td>\n",
       "    </tr>\n",
       "    <tr>\n",
       "      <th>PS3</th>\n",
       "      <td>121</td>\n",
       "      <td>70.198347</td>\n",
       "      <td>186</td>\n",
       "      <td>6.348387</td>\n",
       "    </tr>\n",
       "    <tr>\n",
       "      <th>PS4</th>\n",
       "      <td>252</td>\n",
       "      <td>72.091270</td>\n",
       "      <td>257</td>\n",
       "      <td>6.748249</td>\n",
       "    </tr>\n",
       "    <tr>\n",
       "      <th>PSV</th>\n",
       "      <td>77</td>\n",
       "      <td>71.636364</td>\n",
       "      <td>99</td>\n",
       "      <td>7.527273</td>\n",
       "    </tr>\n",
       "    <tr>\n",
       "      <th>Wii</th>\n",
       "      <td>0</td>\n",
       "      <td>NaN</td>\n",
       "      <td>7</td>\n",
       "      <td>5.257143</td>\n",
       "    </tr>\n",
       "    <tr>\n",
       "      <th>WiiU</th>\n",
       "      <td>70</td>\n",
       "      <td>71.642857</td>\n",
       "      <td>80</td>\n",
       "      <td>7.017500</td>\n",
       "    </tr>\n",
       "    <tr>\n",
       "      <th>X360</th>\n",
       "      <td>81</td>\n",
       "      <td>69.234568</td>\n",
       "      <td>143</td>\n",
       "      <td>5.993007</td>\n",
       "    </tr>\n",
       "    <tr>\n",
       "      <th>XOne</th>\n",
       "      <td>169</td>\n",
       "      <td>73.325444</td>\n",
       "      <td>182</td>\n",
       "      <td>6.521429</td>\n",
       "    </tr>\n",
       "  </tbody>\n",
       "</table>\n",
       "</div>"
      ],
      "text/plain": [
       "          critic_count  critic_mean  user_count  user_mean\n",
       "platform                                                  \n",
       "3DS                 71    68.338028          80   6.976250\n",
       "PC                 149    75.550336         155   6.269677\n",
       "PS3                121    70.198347         186   6.348387\n",
       "PS4                252    72.091270         257   6.748249\n",
       "PSV                 77    71.636364          99   7.527273\n",
       "Wii                  0          NaN           7   5.257143\n",
       "WiiU                70    71.642857          80   7.017500\n",
       "X360                81    69.234568         143   5.993007\n",
       "XOne               169    73.325444         182   6.521429"
      ]
     },
     "execution_count": 34,
     "metadata": {},
     "output_type": "execute_result"
    }
   ],
   "source": [
    "#group data by platforms and total sales by year of release (For the period 2013-2016)\n",
    "review_by_platform = good_data.groupby('platform').agg(critic_count=('critic_score', 'count'), critic_mean=('critic_score', 'mean'), user_count=('user_score', 'count'), user_mean=('user_score', 'mean'))\n",
    "review_by_platform"
   ]
  },
  {
   "attachments": {},
   "cell_type": "markdown",
   "metadata": {},
   "source": [
    "Most user reviews and critics in the data on the PS4 platform. It is noteworthy that the average score of critics, regardless of the platform, for consoles is very close - from 68 to 73 points, PC games are rated on average higher - 75 points.\n",
    "\n",
    "User ratings (excluding Wii ratings) of games range from 6 to 7.5 points on average. It can also be noted that users on average rate games lower on every platform except for 3DS and PSV (if user ratings are converted from 10 points to 100 points)."
   ]
  },
  {
   "cell_type": "code",
   "execution_count": 35,
   "metadata": {},
   "outputs": [],
   "source": [
    "#select only data for the most popular platform - PS4\n",
    "ps4_data = good_data[good_data['platform'] == 'PS4']"
   ]
  },
  {
   "cell_type": "code",
   "execution_count": 36,
   "metadata": {},
   "outputs": [
    {
     "data": {
      "image/png": "[encoded data removed]",
      "text/plain": [
       "<Figure size 640x480 with 1 Axes>"
      ]
     },
     "metadata": {},
     "output_type": "display_data"
    }
   ],
   "source": [
    "#scatter plot based on reviews of critics and sales of games on PS4\n",
    "sns.scatterplot(x=ps4_data['critic_score'], y=ps4_data['total_sales'])\n",
    "plt.title('Critic score and total sales on PS4')\n",
    "plt.show()"
   ]
  },
  {
   "attachments": {},
   "cell_type": "markdown",
   "metadata": {},
   "source": [
    "The scatter plot shows that as user ratings increase, sales also increase. Games with ratings below 60 (with a few exceptions) have almost no sales above 2 million copies.\n",
    "Hit games with sales above 4 million copies have ratings of 70 points or more."
   ]
  },
  {
   "cell_type": "code",
   "execution_count": 37,
   "metadata": {},
   "outputs": [
    {
     "data": {
      "image/png": "[encoded data removed]",
      "text/plain": [
       "<Figure size 640x480 with 1 Axes>"
      ]
     },
     "metadata": {},
     "output_type": "display_data"
    }
   ],
   "source": [
    "#scatter plot based on user reviews and sales of games on PS4\n",
    "sns.scatterplot(x=ps4_data['user_score'], y=ps4_data['total_sales'])\n",
    "plt.title('User score and total sales on PS4')\n",
    "plt.show()"
   ]
  },
  {
   "attachments": {},
   "cell_type": "markdown",
   "metadata": {},
   "source": [
    "User ratings and game sales do not appear to be strongly related at first glance. A large accuracy of ratings lies from 6 to 8 points, however, many bestsellers have ratings below 6."
   ]
  },
  {
   "cell_type": "code",
   "execution_count": 38,
   "metadata": {
    "scrolled": true
   },
   "outputs": [
    {
     "name": "stdout",
     "output_type": "stream",
     "text": [
      "Correlation between Critics score and PS4 Game Sales: 0.4065679020617816\n",
      "Correlation between User ratings and PS4 game sales: -0.03195711020455643\n"
     ]
    }
   ],
   "source": [
    "#Calculate the correlation between critic/user reviews and PS4 sales\n",
    "print('Correlation between Critics score and PS4 Game Sales:', ps4_data['total_sales'].corr(ps4_data['critic_score']))\n",
    "print('Correlation between User ratings and PS4 game sales:', ps4_data['total_sales'].corr(ps4_data['user_score']))"
   ]
  },
  {
   "attachments": {},
   "cell_type": "markdown",
   "metadata": {},
   "source": [
    "We also confirm the data on scatter plots with correlation. Critics' ratings and game sales have a positive correlation, but not a strong one (perhaps the correlation will increase if you take games with ratings of 60 points or more).\n",
    "\n",
    "There is no correlation between user ratings and game sales."
   ]
  },
  {
   "cell_type": "code",
   "execution_count": 39,
   "metadata": {},
   "outputs": [
    {
     "name": "stdout",
     "output_type": "stream",
     "text": [
      "Correlation Between Critics Score and Sales of Popular PS4 Games: 0.4451732129977855\n"
     ]
    }
   ],
   "source": [
    "#calculate the correlation between critic/user reviews and PS4 sales for games over 1 million copies\n",
    "print('Correlation Between Critics Score and Sales of Popular PS4 Games:', ps4_data['total_sales'].corr(ps4_data[ps4_data['critic_score'] >= 60]['critic_score']))"
   ]
  },
  {
   "attachments": {},
   "cell_type": "markdown",
   "metadata": {},
   "source": [
    "**Conclusion**\n",
    "Game sales volumes have a certain correlation with critics' ratings, though not very strong. At the same time, scores above 60 points have a greater impact on the number of sales.\n",
    "User ratings and game sales have nothing to do with each other."
   ]
  },
  {
   "attachments": {},
   "cell_type": "markdown",
   "metadata": {},
   "source": [
    "Let's also look at the impact of critical and user reviews on PC and Xbox One game sales."
   ]
  },
  {
   "cell_type": "code",
   "execution_count": 40,
   "metadata": {},
   "outputs": [
    {
     "name": "stdout",
     "output_type": "stream",
     "text": [
      "Correlation between Critics score and XOne Game Sales: 0.41699832800840164\n",
      "Correlation between User ratings and XOne game sales: -0.06892505328279415\n"
     ]
    }
   ],
   "source": [
    "#calculate the correlation between critic/user reviews and sales on Xbox One\n",
    "print('Correlation between Critics score and XOne Game Sales:', good_data[good_data['platform'] == 'XOne']['total_sales'].corr(good_data['critic_score']))\n",
    "print('Correlation between User ratings and XOne game sales:', good_data[good_data['platform'] == 'XOne']['total_sales'].corr(good_data['user_score']))"
   ]
  },
  {
   "cell_type": "code",
   "execution_count": 41,
   "metadata": {},
   "outputs": [
    {
     "name": "stdout",
     "output_type": "stream",
     "text": [
      "Correlation between Critics score and PC Game Sales: 0.1960302829436937\n",
      "Correlation between User ratings and PC game sales: -0.09384186952476747\n"
     ]
    }
   ],
   "source": [
    "#calculate the correlation between critic/user reviews and sales on PC\n",
    "print('Correlation between Critics score and PC Game Sales:', good_data[good_data['platform'] == 'PC']['total_sales'].corr(good_data['critic_score']))\n",
    "print('Correlation between User ratings and PC game sales:', good_data[good_data['platform'] == 'PC']['total_sales'].corr(good_data['user_score']))"
   ]
  },
  {
   "attachments": {},
   "cell_type": "markdown",
   "metadata": {},
   "source": [
    "It's an interesting picture of critical ratings and PC game sales - here, unlike PS4 and Xbox One, critical ratings don't affect game sales."
   ]
  },
  {
   "attachments": {},
   "cell_type": "markdown",
   "metadata": {},
   "source": [
    "**Distribution of games by genre**"
   ]
  },
  {
   "cell_type": "code",
   "execution_count": 42,
   "metadata": {},
   "outputs": [
    {
     "data": {
      "text/html": [
       "<div>\n",
       "<style scoped>\n",
       "    .dataframe tbody tr th:only-of-type {\n",
       "        vertical-align: middle;\n",
       "    }\n",
       "\n",
       "    .dataframe tbody tr th {\n",
       "        vertical-align: top;\n",
       "    }\n",
       "\n",
       "    .dataframe thead th {\n",
       "        text-align: right;\n",
       "    }\n",
       "</style>\n",
       "<table border=\"1\" class=\"dataframe\">\n",
       "  <thead>\n",
       "    <tr style=\"text-align: right;\">\n",
       "      <th></th>\n",
       "      <th>total_sales</th>\n",
       "      <th>median_sales</th>\n",
       "    </tr>\n",
       "    <tr>\n",
       "      <th>genre</th>\n",
       "      <th></th>\n",
       "      <th></th>\n",
       "    </tr>\n",
       "  </thead>\n",
       "  <tbody>\n",
       "    <tr>\n",
       "      <th>Action</th>\n",
       "      <td>320.51</td>\n",
       "      <td>0.110</td>\n",
       "    </tr>\n",
       "    <tr>\n",
       "      <th>Shooter</th>\n",
       "      <td>232.98</td>\n",
       "      <td>0.450</td>\n",
       "    </tr>\n",
       "    <tr>\n",
       "      <th>Sports</th>\n",
       "      <td>149.93</td>\n",
       "      <td>0.250</td>\n",
       "    </tr>\n",
       "    <tr>\n",
       "      <th>Role-Playing</th>\n",
       "      <td>144.86</td>\n",
       "      <td>0.120</td>\n",
       "    </tr>\n",
       "    <tr>\n",
       "      <th>Misc</th>\n",
       "      <td>62.57</td>\n",
       "      <td>0.115</td>\n",
       "    </tr>\n",
       "    <tr>\n",
       "      <th>Platform</th>\n",
       "      <td>41.94</td>\n",
       "      <td>0.225</td>\n",
       "    </tr>\n",
       "    <tr>\n",
       "      <th>Racing</th>\n",
       "      <td>39.89</td>\n",
       "      <td>0.120</td>\n",
       "    </tr>\n",
       "    <tr>\n",
       "      <th>Fighting</th>\n",
       "      <td>35.29</td>\n",
       "      <td>0.130</td>\n",
       "    </tr>\n",
       "    <tr>\n",
       "      <th>Adventure</th>\n",
       "      <td>22.90</td>\n",
       "      <td>0.030</td>\n",
       "    </tr>\n",
       "    <tr>\n",
       "      <th>Simulation</th>\n",
       "      <td>21.55</td>\n",
       "      <td>0.100</td>\n",
       "    </tr>\n",
       "    <tr>\n",
       "      <th>Strategy</th>\n",
       "      <td>10.06</td>\n",
       "      <td>0.080</td>\n",
       "    </tr>\n",
       "    <tr>\n",
       "      <th>Puzzle</th>\n",
       "      <td>3.17</td>\n",
       "      <td>0.060</td>\n",
       "    </tr>\n",
       "  </tbody>\n",
       "</table>\n",
       "</div>"
      ],
      "text/plain": [
       "              total_sales  median_sales\n",
       "genre                                  \n",
       "Action             320.51         0.110\n",
       "Shooter            232.98         0.450\n",
       "Sports             149.93         0.250\n",
       "Role-Playing       144.86         0.120\n",
       "Misc                62.57         0.115\n",
       "Platform            41.94         0.225\n",
       "Racing              39.89         0.120\n",
       "Fighting            35.29         0.130\n",
       "Adventure           22.90         0.030\n",
       "Simulation          21.55         0.100\n",
       "Strategy            10.06         0.080\n",
       "Puzzle               3.17         0.060"
      ]
     },
     "execution_count": 42,
     "metadata": {},
     "output_type": "execute_result"
    }
   ],
   "source": [
    "#compile a table with data on sales of games for all genres\n",
    "genre_by_sales = good_data.groupby('genre').agg(total_sales=('total_sales', 'sum'), median_sales=('total_sales', 'median'))\n",
    "genre_by_sales.sort_values(by='total_sales', ascending=False)"
   ]
  },
  {
   "attachments": {},
   "cell_type": "markdown",
   "metadata": {},
   "source": [
    "Top genres by game sales:\n",
    "- Action\n",
    "- Shooters\n",
    "- Sport games\n",
    "- RPG\n",
    "\n",
    "It should be noted that the median of the genres is very different, and the best-selling genre by the median is shooters, then sports games, and then platformers.\n",
    "Action games seem to sell well on the basis of a few hits, and on average a game in this genre will outsell nearly all other genres (except puzzle, strategy, simulation, and adventure games).\n",
    "\n",
    "In the period from 2013-2016, one can also distinguish genres with sales of less than 30 million copies - adventure, simulation, strategy and puzzle."
   ]
  },
  {
   "cell_type": "code",
   "execution_count": 43,
   "metadata": {},
   "outputs": [],
   "source": [
    "#collect a table of game sales by genre by year for plotting\n",
    "genre_by_year = good_data.groupby(['genre', 'year_of_release']).agg(total_sales=('total_sales', 'sum'))\n",
    "genre_by_year = genre_by_year.reset_index()\n",
    "genre_by_sales = genre_by_sales.reset_index()"
   ]
  },
  {
   "cell_type": "code",
   "execution_count": 44,
   "metadata": {},
   "outputs": [
    {
     "data": {
      "image/png": "[encoded data removed]",
      "text/plain": [
       "<Figure size 640x480 with 1 Axes>"
      ]
     },
     "metadata": {},
     "output_type": "display_data"
    },
    {
     "data": {
      "image/png": "[encoded data removed]",
      "text/plain": [
       "<Figure size 640x480 with 1 Axes>"
      ]
     },
     "metadata": {},
     "output_type": "display_data"
    },
    {
     "data": {
      "image/png": "[encoded data removed]",
      "text/plain": [
       "<Figure size 640x480 with 1 Axes>"
      ]
     },
     "metadata": {},
     "output_type": "display_data"
    },
    {
     "data": {
      "image/png": "[encoded data removed]",
      "text/plain": [
       "<Figure size 640x480 with 1 Axes>"
      ]
     },
     "metadata": {},
     "output_type": "display_data"
    },
    {
     "data": {
      "image/png": "[encoded data removed]",
      "text/plain": [
       "<Figure size 640x480 with 1 Axes>"
      ]
     },
     "metadata": {},
     "output_type": "display_data"
    },
    {
     "data": {
      "image/png": "[encoded data removed]",
      "text/plain": [
       "<Figure size 640x480 with 1 Axes>"
      ]
     },
     "metadata": {},
     "output_type": "display_data"
    },
    {
     "data": {
      "image/png": "[encoded data removed]",
      "text/plain": [
       "<Figure size 640x480 with 1 Axes>"
      ]
     },
     "metadata": {},
     "output_type": "display_data"
    },
    {
     "data": {
      "image/png": "[encoded data removed]",
      "text/plain": [
       "<Figure size 640x480 with 1 Axes>"
      ]
     },
     "metadata": {},
     "output_type": "display_data"
    },
    {
     "data": {
      "image/png": "[encoded data removed]",
      "text/plain": [
       "<Figure size 640x480 with 1 Axes>"
      ]
     },
     "metadata": {},
     "output_type": "display_data"
    },
    {
     "data": {
      "image/png": "[encoded data removed]",
      "text/plain": [
       "<Figure size 640x480 with 1 Axes>"
      ]
     },
     "metadata": {},
     "output_type": "display_data"
    },
    {
     "data": {
      "image/png": "[encoded data removed]",
      "text/plain": [
       "<Figure size 640x480 with 1 Axes>"
      ]
     },
     "metadata": {},
     "output_type": "display_data"
    },
    {
     "data": {
      "image/png": "[encoded data removed]",
      "text/plain": [
       "<Figure size 640x480 with 1 Axes>"
      ]
     },
     "metadata": {},
     "output_type": "display_data"
    }
   ],
   "source": [
    "#distribution graphs to identify rising and falling genres\n",
    "for value in genre_by_sales['genre']:\n",
    "    genre_by_year[genre_by_year['genre'] == value].plot(kind='bar', x='year_of_release')\n",
    "    plt.title(value)\n",
    "    plt.show()"
   ]
  },
  {
   "attachments": {},
   "cell_type": "markdown",
   "metadata": {},
   "source": [
    "Using the same logic as with the platforms, let's look at the genres whose sales increased in 2015 relative to 2013.\n",
    "Total growing genres:\n",
    "- Shooter\n",
    "- Sports\n",
    "- Fighting"
   ]
  },
  {
   "attachments": {},
   "cell_type": "markdown",
   "metadata": {},
   "source": [
    "**Summary of the exploratory data analysis section:**\n",
    "\n",
    "1. Sales of games on new gaming platforms grow for about 3-4 years, and then begin to decline.\n",
    "2. The average life of the platform (excluding PC) is about 7 years.\n",
    "3. For our analysis, it is enough to take data from 2013.\n",
    "4. The most popular and growing platforms right now are PS4 and Xbox One.\n",
    "5. Sales of games for these platforms are affected by critical ratings, especially if the rating is above 60 points.\n",
    "6. Popular genres in terms of sales - action, shooters, sports, RPG.\n",
    "7. Games of genres - shooters, sports games, platformers are much better than others on average."
   ]
  },
  {
   "attachments": {},
   "cell_type": "markdown",
   "metadata": {},
   "source": [
    "# User portrait by region"
   ]
  },
  {
   "attachments": {},
   "cell_type": "markdown",
   "metadata": {},
   "source": [
    "**Most popular platforms in US, EU and Japan**"
   ]
  },
  {
   "cell_type": "code",
   "execution_count": 45,
   "metadata": {
    "scrolled": true
   },
   "outputs": [
    {
     "data": {
      "text/html": [
       "<div>\n",
       "<style scoped>\n",
       "    .dataframe tbody tr th:only-of-type {\n",
       "        vertical-align: middle;\n",
       "    }\n",
       "\n",
       "    .dataframe tbody tr th {\n",
       "        vertical-align: top;\n",
       "    }\n",
       "\n",
       "    .dataframe thead th {\n",
       "        text-align: right;\n",
       "    }\n",
       "</style>\n",
       "<table border=\"1\" class=\"dataframe\">\n",
       "  <thead>\n",
       "    <tr style=\"text-align: right;\">\n",
       "      <th></th>\n",
       "      <th>na_sales</th>\n",
       "      <th>%</th>\n",
       "    </tr>\n",
       "    <tr>\n",
       "      <th>platform</th>\n",
       "      <th></th>\n",
       "      <th></th>\n",
       "    </tr>\n",
       "  </thead>\n",
       "  <tbody>\n",
       "    <tr>\n",
       "      <th>PS4</th>\n",
       "      <td>108.74</td>\n",
       "      <td>24.875326</td>\n",
       "    </tr>\n",
       "    <tr>\n",
       "      <th>XOne</th>\n",
       "      <td>93.12</td>\n",
       "      <td>21.302100</td>\n",
       "    </tr>\n",
       "    <tr>\n",
       "      <th>X360</th>\n",
       "      <td>81.66</td>\n",
       "      <td>18.680514</td>\n",
       "    </tr>\n",
       "    <tr>\n",
       "      <th>PS3</th>\n",
       "      <td>63.50</td>\n",
       "      <td>14.526239</td>\n",
       "    </tr>\n",
       "    <tr>\n",
       "      <th>3DS</th>\n",
       "      <td>38.20</td>\n",
       "      <td>8.738619</td>\n",
       "    </tr>\n",
       "  </tbody>\n",
       "</table>\n",
       "</div>"
      ],
      "text/plain": [
       "          na_sales          %\n",
       "platform                     \n",
       "PS4         108.74  24.875326\n",
       "XOne         93.12  21.302100\n",
       "X360         81.66  18.680514\n",
       "PS3          63.50  14.526239\n",
       "3DS          38.20   8.738619"
      ]
     },
     "execution_count": 45,
     "metadata": {},
     "output_type": "execute_result"
    }
   ],
   "source": [
    "#compile a table by platform by US region\n",
    "platform_na = good_data.groupby('platform').agg(na_sales=('na_sales', 'sum'))\n",
    "platform_na['%'] = platform_na['na_sales'] / platform_na['na_sales'].sum() * 100\n",
    "\n",
    "#print top-5\n",
    "platform_na.sort_values(by='na_sales', ascending=False).head(5)"
   ]
  },
  {
   "cell_type": "code",
   "execution_count": 46,
   "metadata": {},
   "outputs": [
    {
     "data": {
      "text/html": [
       "<div>\n",
       "<style scoped>\n",
       "    .dataframe tbody tr th:only-of-type {\n",
       "        vertical-align: middle;\n",
       "    }\n",
       "\n",
       "    .dataframe tbody tr th {\n",
       "        vertical-align: top;\n",
       "    }\n",
       "\n",
       "    .dataframe thead th {\n",
       "        text-align: right;\n",
       "    }\n",
       "</style>\n",
       "<table border=\"1\" class=\"dataframe\">\n",
       "  <thead>\n",
       "    <tr style=\"text-align: right;\">\n",
       "      <th></th>\n",
       "      <th>eu_sales</th>\n",
       "      <th>%</th>\n",
       "    </tr>\n",
       "    <tr>\n",
       "      <th>platform</th>\n",
       "      <th></th>\n",
       "      <th></th>\n",
       "    </tr>\n",
       "  </thead>\n",
       "  <tbody>\n",
       "    <tr>\n",
       "      <th>PS4</th>\n",
       "      <td>141.09</td>\n",
       "      <td>36.065029</td>\n",
       "    </tr>\n",
       "    <tr>\n",
       "      <th>PS3</th>\n",
       "      <td>67.81</td>\n",
       "      <td>17.333401</td>\n",
       "    </tr>\n",
       "    <tr>\n",
       "      <th>XOne</th>\n",
       "      <td>51.59</td>\n",
       "      <td>13.187291</td>\n",
       "    </tr>\n",
       "    <tr>\n",
       "      <th>X360</th>\n",
       "      <td>42.52</td>\n",
       "      <td>10.868843</td>\n",
       "    </tr>\n",
       "    <tr>\n",
       "      <th>3DS</th>\n",
       "      <td>30.96</td>\n",
       "      <td>7.913908</td>\n",
       "    </tr>\n",
       "  </tbody>\n",
       "</table>\n",
       "</div>"
      ],
      "text/plain": [
       "          eu_sales          %\n",
       "platform                     \n",
       "PS4         141.09  36.065029\n",
       "PS3          67.81  17.333401\n",
       "XOne         51.59  13.187291\n",
       "X360         42.52  10.868843\n",
       "3DS          30.96   7.913908"
      ]
     },
     "execution_count": 46,
     "metadata": {},
     "output_type": "execute_result"
    }
   ],
   "source": [
    "#compile a table by EU region and print top-5\n",
    "platform_eu = good_data.groupby('platform').agg(eu_sales=('eu_sales', 'sum'))\n",
    "platform_eu['%'] = platform_eu['eu_sales'] / platform_eu['eu_sales'].sum() * 100\n",
    "platform_eu.sort_values(by='eu_sales', ascending=False).head(5)"
   ]
  },
  {
   "cell_type": "code",
   "execution_count": 47,
   "metadata": {},
   "outputs": [
    {
     "data": {
      "text/html": [
       "<div>\n",
       "<style scoped>\n",
       "    .dataframe tbody tr th:only-of-type {\n",
       "        vertical-align: middle;\n",
       "    }\n",
       "\n",
       "    .dataframe tbody tr th {\n",
       "        vertical-align: top;\n",
       "    }\n",
       "\n",
       "    .dataframe thead th {\n",
       "        text-align: right;\n",
       "    }\n",
       "</style>\n",
       "<table border=\"1\" class=\"dataframe\">\n",
       "  <thead>\n",
       "    <tr style=\"text-align: right;\">\n",
       "      <th></th>\n",
       "      <th>jp_sales</th>\n",
       "      <th>%</th>\n",
       "    </tr>\n",
       "    <tr>\n",
       "      <th>platform</th>\n",
       "      <th></th>\n",
       "      <th></th>\n",
       "    </tr>\n",
       "  </thead>\n",
       "  <tbody>\n",
       "    <tr>\n",
       "      <th>3DS</th>\n",
       "      <td>67.81</td>\n",
       "      <td>49.319951</td>\n",
       "    </tr>\n",
       "    <tr>\n",
       "      <th>PS3</th>\n",
       "      <td>23.35</td>\n",
       "      <td>16.983053</td>\n",
       "    </tr>\n",
       "    <tr>\n",
       "      <th>PSV</th>\n",
       "      <td>18.59</td>\n",
       "      <td>13.520983</td>\n",
       "    </tr>\n",
       "    <tr>\n",
       "      <th>PS4</th>\n",
       "      <td>15.96</td>\n",
       "      <td>11.608117</td>\n",
       "    </tr>\n",
       "    <tr>\n",
       "      <th>WiiU</th>\n",
       "      <td>10.88</td>\n",
       "      <td>7.913303</td>\n",
       "    </tr>\n",
       "  </tbody>\n",
       "</table>\n",
       "</div>"
      ],
      "text/plain": [
       "          jp_sales          %\n",
       "platform                     \n",
       "3DS          67.81  49.319951\n",
       "PS3          23.35  16.983053\n",
       "PSV          18.59  13.520983\n",
       "PS4          15.96  11.608117\n",
       "WiiU         10.88   7.913303"
      ]
     },
     "execution_count": 47,
     "metadata": {},
     "output_type": "execute_result"
    }
   ],
   "source": [
    "#compile a table by Japan region and print top-5\n",
    "platform_jp = good_data.groupby('platform').agg(jp_sales=('jp_sales', 'sum'))\n",
    "platform_jp['%'] = platform_jp['jp_sales'] / platform_jp['jp_sales'].sum() * 100\n",
    "platform_jp.sort_values(by='jp_sales', ascending=False).head(5)"
   ]
  },
  {
   "attachments": {},
   "cell_type": "markdown",
   "metadata": {},
   "source": [
    "**Conclusion:**\n",
    "In the US and the EU, the top 5 platforms for games are similar, except that in the US, the Xbox is more popular, and in the EU, PS (even previous generations).\n",
    "\n",
    "In Japan, the most popular platforms are from Nintendo and Sony. Xbox is not popular."
   ]
  },
  {
   "attachments": {},
   "cell_type": "markdown",
   "metadata": {},
   "source": [
    "**Top Genres by Region: US, EU, and Japan**"
   ]
  },
  {
   "cell_type": "code",
   "execution_count": 48,
   "metadata": {},
   "outputs": [
    {
     "data": {
      "text/html": [
       "<div>\n",
       "<style scoped>\n",
       "    .dataframe tbody tr th:only-of-type {\n",
       "        vertical-align: middle;\n",
       "    }\n",
       "\n",
       "    .dataframe tbody tr th {\n",
       "        vertical-align: top;\n",
       "    }\n",
       "\n",
       "    .dataframe thead th {\n",
       "        text-align: right;\n",
       "    }\n",
       "</style>\n",
       "<table border=\"1\" class=\"dataframe\">\n",
       "  <thead>\n",
       "    <tr style=\"text-align: right;\">\n",
       "      <th></th>\n",
       "      <th>na_sales</th>\n",
       "      <th>%</th>\n",
       "    </tr>\n",
       "    <tr>\n",
       "      <th>genre</th>\n",
       "      <th></th>\n",
       "      <th></th>\n",
       "    </tr>\n",
       "  </thead>\n",
       "  <tbody>\n",
       "    <tr>\n",
       "      <th>Action</th>\n",
       "      <td>125.83</td>\n",
       "      <td>28.784829</td>\n",
       "    </tr>\n",
       "    <tr>\n",
       "      <th>Shooter</th>\n",
       "      <td>109.74</td>\n",
       "      <td>25.104086</td>\n",
       "    </tr>\n",
       "    <tr>\n",
       "      <th>Sports</th>\n",
       "      <td>65.27</td>\n",
       "      <td>14.931143</td>\n",
       "    </tr>\n",
       "    <tr>\n",
       "      <th>Role-Playing</th>\n",
       "      <td>46.40</td>\n",
       "      <td>10.614448</td>\n",
       "    </tr>\n",
       "    <tr>\n",
       "      <th>Misc</th>\n",
       "      <td>27.46</td>\n",
       "      <td>6.281740</td>\n",
       "    </tr>\n",
       "  </tbody>\n",
       "</table>\n",
       "</div>"
      ],
      "text/plain": [
       "              na_sales          %\n",
       "genre                            \n",
       "Action          125.83  28.784829\n",
       "Shooter         109.74  25.104086\n",
       "Sports           65.27  14.931143\n",
       "Role-Playing     46.40  10.614448\n",
       "Misc             27.46   6.281740"
      ]
     },
     "execution_count": 48,
     "metadata": {},
     "output_type": "execute_result"
    }
   ],
   "source": [
    "#compile a table by game genres in the USA and display the top 5\n",
    "genre_na = good_data.groupby('genre').agg(na_sales=('na_sales', 'sum'))\n",
    "genre_na['%'] = genre_na['na_sales'] / genre_na['na_sales'].sum() * 100\n",
    "genre_na.sort_values(by='na_sales', ascending=False).head(5)"
   ]
  },
  {
   "cell_type": "code",
   "execution_count": 49,
   "metadata": {},
   "outputs": [
    {
     "data": {
      "text/html": [
       "<div>\n",
       "<style scoped>\n",
       "    .dataframe tbody tr th:only-of-type {\n",
       "        vertical-align: middle;\n",
       "    }\n",
       "\n",
       "    .dataframe tbody tr th {\n",
       "        vertical-align: top;\n",
       "    }\n",
       "\n",
       "    .dataframe thead th {\n",
       "        text-align: right;\n",
       "    }\n",
       "</style>\n",
       "<table border=\"1\" class=\"dataframe\">\n",
       "  <thead>\n",
       "    <tr style=\"text-align: right;\">\n",
       "      <th></th>\n",
       "      <th>eu_sales</th>\n",
       "      <th>%</th>\n",
       "    </tr>\n",
       "    <tr>\n",
       "      <th>genre</th>\n",
       "      <th></th>\n",
       "      <th></th>\n",
       "    </tr>\n",
       "  </thead>\n",
       "  <tbody>\n",
       "    <tr>\n",
       "      <th>Action</th>\n",
       "      <td>117.87</td>\n",
       "      <td>30.129598</td>\n",
       "    </tr>\n",
       "    <tr>\n",
       "      <th>Shooter</th>\n",
       "      <td>87.86</td>\n",
       "      <td>22.458526</td>\n",
       "    </tr>\n",
       "    <tr>\n",
       "      <th>Sports</th>\n",
       "      <td>60.34</td>\n",
       "      <td>15.423941</td>\n",
       "    </tr>\n",
       "    <tr>\n",
       "      <th>Role-Playing</th>\n",
       "      <td>36.97</td>\n",
       "      <td>9.450167</td>\n",
       "    </tr>\n",
       "    <tr>\n",
       "      <th>Racing</th>\n",
       "      <td>20.19</td>\n",
       "      <td>5.160911</td>\n",
       "    </tr>\n",
       "  </tbody>\n",
       "</table>\n",
       "</div>"
      ],
      "text/plain": [
       "              eu_sales          %\n",
       "genre                            \n",
       "Action          117.87  30.129598\n",
       "Shooter          87.86  22.458526\n",
       "Sports           60.34  15.423941\n",
       "Role-Playing     36.97   9.450167\n",
       "Racing           20.19   5.160911"
      ]
     },
     "execution_count": 49,
     "metadata": {},
     "output_type": "execute_result"
    }
   ],
   "source": [
    "#compile a table by genres of games in the EU and display the top 5\n",
    "genre_eu = good_data.groupby('genre').agg(eu_sales=('eu_sales', 'sum'))\n",
    "genre_eu['%'] = genre_eu['eu_sales'] / genre_eu['eu_sales'].sum() * 100\n",
    "genre_eu.sort_values(by='eu_sales', ascending=False).head(5)"
   ]
  },
  {
   "cell_type": "code",
   "execution_count": 50,
   "metadata": {},
   "outputs": [
    {
     "data": {
      "text/html": [
       "<div>\n",
       "<style scoped>\n",
       "    .dataframe tbody tr th:only-of-type {\n",
       "        vertical-align: middle;\n",
       "    }\n",
       "\n",
       "    .dataframe tbody tr th {\n",
       "        vertical-align: top;\n",
       "    }\n",
       "\n",
       "    .dataframe thead th {\n",
       "        text-align: right;\n",
       "    }\n",
       "</style>\n",
       "<table border=\"1\" class=\"dataframe\">\n",
       "  <thead>\n",
       "    <tr style=\"text-align: right;\">\n",
       "      <th></th>\n",
       "      <th>jp_sales</th>\n",
       "      <th>%</th>\n",
       "    </tr>\n",
       "    <tr>\n",
       "      <th>genre</th>\n",
       "      <th></th>\n",
       "      <th></th>\n",
       "    </tr>\n",
       "  </thead>\n",
       "  <tbody>\n",
       "    <tr>\n",
       "      <th>Role-Playing</th>\n",
       "      <td>50.01</td>\n",
       "      <td>36.373554</td>\n",
       "    </tr>\n",
       "    <tr>\n",
       "      <th>Action</th>\n",
       "      <td>39.65</td>\n",
       "      <td>28.838461</td>\n",
       "    </tr>\n",
       "    <tr>\n",
       "      <th>Misc</th>\n",
       "      <td>9.03</td>\n",
       "      <td>6.567750</td>\n",
       "    </tr>\n",
       "    <tr>\n",
       "      <th>Fighting</th>\n",
       "      <td>7.63</td>\n",
       "      <td>5.549495</td>\n",
       "    </tr>\n",
       "    <tr>\n",
       "      <th>Shooter</th>\n",
       "      <td>6.61</td>\n",
       "      <td>4.807622</td>\n",
       "    </tr>\n",
       "  </tbody>\n",
       "</table>\n",
       "</div>"
      ],
      "text/plain": [
       "              jp_sales          %\n",
       "genre                            \n",
       "Role-Playing     50.01  36.373554\n",
       "Action           39.65  28.838461\n",
       "Misc              9.03   6.567750\n",
       "Fighting          7.63   5.549495\n",
       "Shooter           6.61   4.807622"
      ]
     },
     "execution_count": 50,
     "metadata": {},
     "output_type": "execute_result"
    }
   ],
   "source": [
    "#compile a table by genres of games in Japan and display the top 5\n",
    "genre_jp = good_data.groupby('genre').agg(jp_sales=('jp_sales', 'sum'))\n",
    "genre_jp['%'] = genre_jp['jp_sales'] / genre_jp['jp_sales'].sum() * 100\n",
    "genre_jp.sort_values(by='jp_sales', ascending=False).head(5)"
   ]
  },
  {
   "attachments": {},
   "cell_type": "markdown",
   "metadata": {},
   "source": [
    "**Conclusion:**\n",
    "In the US and the EU, the most popular game genres are very similar - Action, Shooter, Sports, RPG. Only 5th place differs. At the same time, the top 5 genres in the US and the EU occupy more than 80%.\n",
    "\n",
    "The most popular genre in Japan is RPG and it stands out from the rest - more than a third of sales. The second genre is action and together they account for more than 60% of all sales."
   ]
  },
  {
   "attachments": {},
   "cell_type": "markdown",
   "metadata": {},
   "source": [
    "**Influence of ESRB rating by region**"
   ]
  },
  {
   "cell_type": "code",
   "execution_count": 51,
   "metadata": {},
   "outputs": [
    {
     "data": {
      "text/html": [
       "<div>\n",
       "<style scoped>\n",
       "    .dataframe tbody tr th:only-of-type {\n",
       "        vertical-align: middle;\n",
       "    }\n",
       "\n",
       "    .dataframe tbody tr th {\n",
       "        vertical-align: top;\n",
       "    }\n",
       "\n",
       "    .dataframe thead th {\n",
       "        text-align: right;\n",
       "    }\n",
       "</style>\n",
       "<table border=\"1\" class=\"dataframe\">\n",
       "  <thead>\n",
       "    <tr style=\"text-align: right;\">\n",
       "      <th></th>\n",
       "      <th>na_sales</th>\n",
       "      <th>na_%</th>\n",
       "      <th>eu_sales</th>\n",
       "      <th>eu_%</th>\n",
       "      <th>jp_sales</th>\n",
       "      <th>jp_%</th>\n",
       "    </tr>\n",
       "    <tr>\n",
       "      <th>rating</th>\n",
       "      <th></th>\n",
       "      <th></th>\n",
       "      <th></th>\n",
       "      <th></th>\n",
       "      <th></th>\n",
       "      <th></th>\n",
       "    </tr>\n",
       "  </thead>\n",
       "  <tbody>\n",
       "    <tr>\n",
       "      <th>E</th>\n",
       "      <td>78.94</td>\n",
       "      <td>18.058288</td>\n",
       "      <td>82.80</td>\n",
       "      <td>21.165103</td>\n",
       "      <td>15.00</td>\n",
       "      <td>10.909884</td>\n",
       "    </tr>\n",
       "    <tr>\n",
       "      <th>E10+</th>\n",
       "      <td>54.02</td>\n",
       "      <td>12.357597</td>\n",
       "      <td>42.53</td>\n",
       "      <td>10.871399</td>\n",
       "      <td>5.89</td>\n",
       "      <td>4.283948</td>\n",
       "    </tr>\n",
       "    <tr>\n",
       "      <th>M</th>\n",
       "      <td>165.21</td>\n",
       "      <td>37.793384</td>\n",
       "      <td>145.32</td>\n",
       "      <td>37.146290</td>\n",
       "      <td>14.11</td>\n",
       "      <td>10.262565</td>\n",
       "    </tr>\n",
       "    <tr>\n",
       "      <th>T</th>\n",
       "      <td>49.79</td>\n",
       "      <td>11.389944</td>\n",
       "      <td>41.95</td>\n",
       "      <td>10.723141</td>\n",
       "      <td>20.44</td>\n",
       "      <td>14.866536</td>\n",
       "    </tr>\n",
       "    <tr>\n",
       "      <th>no rating</th>\n",
       "      <td>89.18</td>\n",
       "      <td>20.400787</td>\n",
       "      <td>78.61</td>\n",
       "      <td>20.094067</td>\n",
       "      <td>82.05</td>\n",
       "      <td>59.677067</td>\n",
       "    </tr>\n",
       "  </tbody>\n",
       "</table>\n",
       "</div>"
      ],
      "text/plain": [
       "           na_sales       na_%  eu_sales       eu_%  jp_sales       jp_%\n",
       "rating                                                                  \n",
       "E             78.94  18.058288     82.80  21.165103     15.00  10.909884\n",
       "E10+          54.02  12.357597     42.53  10.871399      5.89   4.283948\n",
       "M            165.21  37.793384    145.32  37.146290     14.11  10.262565\n",
       "T             49.79  11.389944     41.95  10.723141     20.44  14.866536\n",
       "no rating     89.18  20.400787     78.61  20.094067     82.05  59.677067"
      ]
     },
     "execution_count": 51,
     "metadata": {},
     "output_type": "execute_result"
    }
   ],
   "source": [
    "#compile a general table of game sales broken down by rating category and by sales region\n",
    "\n",
    "rating_grouped = good_data.groupby('rating').agg(na_sales=('na_sales', 'sum'), eu_sales=('eu_sales', 'sum'), jp_sales=('jp_sales', 'sum'))\n",
    "\n",
    "na_sales_share = rating_grouped['na_sales'] / rating_grouped['na_sales'].sum() * 100\n",
    "rating_grouped.insert(loc=1, column='na_%', value=na_sales_share)\n",
    "\n",
    "eu_sales_share = rating_grouped['eu_sales'] / rating_grouped['eu_sales'].sum() * 100\n",
    "rating_grouped.insert(loc=3, column='eu_%', value=eu_sales_share)\n",
    "\n",
    "jp_sales_share = rating_grouped['jp_sales'] / rating_grouped['jp_sales'].sum() * 100\n",
    "rating_grouped.insert(loc=5, column='jp_%', value=jp_sales_share)\n",
    "\n",
    "rating_grouped"
   ]
  },
  {
   "attachments": {},
   "cell_type": "markdown",
   "metadata": {},
   "source": [
    "In the US and EU, only 20% of games come out without an ESRB rating, in Japan more than 60%.\n",
    "\n",
    "The main share of sales in the US and the EU belongs to \"adult\" games rated M (about 40%). Then there are games for all ages - E (20%). E10+ and T add up another 20%.\n",
    "\n",
    "In Japan, games rated M - 10% of sales. The remaining 30% are E, E10+ and T."
   ]
  },
  {
   "cell_type": "code",
   "execution_count": 52,
   "metadata": {},
   "outputs": [
    {
     "data": {
      "text/html": [
       "<div>\n",
       "<style scoped>\n",
       "    .dataframe tbody tr th:only-of-type {\n",
       "        vertical-align: middle;\n",
       "    }\n",
       "\n",
       "    .dataframe tbody tr th {\n",
       "        vertical-align: top;\n",
       "    }\n",
       "\n",
       "    .dataframe thead th {\n",
       "        text-align: right;\n",
       "    }\n",
       "</style>\n",
       "<table border=\"1\" class=\"dataframe\">\n",
       "  <thead>\n",
       "    <tr style=\"text-align: right;\">\n",
       "      <th></th>\n",
       "      <th></th>\n",
       "      <th>na_sales</th>\n",
       "      <th>eu_sales</th>\n",
       "      <th>jp_sales</th>\n",
       "    </tr>\n",
       "    <tr>\n",
       "      <th>genre</th>\n",
       "      <th>rating</th>\n",
       "      <th></th>\n",
       "      <th></th>\n",
       "      <th></th>\n",
       "    </tr>\n",
       "  </thead>\n",
       "  <tbody>\n",
       "    <tr>\n",
       "      <th rowspan=\"5\" valign=\"top\">Action</th>\n",
       "      <th>E</th>\n",
       "      <td>5.49</td>\n",
       "      <td>4.92</td>\n",
       "      <td>3.07</td>\n",
       "    </tr>\n",
       "    <tr>\n",
       "      <th>E10+</th>\n",
       "      <td>20.67</td>\n",
       "      <td>18.08</td>\n",
       "      <td>1.08</td>\n",
       "    </tr>\n",
       "    <tr>\n",
       "      <th>M</th>\n",
       "      <td>71.27</td>\n",
       "      <td>67.62</td>\n",
       "      <td>7.54</td>\n",
       "    </tr>\n",
       "    <tr>\n",
       "      <th>T</th>\n",
       "      <td>11.04</td>\n",
       "      <td>10.07</td>\n",
       "      <td>5.25</td>\n",
       "    </tr>\n",
       "    <tr>\n",
       "      <th>no rating</th>\n",
       "      <td>17.36</td>\n",
       "      <td>17.18</td>\n",
       "      <td>22.71</td>\n",
       "    </tr>\n",
       "    <tr>\n",
       "      <th rowspan=\"5\" valign=\"top\">Adventure</th>\n",
       "      <th>E</th>\n",
       "      <td>0.31</td>\n",
       "      <td>0.54</td>\n",
       "      <td>0.53</td>\n",
       "    </tr>\n",
       "    <tr>\n",
       "      <th>E10+</th>\n",
       "      <td>0.92</td>\n",
       "      <td>1.11</td>\n",
       "      <td>0.00</td>\n",
       "    </tr>\n",
       "    <tr>\n",
       "      <th>M</th>\n",
       "      <td>2.90</td>\n",
       "      <td>3.23</td>\n",
       "      <td>0.42</td>\n",
       "    </tr>\n",
       "    <tr>\n",
       "      <th>T</th>\n",
       "      <td>0.21</td>\n",
       "      <td>0.28</td>\n",
       "      <td>0.03</td>\n",
       "    </tr>\n",
       "    <tr>\n",
       "      <th>no rating</th>\n",
       "      <td>2.80</td>\n",
       "      <td>3.06</td>\n",
       "      <td>4.13</td>\n",
       "    </tr>\n",
       "    <tr>\n",
       "      <th rowspan=\"4\" valign=\"top\">Fighting</th>\n",
       "      <th>E10+</th>\n",
       "      <td>0.61</td>\n",
       "      <td>0.29</td>\n",
       "      <td>0.17</td>\n",
       "    </tr>\n",
       "    <tr>\n",
       "      <th>M</th>\n",
       "      <td>2.54</td>\n",
       "      <td>1.05</td>\n",
       "      <td>0.02</td>\n",
       "    </tr>\n",
       "    <tr>\n",
       "      <th>T</th>\n",
       "      <td>5.26</td>\n",
       "      <td>3.97</td>\n",
       "      <td>2.53</td>\n",
       "    </tr>\n",
       "    <tr>\n",
       "      <th>no rating</th>\n",
       "      <td>7.14</td>\n",
       "      <td>3.24</td>\n",
       "      <td>4.91</td>\n",
       "    </tr>\n",
       "    <tr>\n",
       "      <th rowspan=\"5\" valign=\"top\">Misc</th>\n",
       "      <th>E</th>\n",
       "      <td>2.50</td>\n",
       "      <td>2.33</td>\n",
       "      <td>1.97</td>\n",
       "    </tr>\n",
       "    <tr>\n",
       "      <th>E10+</th>\n",
       "      <td>8.17</td>\n",
       "      <td>5.17</td>\n",
       "      <td>0.10</td>\n",
       "    </tr>\n",
       "    <tr>\n",
       "      <th>M</th>\n",
       "      <td>0.72</td>\n",
       "      <td>0.46</td>\n",
       "      <td>0.18</td>\n",
       "    </tr>\n",
       "    <tr>\n",
       "      <th>T</th>\n",
       "      <td>2.31</td>\n",
       "      <td>1.15</td>\n",
       "      <td>0.87</td>\n",
       "    </tr>\n",
       "    <tr>\n",
       "      <th>no rating</th>\n",
       "      <td>13.76</td>\n",
       "      <td>10.89</td>\n",
       "      <td>5.91</td>\n",
       "    </tr>\n",
       "    <tr>\n",
       "      <th rowspan=\"4\" valign=\"top\">Platform</th>\n",
       "      <th>E</th>\n",
       "      <td>8.70</td>\n",
       "      <td>6.45</td>\n",
       "      <td>3.43</td>\n",
       "    </tr>\n",
       "    <tr>\n",
       "      <th>E10+</th>\n",
       "      <td>6.85</td>\n",
       "      <td>5.89</td>\n",
       "      <td>0.71</td>\n",
       "    </tr>\n",
       "    <tr>\n",
       "      <th>T</th>\n",
       "      <td>0.21</td>\n",
       "      <td>0.28</td>\n",
       "      <td>0.03</td>\n",
       "    </tr>\n",
       "    <tr>\n",
       "      <th>no rating</th>\n",
       "      <td>2.17</td>\n",
       "      <td>2.53</td>\n",
       "      <td>0.62</td>\n",
       "    </tr>\n",
       "    <tr>\n",
       "      <th rowspan=\"3\" valign=\"top\">Puzzle</th>\n",
       "      <th>E</th>\n",
       "      <td>0.59</td>\n",
       "      <td>0.39</td>\n",
       "      <td>0.26</td>\n",
       "    </tr>\n",
       "    <tr>\n",
       "      <th>E10+</th>\n",
       "      <td>0.18</td>\n",
       "      <td>0.51</td>\n",
       "      <td>0.25</td>\n",
       "    </tr>\n",
       "    <tr>\n",
       "      <th>no rating</th>\n",
       "      <td>0.06</td>\n",
       "      <td>0.10</td>\n",
       "      <td>0.67</td>\n",
       "    </tr>\n",
       "    <tr>\n",
       "      <th rowspan=\"5\" valign=\"top\">Racing</th>\n",
       "      <th>E</th>\n",
       "      <td>8.17</td>\n",
       "      <td>11.96</td>\n",
       "      <td>1.89</td>\n",
       "    </tr>\n",
       "    <tr>\n",
       "      <th>E10+</th>\n",
       "      <td>3.03</td>\n",
       "      <td>3.84</td>\n",
       "      <td>0.14</td>\n",
       "    </tr>\n",
       "    <tr>\n",
       "      <th>M</th>\n",
       "      <td>0.06</td>\n",
       "      <td>0.02</td>\n",
       "      <td>0.00</td>\n",
       "    </tr>\n",
       "    <tr>\n",
       "      <th>T</th>\n",
       "      <td>0.66</td>\n",
       "      <td>1.71</td>\n",
       "      <td>0.03</td>\n",
       "    </tr>\n",
       "    <tr>\n",
       "      <th>no rating</th>\n",
       "      <td>1.04</td>\n",
       "      <td>2.66</td>\n",
       "      <td>0.24</td>\n",
       "    </tr>\n",
       "    <tr>\n",
       "      <th rowspan=\"5\" valign=\"top\">Role-Playing</th>\n",
       "      <th>E</th>\n",
       "      <td>0.68</td>\n",
       "      <td>0.49</td>\n",
       "      <td>0.39</td>\n",
       "    </tr>\n",
       "    <tr>\n",
       "      <th>E10+</th>\n",
       "      <td>0.86</td>\n",
       "      <td>0.52</td>\n",
       "      <td>1.08</td>\n",
       "    </tr>\n",
       "    <tr>\n",
       "      <th>M</th>\n",
       "      <td>16.67</td>\n",
       "      <td>15.77</td>\n",
       "      <td>2.51</td>\n",
       "    </tr>\n",
       "    <tr>\n",
       "      <th>T</th>\n",
       "      <td>6.03</td>\n",
       "      <td>3.91</td>\n",
       "      <td>10.67</td>\n",
       "    </tr>\n",
       "    <tr>\n",
       "      <th>no rating</th>\n",
       "      <td>22.16</td>\n",
       "      <td>16.28</td>\n",
       "      <td>35.36</td>\n",
       "    </tr>\n",
       "    <tr>\n",
       "      <th rowspan=\"4\" valign=\"top\">Shooter</th>\n",
       "      <th>E10+</th>\n",
       "      <td>3.61</td>\n",
       "      <td>3.13</td>\n",
       "      <td>1.55</td>\n",
       "    </tr>\n",
       "    <tr>\n",
       "      <th>M</th>\n",
       "      <td>70.99</td>\n",
       "      <td>56.92</td>\n",
       "      <td>3.44</td>\n",
       "    </tr>\n",
       "    <tr>\n",
       "      <th>T</th>\n",
       "      <td>15.58</td>\n",
       "      <td>10.92</td>\n",
       "      <td>0.81</td>\n",
       "    </tr>\n",
       "    <tr>\n",
       "      <th>no rating</th>\n",
       "      <td>19.56</td>\n",
       "      <td>16.89</td>\n",
       "      <td>0.81</td>\n",
       "    </tr>\n",
       "    <tr>\n",
       "      <th rowspan=\"4\" valign=\"top\">Simulation</th>\n",
       "      <th>E</th>\n",
       "      <td>1.12</td>\n",
       "      <td>2.94</td>\n",
       "      <td>1.42</td>\n",
       "    </tr>\n",
       "    <tr>\n",
       "      <th>E10+</th>\n",
       "      <td>0.53</td>\n",
       "      <td>0.91</td>\n",
       "      <td>0.43</td>\n",
       "    </tr>\n",
       "    <tr>\n",
       "      <th>T</th>\n",
       "      <td>1.18</td>\n",
       "      <td>2.46</td>\n",
       "      <td>0.18</td>\n",
       "    </tr>\n",
       "    <tr>\n",
       "      <th>no rating</th>\n",
       "      <td>1.92</td>\n",
       "      <td>4.53</td>\n",
       "      <td>2.49</td>\n",
       "    </tr>\n",
       "    <tr>\n",
       "      <th rowspan=\"4\" valign=\"top\">Sports</th>\n",
       "      <th>E</th>\n",
       "      <td>50.53</td>\n",
       "      <td>52.11</td>\n",
       "      <td>2.04</td>\n",
       "    </tr>\n",
       "    <tr>\n",
       "      <th>E10+</th>\n",
       "      <td>7.93</td>\n",
       "      <td>2.19</td>\n",
       "      <td>0.09</td>\n",
       "    </tr>\n",
       "    <tr>\n",
       "      <th>T</th>\n",
       "      <td>5.76</td>\n",
       "      <td>5.10</td>\n",
       "      <td>0.01</td>\n",
       "    </tr>\n",
       "    <tr>\n",
       "      <th>no rating</th>\n",
       "      <td>1.05</td>\n",
       "      <td>0.94</td>\n",
       "      <td>2.77</td>\n",
       "    </tr>\n",
       "    <tr>\n",
       "      <th rowspan=\"5\" valign=\"top\">Strategy</th>\n",
       "      <th>E</th>\n",
       "      <td>0.85</td>\n",
       "      <td>0.67</td>\n",
       "      <td>0.00</td>\n",
       "    </tr>\n",
       "    <tr>\n",
       "      <th>E10+</th>\n",
       "      <td>0.66</td>\n",
       "      <td>0.89</td>\n",
       "      <td>0.29</td>\n",
       "    </tr>\n",
       "    <tr>\n",
       "      <th>M</th>\n",
       "      <td>0.06</td>\n",
       "      <td>0.25</td>\n",
       "      <td>0.00</td>\n",
       "    </tr>\n",
       "    <tr>\n",
       "      <th>T</th>\n",
       "      <td>1.55</td>\n",
       "      <td>2.10</td>\n",
       "      <td>0.03</td>\n",
       "    </tr>\n",
       "    <tr>\n",
       "      <th>no rating</th>\n",
       "      <td>0.16</td>\n",
       "      <td>0.31</td>\n",
       "      <td>1.43</td>\n",
       "    </tr>\n",
       "  </tbody>\n",
       "</table>\n",
       "</div>"
      ],
      "text/plain": [
       "                        na_sales  eu_sales  jp_sales\n",
       "genre        rating                                 \n",
       "Action       E              5.49      4.92      3.07\n",
       "             E10+          20.67     18.08      1.08\n",
       "             M             71.27     67.62      7.54\n",
       "             T             11.04     10.07      5.25\n",
       "             no rating     17.36     17.18     22.71\n",
       "Adventure    E              0.31      0.54      0.53\n",
       "             E10+           0.92      1.11      0.00\n",
       "             M              2.90      3.23      0.42\n",
       "             T              0.21      0.28      0.03\n",
       "             no rating      2.80      3.06      4.13\n",
       "Fighting     E10+           0.61      0.29      0.17\n",
       "             M              2.54      1.05      0.02\n",
       "             T              5.26      3.97      2.53\n",
       "             no rating      7.14      3.24      4.91\n",
       "Misc         E              2.50      2.33      1.97\n",
       "             E10+           8.17      5.17      0.10\n",
       "             M              0.72      0.46      0.18\n",
       "             T              2.31      1.15      0.87\n",
       "             no rating     13.76     10.89      5.91\n",
       "Platform     E              8.70      6.45      3.43\n",
       "             E10+           6.85      5.89      0.71\n",
       "             T              0.21      0.28      0.03\n",
       "             no rating      2.17      2.53      0.62\n",
       "Puzzle       E              0.59      0.39      0.26\n",
       "             E10+           0.18      0.51      0.25\n",
       "             no rating      0.06      0.10      0.67\n",
       "Racing       E              8.17     11.96      1.89\n",
       "             E10+           3.03      3.84      0.14\n",
       "             M              0.06      0.02      0.00\n",
       "             T              0.66      1.71      0.03\n",
       "             no rating      1.04      2.66      0.24\n",
       "Role-Playing E              0.68      0.49      0.39\n",
       "             E10+           0.86      0.52      1.08\n",
       "             M             16.67     15.77      2.51\n",
       "             T              6.03      3.91     10.67\n",
       "             no rating     22.16     16.28     35.36\n",
       "Shooter      E10+           3.61      3.13      1.55\n",
       "             M             70.99     56.92      3.44\n",
       "             T             15.58     10.92      0.81\n",
       "             no rating     19.56     16.89      0.81\n",
       "Simulation   E              1.12      2.94      1.42\n",
       "             E10+           0.53      0.91      0.43\n",
       "             T              1.18      2.46      0.18\n",
       "             no rating      1.92      4.53      2.49\n",
       "Sports       E             50.53     52.11      2.04\n",
       "             E10+           7.93      2.19      0.09\n",
       "             T              5.76      5.10      0.01\n",
       "             no rating      1.05      0.94      2.77\n",
       "Strategy     E              0.85      0.67      0.00\n",
       "             E10+           0.66      0.89      0.29\n",
       "             M              0.06      0.25      0.00\n",
       "             T              1.55      2.10      0.03\n",
       "             no rating      0.16      0.31      1.43"
      ]
     },
     "execution_count": 52,
     "metadata": {},
     "output_type": "execute_result"
    }
   ],
   "source": [
    "#separately consider the impact of rating on game genres by region\n",
    "rating_grouped_genre = good_data.groupby(['genre','rating']).agg(na_sales=('na_sales', 'sum'), eu_sales=('eu_sales', 'sum'), jp_sales=('jp_sales', 'sum'))\n",
    "rating_grouped_genre"
   ]
  },
  {
   "attachments": {},
   "cell_type": "markdown",
   "metadata": {},
   "source": [
    "**Conclusion:**\n",
    "In the US and EU, each genre has 1-2 most popular game ratings. For example, for racing and sports games - E, and for shooters and action games - M.\n",
    "In Japan, most games do not have a rating."
   ]
  },
  {
   "attachments": {},
   "cell_type": "markdown",
   "metadata": {},
   "source": [
    "# Testing hypotheses"
   ]
  },
  {
   "attachments": {},
   "cell_type": "markdown",
   "metadata": {},
   "source": [
    "**First hypothesis**"
   ]
  },
  {
   "attachments": {},
   "cell_type": "markdown",
   "metadata": {},
   "source": [
    "Let's compare the average user ratings of the Xbox One and PC platforms. Since we have two general populations, we will use the st.ttest_ind() method.\n",
    "\n",
    "Let's take a high level of statistical significance - let alpha = 0.01.\n",
    "\n",
    "Null hypothesis: The average user ratings of the Xbox One and PC platforms are the same.\n",
    "\n",
    "An alternative hypothesis is formulated from the opposite - the average user ratings of Xbox One and PC are not equal."
   ]
  },
  {
   "cell_type": "code",
   "execution_count": 53,
   "metadata": {},
   "outputs": [
    {
     "name": "stdout",
     "output_type": "stream",
     "text": [
      "p-value: 0.14759594013430463\n",
      "Couldn't reject the null hypothesis\n"
     ]
    }
   ],
   "source": [
    "#collect data on user ratings without gaps by platform\n",
    "xone_user_score = good_data[(good_data['platform'] == 'XOne') & (~good_data['user_score'].isna())]['user_score']\n",
    "pc_user_score = good_data[(good_data['platform'] == 'PC') & (~good_data['user_score'].isna())]['user_score']\n",
    "\n",
    "alpha = 0.01 # level of statistical significance\n",
    "# if p-value is less than it, we reject the hypothesis\n",
    "\n",
    "results = st.ttest_ind(xone_user_score, pc_user_score, equal_var=False)\n",
    "\n",
    "print('p-value:', results.pvalue)\n",
    "\n",
    "if results.pvalue < alpha:\n",
    "    print('Reject the null hypothesis')\n",
    "else:\n",
    "    print('Couldn\\'t reject the null hypothesis') "
   ]
  },
  {
   "attachments": {},
   "cell_type": "markdown",
   "metadata": {},
   "source": [
    "**Second hypothesis**"
   ]
  },
  {
   "attachments": {},
   "cell_type": "markdown",
   "metadata": {},
   "source": [
    "Let's compare the average user ratings of the Action and Sports genres. Since we have two general populations, we will use the st.ttest_ind() method.\n",
    "\n",
    "Let's take a high level of statistical significance - let alpha = 0.01.\n",
    "\n",
    "Null hypothesis: the average user ratings of the Action and Sports genres are different.\n",
    "\n",
    "Alternative hypothesis: the average user ratings of the Action and Sports genres are the same."
   ]
  },
  {
   "cell_type": "code",
   "execution_count": 54,
   "metadata": {},
   "outputs": [
    {
     "name": "stdout",
     "output_type": "stream",
     "text": [
      "p-value: 2.4191414517472698e-20\n",
      "Reject the null hypothesis\n"
     ]
    }
   ],
   "source": [
    "#collect data on user ratings without data gaps\n",
    "action_user_score = good_data[(good_data['genre'] == 'Action') & (~good_data['user_score'].isna())]['user_score']\n",
    "sports_user_score = good_data[(good_data['genre'] == 'Sports') & (~good_data['user_score'].isna())]['user_score']\n",
    "\n",
    "alpha = 0.01 # statistical significance level\n",
    "# reject the null hypothesis if lower than this\n",
    "\n",
    "results = st.ttest_ind(action_user_score, sports_user_score, equal_var=False)\n",
    "\n",
    "print('p-value:', results.pvalue)\n",
    "\n",
    "if results.pvalue < alpha:\n",
    "    print('Reject the null hypothesis')\n",
    "else:\n",
    "    print('Couldn\\'t reject the null hypothesis')"
   ]
  }
 ],
 "metadata": {
  "ExecuteTimeLog": [
   {
    "duration": 507,
    "start_time": "2023-03-13T17:35:57.799Z"
   },
   {
    "duration": 127,
    "start_time": "2023-03-13T17:36:05.999Z"
   },
   {
    "duration": 16,
    "start_time": "2023-03-13T17:37:07.174Z"
   },
   {
    "duration": 16,
    "start_time": "2023-03-13T17:40:14.293Z"
   },
   {
    "duration": 14,
    "start_time": "2023-03-13T17:40:17.704Z"
   },
   {
    "duration": 31,
    "start_time": "2023-03-13T17:43:49.184Z"
   },
   {
    "duration": 3,
    "start_time": "2023-03-13T18:03:03.214Z"
   },
   {
    "duration": 15,
    "start_time": "2023-03-13T18:03:19.569Z"
   },
   {
    "duration": 14,
    "start_time": "2023-03-13T18:13:52.736Z"
   },
   {
    "duration": 4,
    "start_time": "2023-03-13T18:14:56.091Z"
   },
   {
    "duration": 15,
    "start_time": "2023-03-13T18:19:01.901Z"
   },
   {
    "duration": 25,
    "start_time": "2023-03-13T18:20:46.659Z"
   },
   {
    "duration": 28,
    "start_time": "2023-03-13T18:21:03.291Z"
   },
   {
    "duration": 10,
    "start_time": "2023-03-13T18:21:17.091Z"
   },
   {
    "duration": 7,
    "start_time": "2023-03-13T18:27:26.775Z"
   },
   {
    "duration": 7,
    "start_time": "2023-03-13T18:27:42.192Z"
   },
   {
    "duration": 67,
    "start_time": "2023-03-13T18:27:45.394Z"
   },
   {
    "duration": 1105,
    "start_time": "2023-03-13T18:27:51.457Z"
   },
   {
    "duration": 28,
    "start_time": "2023-03-13T18:27:54.811Z"
   },
   {
    "duration": 64,
    "start_time": "2023-03-13T18:28:25.952Z"
   },
   {
    "duration": 17,
    "start_time": "2023-03-13T18:28:29.227Z"
   },
   {
    "duration": 14,
    "start_time": "2023-03-13T18:28:30.606Z"
   },
   {
    "duration": 29,
    "start_time": "2023-03-13T18:28:33.896Z"
   },
   {
    "duration": 3,
    "start_time": "2023-03-13T18:28:37.085Z"
   },
   {
    "duration": 15,
    "start_time": "2023-03-13T18:28:38.869Z"
   },
   {
    "duration": 10,
    "start_time": "2023-03-13T18:28:43.732Z"
   },
   {
    "duration": 5,
    "start_time": "2023-03-13T18:28:46.278Z"
   },
   {
    "duration": 9,
    "start_time": "2023-03-13T18:28:48.713Z"
   },
   {
    "duration": 7,
    "start_time": "2023-03-13T18:29:15.794Z"
   },
   {
    "duration": 15,
    "start_time": "2023-03-13T18:38:47.996Z"
   },
   {
    "duration": 7,
    "start_time": "2023-03-13T18:47:53.192Z"
   },
   {
    "duration": 4,
    "start_time": "2023-03-13T18:47:58.833Z"
   },
   {
    "duration": 13,
    "start_time": "2023-03-13T18:50:07.690Z"
   },
   {
    "duration": 600,
    "start_time": "2023-03-13T18:58:21.747Z"
   },
   {
    "duration": 21,
    "start_time": "2023-03-13T18:59:08.041Z"
   },
   {
    "duration": 27,
    "start_time": "2023-03-13T18:59:56.056Z"
   },
   {
    "duration": 25,
    "start_time": "2023-03-13T19:00:58.490Z"
   },
   {
    "duration": 21,
    "start_time": "2023-03-13T19:02:22.595Z"
   },
   {
    "duration": 4,
    "start_time": "2023-03-13T19:06:12.946Z"
   },
   {
    "duration": 5,
    "start_time": "2023-03-13T19:06:24.613Z"
   },
   {
    "duration": 14,
    "start_time": "2023-03-13T19:06:59.290Z"
   },
   {
    "duration": 22,
    "start_time": "2023-03-13T19:07:27.807Z"
   },
   {
    "duration": 21,
    "start_time": "2023-03-13T19:07:38.020Z"
   },
   {
    "duration": 7,
    "start_time": "2023-03-13T19:13:55.597Z"
   },
   {
    "duration": 7,
    "start_time": "2023-03-13T19:14:04.497Z"
   },
   {
    "duration": 7,
    "start_time": "2023-03-13T19:14:07.035Z"
   },
   {
    "duration": 32,
    "start_time": "2023-03-13T19:15:47.699Z"
   },
   {
    "duration": 4,
    "start_time": "2023-03-13T19:17:36.895Z"
   },
   {
    "duration": 218,
    "start_time": "2023-03-13T19:17:56.375Z"
   },
   {
    "duration": 11,
    "start_time": "2023-03-13T19:18:15.383Z"
   },
   {
    "duration": 80,
    "start_time": "2023-03-13T20:08:14.106Z"
   },
   {
    "duration": 16,
    "start_time": "2023-03-13T20:22:49.614Z"
   },
   {
    "duration": 43,
    "start_time": "2023-03-13T20:26:12.885Z"
   },
   {
    "duration": 9,
    "start_time": "2023-03-13T20:27:22.617Z"
   },
   {
    "duration": 15,
    "start_time": "2023-03-13T20:27:28.447Z"
   },
   {
    "duration": 31,
    "start_time": "2023-03-13T20:27:50.914Z"
   },
   {
    "duration": 19,
    "start_time": "2023-03-13T20:28:40.600Z"
   },
   {
    "duration": 13,
    "start_time": "2023-03-13T20:28:50.754Z"
   },
   {
    "duration": 17,
    "start_time": "2023-03-13T20:30:10.434Z"
   },
   {
    "duration": 19,
    "start_time": "2023-03-13T20:30:24.205Z"
   },
   {
    "duration": 16,
    "start_time": "2023-03-13T20:31:43.215Z"
   },
   {
    "duration": 26,
    "start_time": "2023-03-13T20:33:53.486Z"
   },
   {
    "duration": 11,
    "start_time": "2023-03-13T20:54:36.209Z"
   },
   {
    "duration": 7,
    "start_time": "2023-03-13T20:57:34.585Z"
   },
   {
    "duration": 6,
    "start_time": "2023-03-13T20:57:44.817Z"
   },
   {
    "duration": 17,
    "start_time": "2023-03-13T21:01:02.656Z"
   },
   {
    "duration": 15,
    "start_time": "2023-03-13T21:02:06.615Z"
   },
   {
    "duration": 603,
    "start_time": "2023-03-14T16:37:13.758Z"
   },
   {
    "duration": 27,
    "start_time": "2023-03-14T16:37:14.363Z"
   },
   {
    "duration": 17,
    "start_time": "2023-03-14T16:37:14.392Z"
   },
   {
    "duration": 63,
    "start_time": "2023-03-14T16:37:14.411Z"
   },
   {
    "duration": 4,
    "start_time": "2023-03-14T16:37:14.476Z"
   },
   {
    "duration": 21,
    "start_time": "2023-03-14T16:37:14.482Z"
   },
   {
    "duration": 35,
    "start_time": "2023-03-14T16:37:14.505Z"
   },
   {
    "duration": 12,
    "start_time": "2023-03-14T16:37:14.543Z"
   },
   {
    "duration": 24,
    "start_time": "2023-03-14T16:37:14.567Z"
   },
   {
    "duration": 26,
    "start_time": "2023-03-14T16:37:14.594Z"
   },
   {
    "duration": 18,
    "start_time": "2023-03-14T16:37:14.623Z"
   },
   {
    "duration": 16,
    "start_time": "2023-03-14T16:37:14.644Z"
   },
   {
    "duration": 45,
    "start_time": "2023-03-14T16:37:14.662Z"
   },
   {
    "duration": 17,
    "start_time": "2023-03-14T16:37:14.709Z"
   },
   {
    "duration": 24,
    "start_time": "2023-03-14T16:37:14.728Z"
   },
   {
    "duration": 20,
    "start_time": "2023-03-14T16:37:14.755Z"
   },
   {
    "duration": 78,
    "start_time": "2023-03-14T16:37:14.777Z"
   },
   {
    "duration": 19,
    "start_time": "2023-03-14T16:37:25.890Z"
   },
   {
    "duration": 70,
    "start_time": "2023-03-14T16:44:03.092Z"
   },
   {
    "duration": 12,
    "start_time": "2023-03-14T16:44:14.483Z"
   },
   {
    "duration": 15,
    "start_time": "2023-03-14T16:44:36.707Z"
   },
   {
    "duration": 13,
    "start_time": "2023-03-14T16:44:45.656Z"
   },
   {
    "duration": 10,
    "start_time": "2023-03-14T16:45:07.595Z"
   },
   {
    "duration": 788,
    "start_time": "2023-03-14T16:47:00.993Z"
   },
   {
    "duration": 194,
    "start_time": "2023-03-14T16:47:35.592Z"
   },
   {
    "duration": 16,
    "start_time": "2023-03-14T16:47:53.795Z"
   },
   {
    "duration": 16,
    "start_time": "2023-03-14T16:50:46.025Z"
   },
   {
    "duration": 638,
    "start_time": "2023-03-14T16:51:37.378Z"
   },
   {
    "duration": 66,
    "start_time": "2023-03-14T16:51:47.223Z"
   },
   {
    "duration": 18,
    "start_time": "2023-03-14T16:51:47.291Z"
   },
   {
    "duration": 17,
    "start_time": "2023-03-14T16:51:47.311Z"
   },
   {
    "duration": 58,
    "start_time": "2023-03-14T16:51:47.330Z"
   },
   {
    "duration": 5,
    "start_time": "2023-03-14T16:51:47.390Z"
   },
   {
    "duration": 17,
    "start_time": "2023-03-14T16:51:47.397Z"
   },
   {
    "duration": 52,
    "start_time": "2023-03-14T16:51:47.416Z"
   },
   {
    "duration": 6,
    "start_time": "2023-03-14T16:51:47.475Z"
   },
   {
    "duration": 15,
    "start_time": "2023-03-14T16:51:47.483Z"
   },
   {
    "duration": 12,
    "start_time": "2023-03-14T16:51:47.500Z"
   },
   {
    "duration": 4,
    "start_time": "2023-03-14T16:51:47.515Z"
   },
   {
    "duration": 8,
    "start_time": "2023-03-14T16:51:47.521Z"
   },
   {
    "duration": 46,
    "start_time": "2023-03-14T16:51:47.530Z"
   },
   {
    "duration": 9,
    "start_time": "2023-03-14T16:51:47.579Z"
   },
   {
    "duration": 9,
    "start_time": "2023-03-14T16:51:47.590Z"
   },
   {
    "duration": 8,
    "start_time": "2023-03-14T16:51:47.601Z"
   },
   {
    "duration": 15,
    "start_time": "2023-03-14T16:53:21.100Z"
   },
   {
    "duration": 65,
    "start_time": "2023-03-14T16:53:24.597Z"
   },
   {
    "duration": 376,
    "start_time": "2023-03-14T16:55:26.045Z"
   },
   {
    "duration": 375,
    "start_time": "2023-03-14T16:55:40.711Z"
   },
   {
    "duration": 25,
    "start_time": "2023-03-14T16:57:11.939Z"
   },
   {
    "duration": 27,
    "start_time": "2023-03-14T16:57:26.832Z"
   },
   {
    "duration": 23,
    "start_time": "2023-03-14T16:57:29.544Z"
   },
   {
    "duration": 25,
    "start_time": "2023-03-14T16:57:45.818Z"
   },
   {
    "duration": 444,
    "start_time": "2023-03-14T16:58:23.761Z"
   },
   {
    "duration": 381,
    "start_time": "2023-03-14T16:58:38.666Z"
   },
   {
    "duration": 392,
    "start_time": "2023-03-14T16:59:03.291Z"
   },
   {
    "duration": 424,
    "start_time": "2023-03-14T16:59:14.423Z"
   },
   {
    "duration": 165,
    "start_time": "2023-03-14T16:59:57.800Z"
   },
   {
    "duration": 313,
    "start_time": "2023-03-14T17:00:44.632Z"
   },
   {
    "duration": 175,
    "start_time": "2023-03-14T17:01:12.134Z"
   },
   {
    "duration": 170,
    "start_time": "2023-03-14T17:01:22.224Z"
   },
   {
    "duration": 317,
    "start_time": "2023-03-14T17:02:15.438Z"
   },
   {
    "duration": 229,
    "start_time": "2023-03-14T17:02:34.210Z"
   },
   {
    "duration": 18,
    "start_time": "2023-03-14T19:14:20.739Z"
   },
   {
    "duration": 14,
    "start_time": "2023-03-14T19:14:27.995Z"
   },
   {
    "duration": 12,
    "start_time": "2023-03-14T19:14:45.691Z"
   },
   {
    "duration": 10,
    "start_time": "2023-03-14T19:14:56.658Z"
   },
   {
    "duration": 1124,
    "start_time": "2023-03-14T19:18:02.731Z"
   },
   {
    "duration": 9065,
    "start_time": "2023-03-14T19:18:46.269Z"
   },
   {
    "duration": 27,
    "start_time": "2023-03-14T19:22:41.597Z"
   },
   {
    "duration": 59,
    "start_time": "2023-03-14T19:25:45.729Z"
   },
   {
    "duration": 10,
    "start_time": "2023-03-14T19:28:30.189Z"
   },
   {
    "duration": 58,
    "start_time": "2023-03-14T19:29:49.354Z"
   },
   {
    "duration": 37,
    "start_time": "2023-03-14T19:29:54.558Z"
   },
   {
    "duration": 10,
    "start_time": "2023-03-14T19:30:27.766Z"
   },
   {
    "duration": 15,
    "start_time": "2023-03-14T19:31:45.839Z"
   },
   {
    "duration": 11,
    "start_time": "2023-03-14T19:31:53.211Z"
   },
   {
    "duration": 14,
    "start_time": "2023-03-14T19:33:17.870Z"
   },
   {
    "duration": 5,
    "start_time": "2023-03-14T19:33:25.215Z"
   },
   {
    "duration": 6,
    "start_time": "2023-03-14T19:34:29.017Z"
   },
   {
    "duration": 6,
    "start_time": "2023-03-14T19:37:33.907Z"
   },
   {
    "duration": 33,
    "start_time": "2023-03-14T19:37:48.728Z"
   },
   {
    "duration": 20,
    "start_time": "2023-03-14T19:38:02.491Z"
   },
   {
    "duration": 30,
    "start_time": "2023-03-14T19:38:10.618Z"
   },
   {
    "duration": 26,
    "start_time": "2023-03-14T19:38:46.059Z"
   },
   {
    "duration": 34,
    "start_time": "2023-03-14T19:41:13.957Z"
   },
   {
    "duration": 2359,
    "start_time": "2023-03-14T19:41:27.743Z"
   },
   {
    "duration": 236,
    "start_time": "2023-03-14T19:42:03.547Z"
   },
   {
    "duration": 99,
    "start_time": "2023-03-14T19:42:24.901Z"
   },
   {
    "duration": 16829,
    "start_time": "2023-03-14T19:42:41.066Z"
   },
   {
    "duration": 1767,
    "start_time": "2023-03-14T19:48:22.118Z"
   },
   {
    "duration": 140,
    "start_time": "2023-03-14T19:49:48.076Z"
   },
   {
    "duration": 133,
    "start_time": "2023-03-14T19:50:54.131Z"
   },
   {
    "duration": 1759,
    "start_time": "2023-03-14T20:01:16.239Z"
   },
   {
    "duration": 1754,
    "start_time": "2023-03-14T20:01:40.341Z"
   },
   {
    "duration": 9,
    "start_time": "2023-03-14T20:03:41.737Z"
   },
   {
    "duration": 6,
    "start_time": "2023-03-14T20:03:58.718Z"
   },
   {
    "duration": 7,
    "start_time": "2023-03-14T20:04:08.408Z"
   },
   {
    "duration": 14,
    "start_time": "2023-03-14T20:06:17.518Z"
   },
   {
    "duration": 18,
    "start_time": "2023-03-14T20:06:53.112Z"
   },
   {
    "duration": 21,
    "start_time": "2023-03-14T20:07:16.734Z"
   },
   {
    "duration": 17,
    "start_time": "2023-03-14T20:07:34.859Z"
   },
   {
    "duration": 23,
    "start_time": "2023-03-14T20:07:48.788Z"
   },
   {
    "duration": 16,
    "start_time": "2023-03-14T20:07:53.060Z"
   },
   {
    "duration": 20,
    "start_time": "2023-03-14T20:08:02.928Z"
   },
   {
    "duration": 12,
    "start_time": "2023-03-14T20:10:17.942Z"
   },
   {
    "duration": 14,
    "start_time": "2023-03-14T20:11:24.938Z"
   },
   {
    "duration": 18,
    "start_time": "2023-03-14T20:11:30.875Z"
   },
   {
    "duration": 14,
    "start_time": "2023-03-14T20:11:34.859Z"
   },
   {
    "duration": 12,
    "start_time": "2023-03-14T20:13:06.888Z"
   },
   {
    "duration": 11,
    "start_time": "2023-03-14T20:14:05.599Z"
   },
   {
    "duration": 187,
    "start_time": "2023-03-14T20:14:18.215Z"
   },
   {
    "duration": 17,
    "start_time": "2023-03-14T20:19:59.936Z"
   },
   {
    "duration": 14,
    "start_time": "2023-03-14T20:20:21.330Z"
   },
   {
    "duration": 62,
    "start_time": "2023-03-14T20:20:35.933Z"
   },
   {
    "duration": 17,
    "start_time": "2023-03-14T20:20:35.997Z"
   },
   {
    "duration": 36,
    "start_time": "2023-03-14T20:20:36.016Z"
   },
   {
    "duration": 37,
    "start_time": "2023-03-14T20:20:36.055Z"
   },
   {
    "duration": 4,
    "start_time": "2023-03-14T20:20:36.094Z"
   },
   {
    "duration": 44,
    "start_time": "2023-03-14T20:20:36.101Z"
   },
   {
    "duration": 65,
    "start_time": "2023-03-14T20:20:36.147Z"
   },
   {
    "duration": 23,
    "start_time": "2023-03-14T20:20:36.214Z"
   },
   {
    "duration": 25,
    "start_time": "2023-03-14T20:20:36.240Z"
   },
   {
    "duration": 40,
    "start_time": "2023-03-14T20:20:36.268Z"
   },
   {
    "duration": 23,
    "start_time": "2023-03-14T20:20:36.312Z"
   },
   {
    "duration": 22,
    "start_time": "2023-03-14T20:20:36.337Z"
   },
   {
    "duration": 27,
    "start_time": "2023-03-14T20:20:36.361Z"
   },
   {
    "duration": 34,
    "start_time": "2023-03-14T20:20:36.390Z"
   },
   {
    "duration": 36,
    "start_time": "2023-03-14T20:20:36.427Z"
   },
   {
    "duration": 9,
    "start_time": "2023-03-14T20:20:36.466Z"
   },
   {
    "duration": 33,
    "start_time": "2023-03-14T20:20:36.477Z"
   },
   {
    "duration": 5,
    "start_time": "2023-03-14T20:20:36.512Z"
   },
   {
    "duration": 17,
    "start_time": "2023-03-14T20:20:40.793Z"
   },
   {
    "duration": 12,
    "start_time": "2023-03-14T20:20:47.009Z"
   },
   {
    "duration": 20,
    "start_time": "2023-03-14T20:21:31.527Z"
   },
   {
    "duration": 2391,
    "start_time": "2023-03-14T20:25:58.182Z"
   },
   {
    "duration": 2272,
    "start_time": "2023-03-14T20:26:38.213Z"
   },
   {
    "duration": 2467,
    "start_time": "2023-03-14T20:29:56.478Z"
   },
   {
    "duration": 2503,
    "start_time": "2023-03-14T20:30:07.781Z"
   },
   {
    "duration": 70,
    "start_time": "2023-03-14T20:32:17.088Z"
   },
   {
    "duration": 33,
    "start_time": "2023-03-14T20:32:29.279Z"
   },
   {
    "duration": 22,
    "start_time": "2023-03-14T20:32:57.412Z"
   },
   {
    "duration": 13,
    "start_time": "2023-03-14T20:33:00.678Z"
   },
   {
    "duration": 34,
    "start_time": "2023-03-14T20:33:09.217Z"
   },
   {
    "duration": 2588,
    "start_time": "2023-03-14T20:33:45.609Z"
   },
   {
    "duration": 13,
    "start_time": "2023-03-14T20:35:40.101Z"
   },
   {
    "duration": 5,
    "start_time": "2023-03-14T20:35:58.287Z"
   },
   {
    "duration": 6,
    "start_time": "2023-03-14T20:36:17.955Z"
   },
   {
    "duration": 15,
    "start_time": "2023-03-14T20:37:42.756Z"
   },
   {
    "duration": 8,
    "start_time": "2023-03-14T20:37:50.577Z"
   },
   {
    "duration": 6,
    "start_time": "2023-03-14T20:38:48.437Z"
   },
   {
    "duration": 5,
    "start_time": "2023-03-14T20:39:05.682Z"
   },
   {
    "duration": 7,
    "start_time": "2023-03-14T20:39:08.570Z"
   },
   {
    "duration": 5,
    "start_time": "2023-03-14T20:39:13.357Z"
   },
   {
    "duration": 8,
    "start_time": "2023-03-14T20:39:15.870Z"
   },
   {
    "duration": 5,
    "start_time": "2023-03-14T20:39:23.867Z"
   },
   {
    "duration": 9,
    "start_time": "2023-03-14T20:39:27.565Z"
   },
   {
    "duration": 5,
    "start_time": "2023-03-14T20:40:31.887Z"
   },
   {
    "duration": 4,
    "start_time": "2023-03-14T20:40:39.488Z"
   },
   {
    "duration": 9,
    "start_time": "2023-03-14T20:41:10.982Z"
   },
   {
    "duration": 7,
    "start_time": "2023-03-14T20:41:30.273Z"
   },
   {
    "duration": 7,
    "start_time": "2023-03-14T20:41:38.757Z"
   },
   {
    "duration": 13,
    "start_time": "2023-03-14T20:41:41.165Z"
   },
   {
    "duration": 7,
    "start_time": "2023-03-14T20:41:50.223Z"
   },
   {
    "duration": 8,
    "start_time": "2023-03-14T20:42:02.878Z"
   },
   {
    "duration": 5,
    "start_time": "2023-03-14T20:42:14.565Z"
   },
   {
    "duration": 214,
    "start_time": "2023-03-14T20:46:03.217Z"
   },
   {
    "duration": 317,
    "start_time": "2023-03-14T20:48:55.523Z"
   },
   {
    "duration": 59,
    "start_time": "2023-03-14T20:49:17.790Z"
   },
   {
    "duration": 27,
    "start_time": "2023-03-14T20:49:17.852Z"
   },
   {
    "duration": 27,
    "start_time": "2023-03-14T20:49:17.881Z"
   },
   {
    "duration": 35,
    "start_time": "2023-03-14T20:49:17.911Z"
   },
   {
    "duration": 4,
    "start_time": "2023-03-14T20:49:17.948Z"
   },
   {
    "duration": 42,
    "start_time": "2023-03-14T20:49:17.955Z"
   },
   {
    "duration": 47,
    "start_time": "2023-03-14T20:49:18.000Z"
   },
   {
    "duration": 6,
    "start_time": "2023-03-14T20:49:18.049Z"
   },
   {
    "duration": 16,
    "start_time": "2023-03-14T20:49:18.057Z"
   },
   {
    "duration": 15,
    "start_time": "2023-03-14T20:49:18.083Z"
   },
   {
    "duration": 5,
    "start_time": "2023-03-14T20:49:18.100Z"
   },
   {
    "duration": 9,
    "start_time": "2023-03-14T20:49:18.106Z"
   },
   {
    "duration": 17,
    "start_time": "2023-03-14T20:49:18.117Z"
   },
   {
    "duration": 11,
    "start_time": "2023-03-14T20:49:18.135Z"
   },
   {
    "duration": 32,
    "start_time": "2023-03-14T20:49:18.148Z"
   },
   {
    "duration": 11,
    "start_time": "2023-03-14T20:49:18.182Z"
   },
   {
    "duration": 17,
    "start_time": "2023-03-14T20:49:18.196Z"
   },
   {
    "duration": 5,
    "start_time": "2023-03-14T20:49:18.215Z"
   },
   {
    "duration": 0,
    "start_time": "2023-03-14T20:49:18.222Z"
   },
   {
    "duration": 0,
    "start_time": "2023-03-14T20:49:18.223Z"
   },
   {
    "duration": 0,
    "start_time": "2023-03-14T20:49:18.224Z"
   },
   {
    "duration": 16,
    "start_time": "2023-03-14T20:49:25.180Z"
   },
   {
    "duration": 15,
    "start_time": "2023-03-14T20:49:27.570Z"
   },
   {
    "duration": 8,
    "start_time": "2023-03-14T20:49:30.575Z"
   },
   {
    "duration": 21,
    "start_time": "2023-03-14T20:50:32.060Z"
   },
   {
    "duration": 88,
    "start_time": "2023-03-14T20:51:41.173Z"
   },
   {
    "duration": 13,
    "start_time": "2023-03-14T20:51:50.424Z"
   },
   {
    "duration": 87,
    "start_time": "2023-03-14T20:52:03.388Z"
   },
   {
    "duration": 7,
    "start_time": "2023-03-14T20:52:09.360Z"
   },
   {
    "duration": 10,
    "start_time": "2023-03-14T20:52:18.543Z"
   },
   {
    "duration": 13,
    "start_time": "2023-03-14T20:54:36.253Z"
   },
   {
    "duration": 6,
    "start_time": "2023-03-14T20:54:47.986Z"
   },
   {
    "duration": 5,
    "start_time": "2023-03-14T20:54:56.556Z"
   },
   {
    "duration": 5,
    "start_time": "2023-03-14T20:56:13.256Z"
   },
   {
    "duration": 4,
    "start_time": "2023-03-14T20:56:17.892Z"
   },
   {
    "duration": 4,
    "start_time": "2023-03-14T20:56:28.256Z"
   },
   {
    "duration": 15,
    "start_time": "2023-03-14T20:58:42.995Z"
   },
   {
    "duration": 132,
    "start_time": "2023-03-14T20:59:14.214Z"
   },
   {
    "duration": 163,
    "start_time": "2023-03-14T21:02:11.787Z"
   },
   {
    "duration": 6,
    "start_time": "2023-03-14T21:03:04.167Z"
   },
   {
    "duration": 24,
    "start_time": "2023-03-14T21:03:05.889Z"
   },
   {
    "duration": 144,
    "start_time": "2023-03-14T21:03:08.472Z"
   },
   {
    "duration": 1106,
    "start_time": "2023-03-14T21:03:58.635Z"
   },
   {
    "duration": 149,
    "start_time": "2023-03-14T21:06:18.329Z"
   },
   {
    "duration": 23,
    "start_time": "2023-03-14T21:07:34.687Z"
   },
   {
    "duration": 6,
    "start_time": "2023-03-14T21:07:54.820Z"
   },
   {
    "duration": 20,
    "start_time": "2023-03-14T21:07:55.859Z"
   },
   {
    "duration": 163,
    "start_time": "2023-03-14T21:08:27.078Z"
   },
   {
    "duration": 152,
    "start_time": "2023-03-14T21:08:39.653Z"
   },
   {
    "duration": 15,
    "start_time": "2023-03-14T21:09:05.481Z"
   },
   {
    "duration": 123,
    "start_time": "2023-03-14T21:09:16.565Z"
   },
   {
    "duration": 274,
    "start_time": "2023-03-14T21:09:26.015Z"
   },
   {
    "duration": 141,
    "start_time": "2023-03-14T21:09:40.234Z"
   },
   {
    "duration": 211,
    "start_time": "2023-03-14T21:10:07.958Z"
   },
   {
    "duration": 249,
    "start_time": "2023-03-14T21:10:21.323Z"
   },
   {
    "duration": 140,
    "start_time": "2023-03-14T21:10:28.257Z"
   },
   {
    "duration": 37,
    "start_time": "2023-03-14T21:11:38.137Z"
   },
   {
    "duration": 70,
    "start_time": "2023-03-14T21:12:47.237Z"
   },
   {
    "duration": 1470,
    "start_time": "2023-03-14T21:12:51.943Z"
   },
   {
    "duration": 1385,
    "start_time": "2023-03-14T21:13:19.895Z"
   },
   {
    "duration": 6,
    "start_time": "2023-03-14T21:14:50.278Z"
   },
   {
    "duration": 1588,
    "start_time": "2023-03-15T15:13:45.005Z"
   },
   {
    "duration": 20,
    "start_time": "2023-03-15T15:13:46.595Z"
   },
   {
    "duration": 20,
    "start_time": "2023-03-15T15:13:46.617Z"
   },
   {
    "duration": 50,
    "start_time": "2023-03-15T15:13:46.639Z"
   },
   {
    "duration": 3,
    "start_time": "2023-03-15T15:13:46.691Z"
   },
   {
    "duration": 34,
    "start_time": "2023-03-15T15:13:46.696Z"
   },
   {
    "duration": 39,
    "start_time": "2023-03-15T15:13:46.732Z"
   },
   {
    "duration": 19,
    "start_time": "2023-03-15T15:13:46.773Z"
   },
   {
    "duration": 26,
    "start_time": "2023-03-15T15:13:46.794Z"
   },
   {
    "duration": 22,
    "start_time": "2023-03-15T15:13:46.821Z"
   },
   {
    "duration": 14,
    "start_time": "2023-03-15T15:13:46.844Z"
   },
   {
    "duration": 20,
    "start_time": "2023-03-15T15:13:46.860Z"
   },
   {
    "duration": 22,
    "start_time": "2023-03-15T15:13:46.882Z"
   },
   {
    "duration": 29,
    "start_time": "2023-03-15T15:13:46.907Z"
   },
   {
    "duration": 24,
    "start_time": "2023-03-15T15:13:46.939Z"
   },
   {
    "duration": 8,
    "start_time": "2023-03-15T15:13:46.965Z"
   },
   {
    "duration": 56,
    "start_time": "2023-03-15T15:13:46.975Z"
   },
   {
    "duration": 21,
    "start_time": "2023-03-15T15:13:47.033Z"
   },
   {
    "duration": 0,
    "start_time": "2023-03-15T15:13:47.056Z"
   },
   {
    "duration": 0,
    "start_time": "2023-03-15T15:13:47.058Z"
   },
   {
    "duration": 0,
    "start_time": "2023-03-15T15:13:47.060Z"
   },
   {
    "duration": 0,
    "start_time": "2023-03-15T15:13:47.061Z"
   },
   {
    "duration": 0,
    "start_time": "2023-03-15T15:13:47.062Z"
   },
   {
    "duration": 0,
    "start_time": "2023-03-15T15:13:47.064Z"
   },
   {
    "duration": 16,
    "start_time": "2023-03-15T15:13:59.314Z"
   },
   {
    "duration": 13,
    "start_time": "2023-03-15T15:14:01.758Z"
   },
   {
    "duration": 7,
    "start_time": "2023-03-15T15:14:03.585Z"
   },
   {
    "duration": 14,
    "start_time": "2023-03-15T15:14:04.649Z"
   },
   {
    "duration": 1369,
    "start_time": "2023-03-15T15:14:05.406Z"
   },
   {
    "duration": 5,
    "start_time": "2023-03-15T15:27:54.006Z"
   },
   {
    "duration": 17,
    "start_time": "2023-03-15T15:31:16.601Z"
   },
   {
    "duration": 19,
    "start_time": "2023-03-15T15:31:51.156Z"
   },
   {
    "duration": 19,
    "start_time": "2023-03-15T15:31:59.459Z"
   },
   {
    "duration": 21,
    "start_time": "2023-03-15T15:32:23.973Z"
   },
   {
    "duration": 116,
    "start_time": "2023-03-15T15:35:59.331Z"
   },
   {
    "duration": 112,
    "start_time": "2023-03-15T15:41:59.924Z"
   },
   {
    "duration": 22,
    "start_time": "2023-03-15T15:47:20.493Z"
   },
   {
    "duration": 19,
    "start_time": "2023-03-15T15:49:25.095Z"
   },
   {
    "duration": 20,
    "start_time": "2023-03-15T15:49:47.323Z"
   },
   {
    "duration": 20,
    "start_time": "2023-03-15T15:50:16.398Z"
   },
   {
    "duration": 18,
    "start_time": "2023-03-15T16:16:08.533Z"
   },
   {
    "duration": 24,
    "start_time": "2023-03-15T16:16:16.677Z"
   },
   {
    "duration": 20,
    "start_time": "2023-03-15T16:18:14.800Z"
   },
   {
    "duration": 23,
    "start_time": "2023-03-15T16:18:28.844Z"
   },
   {
    "duration": 14,
    "start_time": "2023-03-15T16:18:42.968Z"
   },
   {
    "duration": 13,
    "start_time": "2023-03-15T16:23:25.172Z"
   },
   {
    "duration": 1749,
    "start_time": "2023-03-15T16:23:26.990Z"
   },
   {
    "duration": 2139,
    "start_time": "2023-03-15T16:27:09.513Z"
   },
   {
    "duration": 27,
    "start_time": "2023-03-15T16:27:26.963Z"
   },
   {
    "duration": 93,
    "start_time": "2023-03-15T16:30:00.420Z"
   },
   {
    "duration": 168,
    "start_time": "2023-03-15T16:30:12.392Z"
   },
   {
    "duration": 2026,
    "start_time": "2023-03-15T16:32:53.891Z"
   },
   {
    "duration": 1875,
    "start_time": "2023-03-15T16:33:04.195Z"
   },
   {
    "duration": 21,
    "start_time": "2023-03-15T16:34:28.609Z"
   },
   {
    "duration": 154,
    "start_time": "2023-03-15T19:12:33.237Z"
   },
   {
    "duration": 384,
    "start_time": "2023-03-15T19:13:36.404Z"
   },
   {
    "duration": 82,
    "start_time": "2023-03-15T19:18:11.883Z"
   },
   {
    "duration": 19,
    "start_time": "2023-03-15T19:18:37.345Z"
   },
   {
    "duration": 4,
    "start_time": "2023-03-15T19:21:22.264Z"
   },
   {
    "duration": 7,
    "start_time": "2023-03-15T19:22:13.961Z"
   },
   {
    "duration": 7,
    "start_time": "2023-03-15T19:23:10.043Z"
   },
   {
    "duration": 4,
    "start_time": "2023-03-15T19:24:30.891Z"
   },
   {
    "duration": 165,
    "start_time": "2023-03-15T19:25:05.844Z"
   },
   {
    "duration": 152,
    "start_time": "2023-03-15T19:25:52.648Z"
   },
   {
    "duration": 162,
    "start_time": "2023-03-15T19:26:03.332Z"
   },
   {
    "duration": 163,
    "start_time": "2023-03-15T19:27:24.491Z"
   },
   {
    "duration": 163,
    "start_time": "2023-03-15T19:27:44.359Z"
   },
   {
    "duration": 10,
    "start_time": "2023-03-15T19:33:25.715Z"
   },
   {
    "duration": 10,
    "start_time": "2023-03-15T19:34:08.214Z"
   },
   {
    "duration": 9,
    "start_time": "2023-03-15T19:34:31.856Z"
   },
   {
    "duration": 284,
    "start_time": "2023-03-15T19:36:03.552Z"
   },
   {
    "duration": 19,
    "start_time": "2023-03-15T19:38:00.109Z"
   },
   {
    "duration": 15,
    "start_time": "2023-03-15T19:39:22.178Z"
   },
   {
    "duration": 1175,
    "start_time": "2023-03-15T19:43:02.388Z"
   },
   {
    "duration": 10,
    "start_time": "2023-03-15T19:43:25.798Z"
   },
   {
    "duration": 1122,
    "start_time": "2023-03-15T19:43:31.795Z"
   },
   {
    "duration": 15,
    "start_time": "2023-03-15T19:44:45.192Z"
   },
   {
    "duration": 16,
    "start_time": "2023-03-15T19:44:54.814Z"
   },
   {
    "duration": 2009,
    "start_time": "2023-03-15T19:45:00.516Z"
   },
   {
    "duration": 15,
    "start_time": "2023-03-15T19:45:38.596Z"
   },
   {
    "duration": 8130,
    "start_time": "2023-03-15T19:46:01.333Z"
   },
   {
    "duration": 2199,
    "start_time": "2023-03-15T19:46:36.456Z"
   },
   {
    "duration": 11,
    "start_time": "2023-03-15T19:47:55.902Z"
   },
   {
    "duration": 1200,
    "start_time": "2023-03-15T19:47:59.066Z"
   },
   {
    "duration": 12,
    "start_time": "2023-03-15T19:48:15.196Z"
   },
   {
    "duration": 7921,
    "start_time": "2023-03-15T19:48:27.974Z"
   },
   {
    "duration": 19,
    "start_time": "2023-03-15T19:49:34.291Z"
   },
   {
    "duration": 15,
    "start_time": "2023-03-15T19:49:38.343Z"
   },
   {
    "duration": 8254,
    "start_time": "2023-03-15T19:49:39.539Z"
   },
   {
    "duration": 12,
    "start_time": "2023-03-15T19:49:59.553Z"
   },
   {
    "duration": 1933,
    "start_time": "2023-03-15T19:50:01.120Z"
   },
   {
    "duration": 16,
    "start_time": "2023-03-15T19:51:27.193Z"
   },
   {
    "duration": 17,
    "start_time": "2023-03-15T19:52:04.295Z"
   },
   {
    "duration": 1101,
    "start_time": "2023-03-15T19:52:07.249Z"
   },
   {
    "duration": 13,
    "start_time": "2023-03-15T19:52:48.014Z"
   },
   {
    "duration": 19,
    "start_time": "2023-03-15T19:52:54.210Z"
   },
   {
    "duration": 12,
    "start_time": "2023-03-15T19:52:57.535Z"
   },
   {
    "duration": 2026,
    "start_time": "2023-03-15T19:53:00.438Z"
   },
   {
    "duration": 21,
    "start_time": "2023-03-15T19:53:42.974Z"
   },
   {
    "duration": 18,
    "start_time": "2023-03-15T19:53:53.129Z"
   },
   {
    "duration": 17,
    "start_time": "2023-03-15T19:54:15.557Z"
   },
   {
    "duration": 14,
    "start_time": "2023-03-15T19:54:20.555Z"
   },
   {
    "duration": 1908,
    "start_time": "2023-03-15T19:54:25.407Z"
   },
   {
    "duration": 17,
    "start_time": "2023-03-15T20:18:19.108Z"
   },
   {
    "duration": 17,
    "start_time": "2023-03-15T20:19:11.920Z"
   },
   {
    "duration": 17,
    "start_time": "2023-03-15T20:19:23.194Z"
   },
   {
    "duration": 20,
    "start_time": "2023-03-15T20:19:35.285Z"
   },
   {
    "duration": 17,
    "start_time": "2023-03-15T20:20:34.699Z"
   },
   {
    "duration": 18,
    "start_time": "2023-03-15T20:20:57.659Z"
   },
   {
    "duration": 20,
    "start_time": "2023-03-15T20:21:52.248Z"
   },
   {
    "duration": 19,
    "start_time": "2023-03-15T20:24:19.437Z"
   },
   {
    "duration": 19,
    "start_time": "2023-03-15T20:24:27.844Z"
   },
   {
    "duration": 19,
    "start_time": "2023-03-15T20:26:16.521Z"
   },
   {
    "duration": 19,
    "start_time": "2023-03-15T20:28:36.823Z"
   },
   {
    "duration": 18,
    "start_time": "2023-03-15T20:29:30.673Z"
   },
   {
    "duration": 21,
    "start_time": "2023-03-15T20:30:18.587Z"
   },
   {
    "duration": 134,
    "start_time": "2023-03-15T20:40:46.250Z"
   },
   {
    "duration": 11,
    "start_time": "2023-03-15T20:43:28.386Z"
   },
   {
    "duration": 18,
    "start_time": "2023-03-15T20:43:34.850Z"
   },
   {
    "duration": 26,
    "start_time": "2023-03-15T20:45:56.953Z"
   },
   {
    "duration": 19,
    "start_time": "2023-03-15T20:46:32.901Z"
   },
   {
    "duration": 76,
    "start_time": "2023-03-15T20:47:30.906Z"
   },
   {
    "duration": 23,
    "start_time": "2023-03-15T20:48:28.470Z"
   },
   {
    "duration": 14,
    "start_time": "2023-03-15T20:48:59.232Z"
   },
   {
    "duration": 6,
    "start_time": "2023-03-15T20:55:05.894Z"
   },
   {
    "duration": 15,
    "start_time": "2023-03-15T20:55:15.722Z"
   },
   {
    "duration": 64,
    "start_time": "2023-03-15T20:55:41.882Z"
   },
   {
    "duration": 16,
    "start_time": "2023-03-15T20:55:41.948Z"
   },
   {
    "duration": 14,
    "start_time": "2023-03-15T20:55:41.966Z"
   },
   {
    "duration": 29,
    "start_time": "2023-03-15T20:55:41.982Z"
   },
   {
    "duration": 2,
    "start_time": "2023-03-15T20:55:42.013Z"
   },
   {
    "duration": 22,
    "start_time": "2023-03-15T20:55:42.017Z"
   },
   {
    "duration": 39,
    "start_time": "2023-03-15T20:55:42.041Z"
   },
   {
    "duration": 5,
    "start_time": "2023-03-15T20:55:42.082Z"
   },
   {
    "duration": 11,
    "start_time": "2023-03-15T20:55:42.088Z"
   },
   {
    "duration": 11,
    "start_time": "2023-03-15T20:55:42.101Z"
   },
   {
    "duration": 5,
    "start_time": "2023-03-15T20:55:42.114Z"
   },
   {
    "duration": 12,
    "start_time": "2023-03-15T20:55:42.121Z"
   },
   {
    "duration": 49,
    "start_time": "2023-03-15T20:55:42.136Z"
   },
   {
    "duration": 7,
    "start_time": "2023-03-15T20:55:42.186Z"
   },
   {
    "duration": 6,
    "start_time": "2023-03-15T20:55:42.195Z"
   },
   {
    "duration": 7,
    "start_time": "2023-03-15T20:55:42.203Z"
   },
   {
    "duration": 11,
    "start_time": "2023-03-15T20:55:42.212Z"
   },
   {
    "duration": 17,
    "start_time": "2023-03-15T20:55:42.225Z"
   },
   {
    "duration": 5,
    "start_time": "2023-03-15T20:55:42.244Z"
   },
   {
    "duration": 0,
    "start_time": "2023-03-15T20:55:42.251Z"
   },
   {
    "duration": 0,
    "start_time": "2023-03-15T20:55:42.251Z"
   },
   {
    "duration": 0,
    "start_time": "2023-03-15T20:55:42.252Z"
   },
   {
    "duration": 15,
    "start_time": "2023-03-15T20:55:42.280Z"
   },
   {
    "duration": 1502,
    "start_time": "2023-03-15T20:55:42.298Z"
   },
   {
    "duration": 10,
    "start_time": "2023-03-15T20:55:43.802Z"
   },
   {
    "duration": 15,
    "start_time": "2023-03-15T20:55:43.815Z"
   },
   {
    "duration": 0,
    "start_time": "2023-03-15T20:55:43.832Z"
   },
   {
    "duration": 0,
    "start_time": "2023-03-15T20:55:43.834Z"
   },
   {
    "duration": 0,
    "start_time": "2023-03-15T20:55:43.835Z"
   },
   {
    "duration": 0,
    "start_time": "2023-03-15T20:55:43.836Z"
   },
   {
    "duration": 0,
    "start_time": "2023-03-15T20:55:43.838Z"
   },
   {
    "duration": 0,
    "start_time": "2023-03-15T20:55:43.839Z"
   },
   {
    "duration": 0,
    "start_time": "2023-03-15T20:55:43.840Z"
   },
   {
    "duration": 0,
    "start_time": "2023-03-15T20:55:43.842Z"
   },
   {
    "duration": 0,
    "start_time": "2023-03-15T20:55:43.843Z"
   },
   {
    "duration": 0,
    "start_time": "2023-03-15T20:55:43.844Z"
   },
   {
    "duration": 0,
    "start_time": "2023-03-15T20:55:43.873Z"
   },
   {
    "duration": 0,
    "start_time": "2023-03-15T20:55:43.874Z"
   },
   {
    "duration": 0,
    "start_time": "2023-03-15T20:55:43.876Z"
   },
   {
    "duration": 0,
    "start_time": "2023-03-15T20:55:43.877Z"
   },
   {
    "duration": 0,
    "start_time": "2023-03-15T20:55:43.878Z"
   },
   {
    "duration": 0,
    "start_time": "2023-03-15T20:55:43.879Z"
   },
   {
    "duration": 0,
    "start_time": "2023-03-15T20:55:43.880Z"
   },
   {
    "duration": 0,
    "start_time": "2023-03-15T20:55:43.881Z"
   },
   {
    "duration": 0,
    "start_time": "2023-03-15T20:55:43.882Z"
   },
   {
    "duration": 0,
    "start_time": "2023-03-15T20:55:43.884Z"
   },
   {
    "duration": 0,
    "start_time": "2023-03-15T20:55:43.885Z"
   },
   {
    "duration": 0,
    "start_time": "2023-03-15T20:55:43.886Z"
   },
   {
    "duration": 0,
    "start_time": "2023-03-15T20:55:43.887Z"
   },
   {
    "duration": 0,
    "start_time": "2023-03-15T20:55:43.889Z"
   },
   {
    "duration": 0,
    "start_time": "2023-03-15T20:55:43.890Z"
   },
   {
    "duration": 0,
    "start_time": "2023-03-15T20:55:43.891Z"
   },
   {
    "duration": 0,
    "start_time": "2023-03-15T20:55:43.893Z"
   },
   {
    "duration": 0,
    "start_time": "2023-03-15T20:55:43.894Z"
   },
   {
    "duration": 0,
    "start_time": "2023-03-15T20:55:43.896Z"
   },
   {
    "duration": 15,
    "start_time": "2023-03-15T20:56:04.034Z"
   },
   {
    "duration": 12,
    "start_time": "2023-03-15T20:56:05.873Z"
   },
   {
    "duration": 7,
    "start_time": "2023-03-15T20:56:06.360Z"
   },
   {
    "duration": 15,
    "start_time": "2023-03-15T20:56:07.332Z"
   },
   {
    "duration": 1436,
    "start_time": "2023-03-15T20:56:08.377Z"
   },
   {
    "duration": 7,
    "start_time": "2023-03-15T20:56:13.496Z"
   },
   {
    "duration": 4,
    "start_time": "2023-03-15T20:56:15.085Z"
   },
   {
    "duration": 4,
    "start_time": "2023-03-15T20:56:16.993Z"
   },
   {
    "duration": 4,
    "start_time": "2023-03-15T20:56:17.809Z"
   },
   {
    "duration": 19,
    "start_time": "2023-03-15T20:56:21.223Z"
   },
   {
    "duration": 19,
    "start_time": "2023-03-15T20:56:22.936Z"
   },
   {
    "duration": 1236,
    "start_time": "2023-03-15T20:56:23.765Z"
   },
   {
    "duration": 22,
    "start_time": "2023-03-15T20:56:46.081Z"
   },
   {
    "duration": 1237,
    "start_time": "2023-03-15T20:56:48.991Z"
   },
   {
    "duration": 33,
    "start_time": "2023-03-15T20:57:38.969Z"
   },
   {
    "duration": 1873,
    "start_time": "2023-03-15T20:57:48.788Z"
   },
   {
    "duration": 399,
    "start_time": "2023-03-15T20:57:55.771Z"
   },
   {
    "duration": 18,
    "start_time": "2023-03-15T20:57:59.989Z"
   },
   {
    "duration": 5,
    "start_time": "2023-03-15T20:58:11.834Z"
   },
   {
    "duration": 163,
    "start_time": "2023-03-15T20:58:13.039Z"
   },
   {
    "duration": 160,
    "start_time": "2023-03-15T20:58:17.242Z"
   },
   {
    "duration": 7,
    "start_time": "2023-03-15T20:58:20.369Z"
   },
   {
    "duration": 9,
    "start_time": "2023-03-15T20:58:23.349Z"
   },
   {
    "duration": 9,
    "start_time": "2023-03-15T20:58:25.002Z"
   },
   {
    "duration": 23,
    "start_time": "2023-03-15T20:58:27.282Z"
   },
   {
    "duration": 13,
    "start_time": "2023-03-15T20:58:29.300Z"
   },
   {
    "duration": 1950,
    "start_time": "2023-03-15T20:58:30.851Z"
   },
   {
    "duration": 18,
    "start_time": "2023-03-15T20:58:36.170Z"
   },
   {
    "duration": 18,
    "start_time": "2023-03-15T20:58:39.070Z"
   },
   {
    "duration": 17,
    "start_time": "2023-03-15T20:58:41.382Z"
   },
   {
    "duration": 17,
    "start_time": "2023-03-15T20:58:43.687Z"
   },
   {
    "duration": 18,
    "start_time": "2023-03-15T20:58:45.478Z"
   },
   {
    "duration": 18,
    "start_time": "2023-03-15T20:58:47.435Z"
   },
   {
    "duration": 20,
    "start_time": "2023-03-15T20:58:50.432Z"
   },
   {
    "duration": 23,
    "start_time": "2023-03-15T20:59:35.622Z"
   },
   {
    "duration": 30,
    "start_time": "2023-03-15T21:02:42.778Z"
   },
   {
    "duration": 29,
    "start_time": "2023-03-15T21:03:27.768Z"
   },
   {
    "duration": 48,
    "start_time": "2023-03-15T21:04:53.050Z"
   },
   {
    "duration": 30,
    "start_time": "2023-03-15T21:05:33.031Z"
   },
   {
    "duration": 22,
    "start_time": "2023-03-15T21:10:37.213Z"
   },
   {
    "duration": 28,
    "start_time": "2023-03-15T21:12:02.325Z"
   },
   {
    "duration": 18,
    "start_time": "2023-03-15T21:15:41.113Z"
   },
   {
    "duration": 18,
    "start_time": "2023-03-15T21:15:55.759Z"
   },
   {
    "duration": 27,
    "start_time": "2023-03-15T21:16:24.221Z"
   },
   {
    "duration": 1578,
    "start_time": "2023-03-16T06:03:30.375Z"
   },
   {
    "duration": 18,
    "start_time": "2023-03-16T06:03:31.955Z"
   },
   {
    "duration": 33,
    "start_time": "2023-03-16T06:03:31.975Z"
   },
   {
    "duration": 74,
    "start_time": "2023-03-16T06:03:32.010Z"
   },
   {
    "duration": 6,
    "start_time": "2023-03-16T06:03:32.087Z"
   },
   {
    "duration": 29,
    "start_time": "2023-03-16T06:03:32.094Z"
   },
   {
    "duration": 59,
    "start_time": "2023-03-16T06:03:32.125Z"
   },
   {
    "duration": 5,
    "start_time": "2023-03-16T06:03:32.186Z"
   },
   {
    "duration": 12,
    "start_time": "2023-03-16T06:03:32.192Z"
   },
   {
    "duration": 10,
    "start_time": "2023-03-16T06:03:32.206Z"
   },
   {
    "duration": 11,
    "start_time": "2023-03-16T06:03:32.218Z"
   },
   {
    "duration": 39,
    "start_time": "2023-03-16T06:03:32.230Z"
   },
   {
    "duration": 27,
    "start_time": "2023-03-16T06:03:32.270Z"
   },
   {
    "duration": 18,
    "start_time": "2023-03-16T06:03:32.300Z"
   },
   {
    "duration": 10,
    "start_time": "2023-03-16T06:03:32.320Z"
   },
   {
    "duration": 53,
    "start_time": "2023-03-16T06:03:32.332Z"
   },
   {
    "duration": 31,
    "start_time": "2023-03-16T06:03:32.387Z"
   },
   {
    "duration": 62,
    "start_time": "2023-03-16T06:03:32.419Z"
   },
   {
    "duration": 21,
    "start_time": "2023-03-16T06:03:32.483Z"
   },
   {
    "duration": 10,
    "start_time": "2023-03-16T06:03:32.505Z"
   },
   {
    "duration": 18,
    "start_time": "2023-03-16T06:03:32.517Z"
   },
   {
    "duration": 46,
    "start_time": "2023-03-16T06:03:32.537Z"
   },
   {
    "duration": 1329,
    "start_time": "2023-03-16T06:03:32.585Z"
   },
   {
    "duration": 36,
    "start_time": "2023-03-16T06:03:33.916Z"
   },
   {
    "duration": 8,
    "start_time": "2023-03-16T06:03:33.961Z"
   },
   {
    "duration": 0,
    "start_time": "2023-03-16T06:03:33.973Z"
   },
   {
    "duration": 0,
    "start_time": "2023-03-16T06:03:33.974Z"
   },
   {
    "duration": 0,
    "start_time": "2023-03-16T06:03:33.975Z"
   },
   {
    "duration": 0,
    "start_time": "2023-03-16T06:03:33.977Z"
   },
   {
    "duration": 0,
    "start_time": "2023-03-16T06:03:33.978Z"
   },
   {
    "duration": 0,
    "start_time": "2023-03-16T06:03:33.981Z"
   },
   {
    "duration": 0,
    "start_time": "2023-03-16T06:03:33.982Z"
   },
   {
    "duration": 0,
    "start_time": "2023-03-16T06:03:33.984Z"
   },
   {
    "duration": 0,
    "start_time": "2023-03-16T06:03:33.985Z"
   },
   {
    "duration": 0,
    "start_time": "2023-03-16T06:03:33.986Z"
   },
   {
    "duration": 0,
    "start_time": "2023-03-16T06:03:33.987Z"
   },
   {
    "duration": 0,
    "start_time": "2023-03-16T06:03:33.988Z"
   },
   {
    "duration": 0,
    "start_time": "2023-03-16T06:03:33.989Z"
   },
   {
    "duration": 0,
    "start_time": "2023-03-16T06:03:34.098Z"
   },
   {
    "duration": 0,
    "start_time": "2023-03-16T06:03:34.099Z"
   },
   {
    "duration": 0,
    "start_time": "2023-03-16T06:03:34.101Z"
   },
   {
    "duration": 0,
    "start_time": "2023-03-16T06:03:34.101Z"
   },
   {
    "duration": 0,
    "start_time": "2023-03-16T06:03:34.103Z"
   },
   {
    "duration": 0,
    "start_time": "2023-03-16T06:03:34.104Z"
   },
   {
    "duration": 0,
    "start_time": "2023-03-16T06:03:34.105Z"
   },
   {
    "duration": 0,
    "start_time": "2023-03-16T06:03:34.106Z"
   },
   {
    "duration": 0,
    "start_time": "2023-03-16T06:03:34.107Z"
   },
   {
    "duration": 0,
    "start_time": "2023-03-16T06:03:34.108Z"
   },
   {
    "duration": 0,
    "start_time": "2023-03-16T06:03:34.109Z"
   },
   {
    "duration": 0,
    "start_time": "2023-03-16T06:03:34.110Z"
   },
   {
    "duration": 0,
    "start_time": "2023-03-16T06:03:34.111Z"
   },
   {
    "duration": 0,
    "start_time": "2023-03-16T06:03:34.130Z"
   },
   {
    "duration": 0,
    "start_time": "2023-03-16T06:03:34.131Z"
   },
   {
    "duration": 0,
    "start_time": "2023-03-16T06:03:34.132Z"
   },
   {
    "duration": 0,
    "start_time": "2023-03-16T06:03:34.133Z"
   },
   {
    "duration": 0,
    "start_time": "2023-03-16T06:03:34.134Z"
   },
   {
    "duration": 8,
    "start_time": "2023-03-16T06:03:47.148Z"
   },
   {
    "duration": 19,
    "start_time": "2023-03-16T06:03:50.002Z"
   },
   {
    "duration": 29,
    "start_time": "2023-03-16T06:03:51.728Z"
   },
   {
    "duration": 1668,
    "start_time": "2023-03-16T06:03:53.055Z"
   },
   {
    "duration": 376,
    "start_time": "2023-03-16T06:03:58.783Z"
   },
   {
    "duration": 18,
    "start_time": "2023-03-16T06:04:01.801Z"
   },
   {
    "duration": 4,
    "start_time": "2023-03-16T06:04:03.510Z"
   },
   {
    "duration": 162,
    "start_time": "2023-03-16T06:04:04.686Z"
   },
   {
    "duration": 218,
    "start_time": "2023-03-16T06:04:06.756Z"
   },
   {
    "duration": 5,
    "start_time": "2023-03-16T06:04:09.221Z"
   },
   {
    "duration": 11,
    "start_time": "2023-03-16T06:04:12.504Z"
   },
   {
    "duration": 11,
    "start_time": "2023-03-16T06:04:13.982Z"
   },
   {
    "duration": 16,
    "start_time": "2023-03-16T06:04:16.083Z"
   },
   {
    "duration": 19,
    "start_time": "2023-03-16T06:04:18.024Z"
   },
   {
    "duration": 2001,
    "start_time": "2023-03-16T06:04:19.402Z"
   },
   {
    "duration": 17,
    "start_time": "2023-03-16T06:04:24.878Z"
   },
   {
    "duration": 22,
    "start_time": "2023-03-16T06:04:26.899Z"
   },
   {
    "duration": 21,
    "start_time": "2023-03-16T06:04:28.470Z"
   },
   {
    "duration": 20,
    "start_time": "2023-03-16T06:04:30.955Z"
   },
   {
    "duration": 16,
    "start_time": "2023-03-16T06:04:32.783Z"
   },
   {
    "duration": 18,
    "start_time": "2023-03-16T06:04:34.486Z"
   },
   {
    "duration": 50,
    "start_time": "2023-03-16T06:04:36.725Z"
   },
   {
    "duration": 28,
    "start_time": "2023-03-16T06:04:38.999Z"
   },
   {
    "duration": 8,
    "start_time": "2023-03-16T06:07:20.682Z"
   },
   {
    "duration": 8,
    "start_time": "2023-03-16T06:08:00.011Z"
   },
   {
    "duration": 12,
    "start_time": "2023-03-16T06:08:28.228Z"
   },
   {
    "duration": 33,
    "start_time": "2023-03-16T06:08:31.627Z"
   },
   {
    "duration": 7,
    "start_time": "2023-03-16T06:08:40.779Z"
   },
   {
    "duration": 6,
    "start_time": "2023-03-16T06:08:48.286Z"
   },
   {
    "duration": 16,
    "start_time": "2023-03-16T06:08:52.550Z"
   },
   {
    "duration": 7,
    "start_time": "2023-03-16T06:09:03.486Z"
   },
   {
    "duration": 66,
    "start_time": "2023-03-16T06:09:24.955Z"
   },
   {
    "duration": 9,
    "start_time": "2023-03-16T06:09:32.783Z"
   },
   {
    "duration": 118,
    "start_time": "2023-03-16T06:10:42.508Z"
   },
   {
    "duration": 10,
    "start_time": "2023-03-16T06:11:21.306Z"
   },
   {
    "duration": 8,
    "start_time": "2023-03-16T06:11:33.974Z"
   },
   {
    "duration": 9,
    "start_time": "2023-03-16T06:12:04.596Z"
   },
   {
    "duration": 10,
    "start_time": "2023-03-16T06:12:12.186Z"
   },
   {
    "duration": 9,
    "start_time": "2023-03-16T06:13:01.615Z"
   },
   {
    "duration": 12,
    "start_time": "2023-03-16T06:13:05.999Z"
   },
   {
    "duration": 17,
    "start_time": "2023-03-16T06:13:08.922Z"
   },
   {
    "duration": 9,
    "start_time": "2023-03-16T06:16:21.702Z"
   },
   {
    "duration": 11,
    "start_time": "2023-03-16T06:20:46.867Z"
   },
   {
    "duration": 1572,
    "start_time": "2023-03-16T20:12:55.641Z"
   },
   {
    "duration": 20,
    "start_time": "2023-03-16T20:13:00.532Z"
   },
   {
    "duration": 17,
    "start_time": "2023-03-16T20:13:02.235Z"
   },
   {
    "duration": 31,
    "start_time": "2023-03-16T20:13:10.272Z"
   },
   {
    "duration": 5,
    "start_time": "2023-03-16T20:13:44.313Z"
   },
   {
    "duration": 18,
    "start_time": "2023-03-16T20:13:45.944Z"
   },
   {
    "duration": 20,
    "start_time": "2023-03-16T20:13:49.514Z"
   },
   {
    "duration": 4,
    "start_time": "2023-03-16T20:13:55.308Z"
   },
   {
    "duration": 11,
    "start_time": "2023-03-16T20:13:57.246Z"
   },
   {
    "duration": 15,
    "start_time": "2023-03-16T20:14:02.887Z"
   },
   {
    "duration": 5,
    "start_time": "2023-03-16T20:14:06.361Z"
   },
   {
    "duration": 5,
    "start_time": "2023-03-16T20:14:08.631Z"
   },
   {
    "duration": 15,
    "start_time": "2023-03-16T20:14:10.479Z"
   },
   {
    "duration": 6,
    "start_time": "2023-03-16T20:14:13.483Z"
   },
   {
    "duration": 5,
    "start_time": "2023-03-16T20:14:14.964Z"
   },
   {
    "duration": 4,
    "start_time": "2023-03-16T20:14:16.967Z"
   },
   {
    "duration": 15,
    "start_time": "2023-03-16T20:15:05.780Z"
   },
   {
    "duration": 6,
    "start_time": "2023-03-16T20:15:09.426Z"
   },
   {
    "duration": 13,
    "start_time": "2023-03-16T20:15:11.818Z"
   },
   {
    "duration": 1358,
    "start_time": "2023-03-16T20:15:14.670Z"
   },
   {
    "duration": 106,
    "start_time": "2023-03-16T20:20:28.687Z"
   },
   {
    "duration": 11,
    "start_time": "2023-03-16T20:20:37.718Z"
   },
   {
    "duration": 743,
    "start_time": "2023-03-16T20:20:46.522Z"
   },
   {
    "duration": 1365,
    "start_time": "2023-03-16T20:20:50.138Z"
   },
   {
    "duration": 756,
    "start_time": "2023-03-16T20:20:55.854Z"
   },
   {
    "duration": 65,
    "start_time": "2023-03-16T20:21:04.201Z"
   },
   {
    "duration": 16,
    "start_time": "2023-03-16T20:21:04.268Z"
   },
   {
    "duration": 12,
    "start_time": "2023-03-16T20:21:04.286Z"
   },
   {
    "duration": 36,
    "start_time": "2023-03-16T20:21:04.300Z"
   },
   {
    "duration": 5,
    "start_time": "2023-03-16T20:21:04.361Z"
   },
   {
    "duration": 16,
    "start_time": "2023-03-16T20:21:04.369Z"
   },
   {
    "duration": 21,
    "start_time": "2023-03-16T20:21:04.387Z"
   },
   {
    "duration": 5,
    "start_time": "2023-03-16T20:21:04.410Z"
   },
   {
    "duration": 10,
    "start_time": "2023-03-16T20:21:04.416Z"
   },
   {
    "duration": 44,
    "start_time": "2023-03-16T20:21:04.428Z"
   },
   {
    "duration": 5,
    "start_time": "2023-03-16T20:21:04.473Z"
   },
   {
    "duration": 5,
    "start_time": "2023-03-16T20:21:04.522Z"
   },
   {
    "duration": 15,
    "start_time": "2023-03-16T20:21:04.529Z"
   },
   {
    "duration": 50,
    "start_time": "2023-03-16T20:21:04.546Z"
   },
   {
    "duration": 6,
    "start_time": "2023-03-16T20:21:04.598Z"
   },
   {
    "duration": 5,
    "start_time": "2023-03-16T20:21:04.607Z"
   },
   {
    "duration": 11,
    "start_time": "2023-03-16T20:21:04.614Z"
   },
   {
    "duration": 18,
    "start_time": "2023-03-16T20:21:04.627Z"
   },
   {
    "duration": 16,
    "start_time": "2023-03-16T20:21:04.648Z"
   },
   {
    "duration": 11,
    "start_time": "2023-03-16T20:21:04.666Z"
   },
   {
    "duration": 7,
    "start_time": "2023-03-16T20:21:04.679Z"
   },
   {
    "duration": 13,
    "start_time": "2023-03-16T20:21:04.687Z"
   },
   {
    "duration": 1409,
    "start_time": "2023-03-16T20:21:04.969Z"
   },
   {
    "duration": 9,
    "start_time": "2023-03-16T20:21:10.002Z"
   },
   {
    "duration": 5,
    "start_time": "2023-03-16T20:21:24.230Z"
   },
   {
    "duration": 21,
    "start_time": "2023-03-16T20:21:26.228Z"
   },
   {
    "duration": 19,
    "start_time": "2023-03-16T20:21:28.607Z"
   },
   {
    "duration": 1761,
    "start_time": "2023-03-16T20:21:30.679Z"
   },
   {
    "duration": 14,
    "start_time": "2023-03-16T20:21:45.212Z"
   },
   {
    "duration": 1703,
    "start_time": "2023-03-16T20:21:47.184Z"
   },
   {
    "duration": 247,
    "start_time": "2023-03-16T20:21:54.814Z"
   },
   {
    "duration": 18,
    "start_time": "2023-03-16T20:23:07.515Z"
   },
   {
    "duration": 4,
    "start_time": "2023-03-16T20:23:10.157Z"
   },
   {
    "duration": 183,
    "start_time": "2023-03-16T20:24:54.248Z"
   },
   {
    "duration": 163,
    "start_time": "2023-03-16T20:25:09.510Z"
   },
   {
    "duration": 6,
    "start_time": "2023-03-16T20:25:38.088Z"
   },
   {
    "duration": 13,
    "start_time": "2023-03-16T20:26:58.722Z"
   },
   {
    "duration": 10,
    "start_time": "2023-03-16T20:27:10.242Z"
   },
   {
    "duration": 52,
    "start_time": "2023-03-16T20:27:50.167Z"
   },
   {
    "duration": 16,
    "start_time": "2023-03-16T20:28:15.740Z"
   },
   {
    "duration": 13,
    "start_time": "2023-03-16T20:28:52.062Z"
   },
   {
    "duration": 1910,
    "start_time": "2023-03-16T20:29:07.516Z"
   },
   {
    "duration": 59,
    "start_time": "2023-03-16T20:29:32.907Z"
   },
   {
    "duration": 17,
    "start_time": "2023-03-16T20:31:36.143Z"
   },
   {
    "duration": 19,
    "start_time": "2023-03-16T20:31:51.773Z"
   },
   {
    "duration": 17,
    "start_time": "2023-03-16T20:32:06.613Z"
   },
   {
    "duration": 20,
    "start_time": "2023-03-16T20:34:15.368Z"
   },
   {
    "duration": 42,
    "start_time": "2023-03-16T20:34:49.320Z"
   },
   {
    "duration": 34,
    "start_time": "2023-03-16T20:35:30.487Z"
   },
   {
    "duration": 28,
    "start_time": "2023-03-16T20:35:58.066Z"
   },
   {
    "duration": 46,
    "start_time": "2023-03-16T20:39:21.370Z"
   },
   {
    "duration": 10,
    "start_time": "2023-03-16T20:39:40.495Z"
   },
   {
    "duration": 11,
    "start_time": "2023-03-16T20:45:39.687Z"
   },
   {
    "duration": 47,
    "start_time": "2023-03-16T20:49:19.421Z"
   },
   {
    "duration": 17,
    "start_time": "2023-03-16T20:49:24.520Z"
   },
   {
    "duration": 349,
    "start_time": "2023-03-16T20:50:37.354Z"
   },
   {
    "duration": 460,
    "start_time": "2023-03-16T20:51:14.072Z"
   },
   {
    "duration": 291,
    "start_time": "2023-03-16T20:51:19.875Z"
   },
   {
    "duration": 412,
    "start_time": "2023-03-16T20:51:27.881Z"
   },
   {
    "duration": 46,
    "start_time": "2023-03-16T20:53:00.219Z"
   },
   {
    "duration": 389,
    "start_time": "2023-03-16T20:53:06.673Z"
   },
   {
    "duration": 421,
    "start_time": "2023-03-16T20:53:18.558Z"
   },
   {
    "duration": 487,
    "start_time": "2023-03-16T20:54:47.894Z"
   },
   {
    "duration": 1621,
    "start_time": "2023-03-18T06:52:47.738Z"
   },
   {
    "duration": 19,
    "start_time": "2023-03-18T06:52:49.361Z"
   },
   {
    "duration": 15,
    "start_time": "2023-03-18T06:52:49.382Z"
   },
   {
    "duration": 31,
    "start_time": "2023-03-18T06:52:49.399Z"
   },
   {
    "duration": 4,
    "start_time": "2023-03-18T06:52:49.432Z"
   },
   {
    "duration": 18,
    "start_time": "2023-03-18T06:52:49.438Z"
   },
   {
    "duration": 51,
    "start_time": "2023-03-18T06:52:49.459Z"
   },
   {
    "duration": 6,
    "start_time": "2023-03-18T06:52:49.511Z"
   },
   {
    "duration": 13,
    "start_time": "2023-03-18T06:52:49.519Z"
   },
   {
    "duration": 10,
    "start_time": "2023-03-18T06:52:52.637Z"
   },
   {
    "duration": 9,
    "start_time": "2023-03-18T06:53:03.189Z"
   },
   {
    "duration": 5,
    "start_time": "2023-03-18T06:53:09.105Z"
   },
   {
    "duration": 16,
    "start_time": "2023-03-18T06:53:10.293Z"
   },
   {
    "duration": 7,
    "start_time": "2023-03-18T06:53:13.318Z"
   },
   {
    "duration": 6,
    "start_time": "2023-03-18T06:53:14.325Z"
   },
   {
    "duration": 6,
    "start_time": "2023-03-18T06:53:15.516Z"
   },
   {
    "duration": 8,
    "start_time": "2023-03-18T07:03:18.924Z"
   },
   {
    "duration": 9,
    "start_time": "2023-03-18T07:03:54.814Z"
   },
   {
    "duration": 14,
    "start_time": "2023-03-18T07:07:30.766Z"
   },
   {
    "duration": 198,
    "start_time": "2023-03-18T07:07:45.247Z"
   },
   {
    "duration": 110,
    "start_time": "2023-03-18T07:08:13.057Z"
   },
   {
    "duration": 41,
    "start_time": "2023-03-18T07:08:39.798Z"
   },
   {
    "duration": 20,
    "start_time": "2023-03-18T07:08:51.346Z"
   },
   {
    "duration": 210,
    "start_time": "2023-03-18T07:12:32.273Z"
   },
   {
    "duration": 48,
    "start_time": "2023-03-18T07:17:47.382Z"
   },
   {
    "duration": 16,
    "start_time": "2023-03-18T07:18:01.787Z"
   },
   {
    "duration": 23,
    "start_time": "2023-03-18T07:19:27.298Z"
   },
   {
    "duration": 14,
    "start_time": "2023-03-18T07:19:39.138Z"
   },
   {
    "duration": 17,
    "start_time": "2023-03-18T07:19:47.192Z"
   },
   {
    "duration": 7,
    "start_time": "2023-03-18T07:21:31.717Z"
   },
   {
    "duration": 23,
    "start_time": "2023-03-18T07:21:34.042Z"
   },
   {
    "duration": 1486,
    "start_time": "2023-03-18T07:21:36.444Z"
   },
   {
    "duration": 75,
    "start_time": "2023-03-18T07:22:34.546Z"
   },
   {
    "duration": 22,
    "start_time": "2023-03-18T07:22:34.623Z"
   },
   {
    "duration": 34,
    "start_time": "2023-03-18T07:22:34.648Z"
   },
   {
    "duration": 42,
    "start_time": "2023-03-18T07:22:34.685Z"
   },
   {
    "duration": 4,
    "start_time": "2023-03-18T07:22:34.730Z"
   },
   {
    "duration": 26,
    "start_time": "2023-03-18T07:22:34.736Z"
   },
   {
    "duration": 47,
    "start_time": "2023-03-18T07:22:34.764Z"
   },
   {
    "duration": 9,
    "start_time": "2023-03-18T07:22:34.813Z"
   },
   {
    "duration": 18,
    "start_time": "2023-03-18T07:22:34.825Z"
   },
   {
    "duration": 12,
    "start_time": "2023-03-18T07:22:34.846Z"
   },
   {
    "duration": 11,
    "start_time": "2023-03-18T07:22:34.860Z"
   },
   {
    "duration": 27,
    "start_time": "2023-03-18T07:22:34.874Z"
   },
   {
    "duration": 37,
    "start_time": "2023-03-18T07:22:34.903Z"
   },
   {
    "duration": 24,
    "start_time": "2023-03-18T07:22:34.943Z"
   },
   {
    "duration": 18,
    "start_time": "2023-03-18T07:22:34.969Z"
   },
   {
    "duration": 70,
    "start_time": "2023-03-18T07:22:34.990Z"
   },
   {
    "duration": 21,
    "start_time": "2023-03-18T07:22:35.062Z"
   },
   {
    "duration": 16,
    "start_time": "2023-03-18T07:22:35.085Z"
   },
   {
    "duration": 255,
    "start_time": "2023-03-18T07:22:35.104Z"
   },
   {
    "duration": 13,
    "start_time": "2023-03-18T07:22:35.361Z"
   },
   {
    "duration": 20,
    "start_time": "2023-03-18T07:22:35.376Z"
   },
   {
    "duration": 38,
    "start_time": "2023-03-18T07:22:35.402Z"
   },
   {
    "duration": 13,
    "start_time": "2023-03-18T07:22:35.442Z"
   },
   {
    "duration": 1625,
    "start_time": "2023-03-18T07:22:35.458Z"
   },
   {
    "duration": 21,
    "start_time": "2023-03-18T07:22:37.085Z"
   },
   {
    "duration": 29,
    "start_time": "2023-03-18T07:22:37.107Z"
   },
   {
    "duration": 25,
    "start_time": "2023-03-18T07:22:37.139Z"
   },
   {
    "duration": 12,
    "start_time": "2023-03-18T07:22:37.166Z"
   },
   {
    "duration": 1826,
    "start_time": "2023-03-18T07:22:37.180Z"
   },
   {
    "duration": 422,
    "start_time": "2023-03-18T07:22:39.014Z"
   },
   {
    "duration": 31,
    "start_time": "2023-03-18T07:22:39.439Z"
   },
   {
    "duration": 25,
    "start_time": "2023-03-18T07:22:39.472Z"
   },
   {
    "duration": 229,
    "start_time": "2023-03-18T07:22:39.503Z"
   },
   {
    "duration": 194,
    "start_time": "2023-03-18T07:22:39.735Z"
   },
   {
    "duration": 6,
    "start_time": "2023-03-18T07:22:39.931Z"
   },
   {
    "duration": 23,
    "start_time": "2023-03-18T07:22:39.939Z"
   },
   {
    "duration": 21,
    "start_time": "2023-03-18T07:22:39.964Z"
   },
   {
    "duration": 57,
    "start_time": "2023-03-18T07:22:39.998Z"
   },
   {
    "duration": 37,
    "start_time": "2023-03-18T07:22:40.059Z"
   },
   {
    "duration": 2053,
    "start_time": "2023-03-18T07:22:40.099Z"
   },
   {
    "duration": 506,
    "start_time": "2023-03-18T07:22:42.156Z"
   },
   {
    "duration": 20,
    "start_time": "2023-03-18T07:22:42.664Z"
   },
   {
    "duration": 30,
    "start_time": "2023-03-18T07:22:42.695Z"
   },
   {
    "duration": 27,
    "start_time": "2023-03-18T07:22:42.727Z"
   },
   {
    "duration": 30,
    "start_time": "2023-03-18T07:22:42.757Z"
   },
   {
    "duration": 23,
    "start_time": "2023-03-18T07:22:42.795Z"
   },
   {
    "duration": 19,
    "start_time": "2023-03-18T07:22:42.823Z"
   },
   {
    "duration": 26,
    "start_time": "2023-03-18T07:22:42.844Z"
   },
   {
    "duration": 72,
    "start_time": "2023-03-18T07:22:42.872Z"
   },
   {
    "duration": 12,
    "start_time": "2023-03-18T07:22:42.946Z"
   },
   {
    "duration": 10,
    "start_time": "2023-03-18T07:22:42.960Z"
   },
   {
    "duration": 6,
    "start_time": "2023-03-18T07:28:18.566Z"
   },
   {
    "duration": 25,
    "start_time": "2023-03-18T07:28:21.022Z"
   },
   {
    "duration": 22,
    "start_time": "2023-03-18T07:29:11.695Z"
   },
   {
    "duration": 16,
    "start_time": "2023-03-18T07:29:13.320Z"
   },
   {
    "duration": 1845,
    "start_time": "2023-03-18T07:29:15.617Z"
   },
   {
    "duration": 17,
    "start_time": "2023-03-18T07:32:08.869Z"
   },
   {
    "duration": 15,
    "start_time": "2023-03-18T07:36:32.810Z"
   },
   {
    "duration": 8,
    "start_time": "2023-03-18T07:37:10.188Z"
   },
   {
    "duration": 12,
    "start_time": "2023-03-18T07:37:18.794Z"
   },
   {
    "duration": 87,
    "start_time": "2023-03-18T07:37:40.831Z"
   },
   {
    "duration": 25,
    "start_time": "2023-03-18T07:37:40.920Z"
   },
   {
    "duration": 39,
    "start_time": "2023-03-18T07:37:40.947Z"
   },
   {
    "duration": 56,
    "start_time": "2023-03-18T07:37:40.991Z"
   },
   {
    "duration": 5,
    "start_time": "2023-03-18T07:37:41.049Z"
   },
   {
    "duration": 33,
    "start_time": "2023-03-18T07:37:41.057Z"
   },
   {
    "duration": 31,
    "start_time": "2023-03-18T07:37:41.093Z"
   },
   {
    "duration": 13,
    "start_time": "2023-03-18T07:37:41.126Z"
   },
   {
    "duration": 25,
    "start_time": "2023-03-18T07:37:41.142Z"
   },
   {
    "duration": 21,
    "start_time": "2023-03-18T07:37:41.169Z"
   },
   {
    "duration": 36,
    "start_time": "2023-03-18T07:37:41.192Z"
   },
   {
    "duration": 16,
    "start_time": "2023-03-18T07:37:41.231Z"
   },
   {
    "duration": 36,
    "start_time": "2023-03-18T07:37:41.251Z"
   },
   {
    "duration": 8,
    "start_time": "2023-03-18T07:37:41.974Z"
   },
   {
    "duration": 7,
    "start_time": "2023-03-18T07:37:42.000Z"
   },
   {
    "duration": 25,
    "start_time": "2023-03-18T07:37:42.013Z"
   },
   {
    "duration": 9,
    "start_time": "2023-03-18T07:37:42.099Z"
   },
   {
    "duration": 24,
    "start_time": "2023-03-18T07:37:42.112Z"
   },
   {
    "duration": 358,
    "start_time": "2023-03-18T07:37:42.139Z"
   },
   {
    "duration": 25,
    "start_time": "2023-03-18T07:37:42.501Z"
   },
   {
    "duration": 27,
    "start_time": "2023-03-18T07:37:42.529Z"
   },
   {
    "duration": 41,
    "start_time": "2023-03-18T07:37:42.558Z"
   },
   {
    "duration": 24,
    "start_time": "2023-03-18T07:37:48.295Z"
   },
   {
    "duration": 25,
    "start_time": "2023-03-18T07:41:11.948Z"
   },
   {
    "duration": 8,
    "start_time": "2023-03-18T08:07:55.331Z"
   },
   {
    "duration": 6,
    "start_time": "2023-03-18T08:07:58.793Z"
   },
   {
    "duration": 18,
    "start_time": "2023-03-18T08:08:00.893Z"
   },
   {
    "duration": 10,
    "start_time": "2023-03-18T08:08:06.814Z"
   },
   {
    "duration": 7,
    "start_time": "2023-03-18T08:08:07.805Z"
   },
   {
    "duration": 17,
    "start_time": "2023-03-18T08:08:08.401Z"
   },
   {
    "duration": 1405,
    "start_time": "2023-03-18T08:08:09.179Z"
   },
   {
    "duration": 9,
    "start_time": "2023-03-18T08:10:03.698Z"
   },
   {
    "duration": 9,
    "start_time": "2023-03-18T08:10:39.208Z"
   },
   {
    "duration": 7,
    "start_time": "2023-03-18T08:10:48.338Z"
   },
   {
    "duration": 6,
    "start_time": "2023-03-18T08:12:02.959Z"
   },
   {
    "duration": 29,
    "start_time": "2023-03-18T08:12:06.883Z"
   },
   {
    "duration": 17,
    "start_time": "2023-03-18T08:14:25.833Z"
   },
   {
    "duration": 15,
    "start_time": "2023-03-18T08:14:28.636Z"
   },
   {
    "duration": 2066,
    "start_time": "2023-03-18T08:14:30.863Z"
   },
   {
    "duration": 8,
    "start_time": "2023-03-18T08:15:55.132Z"
   },
   {
    "duration": 14,
    "start_time": "2023-03-18T08:16:37.955Z"
   },
   {
    "duration": 7,
    "start_time": "2023-03-18T08:17:09.694Z"
   },
   {
    "duration": 13,
    "start_time": "2023-03-18T08:17:12.317Z"
   },
   {
    "duration": 289,
    "start_time": "2023-03-18T08:17:14.313Z"
   },
   {
    "duration": 11,
    "start_time": "2023-03-18T08:17:24.405Z"
   },
   {
    "duration": 29,
    "start_time": "2023-03-18T08:17:26.316Z"
   },
   {
    "duration": 7,
    "start_time": "2023-03-18T08:17:34.312Z"
   },
   {
    "duration": 22,
    "start_time": "2023-03-18T08:17:35.418Z"
   },
   {
    "duration": 5,
    "start_time": "2023-03-18T08:17:37.213Z"
   },
   {
    "duration": 13,
    "start_time": "2023-03-18T08:17:39.039Z"
   },
   {
    "duration": 1574,
    "start_time": "2023-03-18T08:17:42.284Z"
   },
   {
    "duration": 1228,
    "start_time": "2023-03-18T10:14:14.334Z"
   },
   {
    "duration": 1377,
    "start_time": "2023-03-18T10:14:33.037Z"
   },
   {
    "duration": 306,
    "start_time": "2023-03-18T10:20:35.354Z"
   },
   {
    "duration": 782,
    "start_time": "2023-03-18T10:23:27.321Z"
   },
   {
    "duration": 14,
    "start_time": "2023-03-18T10:23:39.025Z"
   },
   {
    "duration": 1427,
    "start_time": "2023-03-18T10:23:41.884Z"
   },
   {
    "duration": 244,
    "start_time": "2023-03-18T10:23:53.317Z"
   },
   {
    "duration": 55,
    "start_time": "2023-03-18T10:25:31.993Z"
   },
   {
    "duration": 291,
    "start_time": "2023-03-18T10:25:38.596Z"
   },
   {
    "duration": 22,
    "start_time": "2023-03-18T10:28:30.960Z"
   },
   {
    "duration": 8,
    "start_time": "2023-03-18T10:30:10.250Z"
   },
   {
    "duration": 25,
    "start_time": "2023-03-18T10:30:11.992Z"
   },
   {
    "duration": 1374,
    "start_time": "2023-03-18T10:30:13.613Z"
   },
   {
    "duration": 256,
    "start_time": "2023-03-18T10:30:19.881Z"
   },
   {
    "duration": 34,
    "start_time": "2023-03-18T10:30:26.396Z"
   },
   {
    "duration": 4,
    "start_time": "2023-03-18T10:36:20.088Z"
   },
   {
    "duration": 170,
    "start_time": "2023-03-18T10:36:21.390Z"
   },
   {
    "duration": 165,
    "start_time": "2023-03-18T10:36:45.404Z"
   },
   {
    "duration": 12,
    "start_time": "2023-03-18T10:38:19.740Z"
   },
   {
    "duration": 19,
    "start_time": "2023-03-18T10:38:46.006Z"
   },
   {
    "duration": 40,
    "start_time": "2023-03-18T10:56:19.812Z"
   },
   {
    "duration": 8,
    "start_time": "2023-03-18T10:59:46.496Z"
   },
   {
    "duration": 6,
    "start_time": "2023-03-18T11:00:02.983Z"
   },
   {
    "duration": 7,
    "start_time": "2023-03-18T11:00:21.060Z"
   },
   {
    "duration": 59,
    "start_time": "2023-03-18T11:04:26.657Z"
   },
   {
    "duration": 18,
    "start_time": "2023-03-18T11:04:35.045Z"
   },
   {
    "duration": 16,
    "start_time": "2023-03-18T11:04:59.408Z"
   },
   {
    "duration": 12,
    "start_time": "2023-03-18T11:09:46.316Z"
   },
   {
    "duration": 1804,
    "start_time": "2023-03-18T11:09:48.524Z"
   },
   {
    "duration": 385,
    "start_time": "2023-03-18T11:15:01.092Z"
   },
   {
    "duration": 336,
    "start_time": "2023-03-18T11:15:09.026Z"
   },
   {
    "duration": 442,
    "start_time": "2023-03-18T11:15:36.526Z"
   },
   {
    "duration": 401,
    "start_time": "2023-03-18T11:15:43.723Z"
   },
   {
    "duration": 17,
    "start_time": "2023-03-18T11:28:29.840Z"
   },
   {
    "duration": 17,
    "start_time": "2023-03-18T11:28:39.438Z"
   },
   {
    "duration": 66,
    "start_time": "2023-03-18T11:48:08.209Z"
   },
   {
    "duration": 18,
    "start_time": "2023-03-18T11:48:08.277Z"
   },
   {
    "duration": 26,
    "start_time": "2023-03-18T11:48:08.297Z"
   },
   {
    "duration": 40,
    "start_time": "2023-03-18T11:48:08.325Z"
   },
   {
    "duration": 4,
    "start_time": "2023-03-18T11:48:08.366Z"
   },
   {
    "duration": 31,
    "start_time": "2023-03-18T11:48:08.371Z"
   },
   {
    "duration": 43,
    "start_time": "2023-03-18T11:48:08.404Z"
   },
   {
    "duration": 6,
    "start_time": "2023-03-18T11:48:08.450Z"
   },
   {
    "duration": 39,
    "start_time": "2023-03-18T11:48:08.458Z"
   },
   {
    "duration": 22,
    "start_time": "2023-03-18T11:48:08.499Z"
   },
   {
    "duration": 15,
    "start_time": "2023-03-18T11:48:08.523Z"
   },
   {
    "duration": 18,
    "start_time": "2023-03-18T11:48:08.540Z"
   },
   {
    "duration": 55,
    "start_time": "2023-03-18T11:48:08.560Z"
   },
   {
    "duration": 16,
    "start_time": "2023-03-18T11:48:08.617Z"
   },
   {
    "duration": 43,
    "start_time": "2023-03-18T11:48:08.635Z"
   },
   {
    "duration": 39,
    "start_time": "2023-03-18T11:48:08.680Z"
   },
   {
    "duration": 8,
    "start_time": "2023-03-18T11:48:09.504Z"
   },
   {
    "duration": 30,
    "start_time": "2023-03-18T11:48:09.514Z"
   },
   {
    "duration": 219,
    "start_time": "2023-03-18T11:48:09.547Z"
   },
   {
    "duration": 13,
    "start_time": "2023-03-18T11:48:09.768Z"
   },
   {
    "duration": 49,
    "start_time": "2023-03-18T11:48:09.783Z"
   },
   {
    "duration": 40,
    "start_time": "2023-03-18T11:48:09.834Z"
   },
   {
    "duration": 26,
    "start_time": "2023-03-18T11:48:09.876Z"
   },
   {
    "duration": 31,
    "start_time": "2023-03-18T11:48:09.905Z"
   },
   {
    "duration": 44,
    "start_time": "2023-03-18T11:48:09.938Z"
   },
   {
    "duration": 1518,
    "start_time": "2023-03-18T11:48:09.984Z"
   },
   {
    "duration": 8,
    "start_time": "2023-03-18T11:48:11.504Z"
   },
   {
    "duration": 24,
    "start_time": "2023-03-18T11:48:11.514Z"
   },
   {
    "duration": 28,
    "start_time": "2023-03-18T11:48:11.541Z"
   },
   {
    "duration": 49,
    "start_time": "2023-03-18T11:48:11.577Z"
   },
   {
    "duration": 36,
    "start_time": "2023-03-18T11:48:11.628Z"
   },
   {
    "duration": 1652,
    "start_time": "2023-03-18T11:48:11.666Z"
   },
   {
    "duration": 321,
    "start_time": "2023-03-18T11:48:13.320Z"
   },
   {
    "duration": 26,
    "start_time": "2023-03-18T11:48:13.643Z"
   },
   {
    "duration": 19,
    "start_time": "2023-03-18T11:48:13.671Z"
   },
   {
    "duration": 181,
    "start_time": "2023-03-18T11:48:13.696Z"
   },
   {
    "duration": 203,
    "start_time": "2023-03-18T11:48:13.879Z"
   },
   {
    "duration": 12,
    "start_time": "2023-03-18T11:48:14.085Z"
   },
   {
    "duration": 20,
    "start_time": "2023-03-18T11:48:14.099Z"
   },
   {
    "duration": 43,
    "start_time": "2023-03-18T11:48:14.122Z"
   },
   {
    "duration": 49,
    "start_time": "2023-03-18T11:48:14.167Z"
   },
   {
    "duration": 78,
    "start_time": "2023-03-18T11:48:14.218Z"
   },
   {
    "duration": 36,
    "start_time": "2023-03-18T11:48:14.298Z"
   },
   {
    "duration": 2066,
    "start_time": "2023-03-18T11:48:14.337Z"
   },
   {
    "duration": 19,
    "start_time": "2023-03-18T11:48:16.406Z"
   },
   {
    "duration": 35,
    "start_time": "2023-03-18T11:48:16.427Z"
   },
   {
    "duration": 39,
    "start_time": "2023-03-18T11:48:16.464Z"
   },
   {
    "duration": 41,
    "start_time": "2023-03-18T11:48:16.505Z"
   },
   {
    "duration": 29,
    "start_time": "2023-03-18T11:48:16.547Z"
   },
   {
    "duration": 25,
    "start_time": "2023-03-18T11:48:16.578Z"
   },
   {
    "duration": 38,
    "start_time": "2023-03-18T11:48:16.606Z"
   },
   {
    "duration": 30,
    "start_time": "2023-03-18T11:48:16.646Z"
   },
   {
    "duration": 24,
    "start_time": "2023-03-18T11:48:16.677Z"
   },
   {
    "duration": 21,
    "start_time": "2023-03-18T11:48:16.703Z"
   },
   {
    "duration": 2776,
    "start_time": "2023-03-18T15:03:11.938Z"
   },
   {
    "duration": 1856,
    "start_time": "2023-03-18T15:03:20.925Z"
   },
   {
    "duration": 27,
    "start_time": "2023-03-18T15:03:22.793Z"
   },
   {
    "duration": 92,
    "start_time": "2023-03-18T15:03:22.824Z"
   },
   {
    "duration": 70,
    "start_time": "2023-03-18T15:03:22.919Z"
   },
   {
    "duration": 22,
    "start_time": "2023-03-18T15:03:22.998Z"
   },
   {
    "duration": 71,
    "start_time": "2023-03-18T15:03:23.022Z"
   },
   {
    "duration": 73,
    "start_time": "2023-03-18T15:03:23.096Z"
   },
   {
    "duration": 90,
    "start_time": "2023-03-18T15:03:23.171Z"
   },
   {
    "duration": 190,
    "start_time": "2023-03-18T15:03:23.263Z"
   },
   {
    "duration": 173,
    "start_time": "2023-03-18T15:03:23.458Z"
   },
   {
    "duration": 172,
    "start_time": "2023-03-18T15:03:23.645Z"
   },
   {
    "duration": 183,
    "start_time": "2023-03-18T15:03:23.824Z"
   },
   {
    "duration": 143,
    "start_time": "2023-03-18T15:03:24.010Z"
   },
   {
    "duration": 63,
    "start_time": "2023-03-18T15:03:24.167Z"
   },
   {
    "duration": 167,
    "start_time": "2023-03-18T15:03:24.236Z"
   },
   {
    "duration": 19,
    "start_time": "2023-03-18T15:03:24.418Z"
   },
   {
    "duration": 42,
    "start_time": "2023-03-18T15:03:24.442Z"
   },
   {
    "duration": 66,
    "start_time": "2023-03-18T15:03:24.493Z"
   },
   {
    "duration": 483,
    "start_time": "2023-03-18T15:03:24.571Z"
   },
   {
    "duration": 26,
    "start_time": "2023-03-18T15:03:25.062Z"
   },
   {
    "duration": 52,
    "start_time": "2023-03-18T15:03:25.096Z"
   },
   {
    "duration": 74,
    "start_time": "2023-03-18T15:03:25.155Z"
   },
   {
    "duration": 39,
    "start_time": "2023-03-18T15:03:25.240Z"
   },
   {
    "duration": 51,
    "start_time": "2023-03-18T15:03:25.288Z"
   },
   {
    "duration": 89,
    "start_time": "2023-03-18T15:03:25.344Z"
   },
   {
    "duration": 2727,
    "start_time": "2023-03-18T15:03:25.435Z"
   },
   {
    "duration": 16,
    "start_time": "2023-03-18T15:03:28.170Z"
   },
   {
    "duration": 129,
    "start_time": "2023-03-18T15:03:28.192Z"
   },
   {
    "duration": 151,
    "start_time": "2023-03-18T15:03:28.326Z"
   },
   {
    "duration": 44,
    "start_time": "2023-03-18T15:03:28.485Z"
   },
   {
    "duration": 118,
    "start_time": "2023-03-18T15:03:28.531Z"
   },
   {
    "duration": 1964,
    "start_time": "2023-03-18T15:03:28.651Z"
   },
   {
    "duration": 479,
    "start_time": "2023-03-18T15:03:30.622Z"
   },
   {
    "duration": 35,
    "start_time": "2023-03-18T15:03:31.108Z"
   },
   {
    "duration": 97,
    "start_time": "2023-03-18T15:03:31.149Z"
   },
   {
    "duration": 383,
    "start_time": "2023-03-18T15:03:31.258Z"
   },
   {
    "duration": 379,
    "start_time": "2023-03-18T15:03:31.651Z"
   },
   {
    "duration": 16,
    "start_time": "2023-03-18T15:03:32.052Z"
   },
   {
    "duration": 176,
    "start_time": "2023-03-18T15:03:32.070Z"
   },
   {
    "duration": 39,
    "start_time": "2023-03-18T15:03:32.249Z"
   },
   {
    "duration": 82,
    "start_time": "2023-03-18T15:03:32.299Z"
   },
   {
    "duration": 77,
    "start_time": "2023-03-18T15:03:32.387Z"
   },
   {
    "duration": 76,
    "start_time": "2023-03-18T15:03:32.469Z"
   },
   {
    "duration": 2744,
    "start_time": "2023-03-18T15:03:32.551Z"
   },
   {
    "duration": 26,
    "start_time": "2023-03-18T15:03:35.301Z"
   },
   {
    "duration": 227,
    "start_time": "2023-03-18T15:03:35.334Z"
   },
   {
    "duration": 224,
    "start_time": "2023-03-18T15:03:35.573Z"
   },
   {
    "duration": 139,
    "start_time": "2023-03-18T15:03:35.818Z"
   },
   {
    "duration": 235,
    "start_time": "2023-03-18T15:03:35.974Z"
   },
   {
    "duration": 199,
    "start_time": "2023-03-18T15:03:36.222Z"
   },
   {
    "duration": 175,
    "start_time": "2023-03-18T15:03:36.438Z"
   },
   {
    "duration": 155,
    "start_time": "2023-03-18T15:03:36.626Z"
   },
   {
    "duration": 60,
    "start_time": "2023-03-18T15:03:36.789Z"
   },
   {
    "duration": 257,
    "start_time": "2023-03-18T15:03:36.869Z"
   }
  ],
  "kernelspec": {
   "display_name": "Python 3 (ipykernel)",
   "language": "python",
   "name": "python3"
  },
  "language_info": {
   "codemirror_mode": {
    "name": "ipython",
    "version": 3
   },
   "file_extension": ".py",
   "mimetype": "text/x-python",
   "name": "python",
   "nbconvert_exporter": "python",
   "pygments_lexer": "ipython3",
   "version": "3.9.15"
  },
  "toc": {
   "base_numbering": 1,
   "nav_menu": {},
   "number_sections": true,
   "sideBar": true,
   "skip_h1_title": true,
   "title_cell": "Table of Contents",
   "title_sidebar": "Contents",
   "toc_cell": false,
   "toc_position": {},
   "toc_section_display": true,
   "toc_window_display": false
  }
 },
 "nbformat": 4,
 "nbformat_minor": 2
}
